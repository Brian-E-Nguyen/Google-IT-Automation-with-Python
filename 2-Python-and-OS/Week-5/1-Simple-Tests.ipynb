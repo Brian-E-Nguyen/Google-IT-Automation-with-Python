{
 "cells": [
  {
   "cell_type": "markdown",
   "metadata": {},
   "source": [
    "# Simple Tests\n",
    "\n",
    "In this module, we'll dive into how we can create automatic test that will perform these kinds of checks for us. This lets us concentrate on just writing the code instead of checking if any changes that we make to it break the previous functionality. It will also help us verify that features we add do what we expect in lots of possible ways. We'll learn about the different kinds of testing that are out there, and how we can use them to make our code more reliable, and finally, we'll also learn about how to handle errors and exceptions in Python code. How to trap those areas so they don't stop our programs from completing, how to raise errors when necessary, and how to test our code to generate the right kinds of errors. That sounds interesting. Now let's get to it.\n",
    "\n",
    "## 1. What is Testing?\n",
    "\n",
    "When you're writing a very simple piece of code, say for example, that you're adding two variables, it's pretty straightforward to know what the code does, and be sure they'd does it correctly. As operations become more complex using loops, conditionals, calling more and more functions, it's harder to really be confident that the code will do what it's supposed to. This is where software testing comes into play. \n",
    "\n",
    "**Software testing** is a process of evaluating computer code to determine whether or not it does what you expect it to do. When you test a piece of software, you want to find the errors and defects and see where things go wrong. Software testing is similar in lots of ways to the tests performed in the manufacturing process of a new piece of machinery. \n",
    "\n",
    "When a new car comes off the line, you want to make sure that when you press the gas the car will go, and when you press the brakes the car will stop. It's the same idea with software. You want to make sure that when you run a program, it behaves the way that it should, then you can really put the pedal to the metal. Vroom, vroom. \n",
    "\n",
    "Scripts and programs can fail in all sorts of strange ways, especially as it become more complicated. In all but those simple programs, it's next to impossible to test for everything that could go wrong. Even though this means that a certain number of bugs might exist in your scripts without you realizing it, don't worry. Writing tests can help you eliminate a whole bunch of bugs, helping to improve the reliability and the quality of automation. \n",
    "\n",
    "Tests can help make good code great. The field of software testing is pretty broad. In the next few videos we'll explore some fundamental concepts involved like **automated testing, unit test, integration test, and test-driven development**. As of lots of topics covered in this course, we'll do a quick rundown of the many concepts around testing. It won't be enough instructions for you to become a testing expert, but it should help you with automatically testing your scripts. Up next, we'll talk about the differences between manual and automated testing, so let's shift gears and get started."
   ]
  }
 ],
 "metadata": {
  "kernelspec": {
   "display_name": "Python 3",
   "language": "python",
   "name": "python3"
  },
  "language_info": {
   "codemirror_mode": {
    "name": "ipython",
    "version": 3
   },
   "file_extension": ".py",
   "mimetype": "text/x-python",
   "name": "python",
   "nbconvert_exporter": "python",
   "pygments_lexer": "ipython3",
   "version": "3.7.4"
  }
 },
 "nbformat": 4,
 "nbformat_minor": 2
}
