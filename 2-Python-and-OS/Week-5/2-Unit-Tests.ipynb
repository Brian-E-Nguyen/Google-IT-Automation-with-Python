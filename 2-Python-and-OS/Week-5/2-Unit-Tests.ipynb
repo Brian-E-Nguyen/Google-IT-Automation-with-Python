{
 "cells": [
  {
   "cell_type": "markdown",
   "metadata": {},
   "source": [
    "# Unit Tests\n",
    "\n",
    "As we mentioned, there are lots of different types of test that we can write to perform automatic testing. The most common type is a unit test. **Unit tests** are used to verify that small isolated parts of a program are correct. Unit tests are generally written alongside the code to test the behavior of individual pieces or units like functions or methods. \n",
    "\n",
    "Unit tests help assure the developer that each piece of code does what it's meant to do. An important characteristic of a unit test is **isolation**. Unit test should only test the unit of code they target, the function or method that's being tested. This ensures that any success or failure of the test is caused by the behavior of the unit in question and doesn't result from some external factor like the network being down or a database server being unresponsive. In other words, when testing a function or method, we want to make sure that we're focusing on checking that the code in that function or method behaves correctly. We don't want our test to fail for external reasons. \n",
    "\n",
    "On a related note, our tests should never modify the production environment. This is a live environment that runs a software that users interact with. When developing test, if for any reason we do need to interact with some other software, we'll normally do that in a **test environment**, where we'll have control over how it behaves. It's our house, our rules. So the goal of the unit test is to verify that small, isolated parts of a program are correct. \n",
    "\n",
    "How do we do that? It generally boils down to a simple pattern. Given a known input, does the output of our code match our expectations? Let's take a piece of code similar to what we wrote awhile back to rearrange a name in the format last name comma first name and think about how we test it."
   ]
  },
  {
   "cell_type": "code",
   "execution_count": 1,
   "metadata": {},
   "outputs": [],
   "source": [
    "# NOTE: from rearrange.py\n",
    "import re\n",
    "\n",
    "def rearrange_name(name):\n",
    "    result = re.search(r'^([\\w .]*), ([\\w .]*)$', name)\n",
    "    return '{} {}'.format(result[2], result[1])"
   ]
  },
  {
   "cell_type": "markdown",
   "metadata": {},
   "source": [
    "How do you think we can test that it works the way you'd expect it to? Let's start by manually validating that for a given input, it produces expected result. We'll check this by importing the function in an interpreter. To do that, we'll use a keyword that we haven't seen before,`from`, like this."
   ]
  },
  {
   "cell_type": "code",
   "execution_count": 2,
   "metadata": {},
   "outputs": [],
   "source": [
    "from rearrange import rearrange_name"
   ]
  },
  {
   "cell_type": "markdown",
   "metadata": {},
   "source": [
    "In this case, rearrange is the name of the module that contains the rearrange_name function. By importing it in this way, we can call the function without having to write the module name each time we want to call it, like this."
   ]
  },
  {
   "cell_type": "code",
   "execution_count": 3,
   "metadata": {},
   "outputs": [
    {
     "data": {
      "text/plain": [
       "'Jack Evans'"
      ]
     },
     "execution_count": 3,
     "metadata": {},
     "output_type": "execute_result"
    }
   ],
   "source": [
    "rearrange_name('Evans, Jack')"
   ]
  },
  {
   "cell_type": "markdown",
   "metadata": {},
   "source": [
    "The function has produced the output we expected, given the input we provided. So it has pass this particular unit test. Gold star, hang it on a fridge. The test focus on a small isolated piece of the code and validated our assumption about how it worked. Because the scope of the test is restricted to a small specific unit, these types of tests usually run pretty quickly. Debugging them is simple since there are a limited number of reasons for them to fail. Creating unit tests for our code will mean writing a bunch of test cases that verify that when we input some parameters, we get the output that we want. Of course, the whole point is to run these tests automatically so that we don't have to manually do this ourselves each time. Up next, we'll talk about how we can actually write automatic tests in Python. Exciting, right?"
   ]
  },
  {
   "cell_type": "markdown",
   "metadata": {},
   "source": [
    "## 1. Writing Unit Tests in Python\n",
    "\n",
    "We've now looked at the principles behind automatic testing. We know that by having automatic tests, we can run them as many times as necessary to make sure that our code does what we want it to do. So how we do this in Python? We need to write some code that runs a test and verifies the output. This way, we can get our computer to do the work for us. To demonstrate the testing workflow, we'll create unit tests for the rearrange_name function from the previous video.\n",
    "\n",
    "As we touched on earlier, automatic tests are usually written alongside the code that we want to test. What this means in practice is creating a separate Python file with the test. The convention is to call the script with the same name of the module that it's testing and appending the suffix `_test`. So for our rearrange module, we'll create the rearrange_test.py file.\n",
    "\n",
    "We'll test the rearrange_name function of the rearrange module. So let's import that function the way we did before in the interpreter.\n",
    "\n",
    "```python\n",
    "from rearrange import rearrange_name\n",
    "```\n",
    "\n",
    "Okay, we're ready to start writing the tests. To help us with that, Python provides a module called unittest. Thanks Python. This module includes a number of classes and methods that let us easily create unit tests for our code. The first thing we'll do is import the unit test module we'll need for testing.\n",
    "\n",
    "```python\n",
    "from rearrange import rearrange_name\n",
    "import unittest\n",
    "```\n",
    "\n",
    "The unit test module provides a test case class with a bunch of testing methods ready to use. To access this functionality, we create our own class by inherits from test case, thus inheriting all those testing methods. So we're going to write our own test rearrange class that inherits from test case. Do you remember what the syntax for that was? We need to include the class that we want to inherit from in the parentheses.\n",
    "\n",
    "```python\n",
    "class TestRearrange(unittest.TestCase):\n",
    "```\n",
    "\n",
    "We called our test class, TestRearrange, and indicated that it should inherit functionality from the TestCase class located in the unit test module. Any methods we define in our TestRearrange class that start with the prefix test will automatically become tests that can be run by the testing framework. So we're ready to write our first test case. What's it going to be? In our last video, we manually tested one simple case. Let's turn that manual test into an automatic test that verifies that basic names are formatted correctly.\n",
    "\n",
    "```python\n",
    "class TestRearrange(unittest.TestCase):\n",
    "    def test_basic(self):\n",
    "        testcase = 'Evans, Jack'\n",
    "        expected = 'Jack Evans'\n",
    "        self.assertEqual(rearrange_name(testcase), expected)\n",
    "```\n",
    "\n",
    "With this method which we've called `test_basic`, we kick off by setting up our expected inputs and outputs. We then use the assertEqual method provided to us by the test case class we inherited from to verify that what we expected is exactly what we got. The `assertEqual` method basically says both of my arguments are equal. If that statement's true, then the test passes. If it's false, the test fails and an error is printed to the screen when the test is run. \n",
    "\n",
    "Okay, we've got our first unit test. So how can we run it? In the main part of our program, we'll call the `unittest.main()` function, which will run the test for us.\n",
    "\n",
    "```python\n",
    "from rearrange import rearrange_name\n",
    "import unittest\n",
    "\n",
    "class TestRearrange(unittest.TestCase):\n",
    "    def test_basic(self):\n",
    "        testcase = 'Evans, Jack'\n",
    "        expected = 'Jack Evans'\n",
    "        self.assertEqual(rearrange_name(testcase), expected)\n",
    "\n",
    "unittest.main()\n",
    "```\n",
    "\n",
    "All right, we're ready to run the test. We'll do that by executing the file that we just created. Let's make our script executable and then run it.\n",
    "```\n",
    "$ python rearrange_test.py\n",
    ".\n",
    "----------------------------------------------------------------------\n",
    "Ran 1 test in 0.000s\n",
    "\n",
    "OK\n",
    "```\n",
    "\n",
    "Looks good. The output is pretty descriptive, printing out some information about how long a group of tests or test suite took to run. As well as the number of tests, and whether or not, they passed. Just like that, we've tested our first function. It's pretty cool, right? I know there was a lot going on here. If the code is confusing, complex, or didn't really sink in yet, that's okay. Take the time to practice on your own and review the content until it feels natural. Coming up, we'll test even more cases."
   ]
  },
  {
   "cell_type": "markdown",
   "metadata": {},
   "source": [
    "## 2. Edge Cases\n",
    "\n",
    "By now we know how to write automatic tests in Python. Our test suite includes only one test case though. We need to make it grow. Choosing test cases can be an exercise in creativity. Coming up with different ways a piece of code might break can actually be super fun. We'll usually test that our code works in general case. But we should also see what happens when we give it some input that we may not expect it to run into under normal operations. For example, what would happen in our function if we gave it an empty string? Let's add a test for that and see.\n",
    "\n",
    "```python\n",
    "class TestRearrange(unittest.TestCase):\n",
    "    def test_empty(self):\n",
    "        testcase = ''\n",
    "        expected = ''\n",
    "        self.assertEqual(rearrange_name(testcase), expected)\n",
    "```\n",
    "\n",
    "In this case we're testing for an empty input string. We're saying that we expect our function to return an empty string whenever it sees an empty string. We check this behavior by using the `assertEqual` function. All right, let's run this.\n",
    "\n",
    "```\n",
    "ERROR: test_empty (__main__.TestRearrange)\n",
    "\n",
    "TypeError: 'NoneType' object is not subscriptable\n",
    "\n",
    "----------------------------------------------------------------------\n",
    "Ran 2 tests in 0.002s\n",
    "\n",
    "FAILED (errors=1)\n",
    "\n",
    "```\n",
    "\n",
    "Look, our test failed. We caught a problem with our code. Let's take a closer look at the information that the failure gives us. After all, that's what errors are for, right? This error tells us that the test called test empty failed. And we see that it failed with a type error saying that none is not subscriptable. Interesting, we've just discovered an edge case.\n",
    "\n",
    "**Edge cases** are inputs to our code that produce _unexpected results_, and are found at the extreme ends of the ranges of input we imagine our programs will typically work with. Edge cases usually need special handling in scripts in order for the code to continue to behave correctly. In our rearranging example, we can handle this edge case by performing a simple check of the result variable before operating with it."
   ]
  },
  {
   "cell_type": "code",
   "execution_count": 4,
   "metadata": {},
   "outputs": [],
   "source": [
    "def rearrange_name(name):\n",
    "    result = re.search(r'^([\\w .]*), ([\\w .]*)$', name)\n",
    "    # New change\n",
    "    if result is None:\n",
    "        return ''\n",
    "    return '{} {}'.format(result[2], result[1])"
   ]
  },
  {
   "cell_type": "markdown",
   "metadata": {},
   "source": [
    "With this change if we use our function for normal input we'll still get a result that we got before. If we try to use an empty string, we'll catch it with our check and return the original empty string instead. \n",
    "\n",
    "Whether or not we handle this kind of error depends on how we want the scripts to behave. In our specific case, returning the original value makes sense when we can't rearrange it. But sometimes you might actually want your program to crash with an error rather than to go on as if nothing happened. \n",
    "\n",
    "Remember that it's bad for automation to fail silently. Other kinds of edge cases usually include things like passing zero to a function that expects a number, or negative numbers, or extremely large numbers. These types of conditions are good to consider when writing your test, since they can cause your code to crash or behave in unexpected ways. Sometimes it pays to be a pessimist. \n",
    "\n",
    "You can see how it might require some creativity to come up with these examples. The upside is that when writing automatic tests, once you've come up with example, it's there to stay. So now that we fixed our code to behave correctly with this edge case, let's run our test suite again and see if the problem is fixed.\n",
    "\n",
    "```\n",
    "----------------------------------------------------------------------\n",
    "Ran 2 tests in 0.000s\n",
    "\n",
    "OK\n",
    "```"
   ]
  },
  {
   "cell_type": "markdown",
   "metadata": {},
   "source": [
    "## 3. Additional Test Cases\n",
    "\n",
    "Up to now, we've added a basic case and an edge case to our test suite. When we added the edge case it caused our function to generate an error because we didn't handle this correctly, and so we fixed it by changing our function. Can you think of some more examples that'll make our function misbehave? Remember, when we first wrote the function, we came across names with spaces or dots that will make our regular expression not match. We fixed that already but it's still a good idea to add a test case to make sure that our code still works how we expect it to.\n",
    "\n",
    "```python\n",
    "class TestRearrange(unittest.TestCase):\n",
    " def test_double_name(self):\n",
    "        testcase ='SquarePants, SpongeBob S.'\n",
    "        expected = 'SpongeBob S. Squarepants'\n",
    "        self.assertEqual(rearrange_name(testcase), expected)\n",
    "```\n",
    "\n",
    "In this case, we're testing that someone with more than one given name still gets their name properly rearranged. Let's run a test suite and see if it passes or not.\n",
    "\n",
    "```\n",
    "----------------------------------------------------------------------\n",
    "Ran 3 tests in 0.001s\n",
    "\n",
    "OK\n",
    "```\n",
    "\n",
    "All right. We now have three tests and all of them passed. To find more bugs, we need to exercise our creative muscles and think of other examples that might cause our code to fail. How about someone who has only one name?\n",
    "\n",
    "```python\n",
    "def test_one_name(self):\n",
    "        testcase = 'Plankton'\n",
    "        expected = 'Plankton'\n",
    "        self.assertEqual(rearrange_name(testcase), expected)\n",
    "```\n",
    "\n",
    "```\n",
    "FAIL: test_one_name (__main__.TestRearrange)\n",
    "----------------------------------------------------------------------\n",
    "Traceback (most recent call last):\n",
    "  File \"rearrange_test.py\", line 23, in test_one_name\n",
    "    self.assertEqual(rearrange_name(testcase), expected)\n",
    "AssertionError: '' != 'Plankton'\n",
    "+ Plankton\n",
    "\n",
    "----------------------------------------------------------------------\n",
    "Ran 4 tests in 0.001s\n",
    "\n",
    "FAILED (failures=1)\n",
    "```\n",
    "\n",
    "Whoops, this one failed, bad news for Voltaire. The test output in this case looks slightly different than before. It shows the name of the test that failed, which is test_one_name, but now instead of giving us a type error, we see an **assertion error** which means the original unexpected values don't match. It looks like our function return an empty string instead of the original name. That's because there's a bug in our code. What do we do when we have a bug in our code? We squash it. W\n",
    "\n",
    "```python\n",
    "def rearrange_name(name):\n",
    "    result = re.search(r'^([\\w .]*), ([\\w .]*)$', name)\n",
    "    if result is None:\n",
    "        return ''\n",
    "    return '{} {}'.format(result[2], result[1])\n",
    "```\n",
    "\n",
    "When we checked if the result was none, we returned an empty string, which made our previous test pass. What's happening now is that we're passing a name that doesn't include a comma, which makes a result variable none, and so the function is returning an empty string. The fix for this is pretty simple. Instead of returning an empty string when the result is none, we'll return the original name variable.\n",
    "\n",
    "```python\n",
    "def rearrange_name(name):\n",
    "    result = re.search(r'^([\\w .]*), ([\\w .]*)$', name)\n",
    "    if result is None:\n",
    "        return name\n",
    "    return '{} {}'.format(result[2], result[1])\n",
    "```\n",
    "\n",
    "```\n",
    "$ python rearrange_test.py\n",
    "....\n",
    "----------------------------------------------------------------------\n",
    "Ran 4 tests in 0.000s\n",
    "\n",
    "OK\n",
    "```"
   ]
  },
  {
   "cell_type": "markdown",
   "metadata": {},
   "source": [
    "## 4. Unit Test Cheat-Sheet\n",
    "\n",
    "Frankly, the unit testing library for Python is fairly well documented, but it can be a bit of a dry read. Instead, we suggest covering the core module concepts, and then reading in more detail later.\n",
    "\n",
    "### 4.1 Best of Unit Testing Standard Library Module\n",
    "\n",
    "Understand a Basic Example:\n",
    "\n",
    "- https://docs.python.org/3/library/unittest.html#basic-example\n",
    "\n",
    "Understand how to run the tests using the Command Line:\n",
    "\n",
    "- https://docs.python.org/3/library/unittest.html#command-line-interface\n",
    "\n",
    "Understand various Unit Test Design Patterns:\n",
    "\n",
    "- https://docs.python.org/3/library/unittest.html#organizing-test-code\n",
    "- Understand the uses of setUp, tearDown; setUpModule and tearDownModule\n",
    "\n",
    "Understand basic assertions:\n",
    "\n",
    "| Method                    | Checks that          |\n",
    "|---------------------------|----------------------|\n",
    "| assertEqual(a, b)         | a == b               |\n",
    "| assertNotEqual(a, b)      | a != b               |\n",
    "| assertTrue(x)             | bool(x) is True      |\n",
    "| assertFalse(x)            | bool(x) is False     |\n",
    "| assertIs(a, b)            | a is b               |\n",
    "| assertIsNot(a, b)         | a is not b           |\n",
    "| assertIsNone(x)           | x is None            |\n",
    "| assertIsNotNone(x)        | x is not None        |\n",
    "| assertIn(a, b)            | a in b               |\n",
    "| assertNotIn(a, b)         | a not in b           |\n",
    "| assertIsInstance(a, b)    | isinstance(a, b)     |\n",
    "| assertNotIsInstance(a, b) | not isinstance(a, b) |\n",
    "\n",
    "Understand more specific assertions such as assertRaises\n",
    "\n",
    "- https://docs.python.org/3/library/unittest.html#unittest.TestCase.assertRaises"
   ]
  },
  {
   "cell_type": "code",
   "execution_count": null,
   "metadata": {},
   "outputs": [],
   "source": []
  }
 ],
 "metadata": {
  "kernelspec": {
   "display_name": "Python 3",
   "language": "python",
   "name": "python3"
  },
  "language_info": {
   "codemirror_mode": {
    "name": "ipython",
    "version": 3
   },
   "file_extension": ".py",
   "mimetype": "text/x-python",
   "name": "python",
   "nbconvert_exporter": "python",
   "pygments_lexer": "ipython3",
   "version": "3.7.4"
  }
 },
 "nbformat": 4,
 "nbformat_minor": 2
}
