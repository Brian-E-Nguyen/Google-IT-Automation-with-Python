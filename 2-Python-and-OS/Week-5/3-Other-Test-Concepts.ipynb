{
 "cells": [
  {
   "cell_type": "markdown",
   "metadata": {},
   "source": [
    "# Other Test Concepts\n",
    "\n",
    "## 1. Black Box vs. White Box\n",
    "\n",
    "\n",
    "There are lots of different tests that we can use to make sure our software is behaving how we expect it to. We've explored unit test in detail which are both simple to write and are very powerful way to catch bugs. But there's a lot more to software testing. One interesting concept is whether our test is a white-box test or a black-box test. \n",
    "\n",
    "**White-box testing** also sometimes called clear-box or transparent testing relies on the test creators knowledge of the software being tested to construct the test cases. With a white-box test, the test creator knows how the code works and can write test cases that use the understanding to make sure that everything is performing the way it's expected to. \n",
    "\n",
    "On the other hand, in black-box testing, the software being tested is treated like an opaque box. In other words, the tester doesn't know the internals of how the software works. **Black-box tests** are written with an awareness of what the program is supposed to do, its requirements or specifications, but not how it does it. For example, a simple black-box test could be to verify that when you type www.google.de in your browser, the Google Search page for Germany is returned. You might not know how Google's servers process your request but you know what the end result should be. \n",
    "\n",
    "Both white-box and black-box tests have their own advantages. White-box tests are helpful because a test writer can use their knowledge of the source code to create tests that cover most of the ways that the program behaves. Black-box tests are useful because they don't rely on the knowledge of how the system works. This means their test cases are less likely to be biased by the code. They usually cover situations not anticipated by the programmer who originally wrote the script. \n",
    "\n",
    "Not all tests that we write needs to fall to one category or the other. We can write unit tests that are either white or black-box, depending on which testing methodology is chosen. \n",
    "\n",
    "If the unit tests are created before any code is written based on specifications of what the code is supposed to do, they can be considered black-box unit test. \n",
    "\n",
    "If unit tests are run alongside or after the code has been developed, the test cases are made with a knowledge of how software works. They are white-box tests. \n",
    "\n",
    "One way isn't strictly better than the other since each gives you a different path to make your code more reliable. Not everything is so black and white or as we'd say in the coding world, binary. \n",
    "\n",
    "As an IT specialist, you may need to test that software written by others behaves the way you expect it to. To do this, you can use the combination of black-box and white-box test. \n",
    "\n",
    "Let's say that you have an online catalog of products that are sold by your company. You could have a black-box test that verifies that the details for a product are displayed when you open the page for a specific product. Apart from that, you can have white-box tests that calls the different functions used by that page, checking that the prices are displayed in the right currency, that the description is correctly wrapped and so on. Next up, we'll talk about other kinds of testing beyond unit test and what roles they play in improving the quality and reliability of your scripts."
   ]
  },
  {
   "cell_type": "code",
   "execution_count": null,
   "metadata": {},
   "outputs": [],
   "source": []
  }
 ],
 "metadata": {
  "kernelspec": {
   "display_name": "Python 3",
   "language": "python",
   "name": "python3"
  },
  "language_info": {
   "codemirror_mode": {
    "name": "ipython",
    "version": 3
   },
   "file_extension": ".py",
   "mimetype": "text/x-python",
   "name": "python",
   "nbconvert_exporter": "python",
   "pygments_lexer": "ipython3",
   "version": "3.7.4"
  }
 },
 "nbformat": 4,
 "nbformat_minor": 2
}
