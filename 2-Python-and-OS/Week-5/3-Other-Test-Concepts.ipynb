{
 "cells": [
  {
   "cell_type": "markdown",
   "metadata": {},
   "source": [
    "# Other Test Concepts\n",
    "\n",
    "## 1. Black Box vs. White Box\n",
    "\n",
    "\n",
    "There are lots of different tests that we can use to make sure our software is behaving how we expect it to. We've explored unit test in detail which are both simple to write and are very powerful way to catch bugs. But there's a lot more to software testing. One interesting concept is whether our test is a white-box test or a black-box test. \n",
    "\n",
    "**White-box testing** also sometimes called clear-box or transparent testing relies on the test creators knowledge of the software being tested to construct the test cases. With a white-box test, the test creator knows how the code works and can write test cases that use the understanding to make sure that everything is performing the way it's expected to. \n",
    "\n",
    "On the other hand, in black-box testing, the software being tested is treated like an opaque box. In other words, the tester doesn't know the internals of how the software works. **Black-box tests** are written with an awareness of what the program is supposed to do, its requirements or specifications, but not how it does it. For example, a simple black-box test could be to verify that when you type www.google.de in your browser, the Google Search page for Germany is returned. You might not know how Google's servers process your request but you know what the end result should be. \n",
    "\n",
    "Both white-box and black-box tests have their own advantages. White-box tests are helpful because a test writer can use their knowledge of the source code to create tests that cover most of the ways that the program behaves. Black-box tests are useful because they don't rely on the knowledge of how the system works. This means their test cases are less likely to be biased by the code. They usually cover situations not anticipated by the programmer who originally wrote the script. \n",
    "\n",
    "Not all tests that we write needs to fall to one category or the other. We can write unit tests that are either white or black-box, depending on which testing methodology is chosen. \n",
    "\n",
    "If the unit tests are created before any code is written based on specifications of what the code is supposed to do, they can be considered black-box unit test. \n",
    "\n",
    "If unit tests are run alongside or after the code has been developed, the test cases are made with a knowledge of how software works. They are white-box tests. \n",
    "\n",
    "One way isn't strictly better than the other since each gives you a different path to make your code more reliable. Not everything is so black and white or as we'd say in the coding world, binary. \n",
    "\n",
    "As an IT specialist, you may need to test that software written by others behaves the way you expect it to. To do this, you can use the combination of black-box and white-box test. \n",
    "\n",
    "Let's say that you have an online catalog of products that are sold by your company. You could have a black-box test that verifies that the details for a product are displayed when you open the page for a specific product. Apart from that, you can have white-box tests that calls the different functions used by that page, checking that the prices are displayed in the right currency, that the description is correctly wrapped and so on. Next up, we'll talk about other kinds of testing beyond unit test and what roles they play in improving the quality and reliability of your scripts."
   ]
  },
  {
   "cell_type": "markdown",
   "metadata": {},
   "source": [
    "## 2. Other Test Types\n",
    "\n",
    "When we looked at unit tests, we call out they should focus on one specific unit, a functional method that being tested. This allows the test to verify the unit provides expected functionality regardless of the rest of the environment. On the other hand, integration tests verify that the interactions between the different pieces of code in integrated environments are working the way we expect them to. \n",
    "\n",
    "### 2.1 Integration Tests\n",
    "\n",
    "While unit tests shouldn't cross boundaries to do things like make a network request or integrate with an API or database, the goal of an integration test is to verify these kinds of interactions and make sure the whole system works how you expect it to. \n",
    "\n",
    "**Integration test**, usually take the individual modules of code that unit test verify then combine them into a group to test. Depending on what our program does, and how it interacts with the rest of the systems involved, we might need to create a separate **test environment** for our test. Which runs a test version of our software that we're trying to verify. We might be able to run our test against the actual version of our system that's running, but that's only if our code doesn't make any changes to the production environment. \n",
    "\n",
    "Whenever your company is deploying a system that's somewhat complex, having integration tests will help make sure that all the pieces come together the way you expect them to. These tests usually take a bit more work to set up because you'll need to make sure that you have the test versions of all relevant systems. But they might help catch issues that unit tests won't detect, so the extra effort is definitely worth it. \n",
    "\n",
    "For example, if the service you're trying to test interacts with a database, you want to set up a separate test database with a test user and a test tables. This lets you run all tests you need in an environment that you can control without risking modifying the production database. \n",
    "\n",
    "### 2.2 Regression Tests\n",
    "\n",
    "A variant of unit tests are **regression tests**. They're usually written as part of a debugging and troubleshooting process to verify that an issue or error has been fixed once it's been identified. \n",
    "\n",
    "Say our script has a bug and we're trying to fix it. A good approach to doing this would be the first write a test that fails by triggering the buggy behavior, then fix the bug so that a test passes. Regression tests are useful part of a test suite because they ensure that the same mistake doesn't happen twice. The same bug can't be reintroduced into the code because introducing it will cause the regression test to fail. \n",
    "\n",
    "### 2.3 Smoke Tests\n",
    "\n",
    "**Smoke test** sometimes called build verification test, get their name from a concept that comes from testing hardware equipment. Plug in the given piece of hardware and see if smoke starts coming out of it. When writing software, smoke test serve as a kind of sanity check to find major bugs in a program. Smoke test answer basic questions like, does the program run? \n",
    "\n",
    "These tests are usually run before more refined testing takes place. Since if the software fails the smoke test you can be pretty sure none of the other tests will pass either. As they say where there's smoke there's fire. For a web service the smoke test would be to check if there's a service running on the corresponding port. For an automation script, the smoke test would be to run it manually with some basic input and check that the script finishes successfully. \n",
    "\n",
    "### 2.4 Load Tests\n",
    "\n",
    "Other types of tests are **load tests**. These tests verify that the system behaves well when it's under significant load. To actually perform these tests will need to generate traffic to our application simulating typical usage of the service. These tests can be super-helpful when deploying new versions of our applications to verify that performance does not degrade. \n",
    "\n",
    "For example, we might want to measure the response time of our website while there are 100 requests per second on our pages, or a 1000, or 10,000. The actual numbers will depend on the expectations of how much traffic our website will receive. \n",
    "\n",
    "### 2.5 Test Suite\n",
    "\n",
    "Taking together a group of tests of one or many kinds is commonly referred to as a test suite. A good diversity of test types can create a more robust test suite that helps ensure your scripts and automation, do what you tell them to. \n",
    "\n",
    "---\n",
    "\n",
    "There are many more kinds of tests out there, we've only touched on a few of the most common types. If you're interested in learning more about the way software can break and how to test for that, all kinds of books and articles have been written on the subject. Speaking of tests, we have a huge and difficult test coming up, just kidding. Up next, we'll learn about a technique called test driven development."
   ]
  },
  {
   "cell_type": "markdown",
   "metadata": {},
   "source": [
    "## 3. Test-Driven Development\n",
    "\n",
    "You might expect that most testing happens after the code has been written. This seems like a natural progression. First you write your script then you write tests that verify that the script does what you want it to do. But this isn't always the best approach.\n",
    "\n",
    "A process called **test-driven development** or TDD calls for creating the test before writing the code. This might seem a bit counter-intuitive, but it can make for more thoughtful well-written programs. When presented with a new problem that can be solved by automation, your gut instinct might be to fire up your code editor and start writing. But creating some tests first make sure that you've thought about the problem that you're trying to solve and some different approaches that you might use to accomplish it. \n",
    "\n",
    "Writing a test first also helps you think about the ways your program could fail and break which can lead to some valuable insights and even change the approach you take for the better. The test-driven development cycle typically involves first writing a test then running it to make sure it fails. After all, you haven't written the code to make it passed yet. Once you've verified it fails, you write the code that will satisfy the test then run the tests again. If it passes you can continue on to the next part of your program. If it fails you Debug and run the test again. The cycle is repeated for each new feature of your script until it's up and running. \n",
    "\n",
    "So before you write your next Python program, you might want to think about the tests you can create to make sure it's working as you expect. There are all resources out there if you'd like to learn more about how you can create code using the test-driven development approach. Lots of them are Python-centric, but the principles can be applied to any language you need to create in.\n",
    "\n",
    "Hopefully you can see the benefits of writing tests to validate the code rate. You gain some understanding about a different testing techniques available. \n",
    "\n",
    "Remember that good tests help make any automation and script you write more robust, resilient, and less buggy. Having reliable automation makes life better for everyone. Many companies take testing a step further and combine it with our version control systems and development processes. When engineers submit their code, it's integrated into the main repository and tests are automatically run against it to spot bugs and errors in a process called Continuous Integration. Although useful, setting up a continuous integration process can be a big undertaking. Will talk more about it in a later course. In the meantime, if you use unit tests to validate the code you write, you're already on your way to a more reliable and robust automation. "
   ]
  },
  {
   "cell_type": "markdown",
   "metadata": {},
   "source": [
    "## 4. More About Tests\n",
    "\n",
    "- https://landing.google.com/sre/sre-book/chapters/monitoring-distributed-systems/\n",
    "- https://landing.google.com/sre/sre-book/chapters/testing-reliability/\n",
    "- https://testing.googleblog.com/2007/10/performance-testing.html\n",
    "- https://www.guru99.com/smoke-testing.html\n",
    "- https://www.guru99.com/exploratory-testing.html\n",
    "- https://testing.googleblog.com/2008/09/test-first-is-fun_08.html"
   ]
  },
  {
   "cell_type": "code",
   "execution_count": null,
   "metadata": {},
   "outputs": [],
   "source": []
  }
 ],
 "metadata": {
  "kernelspec": {
   "display_name": "Python 3",
   "language": "python",
   "name": "python3"
  },
  "language_info": {
   "codemirror_mode": {
    "name": "ipython",
    "version": 3
   },
   "file_extension": ".py",
   "mimetype": "text/x-python",
   "name": "python",
   "nbconvert_exporter": "python",
   "pygments_lexer": "ipython3",
   "version": "3.7.4"
  }
 },
 "nbformat": 4,
 "nbformat_minor": 2
}
