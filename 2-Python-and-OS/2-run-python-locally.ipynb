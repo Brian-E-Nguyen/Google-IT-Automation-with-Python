{
 "cells": [
  {
   "cell_type": "markdown",
   "metadata": {},
   "source": [
    "# Running Python Locally\n",
    "\n",
    "## 1. Interpreted vs. Compiled Languages\n",
    "\n",
    "So you might be wondering, what's an interpreted language? \n",
    "\n",
    "### 1.1 Compiled Languages\n",
    "Well, when you want to run a program written in traditional programming language like C. The source code is fed into a piece of software called a compiler. \n",
    "\n",
    "The compiler translates this code into machine level language. Which means a language specific to the underlying architecture of the computer it's running on. The computer can read and execute the machine level code directly. This makes compiled program super fast to run, but the compilation process itself can take a bit of time. Some examples of commonly use compiled programming languages are C, C++, Go and Rust. \n",
    "\n",
    "\n",
    "### 1.2 Interpreted Languages\n",
    "On the flip side, programs written in interpreted language generally rely on an intermediary program called an interpreter. These programs use interpreters to execute the instructions specified in the code. Rather than running them through a compiler first. So this makes the development cycle for a program written in an interpreted language much faster. Because its developer doesn't need to wait for the code to be compiled to execute it. And the same code can be read by interpreters running on different operating systems without needing to make any additional changes. The tradeoff is that interpreted languages generally run slower than compiled ones. Python, Ruby, JavaScript, Bash, and PowerShell are all examples of interpreted programming languages. \n",
    "\n",
    "\n",
    "### 1.3 Intermediary Languages\n",
    "\n",
    "Last up, Java and C# are languages that use a mixed approach. The code needs to be compiled first, but it gets compiled into intermediate code. This means that instead of getting compiled into machine language that's specific for the current operating system, it gets compiled in supportable code that can execute on different platforms. We execute this code using a program that's OS specific, the Java virtual machine for Java and the common language runtime for C#. \n",
    "\n",
    "Say for example you have a program that's written in C, and you're running on Windows. But you want to run the program on the Linux server. To run the program on a different operating system than the one you're currently running on, you need to compile it on the destination OS. So in our example, that would mean you would need to compile a source code in Linux OS. And preferably one that has the same versions of the installed libraries on the destination server. You could run the program source code in Python instead. If you did that, it wouldn't matter if you're running on Windows, Mac OS or Linux. You could write and test the program locally and then just copy the script to the server and use it as is. "
   ]
  }
 ],
 "metadata": {
  "kernelspec": {
   "display_name": "Python 3",
   "language": "python",
   "name": "python3"
  },
  "language_info": {
   "codemirror_mode": {
    "name": "ipython",
    "version": 3
   },
   "file_extension": ".py",
   "mimetype": "text/x-python",
   "name": "python",
   "nbconvert_exporter": "python",
   "pygments_lexer": "ipython3",
   "version": "3.7.4"
  }
 },
 "nbformat": 4,
 "nbformat_minor": 2
}
