{
 "cells": [
  {
   "cell_type": "markdown",
   "metadata": {},
   "source": [
    "# Running Python Locally\n",
    "\n",
    "## 1. Interpreted vs. Compiled Languages\n",
    "\n",
    "So you might be wondering, what's an interpreted language? \n",
    "\n",
    "### 1.1 Compiled Languages\n",
    "Well, when you want to run a program written in traditional programming language like C. The source code is fed into a piece of software called a compiler. \n",
    "\n",
    "The compiler translates this code into machine level language. Which means a language specific to the underlying architecture of the computer it's running on. The computer can read and execute the machine level code directly. This makes compiled program super fast to run, but the compilation process itself can take a bit of time. Some examples of commonly use compiled programming languages are C, C++, Go and Rust. \n",
    "\n",
    "\n",
    "### 1.2 Interpreted Languages\n",
    "On the flip side, programs written in interpreted language generally rely on an intermediary program called an interpreter. These programs use interpreters to execute the instructions specified in the code. Rather than running them through a compiler first. So this makes the development cycle for a program written in an interpreted language much faster. Because its developer doesn't need to wait for the code to be compiled to execute it. And the same code can be read by interpreters running on different operating systems without needing to make any additional changes. The tradeoff is that interpreted languages generally run slower than compiled ones. Python, Ruby, JavaScript, Bash, and PowerShell are all examples of interpreted programming languages. \n",
    "\n",
    "\n",
    "### 1.3 Intermediary Languages\n",
    "\n",
    "Last up, Java and C# are languages that use a mixed approach. The code needs to be compiled first, but it gets compiled into intermediate code. This means that instead of getting compiled into machine language that's specific for the current operating system, it gets compiled in supportable code that can execute on different platforms. We execute this code using a program that's OS specific, the Java virtual machine for Java and the common language runtime for C#. \n",
    "\n",
    "Say for example you have a program that's written in C, and you're running on Windows. But you want to run the program on the Linux server. To run the program on a different operating system than the one you're currently running on, you need to compile it on the destination OS. So in our example, that would mean you would need to compile a source code in Linux OS. And preferably one that has the same versions of the installed libraries on the destination server. You could run the program source code in Python instead. If you did that, it wouldn't matter if you're running on Windows, Mac OS or Linux. You could write and test the program locally and then just copy the script to the server and use it as is. \n",
    "\n",
    "## 2. Running Python Scripts\n",
    "\n",
    "### 2.1 Terminal\n",
    "\n",
    "We can run Python programs in several different ways. In this course, we'll focus on running scripts from a command prompt, and because our Qwiklabs instructional environments will use Ubuntu, we will concentrate on using a command prompt in a Linux-based setting. That said, with a little tweaking, the techniques we use here can be applied to other platforms like Windows or Mac OS. As we called out in our installation videos, the commands to run a Python 3 interpreter might be Python or Python 3 depending on your platform. In our examples, we will always show Python 3 because that's command for the Ubuntu distribution we will be using. You should use a right command for your platform. As we saw in our installation videos when we run the Python 3 command, we get an interactive interpreter.\n",
    "\n",
    "### 2.2 Python Files\n",
    "\n",
    "Saved Python scripts usually end with a.py extension such as hello_world.py.\n",
    "\n",
    "To run a Python script saved on a Windows system, you can just type the name of your script and the operating system will recognize as the pipeline executable from the file extension. \n",
    "\n",
    "`python hello_world.py`\n",
    "\n",
    "But typing Python 3 each time you want to run your script can get really old really fast. So pro tip, there's a way we can avoid this. We can add the extra line to our file called shebang, which tells the operating system what command we want to use to execute that script\n",
    "\n",
    "First, open the file on editor. For this example, we're going to use nano, which is one of the editors available on a Linux system. At the top of the file, add this:\n",
    "\n",
    "```python\n",
    "#!/user/bin/env python3\n",
    "```\n",
    "\n",
    "There's one more thing we need to do to run the script directly without having to call the interpreter every time. We need to make that file executable using the chmod command. Remember that this command lets us change the file permissions. A file's possible permissions are read, write, and execute. To run the file directly, we want our file to be executable. This is how we do it.\n",
    "\n",
    "`chmod +x hello_world.py`\n",
    "\n",
    "Marking the script as executable means that we can now run the file by just prefixing it with a dot slash.\n",
    "\n",
    "`./hello_world.py`\n",
    "\n",
    "## 3. Your Own Python Modules\n",
    "\n",
    "In programming, we often reuse code that we've written or someone else has written. This is called code reuse and nearly all languages provide some way of doing it. We talked about code reusability back when we first looked at functions. Functions let us group code into logical blocks that can be executed at a later point and as many times as we need. But as our scripts get bigger and more complicated, we want to be able to reuse more than a single function. We might even want to reuse entire scripts and other programs that we write. \n",
    "\n",
    "Let's say that you created a script that e-mails a daily summary of tickets you completed to your manager. The script has two main jobs. First, it assembles that list of the tickets you've closed by interfacing with the company's issue tracking system. Second, it uses that list to create an e-mail and then sends it off to your manager.\n",
    "\n",
    "In a separate project, let's say that you'd like to automatically parse a system log and search for an event inside of it. If the event is found in the log, you want to trigger an e-mail to notify yourself. Can you spot the functional overlap in these two scripts? Both of these automation projects need to send an e-mail message. The most straightforward way to do this is to duplicate the e-mail sending code, copying it from one Python file to the other. On the whole, this seems pretty easy, but duplicating code in this way has an ugly downsides.\n",
    "\n",
    "First, every time you need to make a change to either script, you have to remember to do it to both places. That means you'd have to do any updates and bug fixes twice. No one wants to have to do that. On top of this, if your coworkers want to use the same e-mail code you wrote for their own projects, they'd probably have to go and create new copies. As you can imagine, keeping track of all the places it's being copied too quickly becomes tricky and so does sharing different versions.\n",
    "\n",
    "So instead of going crazy trying to maintain a bunch of different copies of the code, we can put the code we want to reuse into a separate module. This way, we can have our scripts in our colleague scripts import our code without having to create multiple copies. Great, but first we need to create our own Python module by putting the contents that we want to be part of the module into a separate file. To use a module, we'll import it using the filename. We can access each function, class, and variable defined in the file by using dot notation.\n",
    "\n",
    "We have a file called areas.py which contains functions to calculate the area of different geometrical figures. We can see the contents of that file using cat command."
   ]
  },
  {
   "cell_type": "code",
   "execution_count": 1,
   "metadata": {},
   "outputs": [],
   "source": [
    "import math\n",
    "\n",
    "def triangle(base, height):\n",
    "    return base * height / 2\n",
    "\n",
    "def rectangle(base, height):\n",
    "    return base * height\n",
    "\n",
    "def circle(radius):\n",
    "    return math.pi * (radius ** 2)"
   ]
  },
  {
   "cell_type": "markdown",
   "metadata": {},
   "source": [
    "We've seen that the functions are defined in the areas.py file. To use them in an interpreter or script, we can import the module by typing import areas"
   ]
  },
  {
   "cell_type": "code",
   "execution_count": 2,
   "metadata": {},
   "outputs": [],
   "source": [
    "import areas"
   ]
  },
  {
   "cell_type": "markdown",
   "metadata": {},
   "source": [
    "Perfect. We've now loaded the areas module and can use it to calculate areas. Let's calculate the area of a triangle and a circle to test this out."
   ]
  },
  {
   "cell_type": "code",
   "execution_count": 3,
   "metadata": {},
   "outputs": [
    {
     "data": {
      "text/plain": [
       "7.5"
      ]
     },
     "execution_count": 3,
     "metadata": {},
     "output_type": "execute_result"
    }
   ],
   "source": [
    "areas.triangle(3, 5)"
   ]
  },
  {
   "cell_type": "code",
   "execution_count": 4,
   "metadata": {},
   "outputs": [
    {
     "data": {
      "text/plain": [
       "50.26548245743669"
      ]
     },
     "execution_count": 4,
     "metadata": {},
     "output_type": "execute_result"
    }
   ],
   "source": [
    "areas.circle(4)"
   ]
  },
  {
   "cell_type": "markdown",
   "metadata": {},
   "source": [
    "Our areas module is pretty small and simple. So it fits nicely in just one file. In some cases, the code we're working with can become more complex. It might make sense to split into submodules. In this case, we create a directory, the name of the module, and separate.py files for each of the submodules. To see what we mean, let's look at a list of files shipped by a module installed on this computer. The request module using the `ls -l` command.\n",
    "\n",
    "This module is super complex. So all the things it does are split into separate files. Notice that init.py file. This is a special file. It's red when the module gets imported and it's used by the interpreter to check if a directory with Python files should it be a module. So if you have a module split into separate files, and you want the interpreter to recognize the directory has a module, you'll need to create the init.py file. If you don't have anything to put in this file, you need to create it. You can leave it empty but it needs to exist for the interpreter to recognize directory as a Python module."
   ]
  }
 ],
 "metadata": {
  "kernelspec": {
   "display_name": "Python 3",
   "language": "python",
   "name": "python3"
  },
  "language_info": {
   "codemirror_mode": {
    "name": "ipython",
    "version": 3
   },
   "file_extension": ".py",
   "mimetype": "text/x-python",
   "name": "python",
   "nbconvert_exporter": "python",
   "pygments_lexer": "ipython3",
   "version": "3.7.4"
  }
 },
 "nbformat": 4,
 "nbformat_minor": 2
}
