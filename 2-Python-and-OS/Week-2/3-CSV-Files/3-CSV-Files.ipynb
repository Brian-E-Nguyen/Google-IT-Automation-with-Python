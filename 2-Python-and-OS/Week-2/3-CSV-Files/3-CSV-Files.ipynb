{
 "cells": [
  {
   "cell_type": "markdown",
   "metadata": {},
   "source": [
    "# Reading and Writing CSV Files\n",
    "\n",
    "## 1. What is a CSV File?\n",
    "\n",
    "When we first talked about how to read files, we looked at files with lines of text, one after the other. This is useful in a bunch of different situations since lots of programs store their state and text files. And we can also have configuration files and log files as text. But data comes in a bunch of different formats besides text. And you may need to deal with some of these in your scripts. Formats give data structure. And remember that computers love structure and precision. To be able to process a data set, it helps to know ahead of time how that data set will be arranged. If you can expect data to be represented in a certain way, it's easier to extract meaning from it. \n",
    "\n",
    "Let's look at a very simple example. If we have a file that contains one line per machine and details the users are logged into that machine, then when we read the file we know how to parse it to get the information that we want. **Parsing** a file means analyzing its content to correctly structure the data. We use a bunch of different file formats to structure, store, and transport data. You might be familiar with some already. For example, HTML is a markup format which defines the content of a webpage. JSON is a data interchange format commonly used to pass data between computers on networks, especially the internet. \n",
    "\n",
    "**CSV or comma separated values** is a very common data format used to store data as segment of text separated by commas. In the Python standard library, you'll find classes and modules for working with many of these data formats, including CSV and HTML. For less common file formats or more advanced manipulation techniques, you'll find more libraries available as additional Python modules. In the next few videos, we'll check out how we can use a CSV module to process CSV files. This not only shows how we can use Python to work with a specific data format. Knowing how to work with CSV files is a pretty useful skill to know. This format lets us easily store and retrieve information that we might need for our scripts like employees in our company or computer's inner network. \n",
    "\n",
    "In my job as a system administrator, I create CSV files when I want to convert the output of a command into a format that will be easier to parse later on. For example, the df command prints the currently used disk space in a format that's easy to read by human eyes. By turning the info into a CSV makes it much easier to work with the data in my scripts. A lot of programs are capable of exporting data as CSV files, such as spreadsheet applications like Microsoft Excel or Google Sheets. It can actually be helpful to think of a CSV file like it's a spreadsheet, where each line corresponds to a row and each comma separated field corresponds to a column. So, now that we know what CSV files are, let's learn how to read them.\n",
    "\n",
    "## 2. Reading CSV Files\n",
    "\n",
    "\n",
    "Like we said, CSV stands for Comma Separated Values. CSV is a pretty simple format. These files are stored in plaintext. And each line in a CSV file generally represents a single data record. Each field in that record is separated by a comma, with the contents of the field stored between the commas. For example, if we are storing information about employees at our company, we might store the data like this.\n",
    "\n",
    "```\n",
    "$ cat csv_file.txt\n",
    "Sabrina Green,802-865-3213,System Administrator\n",
    "Eli Jones,324-51242,IT Specialist\n",
    "Melody Daniels,892-213-5433,Programmer\n",
    "Charlie Rivera,422-111-3113,Web Developer\n",
    "```"
   ]
  },
  {
   "cell_type": "markdown",
   "metadata": {},
   "source": [
    "Looking at this example, the line that starts with Sabrina is a data record. And the name Sabrina Green represents a name field followed by a phone number field and a role field. Python standard library includes a module which lets us read, create and manipulate CSV files. Do you want to guess what that module's called? If you guessed CSV, you're right. All these self-explanatory names makes life a lot easier, right? So, we'll be using the CSV module. And to do that, we'll need to import it like we've been doing with the other modules."
   ]
  },
  {
   "cell_type": "code",
   "execution_count": 1,
   "metadata": {},
   "outputs": [],
   "source": [
    "import csv"
   ]
  },
  {
   "cell_type": "markdown",
   "metadata": {},
   "source": [
    "Now, before we can parse a CSV file, we need to open the file the same way as before."
   ]
  },
  {
   "cell_type": "code",
   "execution_count": 3,
   "metadata": {},
   "outputs": [],
   "source": [
    "file = open('csv_file.txt')\n",
    "csv_file = csv.reader(file)"
   ]
  },
  {
   "cell_type": "markdown",
   "metadata": {},
   "source": [
    "Okay, that has given us an instance of the CSV reader class. We can now iterate through its contents and access information that it parsed.\n",
    "\n",
    "Remember that for this to work we need to have the exact same amount of variables on the left side of the equal sign as the length of the sequence on the right side. Now that we've unpacked these values, let's print them to the screen."
   ]
  },
  {
   "cell_type": "code",
   "execution_count": 5,
   "metadata": {},
   "outputs": [],
   "source": [
    "for row in csv_file:\n",
    "    name, phone, role = row\n",
    "    print(f'Name: {name}, Phone: {phone}, Role: {role}')"
   ]
  },
  {
   "cell_type": "code",
   "execution_count": null,
   "metadata": {},
   "outputs": [],
   "source": []
  }
 ],
 "metadata": {
  "kernelspec": {
   "display_name": "Python 3",
   "language": "python",
   "name": "python3"
  },
  "language_info": {
   "codemirror_mode": {
    "name": "ipython",
    "version": 3
   },
   "file_extension": ".py",
   "mimetype": "text/x-python",
   "name": "python",
   "nbconvert_exporter": "python",
   "pygments_lexer": "ipython3",
   "version": "3.7.4"
  }
 },
 "nbformat": 4,
 "nbformat_minor": 2
}
