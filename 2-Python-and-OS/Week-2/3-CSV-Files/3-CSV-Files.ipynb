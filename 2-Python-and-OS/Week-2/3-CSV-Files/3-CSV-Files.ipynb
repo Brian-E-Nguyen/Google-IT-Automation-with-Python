{
 "cells": [
  {
   "cell_type": "markdown",
   "metadata": {},
   "source": [
    "# Reading and Writing CSV Files\n",
    "\n",
    "## 1. What is a CSV File?\n",
    "\n",
    "When we first talked about how to read files, we looked at files with lines of text, one after the other. This is useful in a bunch of different situations since lots of programs store their state and text files. And we can also have configuration files and log files as text. But data comes in a bunch of different formats besides text. And you may need to deal with some of these in your scripts. Formats give data structure. And remember that computers love structure and precision. To be able to process a data set, it helps to know ahead of time how that data set will be arranged. If you can expect data to be represented in a certain way, it's easier to extract meaning from it. \n",
    "\n",
    "Let's look at a very simple example. If we have a file that contains one line per machine and details the users are logged into that machine, then when we read the file we know how to parse it to get the information that we want. **Parsing** a file means analyzing its content to correctly structure the data. We use a bunch of different file formats to structure, store, and transport data. You might be familiar with some already. For example, HTML is a markup format which defines the content of a webpage. JSON is a data interchange format commonly used to pass data between computers on networks, especially the internet. \n",
    "\n",
    "**CSV or comma separated values** is a very common data format used to store data as segment of text separated by commas. In the Python standard library, you'll find classes and modules for working with many of these data formats, including CSV and HTML. For less common file formats or more advanced manipulation techniques, you'll find more libraries available as additional Python modules. In the next few videos, we'll check out how we can use a CSV module to process CSV files. This not only shows how we can use Python to work with a specific data format. Knowing how to work with CSV files is a pretty useful skill to know. This format lets us easily store and retrieve information that we might need for our scripts like employees in our company or computer's inner network. \n",
    "\n",
    "In my job as a system administrator, I create CSV files when I want to convert the output of a command into a format that will be easier to parse later on. For example, the df command prints the currently used disk space in a format that's easy to read by human eyes. By turning the info into a CSV makes it much easier to work with the data in my scripts. A lot of programs are capable of exporting data as CSV files, such as spreadsheet applications like Microsoft Excel or Google Sheets. It can actually be helpful to think of a CSV file like it's a spreadsheet, where each line corresponds to a row and each comma separated field corresponds to a column. So, now that we know what CSV files are, let's learn how to read them.\n",
    "\n",
    "## 2. Reading CSV Files\n",
    "\n",
    "\n",
    "Like we said, CSV stands for Comma Separated Values. CSV is a pretty simple format. These files are stored in plaintext. And each line in a CSV file generally represents a single data record. Each field in that record is separated by a comma, with the contents of the field stored between the commas. For example, if we are storing information about employees at our company, we might store the data like this.\n",
    "\n",
    "```\n",
    "$ cat csv_file.txt\n",
    "Sabrina Green,802-865-3213,System Administrator\n",
    "Eli Jones,324-51242,IT Specialist\n",
    "Melody Daniels,892-213-5433,Programmer\n",
    "Charlie Rivera,422-111-3113,Web Developer\n",
    "```"
   ]
  },
  {
   "cell_type": "markdown",
   "metadata": {},
   "source": [
    "Looking at this example, the line that starts with Sabrina is a data record. And the name Sabrina Green represents a name field followed by a phone number field and a role field. Python standard library includes a module which lets us read, create and manipulate CSV files. Do you want to guess what that module's called? If you guessed CSV, you're right. All these self-explanatory names makes life a lot easier, right? So, we'll be using the CSV module. And to do that, we'll need to import it like we've been doing with the other modules."
   ]
  },
  {
   "cell_type": "code",
   "execution_count": 1,
   "metadata": {},
   "outputs": [],
   "source": [
    "import csv"
   ]
  },
  {
   "cell_type": "markdown",
   "metadata": {},
   "source": [
    "Now, before we can parse a CSV file, we need to open the file the same way as before."
   ]
  },
  {
   "cell_type": "code",
   "execution_count": 7,
   "metadata": {},
   "outputs": [],
   "source": [
    "file = open('csv_file.txt')\n",
    "csv_file = csv.reader(file)"
   ]
  },
  {
   "cell_type": "markdown",
   "metadata": {},
   "source": [
    "Okay, that has given us an instance of the CSV reader class. We can now iterate through its contents and access information that it parsed.\n",
    "\n",
    "Remember that for this to work we need to have the exact same amount of variables on the left side of the equal sign as the length of the sequence on the right side. Now that we've unpacked these values, let's print them to the screen."
   ]
  },
  {
   "cell_type": "code",
   "execution_count": 8,
   "metadata": {},
   "outputs": [
    {
     "name": "stdout",
     "output_type": "stream",
     "text": [
      "Name: Sabrina Green, Phone: 802-865-3213, Role: System Administrator\n",
      "Name: Eli Jones, Phone: 324-51242, Role: IT Specialist\n",
      "Name: Melody Daniels, Phone: 892-213-5433, Role: Programmer\n",
      "Name: Charlie Rivera, Phone: 422-111-3113, Role: Web Developer\n"
     ]
    }
   ],
   "source": [
    "for row in csv_file:\n",
    "    name, phone, role = row\n",
    "    print(f'Name: {name}, Phone: {phone}, Role: {role}')"
   ]
  },
  {
   "cell_type": "markdown",
   "metadata": {},
   "source": [
    "## 3. Generating CSV\n",
    "\n",
    "In the last video, we used the `reader` function from a CSV module to read the contents of the CSV file. Similarly, we can use the `writer` function to generate contents to a file. This can be really helpful if you process some data in your script and you must store it in a file. Maybe you want to import it into a spreadsheet or use it later on in your script. We'll start by storing the data that we want to write into a list."
   ]
  },
  {
   "cell_type": "code",
   "execution_count": 9,
   "metadata": {},
   "outputs": [],
   "source": [
    "hosts = [['workstation.local', '134.343.21.23'], ['webserver.cloud', '32.312.3']]"
   ]
  },
  {
   "cell_type": "markdown",
   "metadata": {},
   "source": [
    "We've created a list of lists. This is the data that we want to store in the CSV file, representing the names of the machines in our network and their IP addresses. All right, with that data ready to be written, let's open the file in write mode. We'll use the width block that we saw before so we don't forget to close the file."
   ]
  },
  {
   "cell_type": "code",
   "execution_count": 11,
   "metadata": {},
   "outputs": [],
   "source": [
    "with open('hosts.csv', 'w') as hosts_csv:\n",
    "    writer = csv.writer(hosts_csv)\n",
    "    writer.writerows(hosts)"
   ]
  },
  {
   "cell_type": "markdown",
   "metadata": {},
   "source": [
    "The writer variable is now an instance of a CSV writer class. There are two functions that we can use: `writerow`, which we'll write one row at a time; and `writerows`, which we'll write all of them together. In this case, we already have all the data that we want to write. So we'll call right rows.\n",
    "\n",
    "Nice. With that, we've run our data to the CSV file. Before we move on, let's see how this looks when we use a tool outside of Python, like the cat command.\n",
    "\n",
    "```\n",
    "workstation.local,134.343.21.23\n",
    "webserver.cloud,32.312.3\n",
    "```"
   ]
  },
  {
   "cell_type": "markdown",
   "metadata": {},
   "source": [
    "## 4. Reading and Writing CSV Files with Dictionaries\n",
    "\n",
    "In our earlier examples, we saw how we can read and write CSV files, and we use list as datatype on the Python side. This works when we know what the fields are going to be, but it can be pretty cumbersome when we have a lot of columns, and we need to remember which is which. \n",
    "\n",
    "Imagine if your lists of employees not only had name, phone number and role but also start date, username, office location, department, preferred pronouns and so on. It would soon get hard to keep track of which column corresponds to which position in the row. For cases like this, it's common for CSVs to include the names of the columns as a first line in the file, like in this example; \n",
    "```\n",
    "$ cat software.csv\n",
    "name,version,status,users\n",
    "MailTree,5.34,production,324\n",
    "CalDoor,1.25.3,beta,22\n",
    "Chatty Chicken,0.34.alpha,4\n",
    "```\n",
    "\n",
    "this CSV file list a bunch of internally developed programs used at the company including the latest version, the current development status and the number of people using it. \n",
    "\n",
    "Check out how the first line of the file includes the names of each of the fields. We can profit from this additional information by using `DictReader`, a slightly different reader that's also provided by the CSV module. This reader turns each row of the data in a CSV file into a **dictionary**. We can then access the data by using the column names instead of the position in the row. Let's see how that looks. "
   ]
  },
  {
   "cell_type": "code",
   "execution_count": 14,
   "metadata": {},
   "outputs": [
    {
     "name": "stdout",
     "output_type": "stream",
     "text": [
      "MailTree has 324 users\n",
      "CalDoor has 22 users\n",
      "Chatty Chicken has 4 users\n"
     ]
    }
   ],
   "source": [
    "with open('software.csv') as software:\n",
    "    reader = csv.DictReader(software)\n",
    "    for row in reader:\n",
    "        print(('{} has {} users').format(row['name'], row['users']))"
   ]
  },
  {
   "cell_type": "markdown",
   "metadata": {},
   "source": [
    "Two important things to call out here. One, the order of the fields in the file doesn't matter. We can just use the name of the field instead, and two, chatty chicken is still an alpha, so only it has four users but you know the name like that, it's going to be a hit. \n",
    "\n",
    "So we can use DictWriter in a similar way to generate a CSV file from the contents of a list of dictionaries. This means that each element in the list will be a row in the file, and the values of each field will come out of each of the dictionaries. For this to work, we'll also need to pass a list of the keys that we want to be stored in the file when creating the writer. \n",
    "\n",
    "Let's see this in action. First we need a list of dictionaries with the data that we want to store. For this example, we want to store data about the users in our company and the departments that they work in. So here we have our list of dictionaries and each contain the keys, name, username and department. "
   ]
  },
  {
   "cell_type": "code",
   "execution_count": 16,
   "metadata": {},
   "outputs": [],
   "source": [
    "users = [\n",
    "    {\"name\": \"Mr. Krabs\", \"username\": \"WarCommiter\", \"department\": \"Weapons\"},\n",
    "    {\"name\": \"Brian\", \"username\": \"bruhaiyen\", \"department\": \"Web Dev\"},\n",
    "    {\"name\": \"SHiFT\", \"username\": \"SHiFT_HD\", \"department\": \"Speedrunning\"}\n",
    "]"
   ]
  },
  {
   "cell_type": "markdown",
   "metadata": {},
   "source": [
    "We now want to write this HTML file and the code will look like this."
   ]
  },
  {
   "cell_type": "code",
   "execution_count": 18,
   "metadata": {},
   "outputs": [],
   "source": [
    "keys = ['name', 'username', 'department']\n",
    "with open('by_department.csv', 'w') as by_department:\n",
    "    writer = csv.DictWriter(by_department, fieldnames=keys)\n",
    "    writer.writeheader()\n",
    "    writer.writerows(users)"
   ]
  },
  {
   "cell_type": "markdown",
   "metadata": {},
   "source": [
    "So we first define the list of keys that we want to write to the file, then we open the file for writing. Next we created the DictWriter passing the keys that we had identified before, and then we call two different methods on the writer. The `writeheader` method will create the first line of the CSV based on keys that we passed, and the `writerows` method will turn the list of dictionaries into lines in that file. Let's check if this worked correctly.\n",
    "\n",
    "```\n",
    "$ cat by_department.csv\n",
    "name,username,department\n",
    "Mr. Krabs,WarCommiter,Weapons\n",
    "Brian,bruhaiyen,Web Dev\n",
    "SHiFT,SHiFT_HD,Speedrunning\n",
    "```\n",
    "\n",
    "## 5. CSV Files Cheat Sheet\n",
    "- https://docs.python.org/3/library/csv.html\n",
    "- https://realpython.com/python-csv/"
   ]
  },
  {
   "cell_type": "markdown",
   "metadata": {},
   "source": []
  }
 ],
 "metadata": {
  "kernelspec": {
   "display_name": "Python 3",
   "language": "python",
   "name": "python3"
  },
  "language_info": {
   "codemirror_mode": {
    "name": "ipython",
    "version": 3
   },
   "file_extension": ".py",
   "mimetype": "text/x-python",
   "name": "python",
   "nbconvert_exporter": "python",
   "pygments_lexer": "ipython3",
   "version": "3.7.4"
  }
 },
 "nbformat": 4,
 "nbformat_minor": 2
}
