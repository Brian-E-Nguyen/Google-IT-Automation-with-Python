{
 "cells": [
  {
   "cell_type": "markdown",
   "metadata": {},
   "source": [
    "# Managing Files and Directories\n",
    "\n",
    "## 1. Working With Files\n",
    "\n",
    "In earlier videos, we saw how we can read files, iterate through the contents of files, and also write contents of files. Those are the most common operations we'll do with files, but there's plenty of other things we might need to do when working with files in our scripts. We may need to delete, rename or move files, or we might need information about a file, like the time it was last modified or its current size. Let's explore some of the many things that we can do with files in Python. \n",
    "\n",
    "For these operations, we'll be using functions provided by the `OS` module. This module provides a layer of abstraction between Python and the operating system. It allows us to interact with the underlying system without us knowing whether we're working on a Windows, Mac, Linux, or any other operating system supported by Python. This means that you can write and test a script on one operating system like Windows and then run it on a different operating system like Linux. \n",
    "\n",
    "But one thing to watch out for, paths can be different across different operating systems. So whenever we're using an absolute path in our code, we need to make sure we can provide alternatives for the platforms we want to support. The OS module lets us do pretty much all the same tasks that we can normally do when working with files from the command line. We can change the file permissions and delete or rename files through our code. This means you can write scripts to do these operations for you automatically. I bet you're already thinking about how useful OS module is going to be in your IT role. To delete a file, we can use the, \"Remove\" function from the OS module. Let's see this in action."
   ]
  }
 ],
 "metadata": {
  "kernelspec": {
   "display_name": "Python 3",
   "language": "python",
   "name": "python3"
  },
  "language_info": {
   "codemirror_mode": {
    "name": "ipython",
    "version": 3
   },
   "file_extension": ".py",
   "mimetype": "text/x-python",
   "name": "python",
   "nbconvert_exporter": "python",
   "pygments_lexer": "ipython3",
   "version": "3.7.4"
  }
 },
 "nbformat": 4,
 "nbformat_minor": 2
}
