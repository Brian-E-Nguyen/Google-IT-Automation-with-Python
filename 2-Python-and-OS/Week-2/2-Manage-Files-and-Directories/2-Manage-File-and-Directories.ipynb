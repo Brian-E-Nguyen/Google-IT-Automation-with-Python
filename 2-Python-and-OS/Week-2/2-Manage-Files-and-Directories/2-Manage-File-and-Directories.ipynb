{
 "cells": [
  {
   "cell_type": "markdown",
   "metadata": {},
   "source": [
    "# Managing Files and Directories\n",
    "\n",
    "## 1. Working With Files\n",
    "\n",
    "In earlier videos, we saw how we can read files, iterate through the contents of files, and also write contents of files. Those are the most common operations we'll do with files, but there's plenty of other things we might need to do when working with files in our scripts. We may need to delete, rename or move files, or we might need information about a file, like the time it was last modified or its current size. Let's explore some of the many things that we can do with files in Python. \n",
    "\n",
    "For these operations, we'll be using functions provided by the `OS` module. This module provides a layer of abstraction between Python and the operating system. It allows us to interact with the underlying system without us knowing whether we're working on a Windows, Mac, Linux, or any other operating system supported by Python. This means that you can write and test a script on one operating system like Windows and then run it on a different operating system like Linux. \n",
    "\n",
    "But one thing to watch out for, paths can be different across different operating systems. So whenever we're using an absolute path in our code, we need to make sure we can provide alternatives for the platforms we want to support. The OS module lets us do pretty much all the same tasks that we can normally do when working with files from the command line. We can change the file permissions and delete or rename files through our code. This means you can write scripts to do these operations for you automatically. I bet you're already thinking about how useful OS module is going to be in your IT role. \n",
    "\n",
    "### 1.1 Deleting Files\n",
    "\n",
    "To delete a file, we can use the, `remove` function from the OS module. Let's see this in action."
   ]
  },
  {
   "cell_type": "code",
   "execution_count": 2,
   "metadata": {},
   "outputs": [],
   "source": [
    "import os\n",
    "os.remove('novel.txt')"
   ]
  },
  {
   "cell_type": "markdown",
   "metadata": {},
   "source": [
    "So we first import the OS module. Then we call the remove function the OS module gives us and pass the string novel.txt which is the file we created earlier. The file has now been deleted. Let's see what happens if we try to remove it again."
   ]
  },
  {
   "cell_type": "code",
   "execution_count": 3,
   "metadata": {},
   "outputs": [
    {
     "ename": "FileNotFoundError",
     "evalue": "[WinError 2] The system cannot find the file specified: 'novel.txt'",
     "output_type": "error",
     "traceback": [
      "\u001b[1;31m---------------------------------------------------------------------------\u001b[0m",
      "\u001b[1;31mFileNotFoundError\u001b[0m                         Traceback (most recent call last)",
      "\u001b[1;32m<ipython-input-3-8fcb8b445fa3>\u001b[0m in \u001b[0;36m<module>\u001b[1;34m\u001b[0m\n\u001b[1;32m----> 1\u001b[1;33m \u001b[0mos\u001b[0m\u001b[1;33m.\u001b[0m\u001b[0mremove\u001b[0m\u001b[1;33m(\u001b[0m\u001b[1;34m'novel.txt'\u001b[0m\u001b[1;33m)\u001b[0m\u001b[1;33m\u001b[0m\u001b[1;33m\u001b[0m\u001b[0m\n\u001b[0m",
      "\u001b[1;31mFileNotFoundError\u001b[0m: [WinError 2] The system cannot find the file specified: 'novel.txt'"
     ]
    }
   ],
   "source": [
    "os.remove('novel.txt')"
   ]
  },
  {
   "cell_type": "markdown",
   "metadata": {},
   "source": [
    "### 1.2 Renaming Files\n",
    "\n",
    "We can easily `rename` a file with the rename function. The first parameter to rename function is the old name of the file and the second is new name. Let's check it out."
   ]
  },
  {
   "cell_type": "code",
   "execution_count": 5,
   "metadata": {},
   "outputs": [],
   "source": [
    "os.rename('first_draft.txt', 'finished_masterpiece.txt')"
   ]
  },
  {
   "cell_type": "markdown",
   "metadata": {},
   "source": [
    "### 1.3 Checking For File Existence\n",
    "\n",
    "If we tried to do this for a file that didn't exist, we'd get a file not found error again. So how do we check if the file exists or not? There's a sub-module inside the OS module for dealing with things related to file information like whether they exist or not. This is called the OS path sub-module. We can use that `exists` function in this module to check whether a file exist. Let's try this out with a couple of examples."
   ]
  },
  {
   "cell_type": "code",
   "execution_count": 6,
   "metadata": {},
   "outputs": [
    {
     "data": {
      "text/plain": [
       "True"
      ]
     },
     "execution_count": 6,
     "metadata": {},
     "output_type": "execute_result"
    }
   ],
   "source": [
    "os.path.exists('finished_masterpiece.txt')"
   ]
  },
  {
   "cell_type": "code",
   "execution_count": 7,
   "metadata": {},
   "outputs": [
    {
     "data": {
      "text/plain": [
       "False"
      ]
     },
     "execution_count": 7,
     "metadata": {},
     "output_type": "execute_result"
    }
   ],
   "source": [
    "os.path.exists('h8e4wfyu8h7iu.txt')"
   ]
  },
  {
   "cell_type": "markdown",
   "metadata": {},
   "source": [
    "In this example, the exists function returns a value of true telling us that the finished_masterpiece.txt exist but userlist.txt doesn't exist, so the function returns the value of false. The exists function is super useful. We can use it to check that a file exists before trying to read it or verify that it doesn't exist before trying to write it which helps us avoid losing any data. Python gives us some basic ways to interact with files stored on a computer"
   ]
  },
  {
   "cell_type": "markdown",
   "metadata": {},
   "source": [
    "## 2. More File Information\n",
    "\n",
    "### 2.1 File Size\n",
    "We saw earlier how to manipulate files with functions like OS.rename and OS.remove, and how to check whether the file exists using OS.path.exist. We can get a lot more info about our files using functions in OS.path module. For example, to check how big a file is, we can use the `getsize` function which returns the file size in _bytes_."
   ]
  },
  {
   "cell_type": "code",
   "execution_count": 9,
   "metadata": {},
   "outputs": [
    {
     "data": {
      "text/plain": [
       "1318"
      ]
     },
     "execution_count": 9,
     "metadata": {},
     "output_type": "execute_result"
    }
   ],
   "source": [
    "os.path.getsize('finished_masterpiece.txt')"
   ]
  },
  {
   "cell_type": "markdown",
   "metadata": {},
   "source": [
    "### 2.2 File Modified Time\n",
    "\n",
    "To check when the file was last modified, the `getmtime` function comes in really handy. Let's check out how this works."
   ]
  },
  {
   "cell_type": "code",
   "execution_count": 10,
   "metadata": {},
   "outputs": [
    {
     "data": {
      "text/plain": [
       "1596133887.002017"
      ]
     },
     "execution_count": 10,
     "metadata": {},
     "output_type": "execute_result"
    }
   ],
   "source": [
    "os.path.getmtime('finished_masterpiece.txt')"
   ]
  },
  {
   "cell_type": "markdown",
   "metadata": {},
   "source": [
    "What's that long number? It doesn't look like time, does it? That's because it's a timestamp. In this case specifically, it's a Unix timestamp. It represents the number of seconds since January 1st, 1970. Seems a bit random, but there's actually a really good reason behind this date. This was adopted years ago to store the times associated to files in computers. Since that's when they started publishing Unix operating systems, Unix uses that date because there couldn't be any file created before that time. While Unix timestamps have a 50-year history, they're still very much present today. They're used by file systems to show when a file was created, accessed, or modified. They are also used in other systems like databases. As an IT specialist, you're bound to run into them in your day to day. \n",
    "\n",
    "But despite all of that, the number is pretty hard to make sense of. We can use the **datetime** module to make it easier for us humans to read, like this."
   ]
  },
  {
   "cell_type": "code",
   "execution_count": 10,
   "metadata": {},
   "outputs": [
    {
     "data": {
      "text/plain": [
       "datetime.datetime(2020, 7, 30, 11, 31, 27, 2017)"
      ]
     },
     "execution_count": 10,
     "metadata": {},
     "output_type": "execute_result"
    }
   ],
   "source": [
    "import datetime\n",
    "timestamp = os.path.getmtime('finished_masterpiece.txt')\n",
    "datetime.datetime.fromtimestamp(timestamp)"
   ]
  },
  {
   "cell_type": "markdown",
   "metadata": {},
   "source": [
    "Here, we're using the fromtimestamp method of the datetime class inside the datetime module. It makes the date far easier for us to understand. Remember, the functions and the OS.path module take the info provided by the operating system so that we can use it in our scripts no matter what OS we're running. We can check a file size or last modification date without having to know the operating system the machines running or the type of file system that the file stored in. Nice, right? Another cool feature of the functions is that we can work with both relative and absolute paths. In our examples, we've been using the relative file names without having to specify their full paths. In some cases, we may need to specify exactly where the file is to work with it in our script. This is where the abspath function can help.\n",
    "\n",
    "### 2.3 File Paths\n",
    "\n",
    "Nice, right? Another cool feature of the functions is that we can work with both relative and absolute paths. In our examples, we've been using the relative file names without having to specify their full paths. In some cases, we may need to specify exactly where the file is to work with it in our script. This is where the `abspath` function can help."
   ]
  },
  {
   "cell_type": "code",
   "execution_count": 12,
   "metadata": {},
   "outputs": [
    {
     "data": {
      "text/plain": [
       "'C:\\\\Users\\\\BRIAN\\\\Documents\\\\Google-IT-Automation-with-Python\\\\2-Python-and-OS\\\\Week-2\\\\2-Manage-Files-and-Directories\\\\finished_masterpiece.txt'"
      ]
     },
     "execution_count": 12,
     "metadata": {},
     "output_type": "execute_result"
    }
   ],
   "source": [
    "os.path.abspath('finished_masterpiece.txt')"
   ]
  },
  {
   "cell_type": "markdown",
   "metadata": {},
   "source": [
    "The abspath function takes a filename and turns it into an absolute path. Python uses the current working directory which is where the script is being run to start looking for the file and construct the full path that identifies it. This is useful if you want to store at the file's full path or access a file no matter what the current directory is. \n",
    "\n",
    "There is a ton more functions in the OS and OSpath modules that let us work with files. But don't worry, you don't have to learn them all by heart. Whenever you need to do something with files, it's a good idea to check the documentation and research what functions are available to find the ones that you need.\n",
    "\n",
    "## 3. Directories\n",
    "\n",
    "If you need to work with files in your scripts, odds are you'll have to handle directory suite. For example, you might need to process all the files that are in a specific directory or generate a directory with the results of your data analysis. As with files, Python provides a bunch of different functions that let us create, delete and browse the contents of directories. You might remember when we talked about the current working directory and how important it is to know this when using a relative path to determine the location of a file. \n",
    "\n",
    "To check which current directory your Python program is executing in, you can use the `getcwd` method. If you use a unix-like system, you might remember that the name of the command that prints the working directory is called `pwd`.\n"
   ]
  },
  {
   "cell_type": "code",
   "execution_count": 13,
   "metadata": {},
   "outputs": [
    {
     "name": "stdout",
     "output_type": "stream",
     "text": [
      "C:\\Users\\BRIAN\\Documents\\Google-IT-Automation-with-Python\\2-Python-and-OS\\Week-2\\2-Manage-Files-and-Directories\n"
     ]
    }
   ],
   "source": [
    "print(os.getcwd())"
   ]
  },
  {
   "cell_type": "markdown",
   "metadata": {},
   "source": [
    "To create a directory, we use the mkdir function. This function has the same name as both the Windows and Linux commands that do the same exact thing."
   ]
  },
  {
   "cell_type": "code",
   "execution_count": 18,
   "metadata": {},
   "outputs": [],
   "source": [
    "os.mkdir('new_directory')"
   ]
  },
  {
   "cell_type": "markdown",
   "metadata": {},
   "source": [
    "So we've just created a directory called newdir and it's located in the current working directory. You can also change directories in your program by using the `chdir` function and passing the directory you'd like to change to as a parameter. Just like the other functions we've seen, we can use relative or absolute paths to do that."
   ]
  },
  {
   "cell_type": "code",
   "execution_count": 3,
   "metadata": {},
   "outputs": [
    {
     "name": "stdout",
     "output_type": "stream",
     "text": [
      "C:\\Users\\BRIAN\\Documents\\Google-IT-Automation-with-Python\\2-Python-and-OS\\Week-2\\2-Manage-Files-and-Directories\n"
     ]
    }
   ],
   "source": [
    "os.chdir('new_directory')\n",
    "print(os.getcwd())"
   ]
  },
  {
   "cell_type": "markdown",
   "metadata": {},
   "source": [
    "As you can see, we've changed the current working directory to the new directory that we created inside of the user's home directory. We use mkdir to create directories and we can use our rmdir to remove them like this"
   ]
  },
  {
   "cell_type": "code",
   "execution_count": 4,
   "metadata": {},
   "outputs": [
    {
     "ename": "OSError",
     "evalue": "[WinError 145] The directory is not empty: 'new_directory'",
     "output_type": "error",
     "traceback": [
      "\u001b[1;31m---------------------------------------------------------------------------\u001b[0m",
      "\u001b[1;31mOSError\u001b[0m                                   Traceback (most recent call last)",
      "\u001b[1;32m<ipython-input-4-720933f13f87>\u001b[0m in \u001b[0;36m<module>\u001b[1;34m\u001b[0m\n\u001b[1;32m----> 1\u001b[1;33m \u001b[0mos\u001b[0m\u001b[1;33m.\u001b[0m\u001b[0mrmdir\u001b[0m\u001b[1;33m(\u001b[0m\u001b[1;34m'new_directory'\u001b[0m\u001b[1;33m)\u001b[0m\u001b[1;33m\u001b[0m\u001b[1;33m\u001b[0m\u001b[0m\n\u001b[0m",
      "\u001b[1;31mOSError\u001b[0m: [WinError 145] The directory is not empty: 'new_directory'"
     ]
    }
   ],
   "source": [
    "os.rmdir('new_directory')"
   ]
  },
  {
   "cell_type": "markdown",
   "metadata": {},
   "source": [
    "but the rmdir function will only work if the directory is empty. If we try to remove a directory that has files in it, we get an error. We need to first delete all the files and sub-directories in that directory before we can actually remove it but how can we find out what contents are in that directory? Well, there are a few techniques that we can use to do this. \n",
    "\n",
    "The `os.listdir` function returns a list of all the files and sub-directories in a given directory. Let's see how this looks for our website directory."
   ]
  },
  {
   "cell_type": "code",
   "execution_count": 6,
   "metadata": {},
   "outputs": [
    {
     "data": {
      "text/plain": [
       "['favicon.ico', 'images', 'index.html']"
      ]
     },
     "execution_count": 6,
     "metadata": {},
     "output_type": "execute_result"
    }
   ],
   "source": [
    "import os\n",
    "os.listdir('website')"
   ]
  },
  {
   "cell_type": "markdown",
   "metadata": {},
   "source": [
    "So we've got a list of strings. Since they're just strings, we don't know if they're directories or files. To find out what they are, we can use functions like `os.path.isdir` but before we look at how that works. See how the list contains just file names. If we want to know whether one of these files is a directory, we need to use `os.path.join` to create the full path. Let's see all of this in action now."
   ]
  },
  {
   "cell_type": "code",
   "execution_count": 8,
   "metadata": {},
   "outputs": [
    {
     "name": "stdout",
     "output_type": "stream",
     "text": [
      "website\\favicon.ico is a file\n",
      "website\\images is a directory\n",
      "website\\index.html is a file\n"
     ]
    }
   ],
   "source": [
    "# Name of directory\n",
    "dir = 'website'\n",
    "# Iterate through all files in directory\n",
    "for name in os.listdir(dir):\n",
    "    # Join directories to each of file names\n",
    "    # and creates string with a valid full name\n",
    "    fullname = os.path.join(dir, name)\n",
    "    if os.path.isdir(fullname):\n",
    "        print(f'{fullname} is a directory')\n",
    "    else:\n",
    "        print(f'{fullname} is a file')"
   ]
  },
  {
   "cell_type": "markdown",
   "metadata": {},
   "source": [
    "This code is doing a bunch of interesting stuff but let's go through it step-by-step. First, we're defining a dir variable with the name of the directory that we want to check. This makes our code more readable and more usable. Then we're iterating through the file names returned by the os.listdir. We know from our previous execution of this function that these are just the names of the files without directory. So using os.path.join, we join the directory to each of those file names and create a String with a valid full name. Finally, we use that full name to call os.path.isdir to check if it's a directory or a file. Maybe you're wondering what's up with that join function? It seems to just add a slash between two strings. Well, the join function let's us be independent from the operating system again. \n",
    "\n",
    "In Linux and MacOS, the portions of a file are split using a forward slash (/). On Windows, they're split using a backslash (\\). By using the os.path.join function instead of explicitly adding a slash, we can make sure that our scripts work with all operating systems. It's another one of those handy little tools that help us avoid errors when working on different platforms. As we called out earlier, there's a lot of Functions to manage directories in Python and we only covered a handful here. We'll learn some others throughout the course as we need them. This stuff sure is a big complex. Great job sticking with it. Persistence and determination are key qualities for both IT jobs and learning the program and you're showing me that you've got both by the bucket load. The more comfortable you are with what you've learned so far, the easier it'll be to learn new stuff coming up. So take the time now, to review and practice everything before moving on."
   ]
  },
  {
   "cell_type": "markdown",
   "metadata": {},
   "source": [
    "## 4. Practice Quiz\n",
    "\n",
    "### 4.1\n",
    "\n",
    "The create_python_script function creates a new python script in the current working directory, adds the line of comments to it declared by the 'comments' variable, and returns the size of the new file. Fill in the gaps to create a script called \"program.py\"."
   ]
  },
  {
   "cell_type": "code",
   "execution_count": 11,
   "metadata": {},
   "outputs": [
    {
     "name": "stdout",
     "output_type": "stream",
     "text": [
      "31\n"
     ]
    }
   ],
   "source": [
    "def create_python_script(filename):\n",
    "  comments = \"# Start of a new Python program\"\n",
    "  filesize = 0\n",
    "  with open(filename, 'w') as file:\n",
    "    file.write(comments)\n",
    "  filesize = os.path.getsize(filename)\n",
    "  return filesize\n",
    "\n",
    "print(create_python_script(\"program.py\"))"
   ]
  },
  {
   "cell_type": "markdown",
   "metadata": {},
   "source": [
    "### 4.2\n",
    "\n",
    "The new_directory function creates a new directory inside the current working directory, then creates a new empty file inside the new directory, and returns the list of files in that directory. Fill in the gaps to create a file \"script.py\" in the directory \"PythonPrograms\"."
   ]
  },
  {
   "cell_type": "code",
   "execution_count": 12,
   "metadata": {},
   "outputs": [
    {
     "name": "stdout",
     "output_type": "stream",
     "text": [
      "['script.py']\n"
     ]
    }
   ],
   "source": [
    "import os\n",
    "\n",
    "def new_directory(directory, filename):\n",
    "  # Before creating a new directory, check to see if it already exists\n",
    "  if os.path.isdir(directory) == False:\n",
    "    os.mkdir(directory)\n",
    "\n",
    "  # Create the new file inside of the new directory\n",
    "  os.chdir(directory)\n",
    "  with open (filename, 'w') as file:\n",
    "    pass\n",
    "\n",
    "  # Return the list of files in the new directory\n",
    "  return os.listdir()\n",
    "\n",
    "print(new_directory(\"PythonPrograms\", \"script.py\"))"
   ]
  },
  {
   "cell_type": "markdown",
   "metadata": {},
   "source": [
    "### 4.3\n",
    "\n",
    "Which of the following methods from the os module will create a new directory?\n",
    "\n",
    "__mkdir__"
   ]
  },
  {
   "cell_type": "markdown",
   "metadata": {},
   "source": [
    "## 4.4\n",
    "\n",
    "The file_date function creates a new file in the current working directory, checks the date that the file was modified, and returns just the date portion of the timestamp in the format of yyyy-mm-dd. Fill in the gaps to create a file called \"newfile.txt\" and check the date that it was modified."
   ]
  },
  {
   "cell_type": "code",
   "execution_count": 14,
   "metadata": {},
   "outputs": [
    {
     "name": "stdout",
     "output_type": "stream",
     "text": [
      "2020-07-30\n"
     ]
    }
   ],
   "source": [
    "import os\n",
    "import datetime\n",
    "\n",
    "def file_date(filename):\n",
    "  # Create the file in the current directory\n",
    "  file = open(filename, 'w')\n",
    "  file.close()\n",
    "  timestamp = os.path.getmtime(filename)\n",
    "  # Convert the timestamp into a readable format, then into a string\n",
    "  datetime_object = datetime.datetime.fromtimestamp(timestamp).strftime(\"%Y-%m-%d\")\n",
    "  # Return just the date portion \n",
    "  # Hint: how many characters are in “yyyy-mm-dd”? \n",
    "  return datetime_object\n",
    "\n",
    "print(file_date(\"newfile.txt\")) \n",
    "# Should be today's date in the format of yyyy-mm-dd"
   ]
  },
  {
   "cell_type": "code",
   "execution_count": null,
   "metadata": {},
   "outputs": [],
   "source": []
  }
 ],
 "metadata": {
  "kernelspec": {
   "display_name": "Python 3",
   "language": "python",
   "name": "python3"
  },
  "language_info": {
   "codemirror_mode": {
    "name": "ipython",
    "version": 3
   },
   "file_extension": ".py",
   "mimetype": "text/x-python",
   "name": "python",
   "nbconvert_exporter": "python",
   "pygments_lexer": "ipython3",
   "version": "3.7.4"
  }
 },
 "nbformat": 4,
 "nbformat_minor": 2
}
