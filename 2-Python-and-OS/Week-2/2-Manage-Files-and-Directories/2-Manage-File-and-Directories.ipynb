{
 "cells": [
  {
   "cell_type": "markdown",
   "metadata": {},
   "source": [
    "# Managing Files and Directories\n",
    "\n",
    "## 1. Working With Files\n",
    "\n",
    "In earlier videos, we saw how we can read files, iterate through the contents of files, and also write contents of files. Those are the most common operations we'll do with files, but there's plenty of other things we might need to do when working with files in our scripts. We may need to delete, rename or move files, or we might need information about a file, like the time it was last modified or its current size. Let's explore some of the many things that we can do with files in Python. \n",
    "\n",
    "For these operations, we'll be using functions provided by the `OS` module. This module provides a layer of abstraction between Python and the operating system. It allows us to interact with the underlying system without us knowing whether we're working on a Windows, Mac, Linux, or any other operating system supported by Python. This means that you can write and test a script on one operating system like Windows and then run it on a different operating system like Linux. \n",
    "\n",
    "But one thing to watch out for, paths can be different across different operating systems. So whenever we're using an absolute path in our code, we need to make sure we can provide alternatives for the platforms we want to support. The OS module lets us do pretty much all the same tasks that we can normally do when working with files from the command line. We can change the file permissions and delete or rename files through our code. This means you can write scripts to do these operations for you automatically. I bet you're already thinking about how useful OS module is going to be in your IT role. \n",
    "\n",
    "### 1.1 Deleting Files\n",
    "\n",
    "To delete a file, we can use the, `remove` function from the OS module. Let's see this in action."
   ]
  },
  {
   "cell_type": "code",
   "execution_count": 2,
   "metadata": {},
   "outputs": [],
   "source": [
    "import os\n",
    "os.remove('novel.txt')"
   ]
  },
  {
   "cell_type": "markdown",
   "metadata": {},
   "source": [
    "So we first import the OS module. Then we call the remove function the OS module gives us and pass the string novel.txt which is the file we created earlier. The file has now been deleted. Let's see what happens if we try to remove it again."
   ]
  },
  {
   "cell_type": "code",
   "execution_count": 3,
   "metadata": {},
   "outputs": [
    {
     "ename": "FileNotFoundError",
     "evalue": "[WinError 2] The system cannot find the file specified: 'novel.txt'",
     "output_type": "error",
     "traceback": [
      "\u001b[1;31m---------------------------------------------------------------------------\u001b[0m",
      "\u001b[1;31mFileNotFoundError\u001b[0m                         Traceback (most recent call last)",
      "\u001b[1;32m<ipython-input-3-8fcb8b445fa3>\u001b[0m in \u001b[0;36m<module>\u001b[1;34m\u001b[0m\n\u001b[1;32m----> 1\u001b[1;33m \u001b[0mos\u001b[0m\u001b[1;33m.\u001b[0m\u001b[0mremove\u001b[0m\u001b[1;33m(\u001b[0m\u001b[1;34m'novel.txt'\u001b[0m\u001b[1;33m)\u001b[0m\u001b[1;33m\u001b[0m\u001b[1;33m\u001b[0m\u001b[0m\n\u001b[0m",
      "\u001b[1;31mFileNotFoundError\u001b[0m: [WinError 2] The system cannot find the file specified: 'novel.txt'"
     ]
    }
   ],
   "source": [
    "os.remove('novel.txt')"
   ]
  },
  {
   "cell_type": "markdown",
   "metadata": {},
   "source": [
    "### 1.2 Renaming Files\n",
    "\n",
    "We can easily `rename` a file with the rename function. The first parameter to rename function is the old name of the file and the second is new name. Let's check it out."
   ]
  },
  {
   "cell_type": "code",
   "execution_count": 5,
   "metadata": {},
   "outputs": [],
   "source": [
    "os.rename('first_draft.txt', 'finished_masterpiece.txt')"
   ]
  },
  {
   "cell_type": "markdown",
   "metadata": {},
   "source": [
    "### 1.3 Checking For File Existence\n",
    "\n",
    "If we tried to do this for a file that didn't exist, we'd get a file not found error again. So how do we check if the file exists or not? There's a sub-module inside the OS module for dealing with things related to file information like whether they exist or not. This is called the OS path sub-module. We can use that `exists` function in this module to check whether a file exist. Let's try this out with a couple of examples."
   ]
  },
  {
   "cell_type": "code",
   "execution_count": 6,
   "metadata": {},
   "outputs": [
    {
     "data": {
      "text/plain": [
       "True"
      ]
     },
     "execution_count": 6,
     "metadata": {},
     "output_type": "execute_result"
    }
   ],
   "source": [
    "os.path.exists('finished_masterpiece.txt')"
   ]
  },
  {
   "cell_type": "code",
   "execution_count": 7,
   "metadata": {},
   "outputs": [
    {
     "data": {
      "text/plain": [
       "False"
      ]
     },
     "execution_count": 7,
     "metadata": {},
     "output_type": "execute_result"
    }
   ],
   "source": [
    "os.path.exists('h8e4wfyu8h7iu.txt')"
   ]
  },
  {
   "cell_type": "markdown",
   "metadata": {},
   "source": [
    "In this example, the exists function returns a value of true telling us that the finished_masterpiece.txt exist but userlist.txt doesn't exist, so the function returns the value of false. The exists function is super useful. We can use it to check that a file exists before trying to read it or verify that it doesn't exist before trying to write it which helps us avoid losing any data. Python gives us some basic ways to interact with files stored on a computer"
   ]
  },
  {
   "cell_type": "markdown",
   "metadata": {},
   "source": [
    "## 2. More File Information\n",
    "\n",
    "### 2.1 File Size\n",
    "We saw earlier how to manipulate files with functions like OS.rename and OS.remove, and how to check whether the file exists using OS.path.exist. We can get a lot more info about our files using functions in OS.path module. For example, to check how big a file is, we can use the `getsize` function which returns the file size in _bytes_."
   ]
  },
  {
   "cell_type": "code",
   "execution_count": 9,
   "metadata": {},
   "outputs": [
    {
     "data": {
      "text/plain": [
       "1318"
      ]
     },
     "execution_count": 9,
     "metadata": {},
     "output_type": "execute_result"
    }
   ],
   "source": [
    "os.path.getsize('finished_masterpiece.txt')"
   ]
  },
  {
   "cell_type": "markdown",
   "metadata": {},
   "source": [
    "### 2.2 File Modified Time\n",
    "\n",
    "To check when the file was last modified, the `getmtime` function comes in really handy. Let's check out how this works."
   ]
  },
  {
   "cell_type": "code",
   "execution_count": 10,
   "metadata": {},
   "outputs": [
    {
     "data": {
      "text/plain": [
       "1596133887.002017"
      ]
     },
     "execution_count": 10,
     "metadata": {},
     "output_type": "execute_result"
    }
   ],
   "source": [
    "os.path.getmtime('finished_masterpiece.txt')"
   ]
  },
  {
   "cell_type": "markdown",
   "metadata": {},
   "source": [
    "What's that long number? It doesn't look like time, does it? That's because it's a timestamp. In this case specifically, it's a Unix timestamp. It represents the number of seconds since January 1st, 1970. Seems a bit random, but there's actually a really good reason behind this date. This was adopted years ago to store the times associated to files in computers. Since that's when they started publishing Unix operating systems, Unix uses that date because there couldn't be any file created before that time. While Unix timestamps have a 50-year history, they're still very much present today. They're used by file systems to show when a file was created, accessed, or modified. They are also used in other systems like databases. As an IT specialist, you're bound to run into them in your day to day. \n",
    "\n",
    "But despite all of that, the number is pretty hard to make sense of. We can use the **datetime** module to make it easier for us humans to read, like this."
   ]
  },
  {
   "cell_type": "code",
   "execution_count": 11,
   "metadata": {},
   "outputs": [
    {
     "data": {
      "text/plain": [
       "datetime.datetime(2020, 7, 30, 11, 31, 27, 2017)"
      ]
     },
     "execution_count": 11,
     "metadata": {},
     "output_type": "execute_result"
    }
   ],
   "source": [
    "import datetime\n",
    "timestamp = os.path.getmtime('finished_masterpiece.txt')\n",
    "datetime.datetime.fromtimestamp(timestamp)"
   ]
  },
  {
   "cell_type": "markdown",
   "metadata": {},
   "source": [
    "Here, we're using the fromtimestamp method of the datetime class inside the datetime module. It makes the date far easier for us to understand. Remember, the functions and the OS.path module take the info provided by the operating system so that we can use it in our scripts no matter what OS we're running. We can check a file size or last modification date without having to know the operating system the machines running or the type of file system that the file stored in. Nice, right? Another cool feature of the functions is that we can work with both relative and absolute paths. In our examples, we've been using the relative file names without having to specify their full paths. In some cases, we may need to specify exactly where the file is to work with it in our script. This is where the abspath function can help.\n",
    "\n",
    "### 2.3 File Paths\n",
    "\n",
    "Nice, right? Another cool feature of the functions is that we can work with both relative and absolute paths. In our examples, we've been using the relative file names without having to specify their full paths. In some cases, we may need to specify exactly where the file is to work with it in our script. This is where the `abspath` function can help."
   ]
  },
  {
   "cell_type": "code",
   "execution_count": 12,
   "metadata": {},
   "outputs": [
    {
     "data": {
      "text/plain": [
       "'C:\\\\Users\\\\BRIAN\\\\Documents\\\\Google-IT-Automation-with-Python\\\\2-Python-and-OS\\\\Week-2\\\\2-Manage-Files-and-Directories\\\\finished_masterpiece.txt'"
      ]
     },
     "execution_count": 12,
     "metadata": {},
     "output_type": "execute_result"
    }
   ],
   "source": [
    "os.path.abspath('finished_masterpiece.txt')"
   ]
  },
  {
   "cell_type": "markdown",
   "metadata": {},
   "source": [
    "The abspath function takes a filename and turns it into an absolute path. Python uses the current working directory which is where the script is being run to start looking for the file and construct the full path that identifies it. This is useful if you want to store at the file's full path or access a file no matter what the current directory is. \n",
    "\n",
    "There is a ton more functions in the OS and OSpath modules that let us work with files. But don't worry, you don't have to learn them all by heart. Whenever you need to do something with files, it's a good idea to check the documentation and research what functions are available to find the ones that you need."
   ]
  }
 ],
 "metadata": {
  "kernelspec": {
   "display_name": "Python 3",
   "language": "python",
   "name": "python3"
  },
  "language_info": {
   "codemirror_mode": {
    "name": "ipython",
    "version": 3
   },
   "file_extension": ".py",
   "mimetype": "text/x-python",
   "name": "python",
   "nbconvert_exporter": "python",
   "pygments_lexer": "ipython3",
   "version": "3.7.4"
  }
 },
 "nbformat": 4,
 "nbformat_minor": 2
}
