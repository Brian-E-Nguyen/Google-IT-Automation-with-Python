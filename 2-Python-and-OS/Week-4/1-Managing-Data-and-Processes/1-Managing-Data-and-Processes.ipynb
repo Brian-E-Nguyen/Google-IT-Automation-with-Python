{
 "cells": [
  {
   "cell_type": "markdown",
   "metadata": {},
   "source": [
    "# Managing Data and Processes\n",
    "\n",
    "Let's quickly review everything you've learned so far in the course. First, you install Python and set up your local environment, then we dove into how to manage files with Python, and finally, we started playing with regular expressions. In this module, we'll check out concepts that help us interact with the running operating system. We'll look at how we can get the most out of the tools available. \n",
    "\n",
    "We'll kick this off by talking about how to read user data interactively. Then we'll explore the standard input and output data streams provided by the operating system and see how we can interact with them both from Python programs and from the system programs. In a lot of our examples, we'll interact with the operating system through the command line. \n",
    "\n",
    "So we'll start familiarizing ourselves a bit more with the Linux shell. We'll also talk about how we can execute system commands from Python. This allows our scripts to harness the power of the rest of the operating system. So it's important that we know how to manipulate the output of these commands and handle any generated errors. We'll wrap up by diving into one important source of information for IT specialist, log files. We already got a peek at a few log files in some of our earlier videos. Now, we'll look at how we can make sense of information these log files provide by using the tools that we've learned throughout the course. So here's a bunch of interesting things ahead of us. Are you excited? Because I'm excited. So what are we waiting for? Let's dive in."
   ]
  },
  {
   "cell_type": "markdown",
   "metadata": {},
   "source": [
    "## 1. Reading Data \n",
    "\n",
    "We've talked before about reading and writing files. Using files to store information and then processing that data over a script is a great way to build automation. But sometimes we need to interact with the user and ask them for certain pieces of information that just can't be stored in a file. To do this Python provides a function called `input`. This function allows us to prompt the user for a certain value that we can then use for our scripts. Let's see what that looks like."
   ]
  },
  {
   "cell_type": "code",
   "execution_count": 1,
   "metadata": {},
   "outputs": [
    {
     "name": "stdout",
     "output_type": "stream",
     "text": [
      "Please enter your name: Spongeboy me bob\n",
      "Hello, Spongeboy me bob\n"
     ]
    }
   ],
   "source": [
    "# $ cat hello.py\n",
    "name = input('Please enter your name: ')\n",
    "print('Hello, ' + name)"
   ]
  },
  {
   "cell_type": "markdown",
   "metadata": {},
   "source": [
    "Hi computer, the input function always returns a string. If we want the data that we're reading to be a different data type like a number or a date, then we need to convert the string to a format that we want. Let's look at a different example."
   ]
  },
  {
   "cell_type": "code",
   "execution_count": 2,
   "metadata": {},
   "outputs": [
    {
     "name": "stdout",
     "output_type": "stream",
     "text": [
      "Welcome to this time converter\n",
      "Enter the number of hours: 30\n",
      "Enter the number of minutes: 3\n",
      "Enter the number of seconds: 1\n",
      "That's 108181 seconds\n",
      "\n",
      "Do you want to continue? [y to continue]n\n",
      "Goodbye!\n"
     ]
    }
   ],
   "source": [
    "def to_seconds(hours, minutes, seconds):\n",
    "    return hours * 3600 + minutes * 60 + seconds\n",
    "\n",
    "print('Welcome to this time converter')\n",
    "\n",
    "cont = 'y'\n",
    "while(cont.lower() == 'y'):\n",
    "    hours = int(input('Enter the number of hours: '))\n",
    "    minutes = int(input('Enter the number of minutes: '))\n",
    "    seconds = int(input('Enter the number of seconds: '))\n",
    "\n",
    "    print(\"That's {} seconds\".format(to_seconds(hours, minutes, seconds)))\n",
    "    print()\n",
    "    cont = input('Do you want to continue? [y to continue]')\n",
    "\n",
    "print('Goodbye!')"
   ]
  },
  {
   "cell_type": "markdown",
   "metadata": {},
   "source": [
    "## 2. Standard Streams\n",
    "\n",
    "We've now seen a couple ways of getting information into and out of our scripts. We know how to read and write to files and accept input from the keyword and print it to the screen, too. But what exactly is going on behind the scenes when we do this? How does a Python program connect to both the screen and the keyboard? \n",
    "\n",
    "Well, it uses I/O streams. **I/O streams** are the basic mechanism for performing input and output operations in your programs. You can think of these streams as pathways between your programs and their input sources like a keyboard, or output, like the screen. I/O streams aren't just available for Python programs. When we run a system command on our terminal, I/O streams are also being used to connect that command to the terminal input and output. This way, we can see the results of the command or enter data interactively if that's how the program works. \n",
    "\n",
    "We call these **streams** because the data keeps flowing. A program can read input and generate output as long as it needs to achieve its goal. \n",
    "\n",
    "Okay, what do these streams mean in practice? Most operating systems supply three different I/O streams by default each with a different purpose. \n",
    "\n",
    "The standard input stream commonly referred to as `STDIN` is a channel between a program and a source of input. Usually in the form of text data from the keyboard. When we use the input function to accept user input in a Python script we're using the STDIN stream. \n",
    "\n",
    "The standard output stream or `STDOUT` is a pathway between a program and a target of output, like a display. `STDOUT` generally takes the form of text displayed in a terminal. As that play when we use the print function to write information to the screen. \n",
    "\n",
    "The last type of pre-made I/O stream is called standard error, or `STDERR`. Standard error displays output like standard out, but is used specifically as a channel to show error messages and diagnostics from the program. It's usually printed to the screen. If you've ever run some Python code and receive an error, then that error message was probably printed using standard error stream. Let's see this consolidated in an example."
   ]
  },
  {
   "cell_type": "markdown",
   "metadata": {},
   "source": [
    "Our script here has three lines, each line is interacting with different stream. In the first one, we read from standard input, in the second one, we write to standard output. In the last one, we generate an error by concatenating a string to an integer. This error will be printed to standard error"
   ]
  },
  {
   "cell_type": "code",
   "execution_count": 3,
   "metadata": {},
   "outputs": [
    {
     "name": "stdout",
     "output_type": "stream",
     "text": [
      "This will come from STDIN: Python ROCKS!!!\n",
      "Now we write it to STDOUT: Python ROCKS!!!\n"
     ]
    },
    {
     "ename": "TypeError",
     "evalue": "can only concatenate str (not \"int\") to str",
     "output_type": "error",
     "traceback": [
      "\u001b[1;31m---------------------------------------------------------------------------\u001b[0m",
      "\u001b[1;31mTypeError\u001b[0m                                 Traceback (most recent call last)",
      "\u001b[1;32m<ipython-input-3-a90e9d00ec5c>\u001b[0m in \u001b[0;36m<module>\u001b[1;34m\u001b[0m\n\u001b[0;32m      1\u001b[0m \u001b[0mdata\u001b[0m \u001b[1;33m=\u001b[0m \u001b[0minput\u001b[0m\u001b[1;33m(\u001b[0m\u001b[1;34m'This will come from STDIN: '\u001b[0m\u001b[1;33m)\u001b[0m\u001b[1;33m\u001b[0m\u001b[1;33m\u001b[0m\u001b[0m\n\u001b[0;32m      2\u001b[0m \u001b[0mprint\u001b[0m\u001b[1;33m(\u001b[0m\u001b[1;34m'Now we write it to STDOUT: '\u001b[0m \u001b[1;33m+\u001b[0m \u001b[0mdata\u001b[0m\u001b[1;33m)\u001b[0m\u001b[1;33m\u001b[0m\u001b[1;33m\u001b[0m\u001b[0m\n\u001b[1;32m----> 3\u001b[1;33m \u001b[0mprint\u001b[0m\u001b[1;33m(\u001b[0m\u001b[1;34m'Now we generate an error to STDERR: '\u001b[0m \u001b[1;33m+\u001b[0m \u001b[0mdata\u001b[0m \u001b[1;33m+\u001b[0m \u001b[1;36m1\u001b[0m\u001b[1;33m)\u001b[0m\u001b[1;33m\u001b[0m\u001b[1;33m\u001b[0m\u001b[0m\n\u001b[0m",
      "\u001b[1;31mTypeError\u001b[0m: can only concatenate str (not \"int\") to str"
     ]
    }
   ],
   "source": [
    "data = input('This will come from STDIN: ')\n",
    "print('Now we write it to STDOUT: ' + data)\n",
    "print('Now we generate an error to STDERR: ' + data + 1)"
   ]
  },
  {
   "cell_type": "markdown",
   "metadata": {},
   "source": [
    "So we first read some data through standard input and then printed it through standard output. Python then printed a type error because we tried to do something weird. As we called out earlier, these I/O streams aren't restricted to just Python programs. For example, we've been using the cat system command to display the contents of a file. When we do that, those contents are printed to the terminal using standard output like this.\n",
    "\n",
    "```\n",
    "$ cat greeting.txt\n",
    "Well hello there, STDOUT\n",
    "```\n",
    "And when one of these commands generates an error, that error is displayed to standard error. For example, if we use an unsupported flag with the ls system command, which normally shows the content of directories, we get this error.\n",
    "\n",
    "```\n",
    "$ ls -z\n",
    "ls: unknown option -- z\n",
    "Try 'ls --help' for more information.\n",
    "```\n",
    "\n",
    "I know, it looks like standard output and standard error are the same here. That's because they both get displayed to the screen but they're actually pretty different. We'll look at exactly how they're different later in the course. I'll keep you in suspense for now. We'll keep coming across these streams in our Python programs. So you start to become more familiar with them and later on in the course, we'll even learn how we can redirect them to other files and other processes. The key takeaway for you to remember at this point is that I/O streams are ways for programs to get and receive information."
   ]
  },
  {
   "cell_type": "markdown",
   "metadata": {},
   "source": [
    "## 3. Environment Variables\n",
    "\n",
    "When we open a terminal application on a Linux computer, whether it's local or a remote machine, the application that reads and executes all commands is called a shell. \n",
    "\n",
    "A **shell** is a command line interface used to interact with your operating system. The most commonly used shell on Linux is called Bash. Other popular shells are Zsh and Fish, while they operate in similar ways, for this and upcoming videos, when we talk about the Linux shell, we mean Bash. \n",
    "\n",
    "Our Python programs get executed inside a shell command-line environment. The variable set in that environment which are called you guessed it environment variables are another source of information that we can use in our scripts. Understanding and being able to change environment variables can be really useful to quickly alter a program's behavior. Usually, we can do this by just making some minor changes in the environment the programs are running in. From a command line prompt, we can check these variables using the `env` or `nth` command. Let's take a look.\n",
    "\n",
    "```\n",
    "$ env\n",
    "\n",
    "USERDOMAIN=DESKTOP-7BSD73I\n",
    "OS=Windows_NT\n",
    "COMMONPROGRAMFILES=C:\\Program Files\\Common Files\n",
    "OculusBase=C:\\Program Files\\Oculus\\\n",
    "PROCESSOR_LEVEL=6\n",
    "...\n",
    "```\n",
    "\n",
    "Wow, that's a lot of different variables, but what are they for? It all depends on the variable itself. Some are more important than others. For example, the `path` variable is a very important one. Let's print out the contents of just that one using the `echo` command.\n",
    "\n",
    "```\n",
    "/c/Users/BRIAN/bin:/mingw64/bin:/usr/local/bin: ...\n",
    "```\n",
    "\n",
    "As a refresher, Echo is a command that we use to print texts and Linux shell, and when we want to access the value of the variable in the shell, we need a prefix and name of the variable with a dollar sign. Here, we've printed the contents of the path variable. The shell uses this environment variable to figure out where to look for executable files, and we call them while specifying a directory. All those directories listed there are where the shell will look for programs. For example, when we call the Python 3 program, the shell checks each of the directories listed in the path variable in order, and when it finds a program called Python 3, it executes it. So as we said, we can read the contents of these variables from Python. Let's use a Python script to check that out.\n",
    "\n",
    "```python\n",
    "import os\n",
    "\n",
    "print('HOME: ' + os.environ.get('HOME', ''))\n",
    "print('SHELL: ' + os.environ.get('SHELL', ''))\n",
    "print('FRUIT: ' + os.environ.get('FRUIT', ''))\n",
    "```\n",
    "\n",
    "So to access environment variables, we use the Environ dictionary provided by the OS module. In this case, we're using a dictionary method that we haven't used before. The `get` Method is a bit similar to how we've been accessing dictionary values up until now. The difference is what happens when the value isn't present. When we retrieve a value from a dictionary using the key as in OS.environ[fruit] and the key isn't present, we get an error. If we use a `get` Method instead, we can specify what value should be returned if the key isn't present. In other words, the getMethod allows us to specify a default value when the key that we're looking for isn't in the dictionary. So what we're asking Python to do is try to retrieve the value associated with the key, but if the key's not defined return an empty string instead. We're doing this for three different variables; home, shell, and fruit. Let's run the script and see what happens.\n",
    "\n",
    "```\n",
    "HOME: C:\\Users\\BRIAN\n",
    "SHELL: C:\\Program Files (x86)\\Git\\usr\\bin\\bash.exe\n",
    "FRUIT:\n",
    "```\n",
    "\n",
    "We got the values for home and shell, but not for fruit. Well, that's because that variable isn't defined in the current environment. To define it in a way that our script we'll be able to see it, we need to run this in our command-line.\n",
    "\n",
    "```\n",
    "$ export FRUIT=Pineapple\n",
    "```\n",
    "\n",
    "So we define the variable by just setting a value using the equal sign and leaving no spaces in between. Along with this, the export keyword tells a shell that we want the value we set to be seen by any commands that we call. Now, let's call our script again.\n",
    "\n",
    "```\n",
    "$ python variables.py\n",
    "HOME: C:\\Users\\BRIAN\n",
    "SHELL: C:\\Program Files (x86)\\Git\\usr\\bin\\bash.exe\n",
    "FRUIT: Pineapple\n",
    "```"
   ]
  },
  {
   "cell_type": "markdown",
   "metadata": {},
   "source": [
    "## 4. Command-Line Arguments and Exit Status\n",
    "\n",
    "Up to now. We've seen how different programs can read from and write to standard IO streams and how the show environment can influence execution of a program. Yet another common way of providing information to our programs is through **command line arguments**. These are parameters that are passed to a program when it started. \n",
    "\n",
    "It's a super common practice to make our scripts receive certain values by command line arguments. It allows a code of the script to be generic while also letting us run it automatically without requiring any interactive user input. This means that these arguments are really useful for system administration tasks. That's because we can specify the information that we want our program to use before it even starts. This lets us create more and more automation and you can't argue with that. \n",
    "\n",
    "Anyway, we can access these values using the `argv` in the `sys` module. Let's check this out by executing a very simple script that just prints this value."
   ]
  },
  {
   "cell_type": "markdown",
   "metadata": {},
   "source": [
    "```python\n",
    "import sys\n",
    "print(sys.argv)\n",
    "```\n",
    "\n",
    "```\n",
    "['parameters.py']\n",
    "```\n",
    "\n",
    "In this case, we called the script without any parameters. The list contains one single element. The name of the program that we just executed. Let's try passing a few parameters.\n",
    "\n",
    "```\n",
    "$ python parameters.py one two three\n",
    "['parameters.py', 'one', 'two', 'three']\n",
    "```\n",
    "\n",
    "Now, we see that each of the parameters that we pass is included as a separate element in the list and last up we have the concept of exit status or return code, which provides another source of information between the shell and the programs that get executed inside of it. \n",
    "\n",
    "The **exit status** is a value returned by a program to the shell. In all Unix-like operating systems, the exit status of the process is zero when the process succeeds and different than zero if it fails. The actual number returned gives additional info on what kind of error the program encountered. Knowing if a command finish successfully or not is helpful information which can be used by a program that's calling a command. \n",
    "\n",
    "For example, it can use the information to retry the command. If it failed. To check the exit status of a program, we can use a special variable that lets us see what the exit status of the last executed command was. The variable is the question mark variable. So to see the contents we use dollar sign question mark `$?`. \n",
    "\n",
    "Let's try this out using the `WC` command, which counts the number of lines words and characters in a file. First, we'll pass it our variables up Py Script and check the exit value.\n",
    "\n",
    "```\n",
    "$ wc variables.py\n",
    "  4  17 153 variables.py\n",
    "  \n",
    "$ echo $?\n",
    "0\n",
    "\n",
    "```\n",
    "\n",
    "So here we first ran the WC command and it printed the values of lines, words and characters for our Python script. Then we printed the contents dollar sign question mark variable, and we can see that the exit value was zero. That's because WC ran successfully.\n",
    "\n",
    "```\n",
    "$ wc nonexistent.py\n",
    "wc: nonexistent.py: No such file or directory\n",
    "\n",
    "$ echo $?\n",
    "1\n",
    "```\n",
    "\n",
    "Here WC couldn't run for the file that we pass because it doesn't exist. The command printed an error and when printing the contents of the dollar sign question mark variable, we see that it finished with an exit value of one. So that's with system commands, but what about Python scripts? When a Python script finishes successfully, it exits with an exit value of zero. When it finishes with an error like type error or value error, it exits with a different value than zero. We can make it exit with whatever value is relevant. Let's check out an example of this.\n",
    "\n",
    "```python\n",
    "import os\n",
    "import sys\n",
    "\n",
    "filename = sys.argv[1]\n",
    "\n",
    "if not os.path.exists(filename):\n",
    "    with open(filename, 'w') as file:\n",
    "        file.write('New file created\\n')\n",
    "else:\n",
    "    print(f'Error, the file {filename} already exists')\n",
    "    sys.exit(1)\n",
    "```\n",
    "\n",
    "This script receives a file name as a command line argument. It first checks whether the file name exist or not. When the file doesn't exist, it creates it by writing a line to it. When the file exist, our script print an error message and exits with an exit value of one. To try this out let's first execute the script and pass a file that doesn't exist.\n",
    "\n",
    "```\n",
    "$ python create_file.py example\n",
    "\n",
    "$ echo $?\n",
    "0\n",
    "```\n",
    "\n",
    "Nice looks like that was successful. Check out how it exited with the exit code zero even though we didn't specify this in the code. That's because that's the default behavior. Let's look at the contents of the file to make sure it's got what it should.\n",
    "\n",
    "```\n",
    "$ cat example\n",
    "New file created\n",
    "```\n",
    "\n",
    "Okay and what do you think will happen if we now run the command again?\n",
    "\n",
    "```\n",
    "$ python create_file.py example\n",
    "Error, the file example already exists\n",
    "\n",
    "$ echo $?\n",
    "1\n",
    "```\n",
    "\n",
    "You guessed it. We get an error because the file already exists and so we get an exit code of one. \n",
    "\n",
    "So we've now seen how we can pass command line arguments to our Python programs and how we can make our programs tell us whether they've finished successfully or not. These are both important tools that we'll use when creating automation. We'll use command line parameters to tell our programs what we want them to do without having to interact with them and we'll use exit values to know if our command succeeded or failed and then log failures and automatically retry the commands if we need to. Well, we've definitely learned a lot over these last few videos. Chances are it got a little tricky at some points but you're doing an awesome job not letting these complex concepts stop you."
   ]
  },
  {
   "cell_type": "markdown",
   "metadata": {},
   "source": []
  },
  {
   "cell_type": "code",
   "execution_count": null,
   "metadata": {},
   "outputs": [],
   "source": []
  }
 ],
 "metadata": {
  "kernelspec": {
   "display_name": "Python 3",
   "language": "python",
   "name": "python3"
  },
  "language_info": {
   "codemirror_mode": {
    "name": "ipython",
    "version": 3
   },
   "file_extension": ".py",
   "mimetype": "text/x-python",
   "name": "python",
   "nbconvert_exporter": "python",
   "pygments_lexer": "ipython3",
   "version": "3.7.4"
  }
 },
 "nbformat": 4,
 "nbformat_minor": 2
}
