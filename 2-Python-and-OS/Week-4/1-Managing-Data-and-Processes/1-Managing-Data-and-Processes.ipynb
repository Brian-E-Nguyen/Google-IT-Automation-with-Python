{
 "cells": [
  {
   "cell_type": "markdown",
   "metadata": {},
   "source": [
    "# Managing Data and Processes\n",
    "\n",
    "Let's quickly review everything you've learned so far in the course. First, you install Python and set up your local environment, then we dove into how to manage files with Python, and finally, we started playing with regular expressions. In this module, we'll check out concepts that help us interact with the running operating system. We'll look at how we can get the most out of the tools available. \n",
    "\n",
    "We'll kick this off by talking about how to read user data interactively. Then we'll explore the standard input and output data streams provided by the operating system and see how we can interact with them both from Python programs and from the system programs. In a lot of our examples, we'll interact with the operating system through the command line. \n",
    "\n",
    "So we'll start familiarizing ourselves a bit more with the Linux shell. We'll also talk about how we can execute system commands from Python. This allows our scripts to harness the power of the rest of the operating system. So it's important that we know how to manipulate the output of these commands and handle any generated errors. We'll wrap up by diving into one important source of information for IT specialist, log files. We already got a peek at a few log files in some of our earlier videos. Now, we'll look at how we can make sense of information these log files provide by using the tools that we've learned throughout the course. So here's a bunch of interesting things ahead of us. Are you excited? Because I'm excited. So what are we waiting for? Let's dive in."
   ]
  },
  {
   "cell_type": "markdown",
   "metadata": {},
   "source": [
    "## 1. Reading Data \n",
    "\n",
    "We've talked before about reading and writing files. Using files to store information and then processing that data over a script is a great way to build automation. But sometimes we need to interact with the user and ask them for certain pieces of information that just can't be stored in a file. To do this Python provides a function called `input`. This function allows us to prompt the user for a certain value that we can then use for our scripts. Let's see what that looks like."
   ]
  },
  {
   "cell_type": "code",
   "execution_count": 1,
   "metadata": {},
   "outputs": [
    {
     "name": "stdout",
     "output_type": "stream",
     "text": [
      "Please enter your name: Spongeboy me bob\n",
      "Hello, Spongeboy me bob\n"
     ]
    }
   ],
   "source": [
    "# $ cat hello.py\n",
    "name = input('Please enter your name: ')\n",
    "print('Hello, ' + name)"
   ]
  },
  {
   "cell_type": "markdown",
   "metadata": {},
   "source": [
    "Hi computer, the input function always returns a string. If we want the data that we're reading to be a different data type like a number or a date, then we need to convert the string to a format that we want. Let's look at a different example."
   ]
  },
  {
   "cell_type": "code",
   "execution_count": 2,
   "metadata": {},
   "outputs": [
    {
     "name": "stdout",
     "output_type": "stream",
     "text": [
      "Welcome to this time converter\n",
      "Enter the number of hours: 30\n",
      "Enter the number of minutes: 3\n",
      "Enter the number of seconds: 1\n",
      "That's 108181 seconds\n",
      "\n",
      "Do you want to continue? [y to continue]n\n",
      "Goodbye!\n"
     ]
    }
   ],
   "source": [
    "def to_seconds(hours, minutes, seconds):\n",
    "    return hours * 3600 + minutes * 60 + seconds\n",
    "\n",
    "print('Welcome to this time converter')\n",
    "\n",
    "cont = 'y'\n",
    "while(cont.lower() == 'y'):\n",
    "    hours = int(input('Enter the number of hours: '))\n",
    "    minutes = int(input('Enter the number of minutes: '))\n",
    "    seconds = int(input('Enter the number of seconds: '))\n",
    "\n",
    "    print(\"That's {} seconds\".format(to_seconds(hours, minutes, seconds)))\n",
    "    print()\n",
    "    cont = input('Do you want to continue? [y to continue]')\n",
    "\n",
    "print('Goodbye!')"
   ]
  },
  {
   "cell_type": "code",
   "execution_count": null,
   "metadata": {},
   "outputs": [],
   "source": []
  }
 ],
 "metadata": {
  "kernelspec": {
   "display_name": "Python 3",
   "language": "python",
   "name": "python3"
  },
  "language_info": {
   "codemirror_mode": {
    "name": "ipython",
    "version": 3
   },
   "file_extension": ".py",
   "mimetype": "text/x-python",
   "name": "python",
   "nbconvert_exporter": "python",
   "pygments_lexer": "ipython3",
   "version": "3.7.4"
  }
 },
 "nbformat": 4,
 "nbformat_minor": 2
}
