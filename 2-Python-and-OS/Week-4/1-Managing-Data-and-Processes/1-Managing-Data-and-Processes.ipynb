{
 "cells": [
  {
   "cell_type": "markdown",
   "metadata": {},
   "source": [
    "# Managing Data and Processes\n",
    "\n",
    "Let's quickly review everything you've learned so far in the course. First, you install Python and set up your local environment, then we dove into how to manage files with Python, and finally, we started playing with regular expressions. In this module, we'll check out concepts that help us interact with the running operating system. We'll look at how we can get the most out of the tools available. \n",
    "\n",
    "We'll kick this off by talking about how to read user data interactively. Then we'll explore the standard input and output data streams provided by the operating system and see how we can interact with them both from Python programs and from the system programs. In a lot of our examples, we'll interact with the operating system through the command line. \n",
    "\n",
    "So we'll start familiarizing ourselves a bit more with the Linux shell. We'll also talk about how we can execute system commands from Python. This allows our scripts to harness the power of the rest of the operating system. So it's important that we know how to manipulate the output of these commands and handle any generated errors. We'll wrap up by diving into one important source of information for IT specialist, log files. We already got a peek at a few log files in some of our earlier videos. Now, we'll look at how we can make sense of information these log files provide by using the tools that we've learned throughout the course. So here's a bunch of interesting things ahead of us. Are you excited? Because I'm excited. So what are we waiting for? Let's dive in."
   ]
  },
  {
   "cell_type": "markdown",
   "metadata": {},
   "source": [
    "## 1. Reading Data \n",
    "\n",
    "We've talked before about reading and writing files. Using files to store information and then processing that data over a script is a great way to build automation. But sometimes we need to interact with the user and ask them for certain pieces of information that just can't be stored in a file. To do this Python provides a function called `input`. This function allows us to prompt the user for a certain value that we can then use for our scripts. Let's see what that looks like."
   ]
  },
  {
   "cell_type": "code",
   "execution_count": 1,
   "metadata": {},
   "outputs": [
    {
     "name": "stdout",
     "output_type": "stream",
     "text": [
      "Please enter your name: Spongeboy me bob\n",
      "Hello, Spongeboy me bob\n"
     ]
    }
   ],
   "source": [
    "# $ cat hello.py\n",
    "name = input('Please enter your name: ')\n",
    "print('Hello, ' + name)"
   ]
  },
  {
   "cell_type": "markdown",
   "metadata": {},
   "source": [
    "Hi computer, the input function always returns a string. If we want the data that we're reading to be a different data type like a number or a date, then we need to convert the string to a format that we want. Let's look at a different example."
   ]
  },
  {
   "cell_type": "code",
   "execution_count": 2,
   "metadata": {},
   "outputs": [
    {
     "name": "stdout",
     "output_type": "stream",
     "text": [
      "Welcome to this time converter\n",
      "Enter the number of hours: 30\n",
      "Enter the number of minutes: 3\n",
      "Enter the number of seconds: 1\n",
      "That's 108181 seconds\n",
      "\n",
      "Do you want to continue? [y to continue]n\n",
      "Goodbye!\n"
     ]
    }
   ],
   "source": [
    "def to_seconds(hours, minutes, seconds):\n",
    "    return hours * 3600 + minutes * 60 + seconds\n",
    "\n",
    "print('Welcome to this time converter')\n",
    "\n",
    "cont = 'y'\n",
    "while(cont.lower() == 'y'):\n",
    "    hours = int(input('Enter the number of hours: '))\n",
    "    minutes = int(input('Enter the number of minutes: '))\n",
    "    seconds = int(input('Enter the number of seconds: '))\n",
    "\n",
    "    print(\"That's {} seconds\".format(to_seconds(hours, minutes, seconds)))\n",
    "    print()\n",
    "    cont = input('Do you want to continue? [y to continue]')\n",
    "\n",
    "print('Goodbye!')"
   ]
  },
  {
   "cell_type": "markdown",
   "metadata": {},
   "source": [
    "## 2. Standard Streams\n",
    "\n",
    "We've now seen a couple ways of getting information into and out of our scripts. We know how to read and write to files and accept input from the keyword and print it to the screen, too. But what exactly is going on behind the scenes when we do this? How does a Python program connect to both the screen and the keyboard? \n",
    "\n",
    "Well, it uses I/O streams. **I/O streams** are the basic mechanism for performing input and output operations in your programs. You can think of these streams as pathways between your programs and their input sources like a keyboard, or output, like the screen. I/O streams aren't just available for Python programs. When we run a system command on our terminal, I/O streams are also being used to connect that command to the terminal input and output. This way, we can see the results of the command or enter data interactively if that's how the program works. \n",
    "\n",
    "We call these **streams** because the data keeps flowing. A program can read input and generate output as long as it needs to achieve its goal. \n",
    "\n",
    "Okay, what do these streams mean in practice? Most operating systems supply three different I/O streams by default each with a different purpose. \n",
    "\n",
    "The standard input stream commonly referred to as `STDIN` is a channel between a program and a source of input. Usually in the form of text data from the keyboard. When we use the input function to accept user input in a Python script we're using the STDIN stream. \n",
    "\n",
    "The standard output stream or `STDOUT` is a pathway between a program and a target of output, like a display. `STDOUT` generally takes the form of text displayed in a terminal. As that play when we use the print function to write information to the screen. \n",
    "\n",
    "The last type of pre-made I/O stream is called standard error, or `STDERR`. Standard error displays output like standard out, but is used specifically as a channel to show error messages and diagnostics from the program. It's usually printed to the screen. If you've ever run some Python code and receive an error, then that error message was probably printed using standard error stream. Let's see this consolidated in an example."
   ]
  },
  {
   "cell_type": "markdown",
   "metadata": {},
   "source": [
    "Our script here has three lines, each line is interacting with different stream. In the first one, we read from standard input, in the second one, we write to standard output. In the last one, we generate an error by concatenating a string to an integer. This error will be printed to standard error"
   ]
  },
  {
   "cell_type": "code",
   "execution_count": 3,
   "metadata": {},
   "outputs": [
    {
     "name": "stdout",
     "output_type": "stream",
     "text": [
      "This will come from STDIN: Python ROCKS!!!\n",
      "Now we write it to STDOUT: Python ROCKS!!!\n"
     ]
    },
    {
     "ename": "TypeError",
     "evalue": "can only concatenate str (not \"int\") to str",
     "output_type": "error",
     "traceback": [
      "\u001b[1;31m---------------------------------------------------------------------------\u001b[0m",
      "\u001b[1;31mTypeError\u001b[0m                                 Traceback (most recent call last)",
      "\u001b[1;32m<ipython-input-3-a90e9d00ec5c>\u001b[0m in \u001b[0;36m<module>\u001b[1;34m\u001b[0m\n\u001b[0;32m      1\u001b[0m \u001b[0mdata\u001b[0m \u001b[1;33m=\u001b[0m \u001b[0minput\u001b[0m\u001b[1;33m(\u001b[0m\u001b[1;34m'This will come from STDIN: '\u001b[0m\u001b[1;33m)\u001b[0m\u001b[1;33m\u001b[0m\u001b[1;33m\u001b[0m\u001b[0m\n\u001b[0;32m      2\u001b[0m \u001b[0mprint\u001b[0m\u001b[1;33m(\u001b[0m\u001b[1;34m'Now we write it to STDOUT: '\u001b[0m \u001b[1;33m+\u001b[0m \u001b[0mdata\u001b[0m\u001b[1;33m)\u001b[0m\u001b[1;33m\u001b[0m\u001b[1;33m\u001b[0m\u001b[0m\n\u001b[1;32m----> 3\u001b[1;33m \u001b[0mprint\u001b[0m\u001b[1;33m(\u001b[0m\u001b[1;34m'Now we generate an error to STDERR: '\u001b[0m \u001b[1;33m+\u001b[0m \u001b[0mdata\u001b[0m \u001b[1;33m+\u001b[0m \u001b[1;36m1\u001b[0m\u001b[1;33m)\u001b[0m\u001b[1;33m\u001b[0m\u001b[1;33m\u001b[0m\u001b[0m\n\u001b[0m",
      "\u001b[1;31mTypeError\u001b[0m: can only concatenate str (not \"int\") to str"
     ]
    }
   ],
   "source": [
    "data = input('This will come from STDIN: ')\n",
    "print('Now we write it to STDOUT: ' + data)\n",
    "print('Now we generate an error to STDERR: ' + data + 1)"
   ]
  },
  {
   "cell_type": "markdown",
   "metadata": {},
   "source": [
    "So we first read some data through standard input and then printed it through standard output. Python then printed a type error because we tried to do something weird. As we called out earlier, these I/O streams aren't restricted to just Python programs. For example, we've been using the cat system command to display the contents of a file. When we do that, those contents are printed to the terminal using standard output like this.\n",
    "\n",
    "```\n",
    "$ cat greeting.txt\n",
    "Well hello there, STDOUT\n",
    "```\n",
    "And when one of these commands generates an error, that error is displayed to standard error. For example, if we use an unsupported flag with the ls system command, which normally shows the content of directories, we get this error.\n",
    "\n",
    "```\n",
    "$ ls -z\n",
    "ls: unknown option -- z\n",
    "Try 'ls --help' for more information.\n",
    "```\n",
    "\n",
    "I know, it looks like standard output and standard error are the same here. That's because they both get displayed to the screen but they're actually pretty different. We'll look at exactly how they're different later in the course. I'll keep you in suspense for now. We'll keep coming across these streams in our Python programs. So you start to become more familiar with them and later on in the course, we'll even learn how we can redirect them to other files and other processes. The key takeaway for you to remember at this point is that I/O streams are ways for programs to get and receive information."
   ]
  }
 ],
 "metadata": {
  "kernelspec": {
   "display_name": "Python 3",
   "language": "python",
   "name": "python3"
  },
  "language_info": {
   "codemirror_mode": {
    "name": "ipython",
    "version": 3
   },
   "file_extension": ".py",
   "mimetype": "text/x-python",
   "name": "python",
   "nbconvert_exporter": "python",
   "pygments_lexer": "ipython3",
   "version": "3.7.4"
  }
 },
 "nbformat": 4,
 "nbformat_minor": 2
}
