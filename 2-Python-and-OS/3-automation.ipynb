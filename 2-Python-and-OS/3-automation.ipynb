{
 "cells": [
  {
   "cell_type": "markdown",
   "metadata": {},
   "source": [
    "# Automation With Python\n",
    "\n",
    "## 1. Benefits With Automation\n",
    "\n",
    "In the introduction of the Python course, we talked about the benefits of automation for a bunch of activities like doing repetitive tasks, analyzing text, generating reports, and a lot more. In this course, we'll build on these concepts by applying automation to more and more tasks. As an IT specialist, thoughtfully applied automation can play an important role in your work.\n",
    "\n",
    "Look at automation like an IT force multiplier, a tool that can increase the effectiveness of an IT team without needing to increase the number of team members. In other words, automation can allow the IT infrastructure to scale, keeping pace with growth and demand. __Scalability__ means that when more work is added to a system, the system can do whatever it needs to complete the work.\n",
    "\n",
    "For example, think about the impact on IT when a company hires a new employee. New employees might have to access a range of technology resources do their job. Onboarding task can include creating a user account, a mailbox, and a home folder, and setting up the appropriate permissions to control access to various systems and resources. If the company doesn't hire a lot of employees over a given period, someone could manually do these tasks each time a new person is brought on board. \n",
    "\n",
    "Although I'm willing to bet that that will get tedious real fast. But as the number of new employees increases, so does the time it takes to set them all up in the system. If a company hires 10 times its usual number of new employees in a week, the IT person in charge may find themselves performing nothing but a new employee account setup and going crazy at the same time. They would probably have to put a bunch of other projects on hold until they've set up all the accounts. \n",
    "\n",
    "As a human, they may also make some mistakes during the provisioning process, like misspelling a name, forgetting a step, or giving a user count the wrong permissions. They then have to fix these mistakes, which means even more work, yikes. \n",
    "\n",
    "Now, imagine if the company continues to hire at this pace, they might need to assign another IT specialist to pick up the work that's being neglected because of all the new accounts to setup or there might be so much to do that two IT specialists might need to be assigned to the account setup. Basically, this doesn't scale well in terms of financial resources, mental investment, or reliability, especially if the company continues to grow. What happens if the rate of new hires doubles, triples, or grows even larger? Throwing more people at the problem quickly becomes impractical. \n",
    "\n",
    "Okay. So assuming that we're all on the same page about how manual onboarding has its issues, let's think about how we can improve the process with automation. Well, instead of having one person interact with each separate system to create a new user account, a mailbox, shared folder, and permissions, it'd be more efficient if the IT specialist could write a script to all of this. We could then have a computer do these tasks each time a new employee is hired. When given initial information, like the new employee's name and job function, this script could carry out each step automatically. So humans would only need to intervene if a task failed for some reason. The computer would execute each step in the script and in the given order in exactly the same way. It would never need to deviate from these instructions. \n",
    "\n",
    "We can even improve the script further. Instead of having the IT specialist enter a new employees information into the script each time it's run, the script could just read the data from a company's human resources system. That will make the entire workflow begin automatically on the employees start date. \n",
    "\n",
    "In this example of automation, we've made a repetitive time-consuming task faster and more reliable. We've also freed up human resources allowing IT specialist to focus on more strategic or creative work. \n",
    "\n",
    "Another subtle but super helpful benefit of automation is centralizing mistakes, which means if you find an error in a script, you can fix the error once and for all, which isn't the case for mistakes made by humans, of course. \n",
    "\n",
    "Hopefully, you're now even more sold on the benefits of automation than you already were. But as we've said before, automation is not a fix-all. If badly executed, automation can cause as many problems as it can solve. To avoid that, we need to know how it can go wrong. So next, let's check out some ways automation can fail.\n",
    "\n",
    "## 2. Pitfalls of Automation\n",
    "\n",
    "Hands down, automation makes our lives a lot easier. But despite its many benefits when automation is implemented without baffle design, it can cause some serious problems. Let's take a look at some ways that automation can fail and what we can do to avoid them. \n",
    "\n",
    "Any task or process we automate comes with a trade-off. *Is the time and effort it'll take to write the script worth the potential automation benefits?* A simple heuristic that can help us decide is to estimate how long it takes us to do a certain task. And then multiply that by how many times we perform that task in a given time window. If we estimate that it would take less time to automate the tasks than it would to do it manually, chances are, it's a good candidate for automation. So, the time to write the automation is less than time to perform the task multiply by the amount of times you do it, then automate the task. \n",
    "\n",
    "`[time_to_automate < (time_to_perform * amount_of_times_done)]`\n",
    "\n",
    "Let's check out real world example, say you generate a daily report on your systems usage and it takes you five minutes a day to do it. If automating this test takes you one hour, then in 12 days, you've already saved the 60 minutes it took you to create the automation. This will be a great use of your time as it would free up those five minutes every day to do something else. \n",
    "\n",
    "If instead it takes you 10 hours to create the automation, then it would require a 120 days, or 24 working weeks to start saving time on the task. That's almost six months until you start reaping the benefits of your automation. It's even possible that by then the requirements for the report will have changed needing even more of your time.\n",
    "\n",
    "Usually, the decision of whether to automate or not isn't so straightforward. If a task is complex and performed in frequently, it may seem like automating is more trouble than it's worth. But keep in mind that once a task is wrapped in automation, anyone can do it. It can be very useful to automate a complex error prone task. If it's critical that the tasks be done correctly, even if it's not executed that often. There are no hard and fast rules on when to automate, but the cost time tradeoff can help guide your decisions. A concept called the __Pareto Principle__ can also be a useful guideline to help you decide which tasks to automate. \n",
    "\n",
    "When applied to automation in IT, the Pareto Principle states that 20% of the system administration tasks that you perform are responsible for 80% of your work. If you can identify and automate those 20% of your tasks, you could save yourself a whole lot of time. \n",
    "\n",
    "It's tricky knowing when it's best to automate, an automation that's been implemented can be fragile. If underlying systems change and the automation isn't updated accordingly, workflows can break. Imagine an automated backup system that periodically saves the contents of a sales database. Let's say the automatic backup program uses a disk identifier like /dev/sda1 to know where the data to be saved is stored. What happens if the new disk is added to the server and disk identifier changes to /dev/sdb1. The automation will no longer be able to access this it thinks it should be backing up and it will fail. This process of software falling out of step with the environment is sometimes called __Bit-rot__. The actual bits and script don't really decay it's the assumptions about the impulses signals the script relies on that rot. \n",
    "\n",
    "It's important to think about how your automation will handle errors. Automated systems perform actions about human interventions so it's easy to set and forget them. If an automated system fails and it goes unnoticed the consequences can be really bad. \n",
    "\n",
    "Let's revisit our back up example. Imagine that the backups fail because the disk identifier has changed and no one notices. Sometime later, the sales database server crashes and the data needs to be restored. The IT specialist will be in for a nasty surprise when they discover that the automated system hasn't backed up in a while. False confidence and an automated system, may also factor into decision making. For example, if the database needs to be upgraded, system administrators may be more willing to proceed with a potentially risky operation since they believe they can recover the data from backups. \n",
    "\n",
    "So how can we avoid this silent failures? You can build a method of notification into your automated systems, this way, if the automation fails, a human is notified and can investigate. This notification method could be an email, a new entry in the internal issue tracker, an update to a dashboard or even a page to the person who's on call for the service. Whichever the method, it's important that notification services the air so that a person can fix automation. \n",
    "\n",
    "Worse in automation to though is when automation succeeds but performance the wrong action. To build on our earlier example, what if the backup system was correctly performing its task but was configured to backup the wrong data? A restore of the incorrect sales data could lead to data loss or even data corruption where customers might be charged the incorrect amount or billed for products they hadn't even purchased, oops. \n",
    "\n",
    "Sometimes a task completes, but it completes incorrectly. For this more subtle class of failures, we can use periodic tests to check in on the behavior of your automated systems. In our backup system example, we could schedule a regular restore of data from the sales database. And then check that the restored data is what you expected it would be backed up. This testing process could be automated too, with scripts written to schedule the restore and to compare the data against the master data set. Again, if any part of the resort process fails, the automated system, could help to prevent further data corruption and send a notification to a human who can investigate the problem. \n",
    "\n",
    "Along with flagging problems, good automation will make debugging easier by login the actions it takes. The system log can be an extremely useful source of information when your investigating an issue, we say that it's of forensic value. Our scripts can also be configured to write to the system log, doing this creates an audit trail of useful troubleshooting information, which can help with the debugging process. \n",
    "\n",
    "Automation, it's an incredibly powerful tool that saves time, reduces mistakes, and facilitates growth and scalability. But we need to apply it thoughtfully to avoid some of the pitfalls that can arise from its use. Keep these things in mind, and automation can be a valuable asset in your toolbox."
   ]
  },
  {
   "cell_type": "code",
   "execution_count": null,
   "metadata": {},
   "outputs": [],
   "source": []
  }
 ],
 "metadata": {
  "kernelspec": {
   "display_name": "Python 3",
   "language": "python",
   "name": "python3"
  },
  "language_info": {
   "codemirror_mode": {
    "name": "ipython",
    "version": 3
   },
   "file_extension": ".py",
   "mimetype": "text/x-python",
   "name": "python",
   "nbconvert_exporter": "python",
   "pygments_lexer": "ipython3",
   "version": "3.7.4"
  }
 },
 "nbformat": 4,
 "nbformat_minor": 2
}
