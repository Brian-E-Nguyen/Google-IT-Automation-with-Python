{
 "cells": [
  {
   "cell_type": "markdown",
   "metadata": {},
   "source": [
    "# Automation With Python\n",
    "\n",
    "## 1. Benefits With Automation\n",
    "\n",
    "In the introduction of the Python course, we talked about the benefits of automation for a bunch of activities like doing repetitive tasks, analyzing text, generating reports, and a lot more. In this course, we'll build on these concepts by applying automation to more and more tasks. As an IT specialist, thoughtfully applied automation can play an important role in your work.\n",
    "\n",
    "Look at automation like an IT force multiplier, a tool that can increase the effectiveness of an IT team without needing to increase the number of team members. In other words, automation can allow the IT infrastructure to scale, keeping pace with growth and demand. __Scalability__ means that when more work is added to a system, the system can do whatever it needs to complete the work.\n",
    "\n",
    "For example, think about the impact on IT when a company hires a new employee. New employees might have to access a range of technology resources do their job. Onboarding task can include creating a user account, a mailbox, and a home folder, and setting up the appropriate permissions to control access to various systems and resources. If the company doesn't hire a lot of employees over a given period, someone could manually do these tasks each time a new person is brought on board. \n",
    "\n",
    "Although I'm willing to bet that that will get tedious real fast. But as the number of new employees increases, so does the time it takes to set them all up in the system. If a company hires 10 times its usual number of new employees in a week, the IT person in charge may find themselves performing nothing but a new employee account setup and going crazy at the same time. They would probably have to put a bunch of other projects on hold until they've set up all the accounts. \n",
    "\n",
    "As a human, they may also make some mistakes during the provisioning process, like misspelling a name, forgetting a step, or giving a user count the wrong permissions. They then have to fix these mistakes, which means even more work, yikes. \n",
    "\n",
    "Now, imagine if the company continues to hire at this pace, they might need to assign another IT specialist to pick up the work that's being neglected because of all the new accounts to setup or there might be so much to do that two IT specialists might need to be assigned to the account setup. Basically, this doesn't scale well in terms of financial resources, mental investment, or reliability, especially if the company continues to grow. What happens if the rate of new hires doubles, triples, or grows even larger? Throwing more people at the problem quickly becomes impractical. \n",
    "\n",
    "Okay. So assuming that we're all on the same page about how manual onboarding has its issues, let's think about how we can improve the process with automation. Well, instead of having one person interact with each separate system to create a new user account, a mailbox, shared folder, and permissions, it'd be more efficient if the IT specialist could write a script to all of this. We could then have a computer do these tasks each time a new employee is hired. When given initial information, like the new employee's name and job function, this script could carry out each step automatically. So humans would only need to intervene if a task failed for some reason. The computer would execute each step in the script and in the given order in exactly the same way. It would never need to deviate from these instructions. \n",
    "\n",
    "We can even improve the script further. Instead of having the IT specialist enter a new employees information into the script each time it's run, the script could just read the data from a company's human resources system. That will make the entire workflow begin automatically on the employees start date. \n",
    "\n",
    "In this example of automation, we've made a repetitive time-consuming task faster and more reliable. We've also freed up human resources allowing IT specialist to focus on more strategic or creative work. \n",
    "\n",
    "Another subtle but super helpful benefit of automation is centralizing mistakes, which means if you find an error in a script, you can fix the error once and for all, which isn't the case for mistakes made by humans, of course. \n",
    "\n",
    "Hopefully, you're now even more sold on the benefits of automation than you already were. But as we've said before, automation is not a fix-all. If badly executed, automation can cause as many problems as it can solve. To avoid that, we need to know how it can go wrong. So next, let's check out some ways automation can fail."
   ]
  },
  {
   "cell_type": "code",
   "execution_count": null,
   "metadata": {},
   "outputs": [],
   "source": []
  }
 ],
 "metadata": {
  "kernelspec": {
   "display_name": "Python 3",
   "language": "python",
   "name": "python3"
  },
  "language_info": {
   "codemirror_mode": {
    "name": "ipython",
    "version": 3
   },
   "file_extension": ".py",
   "mimetype": "text/x-python",
   "name": "python",
   "nbconvert_exporter": "python",
   "pygments_lexer": "ipython3",
   "version": "3.7.4"
  }
 },
 "nbformat": 4,
 "nbformat_minor": 2
}
