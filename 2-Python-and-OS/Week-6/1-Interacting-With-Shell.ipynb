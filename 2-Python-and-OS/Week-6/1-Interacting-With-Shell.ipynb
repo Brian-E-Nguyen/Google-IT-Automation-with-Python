{
 "cells": [
  {
   "cell_type": "markdown",
   "metadata": {},
   "source": [
    "# Interacting With the Shell\n",
    "\n",
    "In this module, we'll broaden our exposure to what the Linux operating system has to offer. Will do a rundown of the most common Linux commands and we'll see how we can connect the input and output streams to files or even to other programs. We'll also deep our toes into scripting in a different programming language called **Bash**. \n",
    "\n",
    "You might be wondering why are we learning a new programming language when I'm just getting comfortable with Python? Well, don't bash your head against the wall just yet. Being able to script and bash can be really useful complement to our Python scripts. Don't worry, it's going to be a bash. I'll stop the Bash bunch for now. \n",
    "\n",
    "Anyway, imagine that you wanted to convert all image files in one directory from PNG to JPEG format. There's a command called `convert` that you can use to do this. You could definitely do this in Python, by going through all the files in the directory using `os.listdir` and can convert using subprocess.run. But it would end up being a really complex script for something that's actually super simple. You'll soon see how you can do this in Bash with just three lines of code, making it more readable and a lot easier to maintain. \n",
    "\n",
    "For my job, I have to write scripts in Bash all the time. I generally opt for Bash when I need to automate just a few lines of code and using Python, wouldn't add any additional value. For example, I had to write a short Bash script recently that mounted several disks one-by-one and compressed and archived the data on them. \n",
    "\n",
    "Over the next several videos, we'll look at the syntax needed to do some basic operations in Bash like conditionals or loops. You'll see how it's comparable to Python syntax, but not exactly the same. Still, it's similar enough that it'll be much easier to understand, now that you already know how to program in Python. \n",
    "\n",
    "By the end of this module, you should feel much more comfortable interacting with many system commands available on Linux and creating your own scripts in Bash and knowing when to choose Python or Bash for your scripts. Remember, if your palms are sweating and you're feeling nervous about the upcoming topics, we're here with you every step of the way. Whenever you get stuck, just go back and re-watch the videos. Practice on your own and engage your fellow learners. The best way to learn is to stick with it."
   ]
  }
 ],
 "metadata": {
  "kernelspec": {
   "display_name": "Python 3",
   "language": "python",
   "name": "python3"
  },
  "language_info": {
   "codemirror_mode": {
    "name": "ipython",
    "version": 3
   },
   "file_extension": ".py",
   "mimetype": "text/x-python",
   "name": "python",
   "nbconvert_exporter": "python",
   "pygments_lexer": "ipython3",
   "version": "3.7.4"
  }
 },
 "nbformat": 4,
 "nbformat_minor": 2
}
