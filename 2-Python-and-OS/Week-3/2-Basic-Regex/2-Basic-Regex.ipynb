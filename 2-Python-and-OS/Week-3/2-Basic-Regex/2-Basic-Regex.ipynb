{
 "cells": [
  {
   "cell_type": "markdown",
   "metadata": {},
   "source": [
    "# Basic Regex\n",
    "\n",
    "## 1. Simple Matching in Python\n",
    "\n",
    "As we called it out before, we use the `re` module to apply regular expressions in Python. This module includes a bunch of different functions that can help manipulate strings. Let's see how we can use this module for some basic matching."
   ]
  },
  {
   "cell_type": "code",
   "execution_count": 1,
   "metadata": {},
   "outputs": [],
   "source": [
    "import re\n",
    "result = re.search(r'aza', 'plaza')"
   ]
  },
  {
   "cell_type": "markdown",
   "metadata": {},
   "source": [
    "We call the search function on the re module, and told it to use the pattern aza on the string plaza. We then stored the return value of that function in the result variable. The r at the beginning of the pattern indicates that this is a rawstring. This means that Python interpreter shouldn't try to interpret any special characters, and instead, should just pass the string to the function as is. In this example, there are no special characters. The rawstring and the normal string are exactly the same, but it's a **good idea to always use rawstrings for regular expressions in Python**. We'll be using raw strings in all of our examples. With that said, let's print the result of the variable and see what we get."
   ]
  },
  {
   "cell_type": "code",
   "execution_count": 2,
   "metadata": {},
   "outputs": [
    {
     "name": "stdout",
     "output_type": "stream",
     "text": [
      "<re.Match object; span=(2, 5), match='aza'>\n"
     ]
    }
   ],
   "source": [
    "print(result)"
   ]
  },
  {
   "cell_type": "markdown",
   "metadata": {},
   "source": [
    "Great. Our result is a match object. The output we get when calling print already shows some interesting information, like the position in the string that matched ,and what the actual matching string was. Let's try this out again with different word."
   ]
  },
  {
   "cell_type": "code",
   "execution_count": 3,
   "metadata": {},
   "outputs": [
    {
     "name": "stdout",
     "output_type": "stream",
     "text": [
      "<re.Match object; span=(1, 4), match='aza'>\n"
     ]
    }
   ],
   "source": [
    "result = re.search(r'aza', 'bazaar')\n",
    "print(result)"
   ]
  },
  {
   "cell_type": "markdown",
   "metadata": {},
   "source": [
    "In this case, we can see that the span attribute is different. That's because the match sub-string is in a different position inside the string. The match sub-string is still same though, because we're matching with a plane string. No special syntax yet. What do you think will happen if we pass a string that doesn't match the expression? Let's try and find out."
   ]
  },
  {
   "cell_type": "code",
   "execution_count": 4,
   "metadata": {},
   "outputs": [
    {
     "name": "stdout",
     "output_type": "stream",
     "text": [
      "None\n"
     ]
    }
   ],
   "source": [
    "result = re.search(r'aza', 'RE')\n",
    "print(result)"
   ]
  },
  {
   "cell_type": "markdown",
   "metadata": {},
   "source": [
    "Did you guess right? If the expression doesn't match the string that we pass, we get none as a result. Remember, `None` is a special value that Python uses that show that there's none actual value there. When we're applying regular expressions, we now know that if the search function returns none, it means it didn't find a match. Let's practice the special characters that we've seen up until now with a few examples."
   ]
  },
  {
   "cell_type": "code",
   "execution_count": 5,
   "metadata": {},
   "outputs": [
    {
     "name": "stdout",
     "output_type": "stream",
     "text": [
      "<re.Match object; span=(0, 1), match='x'>\n"
     ]
    }
   ],
   "source": [
    "print(re.search(r'^x', 'xenon'))"
   ]
  },
  {
   "cell_type": "markdown",
   "metadata": {},
   "source": [
    "Here, we told the Storage function to use the circumflex X pattern on the string xenon. We can see that it matched at the beginning of the line on our X as we expected. What happens if we use a dot which can match any character?"
   ]
  },
  {
   "cell_type": "code",
   "execution_count": 6,
   "metadata": {},
   "outputs": [
    {
     "name": "stdout",
     "output_type": "stream",
     "text": [
      "<re.Match object; span=(0, 4), match='peng'>\n"
     ]
    }
   ],
   "source": [
    "print(re.search(r'p.ng', 'penguin'))"
   ]
  },
  {
   "cell_type": "markdown",
   "metadata": {},
   "source": [
    "Here we can see the match attribute always has a value of the actual sub string that match the search pattern. The span attribute, indicates the range where the sub string can be found in the string we passed. We can also pass additional options to the search function. For example, if we want our match to be case insensitive, we can do this by passing the `re.IGNORECASE` option."
   ]
  },
  {
   "cell_type": "code",
   "execution_count": 7,
   "metadata": {},
   "outputs": [
    {
     "name": "stdout",
     "output_type": "stream",
     "text": [
      "<re.Match object; span=(0, 4), match='Peng'>\n"
     ]
    }
   ],
   "source": [
    "print(re.search(r'p.ng', 'Penguin', re.IGNORECASE))"
   ]
  },
  {
   "cell_type": "markdown",
   "metadata": {},
   "source": [
    "## 2. Wildcards and Character Classes\n",
    "\n",
    "We've seen by now how we can use a dot in our regular expressions as a special character that can match any character. In the regex world, this is known as a wildcard because it can match more than one character. Using a dot is the broadest possible wildcard because it matches absolutely any character. But what if we wanted something stricter, like checking if an answer given by a user contains a valid character, or finding all the usernames in a CSV file that start with a vowel? We have to restrict our wildcards to a range of characters to do this. \n",
    "\n",
    "For this task we use another feature of regexes called __character classes__. Character classes are written inside square brackets and let us list the characters we want to match inside of those brackets. For example, say we want to match the word *Python* but allow for both lowercase or uppercase p. We could do it like this."
   ]
  },
  {
   "cell_type": "code",
   "execution_count": 13,
   "metadata": {},
   "outputs": [
    {
     "name": "stdout",
     "output_type": "stream",
     "text": [
      "<re.Match object; span=(0, 6), match='Python'>\n"
     ]
    }
   ],
   "source": [
    "print(re.search(r'[Pp]ython', 'Python'))"
   ]
  },
  {
   "cell_type": "markdown",
   "metadata": {},
   "source": [
    "Inside the square brackets, we can also define a range of characters using a dash. For example, we could use lowercase a to lowercase z `[a-z]` to state any lowercase letter. So if we wanted to look for the string \"way\" preceded by any letter, we could write the expression like this one."
   ]
  },
  {
   "cell_type": "code",
   "execution_count": 14,
   "metadata": {},
   "outputs": [
    {
     "name": "stdout",
     "output_type": "stream",
     "text": [
      "<re.Match object; span=(18, 22), match='hway'>\n"
     ]
    }
   ],
   "source": [
    "print(re.search(r'[a-z]way', 'The end of the highway'))"
   ]
  },
  {
   "cell_type": "markdown",
   "metadata": {},
   "source": [
    "Cool, we got a match. The character class defined was matched by the letter H. Let's try a different string."
   ]
  },
  {
   "cell_type": "code",
   "execution_count": 15,
   "metadata": {},
   "outputs": [
    {
     "name": "stdout",
     "output_type": "stream",
     "text": [
      "None\n"
     ]
    }
   ],
   "source": [
    "print(re.search(r'[a-z]way', 'What a way to go'))"
   ]
  },
  {
   "cell_type": "markdown",
   "metadata": {},
   "source": [
    "Dang, in this case, we didn't get a match. That's because the string way is preceded by a space and that doesn't match the range that we defined. We can define more ranges like upper case A to upper case Z `[A-Z]` for all upper case letters or 0 to 9 `[0-9]` for all digits. We can combine as many ranges and symbols as we want, like this."
   ]
  },
  {
   "cell_type": "code",
   "execution_count": 17,
   "metadata": {},
   "outputs": [
    {
     "name": "stdout",
     "output_type": "stream",
     "text": [
      "<re.Match object; span=(0, 6), match='cloudy'>\n",
      "<re.Match object; span=(0, 6), match='cloud9'>\n"
     ]
    }
   ],
   "source": [
    "print(re.search(r'cloud[a-zA-Z0-9]', 'cloudy'))\n",
    "print(re.search(r'cloud[a-zA-Z0-9]', 'cloud9'))"
   ]
  },
  {
   "cell_type": "markdown",
   "metadata": {},
   "source": [
    "While, this is super useful, sometimes we may want to match any characters that aren't in a group. To do that, we use a circumflex inside the square brackets. For example, let's create a search pattern that looks for any characters that's not a letter."
   ]
  },
  {
   "cell_type": "code",
   "execution_count": 21,
   "metadata": {},
   "outputs": [
    {
     "name": "stdout",
     "output_type": "stream",
     "text": [
      "<re.Match object; span=(4, 5), match=' '>\n"
     ]
    }
   ],
   "source": [
    "print(re.search(r'[^a-zA-Z]', 'This is a sentence with spaces.'))"
   ]
  },
  {
   "cell_type": "markdown",
   "metadata": {},
   "source": [
    "Here, our pattern matched the first space in the sentence. What if we also add a space to the list of characters that we don't want to match"
   ]
  },
  {
   "cell_type": "code",
   "execution_count": 22,
   "metadata": {},
   "outputs": [
    {
     "name": "stdout",
     "output_type": "stream",
     "text": [
      "<re.Match object; span=(30, 31), match='.'>\n"
     ]
    }
   ],
   "source": [
    "print(re.search(r'[^a-zA-Z ]', 'This is a sentence with spaces.'))"
   ]
  },
  {
   "cell_type": "markdown",
   "metadata": {},
   "source": [
    "You might have guessed this. Because we added a space inside the character class, our example now matched the final dot in the sentence, which isn't in the list of characters to exclude. If we want to match either one expression or another, we can use the pipe symbol `|` to do that. This lets us list alternative options that can get matched. For example, we could have an expression that matches either the word cat or the word dog, like this."
   ]
  },
  {
   "cell_type": "code",
   "execution_count": 23,
   "metadata": {},
   "outputs": [
    {
     "name": "stdout",
     "output_type": "stream",
     "text": [
      "<re.Match object; span=(7, 10), match='cat'>\n"
     ]
    }
   ],
   "source": [
    "print(re.search(r'cat|dog', 'I like cats'))"
   ]
  },
  {
   "cell_type": "markdown",
   "metadata": {},
   "source": [
    "So since the string contains the sub string cat, the search function could find it. Let's try an example with dog."
   ]
  },
  {
   "cell_type": "code",
   "execution_count": 24,
   "metadata": {},
   "outputs": [
    {
     "name": "stdout",
     "output_type": "stream",
     "text": [
      "<re.Match object; span=(7, 10), match='dog'>\n"
     ]
    }
   ],
   "source": [
    "print(re.search(r'cat|dog', 'I like dogs'))"
   ]
  },
  {
   "cell_type": "markdown",
   "metadata": {},
   "source": [
    "This expression contains a sub string dog, so we found a match. Let's try a sentence with both dogs and cats."
   ]
  },
  {
   "cell_type": "code",
   "execution_count": 25,
   "metadata": {},
   "outputs": [
    {
     "name": "stdout",
     "output_type": "stream",
     "text": [
      "<re.Match object; span=(7, 10), match='dog'>\n"
     ]
    }
   ],
   "source": [
    "print(re.search(r'cat|dog', 'I like dogs and cats'))"
   ]
  },
  {
   "cell_type": "markdown",
   "metadata": {},
   "source": [
    "In this string, we actually have two possible matches for our search. But we only get the first one. That's the way the search function works. If we want to get all possible matches, we can do that using the `findall` function, which is also provided by the re module, like this."
   ]
  },
  {
   "cell_type": "code",
   "execution_count": 26,
   "metadata": {},
   "outputs": [
    {
     "name": "stdout",
     "output_type": "stream",
     "text": [
      "['dog', 'cat']\n"
     ]
    }
   ],
   "source": [
    "print(re.findall(r'cat|dog', 'I like dogs and cats'))"
   ]
  },
  {
   "cell_type": "markdown",
   "metadata": {},
   "source": [
    "## 3. Repitition Qualifiers\n",
    "\n",
    "So far we've looked at how to match one specific character, a group of characters or even any character. Now we're going check out how to match these characters several times. \n",
    "\n",
    "\n",
    "### 3.1  Dot Star .*\n",
    "So we wanted to find the longest word in the string, or we wanted to find the host names in a log file by checking for a bunch of alphanumeric characters between brackets. We can do this using another interesting RegEx concept, __repeated matches___. It's quite common to see expressions that include a dot followed by a star `.*`. This means that it matches any character repeated as many times as possible including zero. Let's see a couple of examples of this."
   ]
  },
  {
   "cell_type": "code",
   "execution_count": 27,
   "metadata": {},
   "outputs": [
    {
     "name": "stdout",
     "output_type": "stream",
     "text": [
      "<re.Match object; span=(0, 9), match='Pygmalion'>\n"
     ]
    }
   ],
   "source": [
    "print(re.search(r'Py.*n', 'Pygmalion'))"
   ]
  },
  {
   "cell_type": "markdown",
   "metadata": {},
   "source": [
    "In plain English, you could read this RegEx as match pi followed by any number of other characters followed by n. But with our dot star combination we expanded the range of the match to the whole word. See how the dot takes a different value for each letter? \n",
    "\n",
    "Let's try a different string, Python programming. What do you think the pattern will match?"
   ]
  },
  {
   "cell_type": "code",
   "execution_count": 28,
   "metadata": {},
   "outputs": [
    {
     "name": "stdout",
     "output_type": "stream",
     "text": [
      "<re.Match object; span=(0, 17), match='Python programmin'>\n"
     ]
    }
   ],
   "source": [
    "print(re.search(r'Py.*n', 'Python programming'))"
   ]
  },
  {
   "cell_type": "markdown",
   "metadata": {},
   "source": [
    "You might not have been expecting that. Remember, the Star takes as many characters as possible. In programming terms, we say that this behavior is __greedy__. It's possible to modify the repetition qualifiers to make them less greedy. But we won't get into that now. To learn more about that, check out the next reading. But back to our example. While our pattern could have matched the word Python, it expanded all the way until the last n in the string. If we only wanted our patterns match letters, we should have used the character class instead like this."
   ]
  },
  {
   "cell_type": "code",
   "execution_count": 29,
   "metadata": {},
   "outputs": [
    {
     "name": "stdout",
     "output_type": "stream",
     "text": [
      "<re.Match object; span=(0, 6), match='Python'>\n"
     ]
    }
   ],
   "source": [
    "print(re.search(r'Py[a-z]*n', 'Python programming'))"
   ]
  },
  {
   "cell_type": "markdown",
   "metadata": {},
   "source": [
    "Remember how we said that zero times is also a possibility? That will let the string pin also match our pattern. Let's try that out."
   ]
  },
  {
   "cell_type": "code",
   "execution_count": 31,
   "metadata": {},
   "outputs": [
    {
     "name": "stdout",
     "output_type": "stream",
     "text": [
      "<re.Match object; span=(0, 3), match='Pyn'>\n"
     ]
    }
   ],
   "source": [
    "print(re.search(r'Py[a-z]*n', 'Pyn'))"
   ]
  },
  {
   "cell_type": "markdown",
   "metadata": {},
   "source": [
    "As we called out earlier, implementations of regular expressions aren't always the same. Repetition qualifiers are one way they differ. Some implementations like the one used by grep only include the store qualifier that we just discussed. You can do a lot with just a star qualifier. So that's usually good enough. Other implementations like the one used by Python or by the `Egrep` command include two additional repetition qualifiers plus and question mark `+?`, that can help us construct more complex expressions. Let's check that out. \n",
    "\n",
    "### 3.2 Plus +\n",
    "\n",
    "The plus character matches one or more occurrences of the character that comes before it. So we had the pattern O plus L plus. Let's check it against a few words."
   ]
  },
  {
   "cell_type": "code",
   "execution_count": 32,
   "metadata": {},
   "outputs": [
    {
     "name": "stdout",
     "output_type": "stream",
     "text": [
      "<re.Match object; span=(1, 3), match='ol'>\n"
     ]
    }
   ],
   "source": [
    "print(re.search(r'o+l+', 'goldfish'))"
   ]
  },
  {
   "cell_type": "markdown",
   "metadata": {},
   "source": [
    "In this case, there was one occurrence of each. In the match pattern shows us the shortest possible matching string."
   ]
  },
  {
   "cell_type": "code",
   "execution_count": 34,
   "metadata": {},
   "outputs": [
    {
     "name": "stdout",
     "output_type": "stream",
     "text": [
      "<re.Match object; span=(1, 5), match='ooll'>\n"
     ]
    }
   ],
   "source": [
    "print(re.search(r'o+l+', 'woolly'))"
   ]
  },
  {
   "cell_type": "markdown",
   "metadata": {},
   "source": [
    "Here, there were two of each. Again, we can see the match is a whole string that matches the condition. Let's try something that doesn't match."
   ]
  },
  {
   "cell_type": "code",
   "execution_count": 35,
   "metadata": {},
   "outputs": [
    {
     "name": "stdout",
     "output_type": "stream",
     "text": [
      "None\n"
     ]
    }
   ],
   "source": [
    "print(re.search(r'o+l+', 'boil'))"
   ]
  },
  {
   "cell_type": "markdown",
   "metadata": {},
   "source": [
    "So while our string here had an O and an L, it had another character in between them. Because of this, it doesn't match the search pattern. Does that make sense? The question mark symbol is yet another multiplier. It means either zero or one occurrence of the character before it. Let's see how this works."
   ]
  },
  {
   "cell_type": "markdown",
   "metadata": {},
   "source": [
    "### 3.3 Question Mark ?\n",
    "\n",
    "The question mark symbol is yet another multiplier. It means either zero or one occurrence of the character before it. Let's see how this works."
   ]
  },
  {
   "cell_type": "code",
   "execution_count": 36,
   "metadata": {},
   "outputs": [
    {
     "name": "stdout",
     "output_type": "stream",
     "text": [
      "<re.Match object; span=(3, 7), match='each'>\n"
     ]
    }
   ],
   "source": [
    "print(re.search(r'p?each', 'To each their own'))"
   ]
  },
  {
   "cell_type": "markdown",
   "metadata": {},
   "source": [
    "The P wasn't present but with the question mark we marked it as __optional__. So we still got a match. Let's see what happens when the P is present."
   ]
  },
  {
   "cell_type": "code",
   "execution_count": 37,
   "metadata": {},
   "outputs": [
    {
     "name": "stdout",
     "output_type": "stream",
     "text": [
      "<re.Match object; span=(7, 12), match='peach'>\n"
     ]
    }
   ],
   "source": [
    "print(re.search(r'p?each', 'I like peaches'))"
   ]
  },
  {
   "cell_type": "markdown",
   "metadata": {},
   "source": [
    "## 4. Escape Characters\n",
    "\n",
    "We've now seen a lot of special characters that we can use in our regular expressions to make them match different kinds of strings: dot, star, plus, question mark, circumflex, dollar sign, and square brackets. But what can we do if we need our pattern to match one of the special characters? Say, for example, that we wanted to check that a certain string contained a dot as part of it. If we just put a dot there, it would match any character."
   ]
  },
  {
   "cell_type": "code",
   "execution_count": 38,
   "metadata": {},
   "outputs": [
    {
     "name": "stdout",
     "output_type": "stream",
     "text": [
      "<re.Match object; span=(2, 6), match='lcom'>\n"
     ]
    }
   ],
   "source": [
    "print(re.search(r'.com', 'welcome'))"
   ]
  },
  {
   "cell_type": "markdown",
   "metadata": {},
   "source": [
    "Here, we wanted to match on strings that had.com in them, but we match a string with something else in it. That's not what we wanted. To match an actual dot, we need to use an Escape character, which in the case of regular expressions is a backslash character. So let's add that to our pattern.\n",
    "\n",
    "By escaping the dot, it no longer matched the word Welcome, and since there's no.com in the string, it returned none. Let's try something that should actually match."
   ]
  },
  {
   "cell_type": "code",
   "execution_count": 40,
   "metadata": {},
   "outputs": [
    {
     "name": "stdout",
     "output_type": "stream",
     "text": [
      "None\n",
      "<re.Match object; span=(10, 14), match='.com'>\n"
     ]
    }
   ],
   "source": [
    "print(re.search(r'\\.com', 'welcome'))\n",
    "print(re.search(r'\\.com', 'duckduckgo.com'))"
   ]
  },
  {
   "cell_type": "markdown",
   "metadata": {},
   "source": [
    "Great. By adding the backslash, we've got this to correctly match what we wanted it to match. \n",
    "\n",
    "We can use a backslash in this way to escape any special characters, including the ones that we haven't even talked about yet. Something to watch out for. It can get really confusing with backslashes since they're also used to define some special string characters. We've called out, for example, that `\\n` is a sequence using Python to indicate a new line, and `\\t` does the same for tabs. __When we see a pattern that includes a backslash, it could be escaping a special regex character or a special string character.__ \n",
    "\n",
    "Using raw strings, like we've been doing, helps avoid some of these possible confusion because the special characters won't be interpreted when generating the string. They will only be interpreted when parsing the regular expression. On top of this, Python also uses the backslash for a few special sequences that we can use to represent predefined sets of characters. For example, `\\w` matches any alphanumeric character including letters, numbers, and underscores. Let's check out a couple of examples."
   ]
  },
  {
   "cell_type": "code",
   "execution_count": 42,
   "metadata": {},
   "outputs": [
    {
     "name": "stdout",
     "output_type": "stream",
     "text": [
      "<re.Match object; span=(0, 4), match='This'>\n",
      "<re.Match object; span=(0, 19), match='And_this_is_another'>\n"
     ]
    }
   ],
   "source": [
    "print(re.search(r'\\w*', 'This is an example'))\n",
    "print(re.search(r'\\w*', 'And_this_is_another'))"
   ]
  },
  {
   "cell_type": "markdown",
   "metadata": {},
   "source": [
    "As we said, `\\w` matches letters, numbers, and underscores. \n",
    "\n",
    "In the first example, our pattern matched the first four letters until the space because spaces aren't part of that set of characters. While in the second example, it matched the whole string. \n",
    "\n",
    "There's also `\\d` for matching digits, `\\s` for matching whitespace characters like space, tab or new line, `\\b` for word boundaries and a few others. \n",
    "\n",
    "Yikes. That was a lot. You might be thinking, escape, escape, escape from all these escape characters. If this sounds like a spaghetti mix of new characters, don't worry. You don't need to memorize them all. You can always consult our cheat sheet or other similar references that tell you which sequence represents which characters. Another great resource for testing out your regular expressions is a website called `regex101.com`. You can use this to try out your regexes, analyze each part of the expression, and figure out what's up with them when they don't work."
   ]
  },
  {
   "cell_type": "code",
   "execution_count": null,
   "metadata": {},
   "outputs": [],
   "source": []
  }
 ],
 "metadata": {
  "kernelspec": {
   "display_name": "Python 3",
   "language": "python",
   "name": "python3"
  },
  "language_info": {
   "codemirror_mode": {
    "name": "ipython",
    "version": 3
   },
   "file_extension": ".py",
   "mimetype": "text/x-python",
   "name": "python",
   "nbconvert_exporter": "python",
   "pygments_lexer": "ipython3",
   "version": "3.7.4"
  }
 },
 "nbformat": 4,
 "nbformat_minor": 2
}
