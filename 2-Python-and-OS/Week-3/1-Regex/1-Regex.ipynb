{
 "cells": [
  {
   "cell_type": "markdown",
   "metadata": {},
   "source": [
    "# Regular Expressions\n",
    "\n",
    "## 1. What are Regular Expressions?\n",
    "\n",
    "A regular expression, also known as regex or regexp, is essentially a search query for text that's expressed by string pattern. When you run a search against a particular piece of text, anything that matches a regular expression pattern you specified, is returned as a result of the search. Regular expressions let you answer the questions like what are all the four-letter words in a file? Or how many different error types are there in this error log? In other words, regular expressions allow us to search a text for strings matching a specific pattern. \n",
    "\n",
    "Knowing about regular expressions can be useful for anyone who needs to perform text processing. From IT specialist to software engineers, system administrators and data analyst, a working knowledge of regular expressions is a handy tool to, well, have handy. As a system administrator, I use regular expressions when I need to pull information from a file that has other information in it. \n",
    "\n",
    "For example, if I have a file that lists NFS mounts and options and I want to pull only the server name, I can write a regular expression that strips each line of the excess data and returns only a list of the information I need. Regular expressions are a pretty big topic in IT. In this course will end to cover the most important parts, but we won't go through them all. For your scripts basic regexs will usually be enough to get you started, and they'll enhance your programs ability to process text. With time and practice, you'll pick up even more advanced techniques. \n",
    "\n",
    "There are lots of different ways that we can apply regular expressions. We can use them in a whole wide range of programming languages, which of course includes Python. We can also use command line tools that know how to apply regexs, like `grep`, `sed`, or `awk`. We can even use regular expressions inside text processing tools like code or document editors. \n",
    "\n",
    "As with other widely used technologies, there's a broad range of tools that incorporate regular expressions and implementation details may vary from tool to tool or language to language. But thankfully, the principles are always the same. Once we learn the basics, we can very quickly apply the same concepts, different applications. \n",
    "\n",
    "## 2. Why Use Regex?\n",
    "\n",
    "At this point, you might be wondering why do I need more processing power than just looking for strings in a text which I already know how to do in Python? The answer lies in the power and flexibility of regular expressions. For example, let's say we have log entries with a typical log line format like this one."
   ]
  },
  {
   "cell_type": "code",
   "execution_count": 2,
   "metadata": {},
   "outputs": [],
   "source": [
    "log = 'July 31 07:51:48 mycomputer bad_process[12345]: ERROR Performing package upgrade'"
   ]
  },
  {
   "cell_type": "markdown",
   "metadata": {},
   "source": [
    "We want to extract the process identifier from this line, which is a number between the square brackets 12345. There's a lot of extra text in this log line that we don't need, like the date, the computer name and other info. We could extract the process ID by using the `index` method to find the first square bracket in the string. \n",
    "\n",
    "Remember that when accessing strings, the `index` of the character is the position of that character in the string starting from 0. In this example, the index of the first square bracket would be 39. If we don't want to capture the square brackets, we will start at the next version and include five more characters after that. Let's give it a go."
   ]
  },
  {
   "cell_type": "code",
   "execution_count": 3,
   "metadata": {},
   "outputs": [
    {
     "name": "stdout",
     "output_type": "stream",
     "text": [
      "12345\n"
     ]
    }
   ],
   "source": [
    "index = log.index('[')\n",
    "print(log[index+1:index+6])"
   ]
  },
  {
   "cell_type": "markdown",
   "metadata": {},
   "source": [
    "Hm, although we get the text that we wanted, we might hit a few bumps down the road. Can you spot them? One problem is we don't know for sure how long the process ID string will be in all cases. In this example, we can see that it's five characters long. But that may change in the future if the computers restarted, or the number of processes increases. This could also break if for any reason, the line includes another square bracket before the process ID. So it's a solution but it's a very brittle one. Any other ideas? \n",
    "\n",
    "Instead, we could use a regular expression to extract the process ID in a more robust fashion. For that, we're going to import the `RE` module, which lets us use the `search` function to find regular expressions inside strings."
   ]
  },
  {
   "cell_type": "code",
   "execution_count": 4,
   "metadata": {},
   "outputs": [
    {
     "name": "stdout",
     "output_type": "stream",
     "text": [
      "12345\n"
     ]
    }
   ],
   "source": [
    "import re\n",
    "regex = r'\\[(\\d+)\\]'\n",
    "result = re.search(regex, log)\n",
    "print(result[1])"
   ]
  },
  {
   "cell_type": "markdown",
   "metadata": {},
   "source": [
    "Great, this regular expression will work no matter where our process ID shows up or how long or short the line is. As long as there's a single sequence of numbers in the string marked by square brackets, this regex will extract those numbers for us. If the regular expressions stored in the regex variable looks like gibberish at this point, don't worry, that's expected. We'll explore syntax and how we use these expressions in upcoming videos. At this point, the key takeaway is that regular expressions are both powerful and flexible tools. By the end of this module, you'll be able to read and unpack statements like the one in this example, we're off to a strong start. Next stop, we'll learn how to use some very basic matching with the grep command."
   ]
  }
 ],
 "metadata": {
  "kernelspec": {
   "display_name": "Python 3",
   "language": "python",
   "name": "python3"
  },
  "language_info": {
   "codemirror_mode": {
    "name": "ipython",
    "version": 3
   },
   "file_extension": ".py",
   "mimetype": "text/x-python",
   "name": "python",
   "nbconvert_exporter": "python",
   "pygments_lexer": "ipython3",
   "version": "3.7.4"
  }
 },
 "nbformat": 4,
 "nbformat_minor": 2
}
