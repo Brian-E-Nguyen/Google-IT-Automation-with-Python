{
 "cells": [
  {
   "cell_type": "markdown",
   "metadata": {},
   "source": [
    "# Regular Expressions\n",
    "\n",
    "## 1. What are Regular Expressions?\n",
    "\n",
    "A regular expression, also known as regex or regexp, is essentially a search query for text that's expressed by string pattern. When you run a search against a particular piece of text, anything that matches a regular expression pattern you specified, is returned as a result of the search. Regular expressions let you answer the questions like what are all the four-letter words in a file? Or how many different error types are there in this error log? In other words, regular expressions allow us to search a text for strings matching a specific pattern. \n",
    "\n",
    "Knowing about regular expressions can be useful for anyone who needs to perform text processing. From IT specialist to software engineers, system administrators and data analyst, a working knowledge of regular expressions is a handy tool to, well, have handy. As a system administrator, I use regular expressions when I need to pull information from a file that has other information in it. \n",
    "\n",
    "For example, if I have a file that lists NFS mounts and options and I want to pull only the server name, I can write a regular expression that strips each line of the excess data and returns only a list of the information I need. Regular expressions are a pretty big topic in IT. In this course will end to cover the most important parts, but we won't go through them all. For your scripts basic regexs will usually be enough to get you started, and they'll enhance your programs ability to process text. With time and practice, you'll pick up even more advanced techniques. \n",
    "\n",
    "There are lots of different ways that we can apply regular expressions. We can use them in a whole wide range of programming languages, which of course includes Python. We can also use command line tools that know how to apply regexs, like `grep`, `sed`, or `awk`. We can even use regular expressions inside text processing tools like code or document editors. \n",
    "\n",
    "As with other widely used technologies, there's a broad range of tools that incorporate regular expressions and implementation details may vary from tool to tool or language to language. But thankfully, the principles are always the same. Once we learn the basics, we can very quickly apply the same concepts, different applications. \n",
    "\n",
    "## 2. Why Use Regex?\n",
    "\n",
    "At this point, you might be wondering why do I need more processing power than just looking for strings in a text which I already know how to do in Python? The answer lies in the power and flexibility of regular expressions. For example, let's say we have log entries with a typical log line format like this one."
   ]
  },
  {
   "cell_type": "code",
   "execution_count": 2,
   "metadata": {},
   "outputs": [],
   "source": [
    "log = 'July 31 07:51:48 mycomputer bad_process[12345]: ERROR Performing package upgrade'"
   ]
  },
  {
   "cell_type": "markdown",
   "metadata": {},
   "source": [
    "We want to extract the process identifier from this line, which is a number between the square brackets 12345. There's a lot of extra text in this log line that we don't need, like the date, the computer name and other info. We could extract the process ID by using the `index` method to find the first square bracket in the string. \n",
    "\n",
    "Remember that when accessing strings, the `index` of the character is the position of that character in the string starting from 0. In this example, the index of the first square bracket would be 39. If we don't want to capture the square brackets, we will start at the next version and include five more characters after that. Let's give it a go."
   ]
  },
  {
   "cell_type": "code",
   "execution_count": 3,
   "metadata": {},
   "outputs": [
    {
     "name": "stdout",
     "output_type": "stream",
     "text": [
      "12345\n"
     ]
    }
   ],
   "source": [
    "index = log.index('[')\n",
    "print(log[index+1:index+6])"
   ]
  },
  {
   "cell_type": "markdown",
   "metadata": {},
   "source": [
    "Hm, although we get the text that we wanted, we might hit a few bumps down the road. Can you spot them? One problem is we don't know for sure how long the process ID string will be in all cases. In this example, we can see that it's five characters long. But that may change in the future if the computers restarted, or the number of processes increases. This could also break if for any reason, the line includes another square bracket before the process ID. So it's a solution but it's a very brittle one. Any other ideas? \n",
    "\n",
    "Instead, we could use a regular expression to extract the process ID in a more robust fashion. For that, we're going to import the `RE` module, which lets us use the `search` function to find regular expressions inside strings."
   ]
  },
  {
   "cell_type": "code",
   "execution_count": 4,
   "metadata": {},
   "outputs": [
    {
     "name": "stdout",
     "output_type": "stream",
     "text": [
      "12345\n"
     ]
    }
   ],
   "source": [
    "import re\n",
    "regex = r'\\[(\\d+)\\]'\n",
    "result = re.search(regex, log)\n",
    "print(result[1])"
   ]
  },
  {
   "cell_type": "markdown",
   "metadata": {},
   "source": [
    "Great, this regular expression will work no matter where our process ID shows up or how long or short the line is. As long as there's a single sequence of numbers in the string marked by square brackets, this regex will extract those numbers for us. If the regular expressions stored in the regex variable looks like gibberish at this point, don't worry, that's expected. We'll explore syntax and how we use these expressions in upcoming videos. At this point, the key takeaway is that regular expressions are both powerful and flexible tools. By the end of this module, you'll be able to read and unpack statements like the one in this example, we're off to a strong start. Next stop, we'll learn how to use some very basic matching with the grep command.\n",
    "\n",
    "## 3. Basic Matching with grep\n",
    "\n",
    "In our last example, we used a pretty complex regular expression from a Python program to look for a process ID. This is just one example of something we might want to do when processing texts from our Python scripts. We can also use regular expressions with a bunch of command line tools. `Grep` is an especially easy to use yet extremely powerful tool for applying regexes. It's a great way to easily try out some expressions and get familiar with them. \n",
    "\n",
    "So let's look at some basic matching we can do with grep. The simplest of all matchings is just to search to see if the string is present. Remember, that `grep` works by printing out any line that matches the query that we pass it. So for a simplest query of passing a plain old string, grep will print any lines containing that string in the file that we give it. Let's try this out using grep to find words inside the /usr/share/dict/words file, which is a file that some spell-checking programs use to verify if the word exists or not. This file contains one word per line. We'll start by looking at words that contain the particle `thon`. Let's see what happens.\n",
    "\n",
    "```\n",
    "$ grep thon words.txt\n",
    "Jonathon's\n",
    "Marathon\n",
    "Phaethon\n",
    "marathon\n",
    "Python\n",
    "Python's\n",
    "```\n",
    "\n",
    "It's worth calling out that the string we're passing in grep is case sensitive. So it needs to be matched exactly. If we use uppercase letters, they'll only be matched by uppercase letters. If we wanted to match a string regardless of case, we will have to pass the `-i` parameter to the grep command, like this.\n",
    "\n",
    "```\n",
    "$ grep -i python words.txt\n",
    "Python\n",
    "Python's\n",
    "python\n",
    "python's\n",
    "```\n",
    "\n",
    "Nice. So we now know that any basic string is already a regular expression which will match a line that contains that string. To get the most out of regular expressions, we need to learn more of their syntax, which can be as complicated as it is powerful. In particular, we have to know the reserved characters that give extra meaning to the patterns that we create. It's these characters that allow us to do more advanced matching than just checking for a literal string. \n",
    "\n",
    "For example, a dot matches any character. This means that if we include a dot in our expression, that dot is a wildcard that can be replaced by any other character in the results. Let's check out an example of this.\n",
    "\n",
    "```\n",
    "$ grep l.rts words.txt\n",
    "alerts\n",
    "flirts\n",
    "blurts\n",
    "```\n",
    "\n",
    "Here, we're looking for the pattern l.RTS within the list of words. This pattern matches three different words; alerts, blurts, and flirts. Check out how for each of those words, the dot in our pattern was substituted by different letter. \n",
    "\n",
    "Are you starting to see the power of regular expressions? With them, we can find portions of texts that match a given pattern even when the pattern isn't a whole word. We could use this, for example, to look for entries in a log file that match a certain format or to find rows in a CSV file that share the same characteristics even if they are not exactly the same. Really helpful, right? \n",
    "\n",
    "Other easy examples of special characters that we can use in a irregular expressions are the caret `^`, or circumflex and the dollar sign `$` anchor characters. These tell us where in the line the regex should match from. The circumflex indicates the beginning and the dollar sign indicates the end of the line. For example, to look for all the words that start with a string fruit, we would write grep circumflex fruit in our file.\n",
    "\n",
    "```\n",
    "$ grep ^fruit words.txt\n",
    "fruit\n",
    "fruited\n",
    "fruitfully\n",
    "fruits\n",
    "fruity\n",
    "```\n",
    "Let's check out one more example. We'll use grep to find all the words that end with \"cat\" by writing grep cat dollar sign into our file."
   ]
  },
  {
   "cell_type": "markdown",
   "metadata": {},
   "source": [
    "## 4. Practice Quiz\n",
    "\n",
    "### 4.1 \n",
    "\n",
    "When using regular expressions, which of the following expressions uses a reserved character that can represent any single \n",
    "character?\n",
    "\n",
    "__re.findall(f.n, text)__\n",
    "\n",
    "### 4.2\n",
    "\n",
    "Which of the following is NOT a function of the Python regex module?\n",
    "\n",
    "__re.grep()__\n",
    "\n",
    "\n",
    "### 4.3\n",
    "\n",
    "The circumflex [^] and the dollar sign [$] are anchor characters. What do these anchor characters do in regex?\n",
    "\n",
    "__Match the start and end of a line__\n",
    "\n",
    "### 4.4\n",
    "\n",
    "When using regex, some characters represent particular types of characters. Some examples are the dollar sign, the circumflex, and the dot wildcard. What are these characters collectively known as?\n",
    "\n",
    "__Special characters__\n",
    "\n",
    "### 4.5\n",
    "\n",
    "What is grep?\n",
    "\n",
    "__A commandline regex tool__"
   ]
  },
  {
   "cell_type": "code",
   "execution_count": null,
   "metadata": {},
   "outputs": [],
   "source": []
  }
 ],
 "metadata": {
  "kernelspec": {
   "display_name": "Python 3",
   "language": "python",
   "name": "python3"
  },
  "language_info": {
   "codemirror_mode": {
    "name": "ipython",
    "version": 3
   },
   "file_extension": ".py",
   "mimetype": "text/x-python",
   "name": "python",
   "nbconvert_exporter": "python",
   "pygments_lexer": "ipython3",
   "version": "3.7.4"
  }
 },
 "nbformat": 4,
 "nbformat_minor": 2
}
