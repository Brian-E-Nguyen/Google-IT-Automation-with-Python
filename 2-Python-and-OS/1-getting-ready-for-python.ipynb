{
 "cells": [
  {
   "cell_type": "markdown",
   "metadata": {},
   "source": [
    "# Getting Ready for Python\n",
    "\n",
    "## 1. The Operating System\n",
    "\n",
    "he operating system is a software that manages everything that goes on in the computer. It reads, writes, and deletes files from the hard drive. It handles how the processes start, how they interact with each other, and how they eventually finish. It manages how memory gets allocated different processes, how network packets are sent and received, and how each programming can access the different hardware components. Basically, the OS is a total boss and doesn't mess around\n",
    "\n",
    "There are actually two main parts in operating system: the kernel and the user space\n",
    "\n",
    "### 1.1 The Kernel \n",
    "\n",
    "The kernel is the main core of an operating system. It talks directly to our hardware and manages our systems resources. As users, we don't interact with the kernel directly.\n",
    "\n",
    "### 1.2 The User Space\n",
    "\n",
    "The User space is basically everything outside of the kernel. These are things that we interact with directly, like the system programs and user interface. \n",
    "\n",
    "\n",
    "### 1.3 All Operating Systems\n",
    "\n",
    "The operating system does a lot of things. It does so much that we need a bunch of courses that cover all of it. But for this course, we'll focus on managing files and processes on the OS running on your computer. The scripts we'll write will all run in the user space. In some cases though, our scripts may interact with the kernel of the operating system to get extra information or to ask it to perform certain operations. As you probably already know, there's a lot of different operating systems out there. The major operating systems using IT today are Windows, Mac OS, and Linux. The Windows operating system is developed by Microsoft, and is widely used in the business and consumer space. Most PCs come with Windows as the default operating system. Mac OS is developed by Apple and is mainly used in the consumer space. If you purchase any Apple computer, they'll come with Mac OS preloaded. Linux is an open source operating system. Open source software is free to share, modify, and distribute. Score. Linux is used heavily in business infrastructure. Most servers in the world today are running Linux. It's also available in the consumer space, although less common.\n",
    "\n",
    "### 1.4 Linux \n",
    "\n",
    "Linux itself is actually the name of the kernel originally developed by Linus Torvalds, also a total boss. Because of the evolution of the rest of the operating system, we typically use Linux to refer to both the kernel and the whole operating system. Today, Linux has grown into a huge community effort with developers all over the world contributing to its success. Because Linux is open source, a lot of different organizations package their own versions of it, unlike Windows or Mac OS which are solely developed by their respective companies. We refer to these different flavors of Linux as distributions. Some common Linux distributions are; Ubuntu, Debian, and Red Hat. \n",
    "\n",
    "If you've heard of Chrome OS, you may know that it's another operating system based on a Linux kernel. But unlike other distributions, Chrome OS is usually considered an OS in its own right. Lastly, the Android operating system which is used a lot on smartphones also runs a Linux kernel.\n",
    "\n",
    "You may have also heard of Unix. Unix is an operating system developed back in the 70's by Bell Labs. After its original release, the OS went through a bunch of different versions with different companies releasing variants of it. The fundamental ideas of how Linux works today are based on the Unix principles. A lot of the tools that we use to interact with the operating system are open source versions of those originally developed for Unix. This is why these tools in operating principles are usually referred to as Unix. So Linus created Linux which is based on Unix."
   ]
  }
 ],
 "metadata": {
  "kernelspec": {
   "display_name": "Python 3",
   "language": "python",
   "name": "python3"
  },
  "language_info": {
   "codemirror_mode": {
    "name": "ipython",
    "version": 3
   },
   "file_extension": ".py",
   "mimetype": "text/x-python",
   "name": "python",
   "nbconvert_exporter": "python",
   "pygments_lexer": "ipython3",
   "version": "3.7.4"
  }
 },
 "nbformat": 4,
 "nbformat_minor": 2
}
