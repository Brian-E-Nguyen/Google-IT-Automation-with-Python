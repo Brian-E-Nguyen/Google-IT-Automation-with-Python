{
 "cells": [
  {
   "cell_type": "markdown",
   "metadata": {},
   "source": [
    "# Understanding Slowness \n",
    "\n",
    "## 1. Intro to Module 2: Slowness\n",
    "\n",
    "Welcome back, and congrats on making it through that tricky lab that wrapped up the first module. Feels good to have solved an actual problem and get the computer working again, right? Personally, one of the things I love about my job is being able to take control of the system and make it do what I want it to do. Remember that if things don't work right away, it's totally fine. The more you try your hand at solving problems, the easier you'll come up with possible solutions. \n",
    "\n",
    "A problem that we have to deal with a lot when working in IT, is things being slow. This could be our computer, our scripts, or even complex systems. Slow is a relative term. Modern computers are much faster and can do many more things than computers a couple of decades ago. Still, we always want them to be faster and to do more in less time. \n",
    "\n",
    "With modern day computers it might seem that our resources are unlimited, but if we try hard enough we can hit the limits. For example, if you're browsing the internet and you open a new tab in your browser, it might seem like it doesn't take any resources at all. It's just a click and you have a new tab available. But if you keep opening tabs, at some point your computer will become sluggish. \n",
    "\n",
    "Depending on the hardware of the computer and what other programs are running, it might take 100 or more open tabs to get there. But eventually, you'll run out of memory and everything will slow down. There's a bunch of different things we can do if our system is too slow. The most obvious one is closing any applications we don't need at the moment. \n",
    "\n",
    "This works because it helps us free some of the resources in our computer, like CPU time, RAM, or video memory. That way the program that we want to run faster will have access to more of these resources. When closing applications that we don't need we might even need to look at applets, plugins, extensions, or other small programs that might seem harmless, as they take some resources to run. \n",
    "\n",
    "On top of that, closing any other elements that take resources, like browser tabs or open files in a document editor, can also help. But this only gets us so far because there's a ton of other reasons why our devices or programs might be slow. Over the course of the next few videos we'll do a rundown of the different reasons that can make things run slowly. \n",
    "\n",
    "We'll look into what causes slow scripts, slow computers, or slow systems. We'll give you the tools to help you identify the most common causes of slowness, and apply solutions to improve the overall performance. We've got a lot to cover, but don't worry will guide you through everything and we'll take it slow."
   ]
  }
 ],
 "metadata": {
  "kernelspec": {
   "display_name": "Python 3",
   "language": "python",
   "name": "python3"
  },
  "language_info": {
   "codemirror_mode": {
    "name": "ipython",
    "version": 3
   },
   "file_extension": ".py",
   "mimetype": "text/x-python",
   "name": "python",
   "nbconvert_exporter": "python",
   "pygments_lexer": "ipython3",
   "version": "3.7.4"
  }
 },
 "nbformat": 4,
 "nbformat_minor": 2
}
