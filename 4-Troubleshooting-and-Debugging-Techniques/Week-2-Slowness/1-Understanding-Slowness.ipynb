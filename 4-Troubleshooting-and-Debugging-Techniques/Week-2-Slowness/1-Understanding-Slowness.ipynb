{
 "cells": [
  {
   "cell_type": "markdown",
   "metadata": {},
   "source": [
    "# Understanding Slowness \n",
    "\n",
    "## 1. Intro to Module 2: Slowness\n",
    "\n",
    "Welcome back, and congrats on making it through that tricky lab that wrapped up the first module. Feels good to have solved an actual problem and get the computer working again, right? Personally, one of the things I love about my job is being able to take control of the system and make it do what I want it to do. Remember that if things don't work right away, it's totally fine. The more you try your hand at solving problems, the easier you'll come up with possible solutions. \n",
    "\n",
    "A problem that we have to deal with a lot when working in IT, is things being slow. This could be our computer, our scripts, or even complex systems. Slow is a relative term. Modern computers are much faster and can do many more things than computers a couple of decades ago. Still, we always want them to be faster and to do more in less time. \n",
    "\n",
    "With modern day computers it might seem that our resources are unlimited, but if we try hard enough we can hit the limits. For example, if you're browsing the internet and you open a new tab in your browser, it might seem like it doesn't take any resources at all. It's just a click and you have a new tab available. But if you keep opening tabs, at some point your computer will become sluggish. \n",
    "\n",
    "Depending on the hardware of the computer and what other programs are running, it might take 100 or more open tabs to get there. But eventually, you'll run out of memory and everything will slow down. There's a bunch of different things we can do if our system is too slow. The most obvious one is closing any applications we don't need at the moment. \n",
    "\n",
    "This works because it helps us free some of the resources in our computer, like CPU time, RAM, or video memory. That way the program that we want to run faster will have access to more of these resources. When closing applications that we don't need we might even need to look at applets, plugins, extensions, or other small programs that might seem harmless, as they take some resources to run. \n",
    "\n",
    "On top of that, closing any other elements that take resources, like browser tabs or open files in a document editor, can also help. But this only gets us so far because there's a ton of other reasons why our devices or programs might be slow. Over the course of the next few videos we'll do a rundown of the different reasons that can make things run slowly. \n",
    "\n",
    "We'll look into what causes slow scripts, slow computers, or slow systems. We'll give you the tools to help you identify the most common causes of slowness, and apply solutions to improve the overall performance. We've got a lot to cover, but don't worry will guide you through everything and we'll take it slow.\n",
    "\n",
    "## 2. Why is my computer slow?\n",
    "\n",
    "Our computers execute thousands of millions of instructions per second. Each of those instructions does one small thing, like incrementing a value, comparing two values, or moving a value from one place to another. Still with thousands of millions of instructions per second, there's a lot that a computer can do in just one second. This allows our computer to seemingly execute a number of different thing at the same time. \n",
    "\n",
    "Say you're browsing the web while also running an application that plays your favorite music in the background. Even if your computer has a single core to execute those applications, it will seem like the computer is running these two programs at the same time. What's happening under the hood is that each application gets a fraction of the CPU time, and then the next application gets a turn. Most of the time this works fine. But if you run too many applications or if one of these applications were running needs more CPU time than the fraction it's getting, things might become frustratingly slow. \n",
    "\n",
    "The general strategy for addressing slowness is to i**dentify the bottleneck** for addressing slowness in our device, our script, or our system to run slowly. The bottleneck could be the CPU time as we just mentioned. But it could also be time spent reading data from disk waiting for data transmitted over the network, moving data from disk to RAM, or some other resource that's limiting the overall performance. \n",
    "\n",
    "Pretty often, we can speed things up and getting rid of anything else that's using resources on the same computer. So if the problem is that your program needs more CPU time, you can close other running programs that you don't need right then. If the problem is that you don't have enough space on disk, you can uninstall applications that you don't use, or delete or move data that doesn't need to be on that disk. \n",
    "\n",
    "If the problem is that the application needs more network bandwidth, you can try stopping any other processes that are also using the network and so on. This only helps us if the issue is that there are too many processes trying to use the same resource. If we've closed everything that wasn't needed and the computer is still slow, we need to look into other possible explanations. What if the hardware we're using just isn't good enough for the applications we're trying to run on it? In cases like these, will have to upgrade the underlying hardware. \n",
    "\n",
    "But to make a difference in the resulting performance, we need to make sure that we're actually improving the bottleneck and not just wasting our money on new hardware that will go unused. So how can we tell which piece of hardware needs to be changed? We need to monitor the usage of our resources to know which of them as being **exhausted.** *This means that it's being used completely and programs are getting blocked by not having access to more of it.* Is it the CPU, the memory, the disk IO, the network connection, the graphics card? To find out, we use the tools available in our operating system, monitor the usage of each resource, and then work out which one is blocking our programs for running faster. \n",
    "\n",
    "We've already talked about using `top` on Linux systems. This tool lets us see which currently running processes are using the most CPU time. \n",
    "\n",
    "```\n",
    "top - 17:51:21 up 21:20,  0 users,  load average: 3.60, 2.45, 2.83\n",
    "Tasks:   7 total,   1 running,   6 sleeping,   0 stopped,   0 zombie\n",
    "%Cpu(s): 19.6 us,  8.5 sy,  0.2 ni, 67.5 id,  2.7 wa,  0.0 hi,  1.4 si,  0.0 st\n",
    "KiB Mem : 26694652 total,  2263760 free,  4868592 used, 19562300 buff/cache\n",
    "KiB Swap:        0 total,        0 free,        0 used. 19791600 avail Mem \n",
    "\n",
    "    PID USER      PR  NI    VIRT    RES    SHR S  %CPU %MEM     TIME+ COMMAND                                                                                                                                                                        \n",
    "      7 user      20   0  959520 111924  32996 S   0.3  0.4   0:02.81 node                                                                                                                                                                           \n",
    "      1 user      20   0    4516    736    672 S   0.0  0.0   0:00.03 tini                                                                                                                                                                           \n",
    "      6 user      20   0    4624    820    752 S   0.0  0.0   0:00.00 sh                                                                                                                                                                             \n",
    "     19 user      20   0   72296   5824   5092 S   0.0  0.0   0:00.00 sshd                                                                                                                                                                           \n",
    "    232 user      20   0  675748  38428  30616 S   0.0  0.1   0:00.18 node                                                                                                                                                                           \n",
    "    365 user      20   0   22224   5844   3416 S   0.0  0.0   0:00.07 bash                                                                                                                                                                           \n",
    "    406 user      20   0   40464   3660   3176 R   0.0  0.0   0:00.00 top                                                       \n",
    "```\n",
    "\n",
    "If we start by memory, which ones are using the most memory. It also shows a bunch of other load information related to the current state of the computer, like how many processes are running and how the CPU time or memory is being used. We also called out in earlier videos a couple of other programs like `iotop` and `iftop`. They can help us see which processes are currently using the most disk IO usage or the most network bandwidth. \n",
    "\n",
    "On MacOS, the OS ships with a tool called Activity Monitor which lets us see what's using the most CPU, memory, energy, disk, or network. On Windows, there's a couple of OS tools called **Resource Monitor** and **Performance Monitor** which also let us analyze what's going on with the different resources on the computer including CPU, memory, disk and network. So if you're looking to diagnose what's causing your computer to run slow, the first step is always to open one of these tools. Check out what's going on, and try to understand which resources the bottleneck and why. Then plan how you're going to solve the issue. \n",
    "\n",
    "Of course, not all performance problems are solved by closing applications are getting better hardware. Sometimes, we need to figure out what the software is doing wrong and where it's spending most of its time to understand how to make it run faster. We need to really study each problem to get to the root cause of the slowness. Up next, we'll talk about some ideas to help us better understand what's going on under the hood."
   ]
  },
  {
   "cell_type": "code",
   "execution_count": null,
   "metadata": {},
   "outputs": [],
   "source": []
  }
 ],
 "metadata": {
  "kernelspec": {
   "display_name": "Python 3",
   "language": "python",
   "name": "python3"
  },
  "language_info": {
   "codemirror_mode": {
    "name": "ipython",
    "version": 3
   },
   "file_extension": ".py",
   "mimetype": "text/x-python",
   "name": "python",
   "nbconvert_exporter": "python",
   "pygments_lexer": "ipython3",
   "version": "3.7.4"
  }
 },
 "nbformat": 4,
 "nbformat_minor": 2
}
