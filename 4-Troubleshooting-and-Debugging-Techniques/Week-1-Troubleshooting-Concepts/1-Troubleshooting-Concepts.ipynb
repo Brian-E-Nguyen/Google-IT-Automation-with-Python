{
 "cells": [
  {
   "cell_type": "markdown",
   "metadata": {},
   "source": [
    "# Troubleshooting Concepts\n",
    "\n",
    "## 1. Intro to Module 1: Troubleshooting Concepts\n",
    "\n",
    "\n",
    "Whether it's an application crashing, a hardware issue, or network outage, as IT specialists, we tend to run into problems that need solving pretty regularly. When facing these issues, we need to make sure that people affected by the problem can get back to doing their jobs as fast as possible. We also have to plan for how to prevent against the same problems from happening again in the future. \n",
    "\n",
    "In this module, we'll learn some essential debugging techniques. We'll start with the basic process that we can use for tackling any technical problem. Then we'll look at different ways that we can approach understanding what's going on and finding the root cause of an issue, including using a process called **binary search** to troubleshoot problems. \n",
    "\n",
    "Along the way, we'll talk about a bunch of examples of real-world problems and how to apply the techniques to solve them. The techniques we'll look at are reusable and we'll let you solve almost any technical problem that you might face in the future. We'll keep applying them throughout the course as we explore different issues that can affect us or the users we're supporting in different ways. \n",
    "\n",
    "As with any other skills that you've learned throughout this program, the best way to get good at something is practice. So at the end of the module, you'll have the opportunity to apply these techniques and try solving a technical issue yourself on a virtual machine running Linux. \n",
    "\n",
    "Finding the solution to a problem can sometimes take a really long time. While I don't know if anyone loves troubleshooting, I definitely enjoy solving problems. Dealing with software is like trying to solve one giant puzzle. It can sometimes be frustrating when we can't find the right pieces. But it's super exciting when everything finally fits together. If everything I did worked right away, then it wouldn't be fun anymore. I love the challenge. Let's get you started."
   ]
  },
  {
   "cell_type": "markdown",
   "metadata": {},
   "source": [
    "## 2. What is Debugging?\n",
    "\n",
    "Throughout this course, we'll be talking about debugging and troubleshooting. So what's the difference between them? \n",
    "\n",
    "We say that **troubleshooting** *is the process of identifying, analyzing, and solving problems.* We can use the term troubleshooting to refer to solving any kind of problem. In this course, we'll focus on troubleshooting IT-related problems. They could be problems caused by hardware, the operating system, or applications running on the computer. They could also be caused by the environment and configuration of the software. The services the application is interacting with, or a wide range of other possible IT causes. \n",
    "\n",
    "On the flip side, **debugging** *is the process of identifying, analyzing, and removing bugs in a system.* We sometimes use troubleshooting and debugging interchangeably. But generally, we say troubleshooting when we're fixing problems in the system running the application, and debugging when we're fixing the bugs in the actual code of the application. \n",
    "\n",
    "There are lots of tools that we can use to get more information about the system and what the programs in our system are doing. Tools like **tcpdump** and **Wireshark** can show us ongoing network connections, and help us analyze the traffic going over our cables. Tools like `ps, top, or free` can show us the number and types of resources used in the system. We can use a tool like `strace` to look at the system calls made by a program, or `ltrace` to look at the library calls made by the software. Don't worry about memorizing them, we'll talk about each in detail in our real-world examples. When debugging the code of a program, we can combine these tools with specific debugging tools developed for the programming language used to write the application.\n",
    "\n",
    "**Debuggers** *let us follow the code line by line, inspect changes in variable assignments, interrupt the program when a specific condition is met, and more.* On top of that, if we can modify the code, we can change it so that it provides more logging information. This can help us understand what's going on behind the scenes. \n",
    "\n",
    "Both troubleshooting and debugging are a bit of an art. In those fortunate cases when you've seen the problem before, you might immediately know what the solution is. But usually, figuring out the problem and its solution require some creativity. We need to come up with new ideas of what could be failing, and ways to check for that. And once we know what's failing, we need to imagine how to solve it. To take it a step further, once we've solved a problem, we can start thinking about how to prevent it from happening again.\n",
    "\n",
    "I remember a tricky debugging session that I had on my last team. We recently added integration tests to one of our pipelines to make sure the service worked correctly before automatically building and deploying a new version. The test ran fine for about a month, and then it started to fail. \n",
    "\n",
    "Since this was an integration test that would prevent a broken version from getting released, I was really surprised to discover that the broken code was actually already live in the production server. I looked at tons of logs and spent a long time following what the code did. Finally, I noticed that the problem was that the tests were running against the production instance, instead of the test instance as we originally intended. In other words, the test would pass as long as the production instance was working fine. And would break when the production instance was broken, not what we wanted at all. \n",
    "\n",
    "To fix the problem, I had to figure out why the test code didn't connect to the test instance that we were creating inside the integration test. After a lot more investigation, I discovered that the test instance was failing to start because the execution path was incorrect. To fix this, I ended up modifying a library provided by a different team to pass the right parameter. And voila, the test started running against the code in the test instance, not the production instance anymore. When troubleshooting or debugging, we come across surprising situations. Things aren't working as expected, and we need to understand why, and figure out how to solve it. \n",
    "\n",
    "As we called out, in this course, we'll look into a bunch of different techniques to understand and solve technical problems. While we'll sometimes focus on system side and sometimes on the coding side, most of the techniques that we'll cover can help us solve any technical problem. Up next, we'll talk about the steps we need to take to solve any kind of technical problem."
   ]
  }
 ],
 "metadata": {
  "kernelspec": {
   "display_name": "Python 3",
   "language": "python",
   "name": "python3"
  },
  "language_info": {
   "codemirror_mode": {
    "name": "ipython",
    "version": 3
   },
   "file_extension": ".py",
   "mimetype": "text/x-python",
   "name": "python",
   "nbconvert_exporter": "python",
   "pygments_lexer": "ipython3",
   "version": "3.7.4"
  }
 },
 "nbformat": 4,
 "nbformat_minor": 2
}
