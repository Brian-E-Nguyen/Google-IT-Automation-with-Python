{
 "cells": [
  {
   "cell_type": "markdown",
   "metadata": {},
   "source": [
    "# Troubleshooting Concepts\n",
    "\n",
    "## 1. Intro to Module 1: Troubleshooting Concepts\n",
    "\n",
    "\n",
    "Whether it's an application crashing, a hardware issue, or network outage, as IT specialists, we tend to run into problems that need solving pretty regularly. When facing these issues, we need to make sure that people affected by the problem can get back to doing their jobs as fast as possible. We also have to plan for how to prevent against the same problems from happening again in the future. \n",
    "\n",
    "In this module, we'll learn some essential debugging techniques. We'll start with the basic process that we can use for tackling any technical problem. Then we'll look at different ways that we can approach understanding what's going on and finding the root cause of an issue, including using a process called **binary search** to troubleshoot problems. \n",
    "\n",
    "Along the way, we'll talk about a bunch of examples of real-world problems and how to apply the techniques to solve them. The techniques we'll look at are reusable and we'll let you solve almost any technical problem that you might face in the future. We'll keep applying them throughout the course as we explore different issues that can affect us or the users we're supporting in different ways. \n",
    "\n",
    "As with any other skills that you've learned throughout this program, the best way to get good at something is practice. So at the end of the module, you'll have the opportunity to apply these techniques and try solving a technical issue yourself on a virtual machine running Linux. \n",
    "\n",
    "Finding the solution to a problem can sometimes take a really long time. While I don't know if anyone loves troubleshooting, I definitely enjoy solving problems. Dealing with software is like trying to solve one giant puzzle. It can sometimes be frustrating when we can't find the right pieces. But it's super exciting when everything finally fits together. If everything I did worked right away, then it wouldn't be fun anymore. I love the challenge. Let's get you started."
   ]
  }
 ],
 "metadata": {
  "kernelspec": {
   "display_name": "Python 3",
   "language": "python",
   "name": "python3"
  },
  "language_info": {
   "codemirror_mode": {
    "name": "ipython",
    "version": 3
   },
   "file_extension": ".py",
   "mimetype": "text/x-python",
   "name": "python",
   "nbconvert_exporter": "python",
   "pygments_lexer": "ipython3",
   "version": "3.7.4"
  }
 },
 "nbformat": 4,
 "nbformat_minor": 2
}
