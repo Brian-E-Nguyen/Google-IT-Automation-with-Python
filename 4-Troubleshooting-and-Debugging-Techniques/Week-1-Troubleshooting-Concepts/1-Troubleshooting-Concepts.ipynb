{
 "cells": [
  {
   "cell_type": "markdown",
   "metadata": {},
   "source": [
    "# Troubleshooting Concepts\n",
    "\n",
    "## 1. Intro to Module 1: Troubleshooting Concepts\n",
    "\n",
    "\n",
    "Whether it's an application crashing, a hardware issue, or network outage, as IT specialists, we tend to run into problems that need solving pretty regularly. When facing these issues, we need to make sure that people affected by the problem can get back to doing their jobs as fast as possible. We also have to plan for how to prevent against the same problems from happening again in the future. \n",
    "\n",
    "In this module, we'll learn some essential debugging techniques. We'll start with the basic process that we can use for tackling any technical problem. Then we'll look at different ways that we can approach understanding what's going on and finding the root cause of an issue, including using a process called **binary search** to troubleshoot problems. \n",
    "\n",
    "Along the way, we'll talk about a bunch of examples of real-world problems and how to apply the techniques to solve them. The techniques we'll look at are reusable and we'll let you solve almost any technical problem that you might face in the future. We'll keep applying them throughout the course as we explore different issues that can affect us or the users we're supporting in different ways. \n",
    "\n",
    "As with any other skills that you've learned throughout this program, the best way to get good at something is practice. So at the end of the module, you'll have the opportunity to apply these techniques and try solving a technical issue yourself on a virtual machine running Linux. \n",
    "\n",
    "Finding the solution to a problem can sometimes take a really long time. While I don't know if anyone loves troubleshooting, I definitely enjoy solving problems. Dealing with software is like trying to solve one giant puzzle. It can sometimes be frustrating when we can't find the right pieces. But it's super exciting when everything finally fits together. If everything I did worked right away, then it wouldn't be fun anymore. I love the challenge. Let's get you started."
   ]
  },
  {
   "cell_type": "markdown",
   "metadata": {},
   "source": [
    "## 2. What is Debugging?\n",
    "\n",
    "Throughout this course, we'll be talking about debugging and troubleshooting. So what's the difference between them? \n",
    "\n",
    "We say that **troubleshooting** *is the process of identifying, analyzing, and solving problems.* We can use the term troubleshooting to refer to solving any kind of problem. In this course, we'll focus on troubleshooting IT-related problems. They could be problems caused by hardware, the operating system, or applications running on the computer. They could also be caused by the environment and configuration of the software. The services the application is interacting with, or a wide range of other possible IT causes. \n",
    "\n",
    "On the flip side, **debugging** *is the process of identifying, analyzing, and removing bugs in a system.* We sometimes use troubleshooting and debugging interchangeably. But generally, we say troubleshooting when we're fixing problems in the system running the application, and debugging when we're fixing the bugs in the actual code of the application. \n",
    "\n",
    "There are lots of tools that we can use to get more information about the system and what the programs in our system are doing. Tools like **tcpdump** and **Wireshark** can show us ongoing network connections, and help us analyze the traffic going over our cables. Tools like `ps, top, or free` can show us the number and types of resources used in the system. We can use a tool like `strace` to look at the system calls made by a program, or `ltrace` to look at the library calls made by the software. Don't worry about memorizing them, we'll talk about each in detail in our real-world examples. When debugging the code of a program, we can combine these tools with specific debugging tools developed for the programming language used to write the application.\n",
    "\n",
    "**Debuggers** *let us follow the code line by line, inspect changes in variable assignments, interrupt the program when a specific condition is met, and more.* On top of that, if we can modify the code, we can change it so that it provides more logging information. This can help us understand what's going on behind the scenes. \n",
    "\n",
    "Both troubleshooting and debugging are a bit of an art. In those fortunate cases when you've seen the problem before, you might immediately know what the solution is. But usually, figuring out the problem and its solution require some creativity. We need to come up with new ideas of what could be failing, and ways to check for that. And once we know what's failing, we need to imagine how to solve it. To take it a step further, once we've solved a problem, we can start thinking about how to prevent it from happening again.\n",
    "\n",
    "I remember a tricky debugging session that I had on my last team. We recently added integration tests to one of our pipelines to make sure the service worked correctly before automatically building and deploying a new version. The test ran fine for about a month, and then it started to fail. \n",
    "\n",
    "Since this was an integration test that would prevent a broken version from getting released, I was really surprised to discover that the broken code was actually already live in the production server. I looked at tons of logs and spent a long time following what the code did. Finally, I noticed that the problem was that the tests were running against the production instance, instead of the test instance as we originally intended. In other words, the test would pass as long as the production instance was working fine. And would break when the production instance was broken, not what we wanted at all. \n",
    "\n",
    "To fix the problem, I had to figure out why the test code didn't connect to the test instance that we were creating inside the integration test. After a lot more investigation, I discovered that the test instance was failing to start because the execution path was incorrect. To fix this, I ended up modifying a library provided by a different team to pass the right parameter. And voila, the test started running against the code in the test instance, not the production instance anymore. When troubleshooting or debugging, we come across surprising situations. Things aren't working as expected, and we need to understand why, and figure out how to solve it. \n",
    "\n",
    "As we called out, in this course, we'll look into a bunch of different techniques to understand and solve technical problems. While we'll sometimes focus on system side and sometimes on the coding side, most of the techniques that we'll cover can help us solve any technical problem. Up next, we'll talk about the steps we need to take to solve any kind of technical problem."
   ]
  },
  {
   "cell_type": "markdown",
   "metadata": {},
   "source": [
    "## 3. Problem Solving Steps\n",
    "\n",
    "There's a wide range of different technical problems that you might face as an IT specialist or systems administrator. But fortunately, there's a set of steps that you can usually take to solve almost any technical problem. \n",
    "\n",
    "**The first step is getting information.** This means gathering as much information as we need about the current state of things, what the issue is, when it happens, and what the consequences are, for example. To get this information, we can use any existing documentation that might help. This can be internal documentation, manual pages, or even questions asked on the Internet. One super important resource to solve a problem is the **reproduction case,** *which is a clear description of how and when the problem appears.*\n",
    "\n",
    "**The second step** *is finding the root cause of the problem.* This is usually the most difficult step. Throughout this course, we'll discuss a lot of possibilities on how to get there. But the key here is to get to the bottom of what's going on, what triggered the problem, and how we can change that. \n",
    "\n",
    "**The final step** *is performing the necessary remediation.* Depending on the problem, this might include an immediate remediation to get the system back to health, and then a medium or long-term remediation to avoid the problem in the future. \n",
    "\n",
    "While these are three basic steps of problem-solving, they don't always happen sequentially. It's pretty common that while trying to find the root cause, we discover that we need even more info about the current state. So we gather more information until we find the answer we're looking for, or we could understand the problem just enough to create a **workaround** that lets our users get back to work quickly. \n",
    "\n",
    "But we'd still need more time to get to the root cause and prevent the problem from happening again. Preventing the problem from occurring can sometimes feel like a hassle, but it can actually save us and our users a lot of valuable time. This way we avoid having to solve the same problem over and over again. \n",
    "\n",
    "Throughout the whole process, **it's important that we document what we do.** We should note down the info that we get, the different things we tested to try, and figure out the root cause. Finally, the steps we took to fix the issue. This documentation might prove invaluable next time a similar issue pops up. \n",
    "\n",
    "Imagine a user asks you for your help because their computer is unexpectedly shutting down. Computers shouldn't shut down on their own, but the problem could be a hardware issue, a software issue, or even a configuration issue. So the first thing to do is to get more information. You'll want to know things like *when it happened, what the user was doing when it happened, and how regularly it's happening.* You'll also want to *look at the computer logs to check if there are any interesting errors. If any aren't totally clear, you can look them up on the Internet to see what they mean.*\n",
    "\n",
    "In our example, safe on a line in the logs that says the temperature threshold was exceeded and so the computer shutdown. That's useful information, you know why the computer shut down but you don't know why it overheated, so you'll need to keep investigating. After not finding anything else interesting in the logs, you decide to check if it's a hardware issue. When you open up the computer, you find that the fan that's supposed to cool down the CPU is full of dirt, and so it isn't spinning properly. \n",
    "\n",
    "That's the root cause of the problem. Now, the short-term remediation is to clean up the fan so that it can spin again and the computer doesn't overheat. But what's the long-term remediation? In this case, it would be deploying monitoring on the computers to make sure you get notified early when they're overheating. Long-term remediation would also include checking if you can reduce the amount of dust in the air so that there's less chance of this happening again. Up next, we'll put these steps to the test by applying them to solve a practical example."
   ]
  },
  {
   "cell_type": "markdown",
   "metadata": {},
   "source": [
    "## 4. Silently Crashing Application\n",
    "\n",
    "Say a user contacts us to let us know that a certain application fails to open. As we called out earlier the first thing to do is to get more information about the conditions that caused the failure. What the error is that the user is getting and then check if we experience the same failure. By asking for these details, we discover that a new version of the software was recently released. And when we upgrade to this new version, we can reproduce the problem on our own computer like this.\n",
    "\n",
    "![img1](https://github.com/Brian-E-Nguyen/Google-IT-Automation-with-Python/blob/4-Troubleshooting-and-Debugging-Techniques/4-Troubleshooting-and-Debugging-Techniques/Week-1-Troubleshooting-Concepts/img/img1.jpg?raw=true)\n",
    "\n",
    "We see that when we try to run the program it prints no error at all. It just exits immediately. We need to figure out what's going on. Even if there's no error message.\n",
    "\n",
    "There are a bunch of tools that can help us better understand what's going on with the system and with our applications. With the help of these tools, we can extend our knowledge of a particular problem view the actions of the program from a different point of view and get the info we need. Among these tools **strace** lets us look more deeply at what the program is doing. It will trace a system calls made by the program and tell us what the result of each of these calls was. So to figure out what's up with our program that's failing to open will s trace the failing application.\n",
    "\n",
    "`$ strace ./purplebox`\n",
    "\n",
    "![img2](https://github.com/Brian-E-Nguyen/Google-IT-Automation-with-Python/blob/4-Troubleshooting-and-Debugging-Techniques/4-Troubleshooting-and-Debugging-Techniques/Week-1-Troubleshooting-Concepts/img/img2.jpg?raw=true)\n",
    "\n",
    "Whoa, that's a lot of output the strace command shows us all the system calls are program made. **System calls** *are the calls that the programs running on our computer make to the running kernel.* There are loads of different system calls and depending on what we're trying to debug. We might be interested in some more than others. If you want to understand what these system calls are. You can read more about each of them in the corresponding manual pages. But before we jump into that, let's make this output more manageable. We could pipe the output to the `less` command which we could use to scroll through a lot of texts or we could use the `-0` flag of the astrois command to store the output into a file and then browse the contents of that file. The- 0 flag, lets us refer back to the file later if we need to so, let's go with that one.\n",
    "\n",
    "`strace -o failure.strace ./purplebox.py`\n",
    "\n",
    "Okay, now we can read the generated file using whichever program we prefer. Let's open it with less will go to the end of the file pressing Shift G then scroll up to see if we find anything suspicious.\n",
    "\n",
    "`less failure.strace`\n",
    "\n",
    "![img3](https://github.com/Brian-E-Nguyen/Google-IT-Automation-with-Python/blob/4-Troubleshooting-and-Debugging-Techniques/4-Troubleshooting-and-Debugging-Techniques/Week-1-Troubleshooting-Concepts/img/img3.jpg?raw=true)\n",
    "\n",
    "All right close to the end of the log we can see that the application tries to open a directory called .config purple box, which doesn't exist. Let's look at this line in a bit more detail. \n",
    "\n",
    "![img4](https://github.com/Brian-E-Nguyen/Google-IT-Automation-with-Python/blob/4-Troubleshooting-and-Debugging-Techniques/4-Troubleshooting-and-Debugging-Techniques/Week-1-Troubleshooting-Concepts/img/img4.jpg?raw=true)\n",
    "\n",
    "The name of the system call is `openat`. One of the calls used to open files or directories. The content of the call shows the parameters passed including the path that's being opened and a bunch of flags. In particular the 0 directory flag tells us that the program is trying to open this path as a directory. The number after the equal sign shows us the return code of the cisco. In this case it's negative one. So the program is trying to open this directory and it turns out it doesn't exist.\n",
    "\n",
    "Since this is happening shortly before the program finishes it's a likely candidate for the root cause of the issue. Let's create the directory and try to start the program again. \n",
    "\n",
    "```\n",
    "mkdir ~./config/purplebox\n",
    "./purplebox.py\n",
    "```\n",
    "\n",
    "![img5](https://github.com/Brian-E-Nguyen/Google-IT-Automation-with-Python/blob/4-Troubleshooting-and-Debugging-Techniques/4-Troubleshooting-and-Debugging-Techniques/Week-1-Troubleshooting-Concepts/img/img5.jpg?raw=true)\n",
    "\n",
    "Purple box, success this time the program works just fine. Let's recap what we did first. We got some information from a user telling us there was a change in the new version which was causing a problem. To investigate this we reproduce the problem on our own computer. Then we got more information on what was going on by using the strace tool which lets us see the system calls made by a program. We found a suspicious error. That's that a directory didn't exist. We created the directory to check out what would happen when it did exist and the program work correctly. \n",
    "\n",
    "So we've identified the root cause of the problem which is the missing directory. Now, we can go ahead and remediate the issue. The immediate remediation is to tell the user to create the directory so that they can get back to work quickly. The long-term remediation is to contact the developers of the software to let them know that the program will fail to start if the director is missing. This gives them a heads up about the problem so they can fix it in the next version. And what about the documentation we should note that this version of the software won't start if that directory doesn't exist. That will help others facing the same issue to quickly find out the solution.\n",
    "\n",
    "In this example, we were able to use astrois and quickly identify what the problem was but it won't always be this easy. Throughout this course, we'll keep looking at more tools and more ideas to help us work through what's going on when it's not immediately obvious. Coming up we've got the first practice quiz of the course. These quizzes will help make sure that all the concepts that we've covered thus far make sense. Remember you can always review the content if it wasn't clear. I'll meet you in the next video."
   ]
  },
  {
   "cell_type": "code",
   "execution_count": null,
   "metadata": {},
   "outputs": [],
   "source": []
  }
 ],
 "metadata": {
  "kernelspec": {
   "display_name": "Python 3",
   "language": "python",
   "name": "python3"
  },
  "language_info": {
   "codemirror_mode": {
    "name": "ipython",
    "version": 3
   },
   "file_extension": ".py",
   "mimetype": "text/x-python",
   "name": "python",
   "nbconvert_exporter": "python",
   "pygments_lexer": "ipython3",
   "version": "3.7.4"
  }
 },
 "nbformat": 4,
 "nbformat_minor": 2
}
