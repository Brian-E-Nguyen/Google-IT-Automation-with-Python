{
 "cells": [
  {
   "cell_type": "markdown",
   "metadata": {},
   "source": [
    "# Object Oriented Programming\n",
    "\n",
    "## 1. What is Object Oriented Programming?\n",
    "\n",
    "Imagine you have to describe an apple to someone who's never seen one before, how would you do it? And what would you say, besides that it's delicious? You might start off by saying that an apple is a type of fruit. You might talk about how there are lots of different kinds of apples, each with its own color, flavor, and name. Well, when you're explaining concepts to your computer, it's a good idea to approach it in a similar way. Your computer has no idea what an apple is, or even what a fruit can be. If you want your computer to understand these things, you have to describe them in your programs and scripts.\n",
    "\n",
    "Python uses a programming pattern called object-oriented programming, powerful paradigm where classes represent and define concepts, while objects are instances of classes\n",
    "\n"
   ]
  }
 ],
 "metadata": {
  "kernelspec": {
   "display_name": "Python 3",
   "language": "python",
   "name": "python3"
  },
  "language_info": {
   "codemirror_mode": {
    "name": "ipython",
    "version": 3
   },
   "file_extension": ".py",
   "mimetype": "text/x-python",
   "name": "python",
   "nbconvert_exporter": "python",
   "pygments_lexer": "ipython3",
   "version": "3.7.4"
  }
 },
 "nbformat": 4,
 "nbformat_minor": 2
}
