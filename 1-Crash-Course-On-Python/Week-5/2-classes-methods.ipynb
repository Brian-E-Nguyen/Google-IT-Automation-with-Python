{
 "cells": [
  {
   "cell_type": "markdown",
   "metadata": {},
   "source": [
    "# Classes and Methods\n",
    "\n",
    "## 1. Instance Methods\n",
    "\n",
    "__Methods__ are functions that operate on the attributes of a specific instance of a class\n",
    "\n",
    "The key to understanding methods is this; methods are functions that operate on the attributes of a specific instance of a class. When we call the append method on a list, we're adding an element to the end of that specific list and not to any other lists. When we call the lower method on the string, we're making the contents of that specific string lowercase. \n",
    "\n",
    "What if we wanted to give it a voice? For objects to perform actions, they need methods and as we called out before,"
   ]
  },
  {
   "cell_type": "code",
   "execution_count": 2,
   "metadata": {},
   "outputs": [
    {
     "name": "stdout",
     "output_type": "stream",
     "text": [
      "Oink! I'm piglet! Oink!\n"
     ]
    }
   ],
   "source": [
    "class Piglet():\n",
    "    name = 'piglet'\n",
    "    def speak(self):\n",
    "        print(\"Oink! I'm {}! Oink!\".format(self.name))\n",
    "\n",
    "hamlet = Piglet()\n",
    "hamlet.speak()"
   ]
  },
  {
   "cell_type": "markdown",
   "metadata": {},
   "source": [
    "If you look closely at how we wrote the newspeak method, you'll see that it's using the value of self.name to know what name to print. This means that it's accessing the attribute name from the current instance of Piglet."
   ]
  },
  {
   "cell_type": "code",
   "execution_count": 4,
   "metadata": {},
   "outputs": [
    {
     "name": "stdout",
     "output_type": "stream",
     "text": [
      "Oink! I'm Hamlet! Oink!\n"
     ]
    }
   ],
   "source": [
    "hamlet = Piglet()\n",
    "hamlet.name = 'Hamlet'\n",
    "hamlet.speak()"
   ]
  },
  {
   "cell_type": "markdown",
   "metadata": {},
   "source": [
    "Variables that have different values for different instances of the same class are called instance variables, just like the name variable in this example. Since methods are just functions that belong to a specific class, they can work as any other function. So they can receive more parameters and return values if needed"
   ]
  },
  {
   "cell_type": "code",
   "execution_count": 5,
   "metadata": {},
   "outputs": [
    {
     "name": "stdout",
     "output_type": "stream",
     "text": [
      "36\n"
     ]
    }
   ],
   "source": [
    "class Piglet:\n",
    "    years = 0\n",
    "    def pig_years(self):\n",
    "        return self.years * 18\n",
    "    \n",
    "piggy = Piglet()\n",
    "piggy.years = 2\n",
    "print(piggy.pig_years())"
   ]
  },
  {
   "cell_type": "markdown",
   "metadata": {},
   "source": [
    "### 1.1 Practice\n",
    "\n",
    "OK, now it’s your turn! Have a go at writing methods for a class. Create a Dog class with dog_years based on the Piglet class shown before (one human year is about 7 dog years)."
   ]
  },
  {
   "cell_type": "code",
   "execution_count": 7,
   "metadata": {},
   "outputs": [
    {
     "name": "stdout",
     "output_type": "stream",
     "text": [
      "21\n"
     ]
    }
   ],
   "source": [
    "class Dog:\n",
    "  years = 0\n",
    "  def dog_years(self):\n",
    "        return self.years * 7\n",
    "    \n",
    "fido=Dog()\n",
    "fido.years=3\n",
    "print(fido.dog_years())"
   ]
  },
  {
   "cell_type": "markdown",
   "metadata": {},
   "source": [
    "## 2. Constructors and Other Special Methods\n",
    "\n",
    "Up to now, we've been creating classes with empty or default values and their attributes and then setting the attribute values after we've created the object. This works, but it's not ideal. Working this way means we need to write a separate line for each attribute we want to set, and that makes it really easy to forget to set an important value.\n",
    "\n",
    "To do this, we need to use a special method called constructor. The constructor of the class is the method that's called when you call the name of the class. It's always named `init`."
   ]
  },
  {
   "cell_type": "code",
   "execution_count": 8,
   "metadata": {},
   "outputs": [
    {
     "name": "stdout",
     "output_type": "stream",
     "text": [
      "sweet\n"
     ]
    }
   ],
   "source": [
    "class Apple:\n",
    "    # methods with 2 underscores are special methods\n",
    "    def __init__(self, flavor, color):\n",
    "        self.color = color\n",
    "        self.flavor = flavor\n",
    "        \n",
    "jonagold = Apple('red', 'sweet')\n",
    "print(jonagold.color)"
   ]
  },
  {
   "cell_type": "markdown",
   "metadata": {},
   "source": [
    "### 2.1 Practice\n",
    "\n",
    "Want to see this in action? In this code, there's a Person class that has an attribute name, which gets set when constructing the object. Fill in the blanks so that 1) when an instance of the class is created, the attribute gets set correctly, and 2) when the greeting() method is called, the greeting states the assigned name."
   ]
  },
  {
   "cell_type": "code",
   "execution_count": 9,
   "metadata": {},
   "outputs": [
    {
     "name": "stdout",
     "output_type": "stream",
     "text": [
      "hi, my name is Mr. Krabs\n"
     ]
    }
   ],
   "source": [
    "class Person:\n",
    "    def __init__(self, name):\n",
    "        self.name = name\n",
    "    def greeting(self):\n",
    "        # Should return \"hi, my name is \" followed by the name of the Person.\n",
    "        return f'hi, my name is {self.name}' \n",
    "\n",
    "# Create a new instance with a name of your choice\n",
    "some_person = Person('Mr. Krabs')  \n",
    "# Call the greeting method\n",
    "print(some_person.greeting())\n"
   ]
  },
  {
   "cell_type": "markdown",
   "metadata": {},
   "source": [
    "### 2.2 Special Methods\n",
    "\n",
    "Constructors aren't the only special methods we can write. When we use the STR or print functions to convert an object to a string, we are using a super-useful special method."
   ]
  },
  {
   "cell_type": "code",
   "execution_count": 11,
   "metadata": {},
   "outputs": [
    {
     "name": "stdout",
     "output_type": "stream",
     "text": [
      "<__main__.Apple object at 0x00000135F8B4CBC8>\n"
     ]
    }
   ],
   "source": [
    "print(jonagold)"
   ]
  },
  {
   "cell_type": "markdown",
   "metadata": {},
   "source": [
    "We just tried to print our apple instance, and we got a very weird message. We have the words apple and object in there, but what's the rest of it? Well, when we don't specify a way to print an object, Python uses the default method that prints the position where the object is stored in the computer's memory\n",
    "\n",
    "So how do we tell Python to print something that makes sense for us? We use the special `str` method which returns the string that we want to print"
   ]
  },
  {
   "cell_type": "code",
   "execution_count": 13,
   "metadata": {},
   "outputs": [
    {
     "name": "stdout",
     "output_type": "stream",
     "text": [
      "This apple sweet and its flavor is red\n"
     ]
    }
   ],
   "source": [
    "class Apple:\n",
    "    # methods with 2 underscores are special methods\n",
    "    def __init__(self, flavor, color):\n",
    "        self.color = color\n",
    "        self.flavor = flavor\n",
    "    def __str__(self):\n",
    "        return f'This apple {self.color} and its flavor is {self.flavor}'\n",
    "jonagold = Apple('red', 'sweet')\n",
    "print(jonagold)"
   ]
  },
  {
   "cell_type": "markdown",
   "metadata": {},
   "source": [
    "By defining the special `str` method, we're telling Python that we want it to display when the print function is called with an instance of our class."
   ]
  },
  {
   "cell_type": "markdown",
   "metadata": {},
   "source": [
    "## 3. Documenting Functions, Classes, and Methods\n",
    "\n",
    "The world of classes and methods can be a little puzzling when you're still learning your way around, and that's why the help function can come in handy. You might remember that we can still use the Python function help to find documentation about classes and methods. We can also do this on our own classes, methods, and functions"
   ]
  },
  {
   "cell_type": "code",
   "execution_count": 14,
   "metadata": {},
   "outputs": [
    {
     "name": "stdout",
     "output_type": "stream",
     "text": [
      "Help on class Apple in module __main__:\n",
      "\n",
      "class Apple(builtins.object)\n",
      " |  Apple(flavor, color)\n",
      " |  \n",
      " |  Methods defined here:\n",
      " |  \n",
      " |  __init__(self, flavor, color)\n",
      " |      Initialize self.  See help(type(self)) for accurate signature.\n",
      " |  \n",
      " |  __str__(self)\n",
      " |      Return str(self).\n",
      " |  \n",
      " |  ----------------------------------------------------------------------\n",
      " |  Data descriptors defined here:\n",
      " |  \n",
      " |  __dict__\n",
      " |      dictionary for instance variables (if defined)\n",
      " |  \n",
      " |  __weakref__\n",
      " |      list of weak references to the object (if defined)\n",
      "\n"
     ]
    }
   ],
   "source": [
    "class Apple:\n",
    "    # methods with 2 underscores are special methods\n",
    "    def __init__(self, flavor, color):\n",
    "        self.color = color\n",
    "        self.flavor = flavor\n",
    "    def __str__(self):\n",
    "        return f'This apple {self.color} and its flavor is {self.flavor}'\n",
    "help(Apple)"
   ]
  },
  {
   "cell_type": "markdown",
   "metadata": {},
   "source": [
    "In this example, the defined methods are the constructor and the conversion to string. But this documentation is super short and to be honest, it doesn't explain a whole lot.\n",
    "\n",
    "We want our methods, classes, and functions to give us more information when we or someone else use the help function. We can do that by adding a docstring. A __docstring__ is a brief text that explains what something does. To make one, use triple quotes inside of the method"
   ]
  },
  {
   "cell_type": "code",
   "execution_count": 16,
   "metadata": {},
   "outputs": [
    {
     "name": "stdout",
     "output_type": "stream",
     "text": [
      "Help on function to_seconds in module __main__:\n",
      "\n",
      "to_seconds(hours, minutes, seconds)\n",
      "    Returns the amont of seconds in the given hours, minutes, and seconds\n",
      "\n"
     ]
    }
   ],
   "source": [
    "def to_seconds(hours, minutes, seconds):\n",
    "    '''Returns the amont of seconds in the given hours, minutes, and seconds'''\n",
    "    return hours * 3600 + minutes * 60 + seconds\n",
    "\n",
    "help(to_seconds)"
   ]
  },
  {
   "cell_type": "markdown",
   "metadata": {},
   "source": [
    "As we called out earlier, we can add docstrings to classes and methods too"
   ]
  },
  {
   "cell_type": "code",
   "execution_count": 17,
   "metadata": {},
   "outputs": [
    {
     "name": "stdout",
     "output_type": "stream",
     "text": [
      "Help on class Piglet in module __main__:\n",
      "\n",
      "class Piglet(builtins.object)\n",
      " |  Represents a piglet that can say their name\n",
      " |  \n",
      " |  Methods defined here:\n",
      " |  \n",
      " |  pig_years(self)\n",
      " |      Converts the current age to equivalent pig years\n",
      " |  \n",
      " |  speak(self)\n",
      " |      Outputs a message including the name of the piglet\n",
      " |  \n",
      " |  ----------------------------------------------------------------------\n",
      " |  Data descriptors defined here:\n",
      " |  \n",
      " |  __dict__\n",
      " |      dictionary for instance variables (if defined)\n",
      " |  \n",
      " |  __weakref__\n",
      " |      list of weak references to the object (if defined)\n",
      " |  \n",
      " |  ----------------------------------------------------------------------\n",
      " |  Data and other attributes defined here:\n",
      " |  \n",
      " |  name = ''\n",
      " |  \n",
      " |  years = 0\n",
      "\n"
     ]
    }
   ],
   "source": [
    "class Piglet():\n",
    "    '''Represents a piglet that can say their name'''\n",
    "    name = ''\n",
    "    years = 0\n",
    "    \n",
    "    def speak(self):\n",
    "        '''Outputs a message including the name of the piglet'''\n",
    "        print(\"Oink! I'm {}! Oink!\".format(self.name))\n",
    "        \n",
    "    def pig_years(self):\n",
    "        '''Converts the current age to equivalent pig years'''\n",
    "        return self.years * 18\n",
    "\n",
    "help(Piglet)"
   ]
  },
  {
   "cell_type": "markdown",
   "metadata": {},
   "source": [
    "### 3.1 Practice\n",
    "\n",
    "Remember our Person class from the last video? Let’s add a docstring to the greeting method. How about, “Outputs a message with the name of the person”."
   ]
  },
  {
   "cell_type": "code",
   "execution_count": 18,
   "metadata": {},
   "outputs": [
    {
     "name": "stdout",
     "output_type": "stream",
     "text": [
      "Help on class Person in module __main__:\n",
      "\n",
      "class Person(builtins.object)\n",
      " |  Person(name)\n",
      " |  \n",
      " |  Methods defined here:\n",
      " |  \n",
      " |  __init__(self, name)\n",
      " |      Initialize self.  See help(type(self)) for accurate signature.\n",
      " |  \n",
      " |  greeting(self)\n",
      " |      Outputs a message with the name of the person\n",
      " |  \n",
      " |  ----------------------------------------------------------------------\n",
      " |  Data descriptors defined here:\n",
      " |  \n",
      " |  __dict__\n",
      " |      dictionary for instance variables (if defined)\n",
      " |  \n",
      " |  __weakref__\n",
      " |      list of weak references to the object (if defined)\n",
      "\n"
     ]
    }
   ],
   "source": [
    "class Person:\n",
    "  def __init__(self, name):\n",
    "    self.name = name\n",
    "  def greeting(self):\n",
    "    '''Outputs a message with the name of the person'''\n",
    "    print(\"Hello! My name is {name}.\".format(name=self.name)) \n",
    "\n",
    "help(Person)\n"
   ]
  },
  {
   "cell_type": "markdown",
   "metadata": {},
   "source": [
    "## 4. Classes and Methods Cheat Sheet\n",
    "\n",
    "### 4.1 Defining classes and methods\n",
    "\n",
    "```python\n",
    "class ClassName:\n",
    "    def method_name(self, other_parameters):\n",
    "        body_of_method\n",
    "```\n",
    "\n",
    "### 4.2 Classes and Instances\n",
    "\n",
    "- Classes define the behavior of all instances of a specific class.\n",
    "- Each variable of a specific class is an instance or object.\n",
    "- Objects can have attributes, which store information about the object.\n",
    "- You can make objects do work by calling their methods.\n",
    "- The first parameter of the methods (self) represents the current instance.\n",
    "- Methods are just like functions, but they can only be used through a class.\n",
    "\n",
    "### 4.3 Special Methods\n",
    "\n",
    "- Special methods start and end with __\n",
    "- Special methods have specific names, like \\_\\_init\\_\\_ for the constructor or \\_\\_str\\_\\_ for the conversion to string.\n",
    "\n",
    "### 4.4 Documenting Classes, Methods, and Functions\n",
    "- You can add documentation to classes, methods, and functions by using docstrings right after the definition. Like this:\n",
    "\n",
    "```python\n",
    "class ClassName:\n",
    "    \"\"\"Documentation for the class.\"\"\"\n",
    "    def method_name(self, other_parameters):\n",
    "        \"\"\"Documentation for the method.\"\"\"\n",
    "        body_of_method\n",
    "        \n",
    "def function_name(parameters):\n",
    "    \"\"\"Documentation for the function.\"\"\"\n",
    "    body_of_function\n",
    "```"
   ]
  },
  {
   "cell_type": "code",
   "execution_count": null,
   "metadata": {},
   "outputs": [],
   "source": []
  }
 ],
 "metadata": {
  "kernelspec": {
   "display_name": "Python 3",
   "language": "python",
   "name": "python3"
  },
  "language_info": {
   "codemirror_mode": {
    "name": "ipython",
    "version": 3
   },
   "file_extension": ".py",
   "mimetype": "text/x-python",
   "name": "python",
   "nbconvert_exporter": "python",
   "pygments_lexer": "ipython3",
   "version": "3.7.4"
  }
 },
 "nbformat": 4,
 "nbformat_minor": 2
}
