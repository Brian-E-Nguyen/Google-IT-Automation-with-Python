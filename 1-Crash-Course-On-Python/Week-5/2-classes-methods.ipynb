{
 "cells": [
  {
   "cell_type": "markdown",
   "metadata": {},
   "source": [
    "# Classes and Methods\n",
    "\n",
    "## 1. Instance Methods\n",
    "\n",
    "__Methods__ are functions that operate on the attributes of a specific instance of a class\n",
    "\n",
    "The key to understanding methods is this; methods are functions that operate on the attributes of a specific instance of a class. When we call the append method on a list, we're adding an element to the end of that specific list and not to any other lists. When we call the lower method on the string, we're making the contents of that specific string lowercase. \n",
    "\n",
    "What if we wanted to give it a voice? For objects to perform actions, they need methods and as we called out before,"
   ]
  },
  {
   "cell_type": "code",
   "execution_count": 2,
   "metadata": {},
   "outputs": [
    {
     "name": "stdout",
     "output_type": "stream",
     "text": [
      "Oink! I'm piglet! Oink!\n"
     ]
    }
   ],
   "source": [
    "class Piglet():\n",
    "    name = 'piglet'\n",
    "    def speak(self):\n",
    "        print(\"Oink! I'm {}! Oink!\".format(self.name))\n",
    "\n",
    "hamlet = Piglet()\n",
    "hamlet.speak()"
   ]
  },
  {
   "cell_type": "markdown",
   "metadata": {},
   "source": [
    "If you look closely at how we wrote the newspeak method, you'll see that it's using the value of self.name to know what name to print. This means that it's accessing the attribute name from the current instance of Piglet."
   ]
  },
  {
   "cell_type": "code",
   "execution_count": 4,
   "metadata": {},
   "outputs": [
    {
     "name": "stdout",
     "output_type": "stream",
     "text": [
      "Oink! I'm Hamlet! Oink!\n"
     ]
    }
   ],
   "source": [
    "hamlet = Piglet()\n",
    "hamlet.name = 'Hamlet'\n",
    "hamlet.speak()"
   ]
  },
  {
   "cell_type": "markdown",
   "metadata": {},
   "source": [
    "Variables that have different values for different instances of the same class are called instance variables, just like the name variable in this example. Since methods are just functions that belong to a specific class, they can work as any other function. So they can receive more parameters and return values if needed"
   ]
  },
  {
   "cell_type": "code",
   "execution_count": 5,
   "metadata": {},
   "outputs": [
    {
     "name": "stdout",
     "output_type": "stream",
     "text": [
      "36\n"
     ]
    }
   ],
   "source": [
    "class Piglet:\n",
    "    years = 0\n",
    "    def pig_years(self):\n",
    "        return self.years * 18\n",
    "    \n",
    "piggy = Piglet()\n",
    "piggy.years = 2\n",
    "print(piggy.pig_years())"
   ]
  },
  {
   "cell_type": "markdown",
   "metadata": {},
   "source": [
    "### 1.1 Practice\n",
    "\n",
    "OK, now it’s your turn! Have a go at writing methods for a class. Create a Dog class with dog_years based on the Piglet class shown before (one human year is about 7 dog years)."
   ]
  },
  {
   "cell_type": "code",
   "execution_count": 7,
   "metadata": {},
   "outputs": [
    {
     "name": "stdout",
     "output_type": "stream",
     "text": [
      "21\n"
     ]
    }
   ],
   "source": [
    "class Dog:\n",
    "  years = 0\n",
    "  def dog_years(self):\n",
    "        return self.years * 7\n",
    "    \n",
    "fido=Dog()\n",
    "fido.years=3\n",
    "print(fido.dog_years())"
   ]
  },
  {
   "cell_type": "markdown",
   "metadata": {},
   "source": [
    "## 2. Constructors and Other Special Methods\n",
    "\n",
    "Up to now, we've been creating classes with empty or default values and their attributes and then setting the attribute values after we've created the object. This works, but it's not ideal. Working this way means we need to write a separate line for each attribute we want to set, and that makes it really easy to forget to set an important value.\n",
    "\n",
    "To do this, we need to use a special method called constructor. The constructor of the class is the method that's called when you call the name of the class. It's always named `init`."
   ]
  },
  {
   "cell_type": "code",
   "execution_count": 8,
   "metadata": {},
   "outputs": [
    {
     "name": "stdout",
     "output_type": "stream",
     "text": [
      "sweet\n"
     ]
    }
   ],
   "source": [
    "class Apple:\n",
    "    # methods with 2 underscores are special methods\n",
    "    def __init__(self, flavor, color):\n",
    "        self.color = color\n",
    "        self.flavor = flavor\n",
    "        \n",
    "jonagold = Apple('red', 'sweet')\n",
    "print(jonagold.color)"
   ]
  },
  {
   "cell_type": "markdown",
   "metadata": {},
   "source": [
    "### 2.1 Practice\n",
    "\n",
    "Want to see this in action? In this code, there's a Person class that has an attribute name, which gets set when constructing the object. Fill in the blanks so that 1) when an instance of the class is created, the attribute gets set correctly, and 2) when the greeting() method is called, the greeting states the assigned name."
   ]
  },
  {
   "cell_type": "code",
   "execution_count": 9,
   "metadata": {},
   "outputs": [
    {
     "name": "stdout",
     "output_type": "stream",
     "text": [
      "hi, my name is Mr. Krabs\n"
     ]
    }
   ],
   "source": [
    "class Person:\n",
    "    def __init__(self, name):\n",
    "        self.name = name\n",
    "    def greeting(self):\n",
    "        # Should return \"hi, my name is \" followed by the name of the Person.\n",
    "        return f'hi, my name is {self.name}' \n",
    "\n",
    "# Create a new instance with a name of your choice\n",
    "some_person = Person('Mr. Krabs')  \n",
    "# Call the greeting method\n",
    "print(some_person.greeting())\n"
   ]
  },
  {
   "cell_type": "markdown",
   "metadata": {},
   "source": [
    "### 2.2 Special Methods\n",
    "\n",
    "Constructors aren't the only special methods we can write. When we use the STR or print functions to convert an object to a string, we are using a super-useful special method."
   ]
  },
  {
   "cell_type": "code",
   "execution_count": 11,
   "metadata": {},
   "outputs": [
    {
     "name": "stdout",
     "output_type": "stream",
     "text": [
      "<__main__.Apple object at 0x00000135F8B4CBC8>\n"
     ]
    }
   ],
   "source": [
    "print(jonagold)"
   ]
  },
  {
   "cell_type": "markdown",
   "metadata": {},
   "source": [
    "We just tried to print our apple instance, and we got a very weird message. We have the words apple and object in there, but what's the rest of it? Well, when we don't specify a way to print an object, Python uses the default method that prints the position where the object is stored in the computer's memory\n",
    "\n",
    "So how do we tell Python to print something that makes sense for us? We use the special `str` method which returns the string that we want to print"
   ]
  },
  {
   "cell_type": "code",
   "execution_count": 13,
   "metadata": {},
   "outputs": [
    {
     "name": "stdout",
     "output_type": "stream",
     "text": [
      "This apple sweet and its flavor is red\n"
     ]
    }
   ],
   "source": [
    "class Apple:\n",
    "    # methods with 2 underscores are special methods\n",
    "    def __init__(self, flavor, color):\n",
    "        self.color = color\n",
    "        self.flavor = flavor\n",
    "    def __str__(self):\n",
    "        return f'This apple {self.color} and its flavor is {self.flavor}'\n",
    "jonagold = Apple('red', 'sweet')\n",
    "print(jonagold)"
   ]
  },
  {
   "cell_type": "markdown",
   "metadata": {},
   "source": [
    "By defining the special `str` method, we're telling Python that we want it to display when the print function is called with an instance of our class."
   ]
  },
  {
   "cell_type": "code",
   "execution_count": null,
   "metadata": {},
   "outputs": [],
   "source": []
  }
 ],
 "metadata": {
  "kernelspec": {
   "display_name": "Python 3",
   "language": "python",
   "name": "python3"
  },
  "language_info": {
   "codemirror_mode": {
    "name": "ipython",
    "version": 3
   },
   "file_extension": ".py",
   "mimetype": "text/x-python",
   "name": "python",
   "nbconvert_exporter": "python",
   "pygments_lexer": "ipython3",
   "version": "3.7.4"
  }
 },
 "nbformat": 4,
 "nbformat_minor": 2
}
