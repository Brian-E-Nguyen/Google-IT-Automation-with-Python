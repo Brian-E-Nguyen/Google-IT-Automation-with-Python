{
 "cells": [
  {
   "cell_type": "markdown",
   "metadata": {},
   "source": [
    "# Dictionaries\n",
    "\n",
    "## 1. What is a Dictionary?\n",
    "\n",
    "Like lists, dictionaries are used to organize elements into collections. Unlike lists, you don't access elements inside dictionaries using their position. Instead, the data inside dictionaries take the form of pairs of keys and values. To get a dictionary value we use its corresponding key.\n",
    "\n",
    "Another way these two vary is while in a list the index must be a number, in a dictionary you can use a bunch of different data types as keys, like strings, integers, floats, tuples, and more. The name dictionaries comes from how they work in a similar way to human language dictionaries. In an English language dictionary the word comes with a definition."
   ]
  },
  {
   "cell_type": "code",
   "execution_count": 1,
   "metadata": {},
   "outputs": [
    {
     "data": {
      "text/plain": [
       "dict"
      ]
     },
     "execution_count": 1,
     "metadata": {},
     "output_type": "execute_result"
    }
   ],
   "source": [
    "x = {}\n",
    "type(x)"
   ]
  },
  {
   "cell_type": "code",
   "execution_count": 2,
   "metadata": {},
   "outputs": [
    {
     "name": "stdout",
     "output_type": "stream",
     "text": [
      "{'jpg': 10, 'txt': 14, 'csv': 2, 'py': 23}\n"
     ]
    }
   ],
   "source": [
    "file_counts = {\n",
    "    'jpg': 10,\n",
    "    'txt': 14,\n",
    "    'csv': 2,\n",
    "    'py': 23\n",
    "}\n",
    "print(file_counts)"
   ]
  },
  {
   "cell_type": "markdown",
   "metadata": {},
   "source": [
    "It makes sense to encode the file extension formatting in a string, while it's natural to represent a count as an integer number. Let's say you want to find out how many text files there are in the dictionary. To do this, you would use the key txt to access its associated value. The syntax to do this may look familiar, since we used something similar in our examples of indexing strings, lists, and tuples."
   ]
  },
  {
   "cell_type": "code",
   "execution_count": 3,
   "metadata": {},
   "outputs": [
    {
     "data": {
      "text/plain": [
       "14"
      ]
     },
     "execution_count": 3,
     "metadata": {},
     "output_type": "execute_result"
    }
   ],
   "source": [
    "file_counts['txt']"
   ]
  },
  {
   "cell_type": "markdown",
   "metadata": {},
   "source": [
    "You can also use the `in` keyword to check if a key is contained in a dictionary."
   ]
  },
  {
   "cell_type": "code",
   "execution_count": 4,
   "metadata": {},
   "outputs": [
    {
     "data": {
      "text/plain": [
       "True"
      ]
     },
     "execution_count": 4,
     "metadata": {},
     "output_type": "execute_result"
    }
   ],
   "source": [
    "'jpg' in file_counts"
   ]
  },
  {
   "cell_type": "markdown",
   "metadata": {},
   "source": [
    "Dictionaries are _mutable_. To add an entry in a dictionary, just use the square brackets to create the key and assign a new value to it. \n",
    "\n",
    "Let's add a file count of eight for a new CFG file extension and dictionary."
   ]
  },
  {
   "cell_type": "code",
   "execution_count": 6,
   "metadata": {},
   "outputs": [
    {
     "name": "stdout",
     "output_type": "stream",
     "text": [
      "{'jpg': 10, 'txt': 14, 'csv': 2, 'py': 23, 'cfg': 8}\n"
     ]
    }
   ],
   "source": [
    "file_counts['cfg'] = 8\n",
    "print(file_counts)"
   ]
  },
  {
   "cell_type": "markdown",
   "metadata": {},
   "source": [
    "When you use a key that already exists to set a value, the value that was already paired with that key is replaced"
   ]
  },
  {
   "cell_type": "code",
   "execution_count": 7,
   "metadata": {},
   "outputs": [
    {
     "name": "stdout",
     "output_type": "stream",
     "text": [
      "{'jpg': 10, 'txt': 14, 'csv': 23, 'py': 23, 'cfg': 8}\n"
     ]
    }
   ],
   "source": [
    "file_counts['csv'] = 23\n",
    "print(file_counts)"
   ]
  },
  {
   "cell_type": "markdown",
   "metadata": {},
   "source": [
    "Last off, we can delete elements from a dictionary with the `del` keyword by passing the dictionary and the key to the element as if we were trying to access it."
   ]
  },
  {
   "cell_type": "code",
   "execution_count": 8,
   "metadata": {},
   "outputs": [
    {
     "name": "stdout",
     "output_type": "stream",
     "text": [
      "{'jpg': 10, 'txt': 14, 'py': 23, 'cfg': 8}\n"
     ]
    }
   ],
   "source": [
    "del file_counts['csv']\n",
    "print(file_counts)"
   ]
  },
  {
   "cell_type": "markdown",
   "metadata": {},
   "source": [
    "__Practice__\n",
    "\n",
    "The \"toc\" dictionary represents the table of contents for a book. Fill in the blanks to do the following: 1) Add an entry for Epilogue on page 39. 2) Change the page number for Chapter 3 to 24. 3) Display the new dictionary contents. 4) Display True if there is Chapter 5, False if there isn't."
   ]
  },
  {
   "cell_type": "code",
   "execution_count": 9,
   "metadata": {},
   "outputs": [
    {
     "name": "stdout",
     "output_type": "stream",
     "text": [
      "{'Introduction': 1, 'Chapter 1': 4, 'Chapter 2': 11, 'Chapter 3': 24, 'Chapter 4': 30, 'Epilogue': 39}\n",
      "False\n"
     ]
    }
   ],
   "source": [
    "toc = {\"Introduction\":1, \"Chapter 1\":4, \"Chapter 2\":11, \"Chapter 3\":25, \"Chapter 4\":30}\n",
    "# Epilogue starts on page 39\n",
    "toc[\"Epilogue\"] = 39 \n",
    "# Chapter 3 now starts on page 24\n",
    "toc['Chapter 3'] = 24\n",
    "# What are the current contents of the dictionary?\n",
    "print(toc)\n",
    "# Is there a Chapter 5?\n",
    "print(\"Chapter 5\" in toc)"
   ]
  },
  {
   "cell_type": "markdown",
   "metadata": {},
   "source": [
    "## 2. Iterating Over the Contents of a Dictionary\n",
    "\n",
    "Just like with strings lists and tuples, you can use for loops to iterate through the contents of a dictionary."
   ]
  },
  {
   "cell_type": "code",
   "execution_count": 5,
   "metadata": {},
   "outputs": [
    {
     "name": "stdout",
     "output_type": "stream",
     "text": [
      "jpg\n",
      "txt\n",
      "csv\n",
      "py\n"
     ]
    }
   ],
   "source": [
    "file_counts = {\n",
    "    'jpg': 10,\n",
    "    'txt': 14,\n",
    "    'csv': 2,\n",
    "    'py': 23\n",
    "}\n",
    "for extension in file_counts:\n",
    "    print(extension)"
   ]
  },
  {
   "cell_type": "markdown",
   "metadata": {},
   "source": [
    "If you want to access the associated values, you can either use the keys as indexes of the dictionary or you can use the `items()` method which returns a tuple for each element in the dictionary. The tuple's first element is the key. Its second element is the value."
   ]
  },
  {
   "cell_type": "code",
   "execution_count": 7,
   "metadata": {},
   "outputs": [
    {
     "name": "stdout",
     "output_type": "stream",
     "text": [
      "There are 10 files with the .jpg extension\n",
      "There are 14 files with the .txt extension\n",
      "There are 2 files with the .csv extension\n",
      "There are 23 files with the .py extension\n"
     ]
    }
   ],
   "source": [
    "for ext, amount in file_counts.items():\n",
    "    print('There are {} files with the .{} extension'.format(amount, ext))"
   ]
  },
  {
   "cell_type": "code",
   "execution_count": 9,
   "metadata": {},
   "outputs": [
    {
     "data": {
      "text/plain": [
       "dict_keys(['jpg', 'txt', 'csv', 'py'])"
      ]
     },
     "execution_count": 9,
     "metadata": {},
     "output_type": "execute_result"
    }
   ],
   "source": [
    "file_counts.keys()"
   ]
  },
  {
   "cell_type": "code",
   "execution_count": 10,
   "metadata": {},
   "outputs": [
    {
     "data": {
      "text/plain": [
       "dict_values([10, 14, 2, 23])"
      ]
     },
     "execution_count": 10,
     "metadata": {},
     "output_type": "execute_result"
    }
   ],
   "source": [
    "file_counts.values()"
   ]
  },
  {
   "cell_type": "markdown",
   "metadata": {},
   "source": [
    "__Practice__\n",
    "\n",
    "Now, it's your turn! Have a go at iterating over a dictionary!\n",
    "\n",
    "Complete the code to iterate through the keys and values of the cool_beasts dictionary. Remember that the items method returns a tuple of key, value for each element in the dictionary."
   ]
  },
  {
   "cell_type": "code",
   "execution_count": 12,
   "metadata": {},
   "outputs": [
    {
     "name": "stdout",
     "output_type": "stream",
     "text": [
      "octopuses have tentacles\n",
      "dolphins have fins\n",
      "rhinos have horns\n"
     ]
    }
   ],
   "source": [
    "cool_beasts = {\"octopuses\":\"tentacles\", \"dolphins\":\"fins\", \"rhinos\":\"horns\"}\n",
    "for beast, part in cool_beasts.items():\n",
    "    print(\"{} have {}\".format(beast, part))"
   ]
  },
  {
   "cell_type": "markdown",
   "metadata": {},
   "source": [
    "Because we know that each key can be present only once, dictionaries are a great tool for counting elements and analyzing frequency.\n",
    "\n",
    "Let's check out a simple example of counting how many times each letter appears in a piece of text."
   ]
  },
  {
   "cell_type": "code",
   "execution_count": 13,
   "metadata": {},
   "outputs": [
    {
     "name": "stdout",
     "output_type": "stream",
     "text": [
      "{'S': 1, 'o': 7, 'm': 3, 'e': 5, 'b': 1, 'd': 3, 'y': 1, ' ': 9, 'n': 3, 'c': 1, 't': 2, 'l': 4, 'h': 1, 'w': 1, 'r': 2, 'i': 1, 's': 1, 'g': 1, 'a': 1}\n"
     ]
    }
   ],
   "source": [
    "def count_letters(text):\n",
    "    result = {}\n",
    "    for letter in text:\n",
    "        if letter not in result:\n",
    "            result[letter] = 0\n",
    "        result[letter] += 1\n",
    "    return result\n",
    "\n",
    "print(count_letters('Somebody once told me the world is gonna roll me'))"
   ]
  },
  {
   "cell_type": "markdown",
   "metadata": {},
   "source": [
    "## 3. Dictionaries Over Lists\n",
    "\n",
    "Dictionaries and lists are both really useful and each have strengths in different situations. So when is it best to use a list and when is the dictionary the way to go? Think about the kind of information you can represent in each data structure. If you've got a list of information you'd like to collect and use in your script then the list is probably the right approach.\n",
    "\n",
    "For example, if you want to store a series of IP addresses to ping, you could put them all into a list and iterate over them. Or if you had a list of host names and their corresponding IP addresses, you might want to pair them as key values in a dictionary."
   ]
  },
  {
   "cell_type": "code",
   "execution_count": 15,
   "metadata": {},
   "outputs": [],
   "source": [
    "ip_addresses = ['200.000.1.1', '127.0.0.1']\n",
    "host_addresses = {\n",
    "    'router': '200.000.1.1',\n",
    "    'localhost': '127.0.0.1'\n",
    "}"
   ]
  },
  {
   "cell_type": "markdown",
   "metadata": {},
   "source": [
    "Because of the way dictionaries work, it's super easy and fast to search for an element in them.\n",
    "\n",
    "Let's say you have a dictionary that has usernames as keys, and the groups they belong to as values. It doesn't matter if you have 10 users or 10,000 users, accessing the entry for a given user will take the same time. Amazing, but this isn't true for lists. If you've got a list of 10 elements, and you need to check if one element is in the list, it'll be a very fast check but if your list has 10,000 elements it'll take significantly longer to check if the element you're looking for is there. \n",
    "\n",
    "### 3.1 Differences\n",
    "\n",
    "Another interesting difference is the types of values that we can store in lists and dictionaries. \n",
    "\n",
    "In lists, you can store any data type. In dictionaries, we can store any data type for the values but the keys are restricted to specific types\n",
    "\n",
    "For dictionary keys, you can use anything that is _immutable_\n",
    "- numbers \n",
    "- bools\n",
    "- strings\n",
    "- tuples\n",
    "\n",
    "### 3.2 What Should You Use?\n",
    "\n",
    "So in general, you want to use dictionaries when you plan on searching for a specific element."
   ]
  },
  {
   "cell_type": "markdown",
   "metadata": {},
   "source": [
    "### 3.3 Practice\n",
    "\n",
    "In Python, a dictionary can only hold a single value for a given key. To workaround this, our single value can be a list containing multiple values. Here we have a dictionary called \"wardrobe\" with items of clothing and their colors. Fill in the blanks to print a line for each item of clothing with each color, for example: \"red shirt\", \"blue shirt\", and so on."
   ]
  },
  {
   "cell_type": "code",
   "execution_count": 30,
   "metadata": {},
   "outputs": [
    {
     "name": "stdout",
     "output_type": "stream",
     "text": [
      "red shirt\n",
      "blue shirt\n",
      "white shirt\n",
      "blue jeans\n",
      "black jeans\n"
     ]
    }
   ],
   "source": [
    "wardrobe = {\"shirt\":[\"red\",\"blue\",\"white\"], \"jeans\":[\"blue\",\"black\"]}\n",
    "for item in wardrobe.keys():\n",
    "    # Retrieve the values associated with key\n",
    "    colors = wardrobe[item]\n",
    "    for color in colors:\n",
    "        print(\"{} {}\".format(color, item))"
   ]
  },
  {
   "cell_type": "markdown",
   "metadata": {},
   "source": [
    "## 4. Dictionary Methods Cheat Sheet\n",
    "\n",
    "___Definition__\n",
    "\n",
    "`x = {key1:value1, key2:value2}`\n",
    "\n",
    "__Operations__\n",
    "\n",
    "- len(dictionary) - Returns the number of items in the dictionary\n",
    "- for key in dictionary - Iterates over each key in the dictionary\n",
    "- for key, value in dictionary.items() - Iterates over each key,value pair in the dictionary\n",
    "- if key in dictionary - Checks whether the key is in the dictionary\n",
    "- dictionary[key] - Accesses the item with key key of the dictionary\n",
    "- dictionary[key] = value - Sets the value associated with key\n",
    "- del dictionary[key] - Removes the item with key key from the dictionary\n",
    "\n",
    "__Methods__\n",
    "\n",
    "- dict.get(key, default) - Returns the element corresponding to key, or default if it's not present\n",
    "- dict.keys() - Returns a sequence containing the keys in the dictionary\n",
    "- dict.values() - Returns a sequence containing the values in the dictionary\n",
    "- dict.update(other_dictionary) - Updates the dictionary with the items coming from the other dictionary. Existing entries will be replaced; new entries will be added.\n",
    "dict.clear() - Removes all the items of the dictionary"
   ]
  }
 ],
 "metadata": {
  "kernelspec": {
   "display_name": "Python 3",
   "language": "python",
   "name": "python3"
  },
  "language_info": {
   "codemirror_mode": {
    "name": "ipython",
    "version": 3
   },
   "file_extension": ".py",
   "mimetype": "text/x-python",
   "name": "python",
   "nbconvert_exporter": "python",
   "pygments_lexer": "ipython3",
   "version": "3.7.4"
  }
 },
 "nbformat": 4,
 "nbformat_minor": 2
}
