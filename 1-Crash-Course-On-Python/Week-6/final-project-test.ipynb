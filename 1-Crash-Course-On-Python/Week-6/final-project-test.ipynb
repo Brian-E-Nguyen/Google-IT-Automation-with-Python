{
 "cells": [
  {
   "cell_type": "markdown",
   "metadata": {},
   "source": [
    "# Final Project\n",
    "\n",
    "The goal of the project is to create a word cloud. A word cloud is an image that's made up of different sized words. Usually the sizes of the words are determined by how many times each word appears in a specific text. To create the image itself, we're going to use an external Python module called creatively Word cloud.\n",
    "\n",
    "Our job is to create a script that would go through the text and count how many times each word appears. We've done this a few times already, any ideas how we should tackle this one? If you're thinking of using a dictionary to count how many times each word appears, then. Ding ding ding, good answer. You're going to prepare a dictionary and use that as a parameter for the word cloud module, not too tricky, right? \n",
    "\n",
    "One, punctuation marks, before counting the frequency of the words, you need to make sure that there are no punctuation marks in the text. If you don't, a string example with a comma at the end would be different from a string example with a dot at the end. So before you put words into the dictionary, you have to clean up the text to remove any punctuation marks. \n",
    "\n",
    "And the second thing we want to keep our word cloud interesting. Think about words like, the, two or if. So you need to find a way to exclude irrelevant or uninteresting words when processing the text.\n",
    "\n",
    "For the input, you're going to upload a text file. You can choose any text file you like for your input"
   ]
  },
  {
   "cell_type": "code",
   "execution_count": 37,
   "metadata": {},
   "outputs": [
    {
     "name": "stdout",
     "output_type": "stream",
     "text": [
      "['[Verse', '1:', 'Mike', 'Shinoda]', 'When', 'you', 'were', 'standing', 'in', 'the', 'wake', 'of', 'devastation', 'When', 'you', 'were', 'waiting', 'on', 'the', 'edge', 'of', 'the', 'unknown', 'And', 'with', 'the', 'cataclysm', 'raining', 'down', 'Insides', 'crying,', '\"Save', 'me', 'now\"', 'You', 'were', 'there,', 'impossibly', 'alone', '[Chorus:', 'Chester', 'Bennington]', 'Do', 'you', 'feel', 'cold', 'and', 'lost', 'in', 'desperation?', 'You', 'build', 'up', 'hope,', 'but', \"failure's\", 'all', \"you've\", 'known', 'Remember', 'all', 'the', 'sadness', 'and', 'frustration', 'And', 'let', 'it', 'go,', 'let', 'it', 'go', '[Verse', '2:', 'Mike', 'Shinoda]', 'And', 'in', 'a', 'burst', 'of', 'light', 'that', 'blinded', 'every', 'angel', 'As', 'if', 'the', 'sky', 'had', 'blown', 'the', 'heavens', 'into', 'stars', 'You', 'felt', 'the', 'gravity', 'of', 'tempered', 'grace', 'Falling', 'into', 'empty', 'space', 'No', 'one', 'there', 'to', 'catch', 'you', 'in', 'their', 'arms', '[Chorus:', 'Chester', 'Bennington', '&', 'Mike', 'Shinoda]', 'Do', 'you', 'feel', 'cold', 'and', 'lost', 'in', 'desperation?', 'You', 'build', 'up', 'hope,', 'but', 'failure’s', 'all', 'you’ve', 'known', 'Remember', 'all', 'the', 'sadness', 'and', 'frustration', 'And', 'let', 'it', 'go,', 'let', 'it', 'go', '[Bridge:', 'Chester', 'Bennington', '&', 'Mike', 'Shinoda]', 'Do', 'you', 'feel', 'cold', 'and', 'lost', 'in', 'desperation?', 'You', 'build', 'up', 'hope,', 'but', \"failure's\", 'all', \"you've\", 'known', 'Remember', 'all', 'the', 'sadness', 'and', 'frustration', 'And', 'let', 'it', 'go', 'Let', 'it', 'go', 'Let', 'it', 'go', 'Let', 'it', 'go', 'Let', 'it', 'go', '[Chorus:', 'Chester', 'Bennington', '&', 'Mike', 'Shinoda]', 'Do', 'you', 'feel', 'cold', 'and', 'lost', 'in', 'desperation?', 'You', 'build', 'up', 'hope,', 'but', \"failure's\", 'all', \"you've\", 'known', 'Remember', 'all', 'the', 'sadness', 'and', 'frustration', 'And', 'let', 'it', 'go,', 'let', 'it', 'go']\n"
     ]
    }
   ],
   "source": [
    "string = '''[Verse 1: Mike Shinoda]\n",
    "When you were standing in the wake of devastation\n",
    "When you were waiting on the edge of the unknown\n",
    "And with the cataclysm raining down\n",
    "Insides crying, \"Save me now\"\n",
    "You were there, impossibly alone\n",
    "\n",
    "[Chorus: Chester Bennington]\n",
    "Do you feel cold and lost in desperation?\n",
    "You build up hope, but failure's all you've known\n",
    "Remember all the sadness and frustration\n",
    "And let it go, let it go\n",
    "\n",
    "[Verse 2: Mike Shinoda]\n",
    "And in a burst of light that blinded every angel\n",
    "As if the sky had blown the heavens into stars\n",
    "You felt the gravity of tempered grace\n",
    "Falling into empty space\n",
    "No one there to catch you in their arms\n",
    "\n",
    "[Chorus: Chester Bennington & Mike Shinoda]\n",
    "Do you feel cold and lost in desperation?\n",
    "You build up hope, but failure’s all you’ve known\n",
    "Remember all the sadness and frustration\n",
    "And let it go, let it go\n",
    "\n",
    "[Bridge: Chester Bennington & Mike Shinoda]\n",
    "Do you feel cold and lost in desperation?\n",
    "You build up hope, but failure's all you've known\n",
    "Remember all the sadness and frustration\n",
    "And let it go\n",
    "\n",
    "Let it go\n",
    "Let it go\n",
    "Let it go\n",
    "Let it go\n",
    "\n",
    "[Chorus: Chester Bennington & Mike Shinoda]\n",
    "Do you feel cold and lost in desperation?\n",
    "You build up hope, but failure's all you've known\n",
    "Remember all the sadness and frustration\n",
    "And let it go, let it go'''\n",
    "splitted_string = string.split()\n",
    "print(splitted_string)"
   ]
  },
  {
   "cell_type": "code",
   "execution_count": 50,
   "metadata": {},
   "outputs": [],
   "source": [
    "punctuations = '''!()-[]{};:'\"\\,<>./?@#$%^&*_~'''\n",
    "\n",
    "uninteresting_words = [\"the\", \"a\", \"to\", \"if\", \"is\", \"it\", \"of\", \"and\", \"or\", \"an\", \"as\", \"i\", \"me\", \"my\", \\\n",
    "\"we\", \"our\", \"ours\", \"you\", \"your\", \"yours\", \"he\", \"she\", \"him\", \"his\", \"her\", \"hers\", \"its\", \"they\", \"them\", \\\n",
    "\"their\", \"what\", \"which\", \"who\", \"whom\", \"this\", \"that\", \"am\", \"are\", \"was\", \"were\", \"be\", \"been\", \"being\", \\\n",
    "\"have\", \"has\", \"had\", \"do\", \"does\", \"did\", \"but\", \"at\", \"by\", \"with\", \"from\", \"here\", \"when\", \"where\", \"how\", \\\n",
    "\"all\", \"any\", \"both\", \"each\", \"few\", \"more\", \"some\", \"such\", \"no\", \"nor\", \"too\", \"very\", \"can\", \"will\", \"just\"]"
   ]
  },
  {
   "cell_type": "code",
   "execution_count": 52,
   "metadata": {},
   "outputs": [],
   "source": [
    "string_list = string.split()\n",
    "new_string = ''\n",
    "for word in string_list:\n",
    "    for char in word:\n",
    "        if char in punctuations:\n",
    "            word = word.replace(char, '')\n",
    "    new_string += word + \" \""
   ]
  },
  {
   "cell_type": "code",
   "execution_count": 53,
   "metadata": {},
   "outputs": [
    {
     "data": {
      "text/plain": [
       "'Verse 1 Mike Shinoda When you were standing in the wake of devastation When you were waiting on the edge of the unknown And with the cataclysm raining down Insides crying Save me now You were there impossibly alone Chorus Chester Bennington Do you feel cold and lost in desperation You build up hope but failures all youve known Remember all the sadness and frustration And let it go let it go Verse 2 Mike Shinoda And in a burst of light that blinded every angel As if the sky had blown the heavens into stars You felt the gravity of tempered grace Falling into empty space No one there to catch you in their arms Chorus Chester Bennington  Mike Shinoda Do you feel cold and lost in desperation You build up hope but failure’s all you’ve known Remember all the sadness and frustration And let it go let it go Bridge Chester Bennington  Mike Shinoda Do you feel cold and lost in desperation You build up hope but failures all youve known Remember all the sadness and frustration And let it go Let it go Let it go Let it go Let it go Chorus Chester Bennington  Mike Shinoda Do you feel cold and lost in desperation You build up hope but failures all youve known Remember all the sadness and frustration And let it go let it go '"
      ]
     },
     "execution_count": 53,
     "metadata": {},
     "output_type": "execute_result"
    }
   ],
   "source": [
    "new_string"
   ]
  },
  {
   "cell_type": "code",
   "execution_count": 54,
   "metadata": {},
   "outputs": [
    {
     "name": "stdout",
     "output_type": "stream",
     "text": [
      "['Verse', '1', 'Mike', 'Shinoda', 'When', 'you', 'were', 'standing', 'in', 'the', 'wake', 'of', 'devastation', 'When', 'you', 'were', 'waiting', 'on', 'the', 'edge', 'of', 'the', 'unknown', 'And', 'with', 'the', 'cataclysm', 'raining', 'down', 'Insides', 'crying', 'Save', 'me', 'now', 'You', 'were', 'there', 'impossibly', 'alone', 'Chorus', 'Chester', 'Bennington', 'Do', 'you', 'feel', 'cold', 'and', 'lost', 'in', 'desperation', 'You', 'build', 'up', 'hope', 'but', 'failures', 'all', 'youve', 'known', 'Remember', 'all', 'the', 'sadness', 'and', 'frustration', 'And', 'let', 'it', 'go', 'let', 'it', 'go', 'Verse', '2', 'Mike', 'Shinoda', 'And', 'in', 'a', 'burst', 'of', 'light', 'that', 'blinded', 'every', 'angel', 'As', 'if', 'the', 'sky', 'had', 'blown', 'the', 'heavens', 'into', 'stars', 'You', 'felt', 'the', 'gravity', 'of', 'tempered', 'grace', 'Falling', 'into', 'empty', 'space', 'No', 'one', 'there', 'to', 'catch', 'you', 'in', 'their', 'arms', 'Chorus', 'Chester', 'Bennington', 'Mike', 'Shinoda', 'Do', 'you', 'feel', 'cold', 'and', 'lost', 'in', 'desperation', 'You', 'build', 'up', 'hope', 'but', 'failure’s', 'all', 'you’ve', 'known', 'Remember', 'all', 'the', 'sadness', 'and', 'frustration', 'And', 'let', 'it', 'go', 'let', 'it', 'go', 'Bridge', 'Chester', 'Bennington', 'Mike', 'Shinoda', 'Do', 'you', 'feel', 'cold', 'and', 'lost', 'in', 'desperation', 'You', 'build', 'up', 'hope', 'but', 'failures', 'all', 'youve', 'known', 'Remember', 'all', 'the', 'sadness', 'and', 'frustration', 'And', 'let', 'it', 'go', 'Let', 'it', 'go', 'Let', 'it', 'go', 'Let', 'it', 'go', 'Let', 'it', 'go', 'Chorus', 'Chester', 'Bennington', 'Mike', 'Shinoda', 'Do', 'you', 'feel', 'cold', 'and', 'lost', 'in', 'desperation', 'You', 'build', 'up', 'hope', 'but', 'failures', 'all', 'youve', 'known', 'Remember', 'all', 'the', 'sadness', 'and', 'frustration', 'And', 'let', 'it', 'go', 'let', 'it', 'go']\n"
     ]
    }
   ],
   "source": [
    "new_words_list = new_string.split()\n",
    "print(new_words_list)"
   ]
  },
  {
   "cell_type": "code",
   "execution_count": 61,
   "metadata": {},
   "outputs": [],
   "source": [
    "frequencies = {}\n",
    "for word in new_words_list:\n",
    "    word = word.lower()\n",
    "    if (word not in frequencies) and (word not in uninteresting_words):\n",
    "        frequencies[word] = 1\n",
    "    elif (word in frequencies) and (word not in uninteresting_words):\n",
    "        frequencies[word] += 1"
   ]
  },
  {
   "cell_type": "code",
   "execution_count": 62,
   "metadata": {},
   "outputs": [
    {
     "data": {
      "text/plain": [
       "{'verse': 2,\n",
       " '1': 1,\n",
       " 'mike': 5,\n",
       " 'shinoda': 5,\n",
       " 'standing': 1,\n",
       " 'in': 7,\n",
       " 'wake': 1,\n",
       " 'devastation': 1,\n",
       " 'waiting': 1,\n",
       " 'on': 1,\n",
       " 'edge': 1,\n",
       " 'unknown': 1,\n",
       " 'cataclysm': 1,\n",
       " 'raining': 1,\n",
       " 'down': 1,\n",
       " 'insides': 1,\n",
       " 'crying': 1,\n",
       " 'save': 1,\n",
       " 'now': 1,\n",
       " 'there': 2,\n",
       " 'impossibly': 1,\n",
       " 'alone': 1,\n",
       " 'chorus': 3,\n",
       " 'chester': 4,\n",
       " 'bennington': 4,\n",
       " 'feel': 4,\n",
       " 'cold': 4,\n",
       " 'lost': 4,\n",
       " 'desperation': 4,\n",
       " 'build': 4,\n",
       " 'up': 4,\n",
       " 'hope': 4,\n",
       " 'failures': 3,\n",
       " 'youve': 3,\n",
       " 'known': 4,\n",
       " 'remember': 4,\n",
       " 'sadness': 4,\n",
       " 'frustration': 4,\n",
       " 'let': 11,\n",
       " 'go': 11,\n",
       " '2': 1,\n",
       " 'burst': 1,\n",
       " 'light': 1,\n",
       " 'blinded': 1,\n",
       " 'every': 1,\n",
       " 'angel': 1,\n",
       " 'sky': 1,\n",
       " 'blown': 1,\n",
       " 'heavens': 1,\n",
       " 'into': 2,\n",
       " 'stars': 1,\n",
       " 'felt': 1,\n",
       " 'gravity': 1,\n",
       " 'tempered': 1,\n",
       " 'grace': 1,\n",
       " 'falling': 1,\n",
       " 'empty': 1,\n",
       " 'space': 1,\n",
       " 'one': 1,\n",
       " 'catch': 1,\n",
       " 'arms': 1,\n",
       " 'failure’s': 1,\n",
       " 'you’ve': 1,\n",
       " 'bridge': 1}"
      ]
     },
     "execution_count": 62,
     "metadata": {},
     "output_type": "execute_result"
    }
   ],
   "source": [
    "frequencies"
   ]
  },
  {
   "cell_type": "code",
   "execution_count": null,
   "metadata": {},
   "outputs": [],
   "source": []
  }
 ],
 "metadata": {
  "kernelspec": {
   "display_name": "Python 3",
   "language": "python",
   "name": "python3"
  },
  "language_info": {
   "codemirror_mode": {
    "name": "ipython",
    "version": 3
   },
   "file_extension": ".py",
   "mimetype": "text/x-python",
   "name": "python",
   "nbconvert_exporter": "python",
   "pygments_lexer": "ipython3",
   "version": "3.7.4"
  }
 },
 "nbformat": 4,
 "nbformat_minor": 2
}
