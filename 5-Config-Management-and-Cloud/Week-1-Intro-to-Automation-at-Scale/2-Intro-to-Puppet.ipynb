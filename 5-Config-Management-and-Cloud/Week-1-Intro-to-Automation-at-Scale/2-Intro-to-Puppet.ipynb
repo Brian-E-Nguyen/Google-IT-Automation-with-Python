{
 "cells": [
  {
   "cell_type": "markdown",
   "metadata": {},
   "source": [
    "# Intro to Puppet\n",
    "\n",
    "## 1. What is Puppet?\n",
    "\n",
    "### 1.1 History \n",
    "\n",
    "As we called out a couple of times already, in this course, we'll be learning how to apply basic configuration management concepts by using Puppet. Puppet is the current industry standard for managing the configuration of computers in a fleet of machines. Part of the reason why Puppet is so popular is that it's a cross-platform tool that's been around for a while. It's an open source project that was created in 2005, and it's gone through several different versions. As it's evolved, the tool has incorporated feedback from its users to make it more and more useful. The latest available version at the time this Google course went live is Puppet 6, which came out in late 2018. \n",
    "\n",
    "### 1.2 Architecture\n",
    "\n",
    "We typically deploy puppet using a client-server architecture. The client is known as the Puppet agent, and the service is known as the Puppet master. When using this model, the agent connects to the master and sends a bunch of facts that describe the computer to the master. \n",
    "\n",
    "![img3](https://github.com/Brian-E-Nguyen/Google-IT-Automation-with-Python/blob/5-Config-Management-and-Cloud/5-Config-Management-and-Cloud/Week-1-Intro-to-Automation-at-Scale/img/img3.jpg?raw=true)\n",
    "\n",
    "The master then processes this information, generates the list of rules that need to be applied on the device, and sends this list back to the agent. \n",
    "\n",
    "![img4](https://github.com/Brian-E-Nguyen/Google-IT-Automation-with-Python/blob/5-Config-Management-and-Cloud/5-Config-Management-and-Cloud/Week-1-Intro-to-Automation-at-Scale/img/img4.jpg?raw=true)\n",
    "\n",
    "The agent is then in charge of making any necessary changes on the computer. \n",
    "\n",
    "### 1.3 Rules\n",
    "\n",
    "Puppet is a cross-platform application available for all Linux distributions, Windows, and Mac OS. This means that you can use the same puppet rules for managing a range of different computers. What are these rules that we keep talking about? Let's check out a very simple example. \n",
    "\n",
    "```\n",
    "class sudo {\n",
    "    package { 'sudo':\n",
    "        ensure => present,\n",
    "    }\n",
    "}\n",
    "```\n",
    "\n",
    "This block is saying that the package 'sudo' should be present on every computer where the rule gets applied. If this rule is applied on 100 computers, it would automatically install the package in all of them. This is a small and simple block but can already give us a basic impression of how rules are written in puppet. Don't worry too much about the syntax now, we'll look into what each piece means in future videos. \n",
    "\n",
    "### 1.4 Installation Tools\n",
    "\n",
    "There are various installation tools available depending on the type of operating system. Puppet will determine the type of operating system being used and select the right tool to perform the package installation. On Linux distributions, there are several package management systems like APT, Yum, and DNF. Puppet will also determine which package manager should be used to install the package. \n",
    "\n",
    "On Mac OS, there's a few different available providers depending on where the package is coming from. The Apple Provider is used for packages that are part of the OS, while the MacPorts provider is used for packages that come from the MacPorts Project. \n",
    "\n",
    "For Windows, we'll need to add an extra attribute to our rule, stating where the installer file is located on the local desk or a network mounted resource. Puppet will then execute the installer and make sure that it finishes successfully. If you use Chocolatey to manage your windows packages, you can add an extra Chocolatey provider to Puppet to support that. We'll add a link to more information about this in our next reading. \n",
    "\n",
    "Using rules like this one, we can get puppet to do a lot more than just install packages for us. We can add, remove, or modify configuration files stored in the system, or change registry entries on Windows. We can also enable, disable, start, or stop the services that run on our computer. We can configure crone jobs, the scheduled tasks, add, remove, or modify Users and Groups or even execute external commands, if that's what we need. \n",
    "\n",
    "There's a lot to say about puppet. We won't go into absolutely every detail, but we'll cover the most important concepts in this course. The goal is to get you started with what you need to know about configuration management in general and puppet in particular. We'll also give you pointers to find out more information on your own. Up next, we'll check out the different resources we can use to define our rules."
   ]
  }
 ],
 "metadata": {
  "kernelspec": {
   "display_name": "Python 3",
   "language": "python",
   "name": "python3"
  },
  "language_info": {
   "codemirror_mode": {
    "name": "ipython",
    "version": 3
   },
   "file_extension": ".py",
   "mimetype": "text/x-python",
   "name": "python",
   "nbconvert_exporter": "python",
   "pygments_lexer": "ipython3",
   "version": "3.7.4"
  }
 },
 "nbformat": 4,
 "nbformat_minor": 2
}
