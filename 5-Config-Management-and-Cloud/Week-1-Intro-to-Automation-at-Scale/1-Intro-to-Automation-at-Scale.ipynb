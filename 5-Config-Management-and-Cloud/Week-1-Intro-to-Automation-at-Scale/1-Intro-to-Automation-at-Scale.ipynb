{
 "cells": [
  {
   "cell_type": "markdown",
   "metadata": {},
   "source": [
    "# Introduction to Automation at Scale\n",
    "\n",
    "## 0. Course Introduction\n",
    "\n",
    "Say you're in charge of a fleet of servers. Everything is full steam ahead, until one day you discover that there's a security vulnerability in one of the applications used. Now, you need to upgrade all the servers to the latest version. If you have 10 servers in the fleet, it's probably not too much trouble to log into each one of them one after the other and install the new version. But what if you have 100 servers? This would get super boring and you'd likely end up making mistakes, leaving some servers with the wrong version installed. Now, imagine having to do this on 1000 servers. There's no way you're going to log into each of them to upgrade the software. So what can you do instead? In this course, we'll look into how we can apply automation to manage fleets of computers. We'll learn how to automate deploying new computers, keep those machines updated, manage large-scale changes, and a lot more. We'll discuss managing both physical machines running in our offices and virtual machines running in the Cloud. \n",
    "\n",
    "If this sounds overwhelming, don't worry, I'll go step-by-step with you along the way. I'm [inaudible] , and I'm a Site Reliability Engineer at Google working on the team that supports G-mail. If you've never heard about Site Reliability Engineering before, let me tell you a bit about what we do. SRE is focused on the reliability and maintainability of large systems. We apply tons of automation techniques to manage them. This let's teams with only a handful of engineers have a big impact, scaling our support as our service grows. We're small, but mighty. \n",
    "\n",
    "My job includes a lot of different tasks. Sometimes I spend my time collaborating with partner teams on the reliability aspects of a cool new feature, like scheduling emails to send at a later time on G-mail. Other days, I write software, creating tools that help automate how we manage the service. When I'm not doing that, I might do research or architectural design for a new project. I'm also part of the on-call rotation for the service. If problems come up when I'm on call, I'm in charge of fixing them or finding the right person to fix them if I can't. \n",
    "\n",
    "So what will we cover in this course? We'll start by looking into an automation technique called **configuration management,** *which lets us manage the configuration of our computers at scale.* Specifically, we'll learn how to use **Puppet,** the current industry standard for configuration management. We'll look at some simple examples, and then see how we can apply the same concept to more complex cases. You'll be a Puppet master in no time. Later on, we'll expand our automation skills by looking into how we can make use of the Cloud to help us scale our infrastructure. We'll learn about the benefits and challenges of moving services to the Cloud. We'll check out some of the best practices for handling hundreds of virtual machines running in the Cloud, how to adapt our services to that, and how to troubleshoot them when things don't go according to plan. Heads up, they rarely do. \n",
    "\n",
    "Modern IT is moving more and more towards Cloud-based solutions and having a solid background in how to manage them will be even more critical for IT professionals in the future. In this course, we'll use Qwiklabs which is an environment that allows you to test your code on a virtual machine running in the Cloud. This lets you experience real-world scenarios, where you'll need to interact with one or more remote systems to achieve your goal. We'll build on top of the many tools that you've learned about throughout the program, like using Python for automation scripts, using Git to store versions of code, or figure out what's going on when a program doesn't behave as expected. You'll see some complex topics and videos that may not 100 percent sink in the first time around. That's totally natural. Take your time and re-watch the videos a few times if you need to, you'll get the hang of it. Also, remember that you can use the discussion forums to connect with your fellow learners and ask questions anytime you need. We're about to begin our journey, learning how we can apply automation at large scale. So let's get started."
   ]
  },
  {
   "cell_type": "markdown",
   "metadata": {},
   "source": [
    "## 1. Intro to Module 1: Automating with Configuration Management\n",
    "\n",
    "No matter the size of your team or the number of computers in your fleet, knowing how to apply automation techniques will enable you to do your work much more effectively. As I shared earlier, I'm part of the Site Reliability Engineering team that supports Gmail. My team is relatively small but the service is pretty big. Without scaling our efforts through automation and tooling, it would be impossible to help Gmail meet its reliability goals. \n",
    "\n",
    "While you're probably not supporting such a large-scale service right now, you'll definitely benefit from using the right automation for your needs. Being able to automate the installation of new software, the provisioning of new workstations or the configuration of a new server can make a big difference even when you're the only person in your IT department. \n",
    "\n",
    "In the coming videos, we'll kick things off by looking at some important automation concepts, like what we mean when we talk about scale and how we can use configuration management to maintain the computers in our fleet, and how we can all benefit from treating our infrastructure as code. These concepts are the building blocks for letting us manage a growing number of devices without having to grow the team in charge of them. \n",
    "\n",
    "We'll then get to our first taste of Puppet, the configuration management tool that we'll be teaching you throughout this course. We'll check out a bunch of different examples to see what Puppet rules look like. We'll also learn about the underlying concepts and how you can get it to do the heavy lifting for you. The concepts that we'll check out throughout this module will help you take your first steps and automating at a larger scale. Knowing how to automatically manage the configuration of the devices in your fleet will let your team handle a lot more work with the same amount of people. It also frees up time to do more interesting stuff since all the boring tasks can get automated. \n",
    "\n",
    "By the end of the module, you'll have the skills to fix a bug in existing automation, which is great news since that's exactly what you're going to do with code you provide. Funny how that works, isn't it? Almost like we planned it. Let's dive in."
   ]
  },
  {
   "cell_type": "markdown",
   "metadata": {},
   "source": [
    "## 2. What is Scale?\n",
    "\n",
    "In this course we'll focus on making our work scale. So what do we mean when we talk about scale? Being able to **scale** what we do means that we can *keep achieving larger impacts with the same amount of effort when a system scales.* Well an increase in the amount of work it needs to do can be accommodated by an increase in capacity. For example, if the web application your company provides is scalable, that it can handle an increase in the number of people using it by adding more servers to serve requests. In short, a **scalable system** *is a flexible one.* Adding more computers to the pool of servers that are serving the website can be a very simple or very hard operation depending on how your infrastructure is set up. \n",
    "\n",
    "To figure out how scalable your current setup is, you can ask yourself questions like will adding more servers increase the capacity of the service? How are new servers prepared, installed, and configured? How quickly can you set up new computers to get them ready to be used? Could you deploy a hundred servers with the same IT team that you have today? Or would you need to hire more people to get it done faster? Would all the deployed servers be configured exactly the same way? Scaling isn't just about website serving content of course. If your company is rapidly hiring a lot of new employees, you'll need to have an onboarding process that can scale as needed. And as you keep adding new computers to the network, you'll need to make sure that your system administration process can scale to the growing needs of the company. This can include tasks like a applying the latest security policies and patches while making sure users' needs still get addressed all while more and more users join the network without new support staff to back you up. \n",
    "\n",
    "If making this happen sounds a bit like magic right now, remember that we're here to share the secret ingredient with you, automation. **Automation is an essential tool for keeping up with the infrastructure needs of a growing business.** By using the right automation tools, we can get a lot more done in the same amount of time. For example, we could deploy a whole new server by running a single command and letting the automation take care of the rest. We could also create a batch of user accounts with all the necessary permissions based on data already stored in the database, eliminating all human interaction. Automation is what lets us scale. It allows a small IT team to be in charge of hundreds or even thousands of computers. \n",
    "\n",
    "Okay, so what does that look like in practice? There's a bunch of different tools that we can use to achieve this. Up next, we'll talk about a type of tool called configuration management that can help us automate how we manage the computers in our fleets."
   ]
  }
 ],
 "metadata": {
  "kernelspec": {
   "display_name": "Python 3",
   "language": "python",
   "name": "python3"
  },
  "language_info": {
   "codemirror_mode": {
    "name": "ipython",
    "version": 3
   },
   "file_extension": ".py",
   "mimetype": "text/x-python",
   "name": "python",
   "nbconvert_exporter": "python",
   "pygments_lexer": "ipython3",
   "version": "3.7.4"
  }
 },
 "nbformat": 4,
 "nbformat_minor": 2
}
