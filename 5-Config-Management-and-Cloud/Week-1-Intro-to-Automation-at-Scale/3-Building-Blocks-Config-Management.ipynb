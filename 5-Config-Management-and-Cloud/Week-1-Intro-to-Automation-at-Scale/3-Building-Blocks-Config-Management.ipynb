{
 "cells": [
  {
   "cell_type": "markdown",
   "metadata": {},
   "source": [
    "# The Building Blocks of Configuration Management\n",
    "\n",
    "## 1. What are Domain-Specific Languages?\n",
    "\n",
    "### 1.1 DSL's compared to General Languages\n",
    "\n",
    "Up until now, we've seen examples of very simple Puppet rules they just define whiner more resources. These resources are the building blocks of Puppet rules, but we can do much more complex operations using Puppet's domain specific language or DSL. Typical programming languages like Python, Ruby, Java or Go are general purpose languages that can be used to write lots of different applications with different goals and use cases. \n",
    "\n",
    "On the flip side, a **domain specific language** *is a programming language that's more limited in scope.* Learning a domain-specific language is usually much faster and easier than learning a general purpose programming language because there's a lot less to cover. You don't need to learn as much syntax or understand as many keywords or taking to account a lot of overhead in general. \n",
    "\n",
    "In the case of Puppet, the DSL is limited to operations related to when and how to apply configuration management rules to our devices. For example, we can use the mechanisms provided by the DSL to set different values on laptops or desktop computers, or to install some specific packages only on the company's web servers. \n",
    "\n",
    "### 1.2 What DSL's Contain\n",
    "\n",
    "On top of the basic resource types that we already checked out, Puppet's DSL includes variables, conditional statements, and functions. Using them, we can apply different resources or set attributes to different values depending on some conditions. Before we jump into an example of what that looks like, let's talk a bit about Puppet facts. \n",
    "\n",
    "**Facts** *are variables that represent the characteristics of the system.* When the Puppet agent runs, it calls a program called factor which analyzes the current system, storing the information it gathers in these facts. Once it's done, it sends the values for these facts to the server, which uses them to calculate the rules that should be applied. \n",
    "\n",
    "Puppet comes with a bunch of baked-in core facts that store useful information about the system like what the current OS is, how much memory the computer has whether it's a virtual machine or not or what the current IP address is. If the information we need to make a decision isn't available through one of these facts, we can also write a script that checks for the information and turns it into our own custom fact. \n",
    "\n",
    "### 1.3 Example\n",
    "\n",
    "Let's check out an example of a piece of Puppet code that makes use of one of the built-in facts. \n",
    "\n",
    "![img8](https://github.com/Brian-E-Nguyen/Google-IT-Automation-with-Python/blob/5-Config-Management-and-Cloud/5-Config-Management-and-Cloud/Week-1-Intro-to-Automation-at-Scale/img/img8.jpg?raw=true)\n",
    "\n",
    "This piece of code is using the is-virtual fact together with a conditional statement to decide whether the smartmontools package should be installed or purged. This package is used for monitoring the state of hard drives using smart. So it's useful to have it installed in physical machines, but it doesn't make much sense to install it in our virtual machines. \n",
    "\n",
    "We can see several of the characteristics of Puppets domain specific language in this block. So let's spend a little time looking at all of the elements of syntax here. \n",
    "\n",
    "First, `facts` is a variable. All variable names are preceded by a dollar sign in Puppet's DSL. In particular, the facts variable is what's known as a hash in the Puppet DSL, which is equivalent to a dictionary in Python. This means that we can access the different elements in the hash using their keys. In this case, we're accessing the value associated to the is virtual key. \n",
    "\n",
    "Second, we see how we can write a conditional statement using if else, enclosing each block of the conditional with curly braces. \n",
    "\n",
    "Finally, each conditional block contains a package resource. We've seen resources before, but we haven't looked at the syntax in detail. So let's do that now. Every resource starts with the type of resource being defined. In this case, package and the contents of the resource are then enclosed in curly braces. Inside the resource definition, the first line contains the title followed by a colon. Any lines after that are attributes that are being set. We use equals greater than to assign values to the attributes and then each attribute ends with a comma. \n",
    "\n",
    "We've now covered a large chunk of puppet's DSL syntax. If you look back to what it was like to learn your first programming language, you'll probably notice how much less syntax there is to learn here. That's typical of the domain specific languages used by configuration management tools. While each tool uses their own DSL, they're usually very simple and can be learned very quickly. Up next, we'll talk about a few other principles behind most configuration management tools. Whenever you're ready, let's dive in."
   ]
  }
 ],
 "metadata": {
  "kernelspec": {
   "display_name": "Python 3",
   "language": "python",
   "name": "python3"
  },
  "language_info": {
   "codemirror_mode": {
    "name": "ipython",
    "version": 3
   },
   "file_extension": ".py",
   "mimetype": "text/x-python",
   "name": "python",
   "nbconvert_exporter": "python",
   "pygments_lexer": "ipython3",
   "version": "3.7.4"
  }
 },
 "nbformat": 4,
 "nbformat_minor": 2
}
