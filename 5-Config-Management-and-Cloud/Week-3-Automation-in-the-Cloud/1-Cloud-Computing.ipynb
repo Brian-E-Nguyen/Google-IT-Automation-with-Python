{
 "cells": [
  {
   "cell_type": "markdown",
   "metadata": {},
   "source": [
    "# Cloud Computing\n",
    "\n",
    "## 1. Intro to Module 3: Automation in the Cloud\n",
    "\n",
    "Welcome back and congrats on solving yet another tricky lab. In this module will be switching gears a bit. We'll still be talking about automation and configuration management. But now we'll focus on the cloud. If you work in IT, you've probably heard people talking about the cloud a lot. Sometimes people talk about the cloud as if it's a magical way of getting infinite resources for our services. In truth, there's nothing magic about the cloud. But it is a super useful tool in IT for increasing our productivity. \n",
    "\n",
    "In the next few videos we'll dive into the details of the different services available, when it makes sense to use them, and how we can get the most out of our cloud deployments. Even if you've never worked with the cloud directly, you've certainly interacted with the services running in the cloud. For example throughout this course and other courses in this program, you've been using the Qwikabs online learning environment to practice solving problems and creating automation based on real-world scenarios. Qwiklabs is one of the many services today that are powered by the cloud. And you've probably used others as well, maybe without even realizing that they were using cloud resources. \n",
    "\n",
    "Before diving into how we can automate at scale using the cloud, we'll do a quick recap of some cloud related concepts to make sure we're all on the same page. We'll check out how cloud deployments can help us quickly scale our services. And we'll cover some things that might be different when running IT infrastructure on-premise versus running it in the cloud. After that, we'll look at how we can use a variety of different tools to manage instances running in the cloud. We'll start with looking at how we can spin up a single virtual machine. And then check out a bunch of ways to manage a whole fleet of virtual machines. As usual, we'll wrap up with a Qwiklabs exercise. This time, you'll use the automation tools that we'll cover to deploy a bunch of web servers running in the cloud. How does that sound? Pretty cool, right? So let's get to it.\n",
    "\n",
    "## 2. Cloud Services Overview\n",
    "\n",
    "### 2.1 What is the Cloud?\n",
    "\n",
    "So when we say that a service is running in the Cloud, what do we actually mean? It has nothing to do with those white fluffy things in the sky, it simply means that the service is running somewhere else either in a data center or in other remote servers that we can reach over the Internet. These data centers house a large variety of machines, different types of machines are used for different services. For example, some machines may have local solid-state drive or SSD, for increased performance while others may rely on virtual drives mounted over the network to lower costs. \n",
    "\n",
    "### 2.2 Types of Services\n",
    "\n",
    "#### 2.2.1 Software as a Service (SaaS)\n",
    "\n",
    "Cloud providers typically offer a bunch of different service types, the ones used most by users are in the Software as a Service category. **Software as a Service or SaaS,** *is when a Cloud provider delivers an entire application or program to the customer.* If you choose a Cloud e-mail solution like Gmail, a Cloud storage solution like Dropbox, or a Cloud productivity suite like Microsoft Office 365, there are only a small number of options for you to select or customize. The Cloud provider manages everything related to the service for you including deciding where it's hosted, ensuring the service has enough capacity to serve your needs, performing backups frequently and reliably, and a lot more. \n",
    "\n",
    "#### 2.2.2 Platform as a Service (PaaS)\n",
    "\n",
    "There's a lot of software being offered as a service by many different Cloud providers or other Internet companies. But of course, not all of our needs can be solved by prepackaged software, sometimes we need to develop our own. For some of the components of our software, we might choose to use Platform as a Service. **Platform as a Service or PaaS,** *is when a Cloud provider offers a preconfigured platform to the customer.* When we say platform here, it can be a bit confusing because there are lots of different platforms that exist under a PaaS model. \n",
    "\n",
    "Let's check out an example to understand this better. Say you need an SQL database to store some of your applications data, you could choose to host the database in your own hardware. To do this, you'd need to install an operating system on that computer and then install the SQL software on top of the chosen OS. This requires a basic understanding of all of these different pieces just to get the database running. There's a bunch of things that could go wrong and even if you can eventually solve all of them, it can take awhile. \n",
    "\n",
    "Instead, you could decide to use a Cloud provider that offers an SQL database as a service, that way you can just focus on writing SQL queries and using the platform, and let the Cloud provider take care of the rest. \n",
    "\n",
    "#### 2.2.2 Infrastructure as a Service (IaaS)\n",
    "\n",
    "There's a bunch of different platforms offered as a service by Cloud providers, but of course they are unlikely to cover all of your needs. If you need a high level of control over the software you're running and how it interacts with other pieces in your system, you might want to choose Infrastructure as a Service. **Infrastructure as a Service or IaaS,** *is when a Cloud provider supplies only the bare-bones computing experience.* Generally, this means a virtual machine environment and any networking components needed to connect virtual machines, the Cloud provider won't care what you're using the VMs for. You could use them to host a web server, a mail server, your own SQL database with your own configuration settings, or a whole lot more possibilities. \n",
    "\n",
    "Running your IT infrastructure on the Cloud provider's IaaS offering is a very popular choice. There's a lot of different providers out there, big and small that offer a service where you can run virtual machines in their Cloud. Some IaaS products include: Amazon's EC2, Google Compute Engine, and Microsoft Azure Compute. \n",
    "\n",
    "### 2.3 Regions\n",
    "\n",
    "Now no matter the service model and the provider you use, when you set up Cloud resources you'll need to consider regions. A region is a geographical location containing a number of data centers, regions contain zones and zones can contain one or more physical data centers. If one of them fails for some reason, the others are still available and services can be migrated without notably affecting users. Large Cloud providers usually offer their services in lots of different regions around the world. Generally, the region and zone you select should be closest to your users, the further your users are from the physical data center the more latency they may experience. This might sound a bit strange but imagine if you are on vacation overseas, you might notice that your bank website loads a little slower. That's why it's common practice to locate data centers close to where users actually live, work, and bank. \n",
    "\n",
    "Latency isn't the only factor to take into account when selecting a region or zone, some organizations require their data to be stored in specific cities or countries for legal or policy reasons. If your service uses other services as dependencies, it's a good idea to host the service physically close to its dependencies. For example, if a mail server requires a database server to send an e-mail, it makes sense to host the database server and the mail server in the same zone. \n",
    "\n",
    "Recall that earlier, that Qwiklabs is a service using Cloud infrastructure. So what kind of Cloud service does Qwiklabs use? Qwiklabs uses Infrastructure as a Service, the VMs get provisioned with just the OS and the lab automation then deploys any additional files and software into the OS. Up next, we'll talk about how we can use the services offered by Cloud providers to help us scale our applications."
   ]
  }
 ],
 "metadata": {
  "kernelspec": {
   "display_name": "Python 3",
   "language": "python",
   "name": "python3"
  },
  "language_info": {
   "codemirror_mode": {
    "name": "ipython",
    "version": 3
   },
   "file_extension": ".py",
   "mimetype": "text/x-python",
   "name": "python",
   "nbconvert_exporter": "python",
   "pygments_lexer": "ipython3",
   "version": "3.7.4"
  }
 },
 "nbformat": 4,
 "nbformat_minor": 2
}
