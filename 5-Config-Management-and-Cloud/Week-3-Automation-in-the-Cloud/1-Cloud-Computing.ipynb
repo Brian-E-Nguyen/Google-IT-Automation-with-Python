{
 "cells": [
  {
   "cell_type": "markdown",
   "metadata": {},
   "source": [
    "# Cloud Computing\n",
    "\n",
    "## 1. Intro to Module 3: Automation in the Cloud\n",
    "\n",
    "Welcome back and congrats on solving yet another tricky lab. In this module will be switching gears a bit. We'll still be talking about automation and configuration management. But now we'll focus on the cloud. If you work in IT, you've probably heard people talking about the cloud a lot. Sometimes people talk about the cloud as if it's a magical way of getting infinite resources for our services. In truth, there's nothing magic about the cloud. But it is a super useful tool in IT for increasing our productivity. \n",
    "\n",
    "In the next few videos we'll dive into the details of the different services available, when it makes sense to use them, and how we can get the most out of our cloud deployments. Even if you've never worked with the cloud directly, you've certainly interacted with the services running in the cloud. For example throughout this course and other courses in this program, you've been using the Qwikabs online learning environment to practice solving problems and creating automation based on real-world scenarios. Qwiklabs is one of the many services today that are powered by the cloud. And you've probably used others as well, maybe without even realizing that they were using cloud resources. \n",
    "\n",
    "Before diving into how we can automate at scale using the cloud, we'll do a quick recap of some cloud related concepts to make sure we're all on the same page. We'll check out how cloud deployments can help us quickly scale our services. And we'll cover some things that might be different when running IT infrastructure on-premise versus running it in the cloud. After that, we'll look at how we can use a variety of different tools to manage instances running in the cloud. We'll start with looking at how we can spin up a single virtual machine. And then check out a bunch of ways to manage a whole fleet of virtual machines. As usual, we'll wrap up with a Qwiklabs exercise. This time, you'll use the automation tools that we'll cover to deploy a bunch of web servers running in the cloud. How does that sound? Pretty cool, right? So let's get to it."
   ]
  }
 ],
 "metadata": {
  "kernelspec": {
   "display_name": "Python 3",
   "language": "python",
   "name": "python3"
  },
  "language_info": {
   "codemirror_mode": {
    "name": "ipython",
    "version": 3
   },
   "file_extension": ".py",
   "mimetype": "text/x-python",
   "name": "python",
   "nbconvert_exporter": "python",
   "pygments_lexer": "ipython3",
   "version": "3.7.4"
  }
 },
 "nbformat": 4,
 "nbformat_minor": 2
}
