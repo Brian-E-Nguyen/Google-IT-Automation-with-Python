{
 "cells": [
  {
   "cell_type": "markdown",
   "metadata": {},
   "source": [
    "# Deploying Puppet Locally\n",
    "\n",
    "## 1. Intro to Module 2: Deploying Puppet\n",
    "\n",
    "Welcome back, congrats on making it through the first lab of the course. In the last module, we looked into some basic configuration management concepts, and what those look like in Puppet. In this module, we're going to dive deeper into how to use these tools. We'll kick off with how to install Puppet on your computer and how to use a simple test setup to check your rules work as expected. This test setup will let you try out the examples in these videos on your own computer. \n",
    "\n",
    "We'll also show you how to configure the typical client-server set-up with Puppet clients connecting and authenticating to the Puppet server to get the rules that they should apply and on top of this, we'll talk about how to use testing techniques and releasing best practices to safely deploy changes to clients of our configuration management system. \n",
    "\n",
    "You've already learned the basics of Puppet resources. We've seen the three most important resources, packages, files, and services. In this module, we'll check out more ways of using the basic resources and Puppet's DSL. We'll look into how you can apply different sets of rules to different nodes in your fleet, how you can organize your rules so that they're easier to maintain, and a bunch of other Puppet best-practices. We'll wrap up with another lab exercise. This time though, you'll be flexing your Puppet skills to manage the deployment and pulling the strings to make the system do what you want. Ready? Let's dive in."
   ]
  },
  {
   "cell_type": "markdown",
   "metadata": {},
   "source": [
    "## 2. Applying Rules Locally\n",
    "\n",
    "Up to now we've been getting to know Puppet syntax and understanding the different resources available. It's now time for the next step, trying out some Puppet rules on our local computer. In an earlier video, we called out that Puppet is usually deployed in a client-server architecture. But that's not the only way we can use Puppet. We can also use it as a stand-alone application run from the command line. This is common when testing new configurations. It can be the preferred configuration for complex setups where connecting to a master is no longer the best approach. \n",
    "\n",
    "When using a stand-alone Puppet, the same computer processes the facts, calculates the rules that need to be applied, and makes any necessary changes locally. So to get started with our Puppet deployment, let's first install Puppet and then we can start experimenting with running rules locally. In later videos, we'll check out how to create a client-server deployments. \n",
    "\n",
    "As we've called out, Puppet is available on a number of different platforms. We can either install it from the package management system available in the OS or download it from the official website. Both options work fine and the best one to choose will depend on our specific needs. For this exercise, we'll just go with the Puppet packages provided by the Ubuntu distribution. We'll do that by installing the Puppet master package using sudo apt install puppet-master.\n",
    "\n",
    "### 2.1 Example\n",
    "\n",
    "We now have the package installed and can start trying out a few rules. We'll begin by creating the simplest possible Puppet file. We can make it more complex as we improve our deployments. For this example, we want to use Puppet to make sure that some useful tools for debugging problems are installed on each computer in our fleet. To do this, we first have to create a file where we'll store the rules that we want to apply. In Puppet lingo, these files are called **manifests** and they must end with a.pp extension. So we'll create a new file called tools.pp and in this file, we'll create a package resource. We'll start by managing the htop package which is a tool similar to top that can show us some extra information. We'll state that we want Puppet to ensure that we have this package present on our computer. \n",
    "\n",
    "```\n",
    "package { 'htop':\n",
    "  ensure => present,\n",
    "}\n",
    "```\n",
    "Cool. That was simple. That's all we have to do. This resource will take care of installing the package for us. Let's save the file and try it out. But before actually applying the rules, we want to check that the command isn't present yet.\n",
    "\n",
    "```\n",
    "buraiyen@ubby:~/Documents/Google-IT/5-CMC/Week-2$ sudo puppet apply -v tools.pp\n",
    "Notice: Compiled catalog for ubby.home in environment production in 0.19 seconds\n",
    "Info: Applying configuration version '1600368814'\n",
    "Notice: /Stage[main]/Main/Package[htop]/ensure: ensure changed 'purged' to 'present'\n",
    "Info: Creating state file /var/lib/puppet/state/state.yaml\n",
    "Notice: Finished catalog run in 7.42 seconds\n",
    "buraiyen@ubby:~/Documents/Google-IT/5-CMC/Week-2$ \n",
    "```\n",
    "\n",
    "The -v flag tells Puppet that we want to get verbose output which will tell us what's going on while Puppet is applying the rules in the file that we pass to it. So here, Puppet first told us that it was loading the facts. Then, that it compiled a catalog. After that, it told us that it was applying the current configuration. Then, that it installed the package we requested. Finally, it let us know that it finished applying this catalog. \n",
    "\n",
    "### 2.2 Catalogs\n",
    "\n",
    "You're probably wondering, what's a catalog? We called out in an earlier video that after loading all facts for a computer, the server calculates which rules actually need to be applied. For example, if a packet should only be installed when a certain condition is met, this condition is evaluated on the server side based on the gathered facts. The **catalog** *is the list of rules that are generated for one specific computer once the server has evaluated all variables, conditionals, and functions.* In this example, the catalog will be exactly the same as our code because the code didn't include any variables, functions, or conditionals. More complex sets of rules can lead to different catalogs depending on fact values. It's now time to check if our rules actually works. Let's try running the htop command again now that Puppet has installed it for us.\n",
    "\n",
    "![img1](https://github.com/Brian-E-Nguyen/Google-IT-Automation-with-Python/blob/5-Config-Management-and-Cloud/5-Config-Management-and-Cloud/Week-2-Deploying-Puppet/img/img1.jpg?raw=true)\n",
    "\n",
    "Yes, this time it worked. If our computer was misbehaving, we could now use this tool to get a better idea why. But fortunately, our computer's on its best behavior. So we'll exit now using q. Let's see what happens if we try to apply the Puppet rules again now that the package is installed.\n",
    "\n",
    "Puppet's smart. It noticed that the package is already installed so it didn't try to install the package again. This means it applied the catalog much faster because nothing had to be changed. We've now seen how to write a Puppet resource in a manifest file and then use puppet apply to apply those rules to one computer. Up next, we'll check out how we can manage relationships between different Puppet resources and what that looks like when applied."
   ]
  },
  {
   "cell_type": "code",
   "execution_count": null,
   "metadata": {},
   "outputs": [],
   "source": []
  }
 ],
 "metadata": {
  "kernelspec": {
   "display_name": "Python 3",
   "language": "python",
   "name": "python3"
  },
  "language_info": {
   "codemirror_mode": {
    "name": "ipython",
    "version": 3
   },
   "file_extension": ".py",
   "mimetype": "text/x-python",
   "name": "python",
   "nbconvert_exporter": "python",
   "pygments_lexer": "ipython3",
   "version": "3.7.4"
  }
 },
 "nbformat": 4,
 "nbformat_minor": 2
}
