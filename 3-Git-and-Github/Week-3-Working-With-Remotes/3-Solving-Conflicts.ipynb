{
 "cells": [
  {
   "cell_type": "markdown",
   "metadata": {},
   "source": [
    "# Solving Conflicts\n",
    "\n",
    "## 1. The Pull-Merge-Push Workflow\n",
    "\n",
    "We've now looked at the details of fetching and pulling data from a remote repositories without any local changes. We saw earlier how we can use the git push command to send our changes to the remote repo. But what if when we go to push our changes, there are new changes to the remote repo? To find out, let's start by making a change to our all checks py script.\n",
    "\n",
    "Remember way back to the beginning of the course, when we fixed the bug in the function that checks the disk space? The one that was doing gigabyte conversion twice?\n",
    "\n",
    "Part of the reason why our code was so buggy, was that we were passing numbers around without saying what those numbers were for. We could have made our code clearer by renaming our min absolute parameter to min GB. So that it's obvious that the function expects gigabytes."
   ]
  },
  {
   "cell_type": "code",
   "execution_count": 1,
   "metadata": {},
   "outputs": [],
   "source": [
    "import shutil\n",
    "import sys\n",
    "\n",
    "def check_disk_full(disk, min_gb, min_percent):\n",
    "    du = shutil.disk_usage(disk)\n",
    "    percent_free = 100 * du.free / du.total\n",
    "    gigabytes_free = du.free / 2**30\n",
    "    if percent_free < min_percent or gigabytes_free < min_gb:\n",
    "        return True\n",
    "    return False"
   ]
  },
  {
   "cell_type": "markdown",
   "metadata": {},
   "source": [
    "With that, we've clarified the code of the function. Another way we can make the code invocation clearer, we can use the name of the parameters in the call to the function, like this."
   ]
  },
  {
   "cell_type": "code",
   "execution_count": 2,
   "metadata": {},
   "outputs": [],
   "source": [
    "def main():\n",
    "    if check_disk_full(disk='/', min_gb=2, min_percent=10):\n",
    "        print('Disk full')\n",
    "        sys.exit(1)"
   ]
  },
  {
   "cell_type": "markdown",
   "metadata": {},
   "source": [
    "By using the names of the parameters, our invocation is clear, and we can even alter the order of the values and our code would still work.\n",
    "\n",
    "All right, we've made the change. Let's stage it and commit it as usual. We'll first use git add -p to look at the changes we made and accept them. Then we'll create a commit message to show that we've renamed min absolute to min GB, and that we're using parameter names for the invocation.\n",
    "\n",
    "![img8](https://github.com/Brian-E-Nguyen/Google-IT-Automation-with-Python/blob/3-Git-and-Github/3-Git-and-Github/Week-3-Working-With-Remotes/img/img8.jpg?raw=true)\n",
    "\n",
    "We've made our change, staged it, and committed it. We should be ready to push into the remote repo,except now we have a collaborator also making changes. Let's see what happens when we try running git push.\n",
    "\n",
    "\n",
    "\n",
    "![img9](https://github.com/Brian-E-Nguyen/Google-IT-Automation-with-Python/blob/3-Git-and-Github/3-Git-and-Github/Week-3-Working-With-Remotes/img/img9.jpg?raw=true)\n",
    "\n",
    "And it failed. Can you work out what went wrong here?\n",
    "\n",
    "There are a few hints. When we tried to push, Git rejected our change, that's because the remote repository contains changes that we don't have in our local branch that Git can't fast-forward. Maybe you remember when we talked about Git's merging algorithms? As usual, Git gives us some helpful information along with the error message, especially the part about integrating remote changes with git pull.\n",
    "\n",
    "\n",
    "This means we need to sync our local remote branch with the remote repository before we can push. We learned earlier that we can do this with git pull. Let's do this now.\n",
    "\n",
    "![img10](https://github.com/Brian-E-Nguyen/Google-IT-Automation-with-Python/blob/3-Git-and-Github/3-Git-and-Github/Week-3-Working-With-Remotes/img/img10.jpg?raw=true)\n",
    "\n",
    "Git tried to automatically merge the local and remote changes to all_checks.py, but found a conflict. Let's first look at the tree of commits on all branches as represented by git log --graph --oneline --all. \n",
    "\n",
    "![img11](https://github.com/Brian-E-Nguyen/Google-IT-Automation-with-Python/blob/3-Git-and-Github/3-Git-and-Github/Week-3-Working-With-Remotes/img/img11.jpg?raw=true)\n",
    "\n",
    "This graph shows us the different commits and positions in the tree. We can see the master branch, the origin/master branch, and the experimental branch. The graph indicates that our current commit and the commit in the origin/master branch share a common ancestor, but they don't follow one another.\n",
    "\n",
    "This means that we'll need to do a three-way merge. To do this, let's look at the actual changes in that commit by running `git log -p origin/master`.\n",
    "\n",
    "![img12](https://github.com/Brian-E-Nguyen/Google-IT-Automation-with-Python/blob/3-Git-and-Github/3-Git-and-Github/Week-3-Working-With-Remotes/img/img12.jpg?raw=true)\n",
    "\n",
    "So our colleague decide to reorder the conditional clauses in the function to match the order that the parameters are passed to the function. They happen to change in the same line that we changed when we renamed the min_gb variable, which caused the conflict that Git couldn't resolve. Let's fix it by editing the file to remove the conflict. So first, let me exit with Q.\n",
    "\n",
    "![img13](https://github.com/Brian-E-Nguyen/Google-IT-Automation-with-Python/blob/3-Git-and-Github/3-Git-and-Github/Week-3-Working-With-Remotes/img/img13.jpg?raw=true)\n",
    "\n",
    "We see that the problem occurred in the conditional. On the first line, we see our change, where min_absolute was renamed to min_gb. In the second line, we see the old variable names, with the checks done in a different order.\n",
    "\n",
    "We need to decide what to do to this. For example, we can keep the new order, but use min_gb.\n",
    "\n",
    "![img14](https://github.com/Brian-E-Nguyen/Google-IT-Automation-with-Python/blob/3-Git-and-Github/3-Git-and-Github/Week-3-Working-With-Remotes/img/img14.jpg?raw=true)\n",
    "\n",
    "One thing to notice is that Git will try to do all possible automatic merges and only leave manual conflicts for us to resolve when the automatic merge fails. In this case, we can see that the other changes we made were merged successfully without intervention. Only the change that happened in the same line of the file needed our input. \n",
    "\n",
    "We fixed the conflict here, and the file is short enough that we can very quickly check that there are no other conflicts. For larger files, it might make sense to search for the conflict markers, greater than, greater, greater than, `>>>` in the whole file. This lets us check that there are no unresolved conflicts left. Nice, now that we fixed the conflict, you can finish the merge.\n",
    "\n",
    "![img15](https://github.com/Brian-E-Nguyen/Google-IT-Automation-with-Python/blob/3-Git-and-Github/3-Git-and-Github/Week-3-Working-With-Remotes/img/img15.jpg?raw=true)\n",
    "\n",
    "We need to add the all_checks.py file, and then call git commit to finish the merge. But first, we're going to save and close. The editor message shows that it's performing a merge of the remote branch with the local branch. We can add extra information to this message. For example, we can say that we fixed the conditional in the check disk usage function to use the new variable name and the new order.\n",
    "\n",
    "![img16](https://github.com/Brian-E-Nguyen/Google-IT-Automation-with-Python/blob/3-Git-and-Github/3-Git-and-Github/Week-3-Working-With-Remotes/img/img16.jpg?raw=true)\n",
    "\n",
    "We see that the latest commit is the merge, followed by the two commits that caused the merge conflict, which are on split paths in our graph. As we called out before, when Git needs to do a three-way merge, we end up with a separate commit for merging the branches back into the main tree. Now we know how to successfully complete a pull, merge, and push cycle, even when it means doing some manual merges. This was a complex exercise, and it's okay if some things still seem a bit scary. We all felt panic the first time we encountered a merge conflict. But don't worry, it gets easier with practice. To practice dealing with merge conflicts, you want to have two copies of your repository in separate directories, then try editing the same lines of the same files. You can follow along with the examples shown here, or come up with your own."
   ]
  },
  {
   "cell_type": "markdown",
   "metadata": {},
   "source": [
    "## 2. Pushing Remote Branches\n",
    "\n",
    "As we called up before, when using Git to work on a new feature or a big refactor of some kind, it's recommended best practice to create separate branches. There are many advantages to doing this. For example, it might take you a while to finish a new feature and in the meantime, there could be a critical bug that needs fixing in the main branch of the code. By having separate branches, you can fix the bug in the main branch, release a new version and then go back to working on your feature without having to integrate your code before it's ready. \n",
    "\n",
    "Another advantage of working in separate branches is that you could even release two or more versions out of the same tree. One being the stable version and the other being the beta version. That way, any disruptive changes can be tested on a few users or computers before they're fully released. So let's start a new branch to work on a small refactor of our code. Do you remember how to do that? You could create the branch first, and then check it out or we can just create it and check it out with git checkout-b and the new branch name.\n",
    "\n",
    "```\n",
    "$ git checkout -b refactor\n",
    "Switched to a new branch 'refactor'\n",
    "```"
   ]
  },
  {
   "cell_type": "code",
   "execution_count": 3,
   "metadata": {},
   "outputs": [
    {
     "name": "stdout",
     "output_type": "stream",
     "text": [
      "Everything OK\n"
     ]
    }
   ],
   "source": [
    "import shutil\n",
    "import sys\n",
    "import os\n",
    "\n",
    "def check_reboot():\n",
    "    '''Returns true if computer has pending reboot.'''\n",
    "    return os.path.exists('/run/reboot')\n",
    "\n",
    "def check_disk_full(disk, min_gb, min_percent):\n",
    "    du = shutil.disk_usage(disk)\n",
    "    percent_free = 100 * du.free / du.total\n",
    "    gigabytes_free = du.free / 2**30\n",
    "    if percent_free < min_percent or gigabytes_free < min_gb:\n",
    "        return True\n",
    "    return False\n",
    "\n",
    "def main():\n",
    "    if check_disk_full(disk='/', min_gb=2, min_percent=10):\n",
    "        print('Disk full')\n",
    "        sys.exit(1)\n",
    "    elif check_reboot():\n",
    "        print('Computer needs reboot')\n",
    "        sys.exit(1)\n",
    "    else:\n",
    "        print('Everything OK')\n",
    "main()"
   ]
  },
  {
   "cell_type": "markdown",
   "metadata": {},
   "source": [
    "We've noticed there's a pattern of repeating code in our all checks pi script. For each check that we call, we check if it returns true or false. When it returns true, we print an error and exit. If we add a new check, we'll have to repeat this pattern again. \n",
    "\n",
    "On top of the repeated pattern, if a computer has more than one problem, only the error for the first one will be printed. So let's refactor our code to avoid the duplication and print all relevant errors. We'll do it step-by-step making each commit self-contained. The first thing we'll do is create a function that checks if the disk is full without any parameters so it matches the pattern. This new wrapper function will pass the right parameters for us. Then we'll change the code to call this function instead. We'll also change the error message to something more accurate."
   ]
  },
  {
   "cell_type": "code",
   "execution_count": 4,
   "metadata": {},
   "outputs": [],
   "source": [
    "def check_root_full():\n",
    "    '''Return True if the root partition is full. False otherwise'''\n",
    "    return check_disk_full(disk='/', min_gb=2, min_percent=10)"
   ]
  },
  {
   "cell_type": "code",
   "execution_count": 5,
   "metadata": {},
   "outputs": [
    {
     "name": "stdout",
     "output_type": "stream",
     "text": [
      "Everything OK\n"
     ]
    },
    {
     "ename": "SystemExit",
     "evalue": "0",
     "output_type": "error",
     "traceback": [
      "An exception has occurred, use %tb to see the full traceback.\n",
      "\u001b[1;31mSystemExit\u001b[0m\u001b[1;31m:\u001b[0m 0\n"
     ]
    },
    {
     "name": "stderr",
     "output_type": "stream",
     "text": [
      "C:\\Users\\BRIAN\\Anaconda3\\lib\\site-packages\\IPython\\core\\interactiveshell.py:3334: UserWarning: To exit: use 'exit', 'quit', or Ctrl-D.\n",
      "  warn(\"To exit: use 'exit', 'quit', or Ctrl-D.\", stacklevel=1)\n"
     ]
    }
   ],
   "source": [
    "def check_reboot():\n",
    "    '''Returns true if computer has pending reboot.'''\n",
    "    return os.path.exists('/run/reboot')\n",
    "\n",
    "def check_disk_full(disk, min_gb, min_percent):\n",
    "    du = shutil.disk_usage(disk)\n",
    "    percent_free = 100 * du.free / du.total\n",
    "    gigabytes_free = du.free / 2**30\n",
    "    if percent_free < min_percent or gigabytes_free < min_gb:\n",
    "        return True\n",
    "    return False\n",
    "\n",
    "def check_root_full():\n",
    "    '''Return True if the root partition is full. False otherwise'''\n",
    "    return check_disk_full(disk='/', min_gb=2, min_percent=10)\n",
    "\n",
    "def main():\n",
    "    if check_root_full():\n",
    "        print('Disk full')\n",
    "        sys.exit(1)\n",
    "    if check_reboot():\n",
    "        print('Computer needs reboot')\n",
    "        sys.exit(1)\n",
    "    \n",
    "    print('Everything OK')\n",
    "    sys.exit(0)\n",
    "main()"
   ]
  },
  {
   "cell_type": "markdown",
   "metadata": {},
   "source": [
    "Awesome, it's working. Let's commit the change.\n",
    "\n",
    "```\n",
    "$ git commit -a -m'Create wrapper function for check_disk_full'\n",
    "[refactor 9b25155] Create wrapper function for check_disk_full\n",
    " 1 file changed, 10 insertions(+), 4 deletions(-)\n",
    "```\n",
    "\n",
    "We're ready for the next step in our refactor. To avoid code repetition, we'll create a list containing the names of the functions that we want to call, and then message to print if the function succeeds. After that, we'll add a for loop that iterates over the list of checks and messages. Then we'll call check, and if the return value is true, print the message and exit with an error code of one. After doing that we can delete the old code that we've already replaced.\n",
    "\n",
    "```python\n",
    "def main():\n",
    "    checks = [\n",
    "        (check_reboot, 'Pending Reboot'),\n",
    "        (check_root_full, 'Root partition full')\n",
    "    ]\n",
    "    for check, msg in checks:\n",
    "        if check():\n",
    "            print(msg)\n",
    "            sys.exit(1)\n",
    "    \n",
    "    print('Everything OK')\n",
    "    sys.exit(0)\n",
    "main()\n",
    "```"
   ]
  },
  {
   "cell_type": "code",
   "execution_count": 6,
   "metadata": {},
   "outputs": [
    {
     "name": "stdout",
     "output_type": "stream",
     "text": [
      "Everything OK\n"
     ]
    },
    {
     "ename": "SystemExit",
     "evalue": "0",
     "output_type": "error",
     "traceback": [
      "An exception has occurred, use %tb to see the full traceback.\n",
      "\u001b[1;31mSystemExit\u001b[0m\u001b[1;31m:\u001b[0m 0\n"
     ]
    }
   ],
   "source": [
    "def check_reboot():\n",
    "    '''Returns true if computer has pending reboot.'''\n",
    "    return os.path.exists('/run/reboot')\n",
    "\n",
    "def check_disk_full(disk, min_gb, min_percent):\n",
    "    du = shutil.disk_usage(disk)\n",
    "    percent_free = 100 * du.free / du.total\n",
    "    gigabytes_free = du.free / 2**30\n",
    "    if percent_free < min_percent or gigabytes_free < min_gb:\n",
    "        return True\n",
    "    return False\n",
    "\n",
    "def check_root_full():\n",
    "    '''Return True if the root partition is full. False otherwise'''\n",
    "    return check_disk_full(disk='/', min_gb=2, min_percent=10)\n",
    "\n",
    "def main():\n",
    "    checks = [\n",
    "        (check_reboot, 'Pending Reboot'),\n",
    "        (check_root_full, 'Root partition full')\n",
    "    ]\n",
    "    for check, msg in checks:\n",
    "        if check():\n",
    "            print(msg)\n",
    "            sys.exit(1)\n",
    "    \n",
    "    print('Everything OK')\n",
    "    sys.exit(0)\n",
    "main()"
   ]
  },
  {
   "cell_type": "markdown",
   "metadata": {},
   "source": [
    "Yes, it's still working. Let's commit the new change.\n",
    "\n",
    "```\n",
    "$ git commit -a -m'Iterate over a list of checks and messages to avoid duplication'\n",
    "[refactor 8025504] Iterate over a list of checks and messages to avoid duplication\n",
    " 1 file changed, 8 insertions(+), 6 deletions(-)\n",
    "```\n",
    "\n",
    "By now, we've re-factored our code to avoid code duplication. The current code does the same as the old code. Once we're ready to add new checks, we can do that by adding the function name and error message to the list of checks. The last change that we want to do is to let our script show more than one message if more than one check is failing. To do that, we add a Boolean variable called \"Everything Ok\" before the iteration. Changes variable to false if one of the checks finds a problem, and then exit with an error code only after having done all the checks.\n",
    "\n",
    "```python\n",
    "def main():\n",
    "    checks = [\n",
    "        (check_reboot, 'Pending Reboot'),\n",
    "        (check_root_full, 'Root partition full')\n",
    "    ]\n",
    "    everything_ok = True\n",
    "    for check, msg in checks:\n",
    "        if check():\n",
    "            print(msg)\n",
    "            everything_ok = False\n",
    "    if not everything_ok:\n",
    "        sys.exit(1)\n",
    "    print('Everything OK')\n",
    "    sys.exit(0)\n",
    "main()\n",
    "```\n",
    "\n",
    "```\n",
    "$ python all_checks.py\n",
    "Everything OK\n",
    "```\n",
    "\n",
    "With that, we have three commits and our refactor branch. Before we merge any of this into the master branch, we want to push this into the remote repo, so that our collaborators can view the code, test it, and let us know if it's ready for merging. The first time we push a branch to a remote repo, we need to add a few more parameters to the Git push command. We'll need to add the -u flag to create the branch upstream, which is another way of referring to remote repositories. We'll also have to say that we want to push this to the origin repo, and that we're pushing the refactor branch. \n",
    "\n",
    "```\n",
    "$ git push -u origin refactor\n",
    "Enumerating objects: 11, done.\n",
    "Counting objects: 100% (11/11), done.\n",
    "Delta compression using up to 8 threads\n",
    "Compressing objects: 100% (9/9), done.\n",
    "Writing objects: 100% (9/9), 1.39 KiB | 1.39 MiB/s, done.\n",
    "Total 9 (delta 2), reused 0 (delta 0), pack-reused 0\n",
    "remote: Resolving deltas: 100% (2/2), done.\n",
    "remote:\n",
    "remote: Create a pull request for 'refactor' on GitHub by visiting:\n",
    "remote:      https://github.com/Brian-E-Nguyen/health_checks/pull/new/refactor\n",
    "remote:\n",
    "To https://github.com/Brian-E-Nguyen/health_checks.git\n",
    " * [new branch]      refactor -> refactor\n",
    "Branch 'refactor' set up to track remote branch 'refactor' from 'origin'.\n",
    "```\n",
    "\n",
    "Whoa, that's a lot of information that Git's giving us. It's telling us if we want, we can create a pull request. We'll talk more about pull requests later on. For now, we're happy to see that new refactor branch has been created in the remote repo, which is what we wanted. This was a super complex example that incorporated a lot of concepts that we've learned about in this course, and also carried out some interesting Python concepts. If anything is still unclear, feel free to re-watch this video and follow along in your computer until you're comfortable with these steps. So now that our branch is pushed to the remote repo, it can be reviewed by our collaborators. Assuming they say it's okay, how should this branch get merged back into the master branch? We'll talk about that in our next video."
   ]
  }
 ],
 "metadata": {
  "kernelspec": {
   "display_name": "Python 3",
   "language": "python",
   "name": "python3"
  },
  "language_info": {
   "codemirror_mode": {
    "name": "ipython",
    "version": 3
   },
   "file_extension": ".py",
   "mimetype": "text/x-python",
   "name": "python",
   "nbconvert_exporter": "python",
   "pygments_lexer": "ipython3",
   "version": "3.7.4"
  }
 },
 "nbformat": 4,
 "nbformat_minor": 2
}
