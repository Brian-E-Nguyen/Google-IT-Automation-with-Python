{
 "cells": [
  {
   "cell_type": "markdown",
   "metadata": {},
   "source": [
    "# Solving Conflicts\n",
    "\n",
    "## 1. The Pull-Merge-Push Workflow\n",
    "\n",
    "We've now looked at the details of fetching and pulling data from a remote repositories without any local changes. We saw earlier how we can use the git push command to send our changes to the remote repo. But what if when we go to push our changes, there are new changes to the remote repo? To find out, let's start by making a change to our all checks py script.\n",
    "\n",
    "Remember way back to the beginning of the course, when we fixed the bug in the function that checks the disk space? The one that was doing gigabyte conversion twice?\n",
    "\n",
    "Part of the reason why our code was so buggy, was that we were passing numbers around without saying what those numbers were for. We could have made our code clearer by renaming our min absolute parameter to min GB. So that it's obvious that the function expects gigabytes."
   ]
  },
  {
   "cell_type": "code",
   "execution_count": 1,
   "metadata": {},
   "outputs": [],
   "source": [
    "import shutil\n",
    "import sys\n",
    "\n",
    "def check_disk_full(disk, min_gb, min_percent):\n",
    "    du = shutil.disk_usage(disk)\n",
    "    percent_free = 100 * du.free / du.total\n",
    "    gigabytes_free = du.free / 2**30\n",
    "    if percent_free < min_percent or gigabytes_free < min_gb:\n",
    "        return True\n",
    "    return False"
   ]
  },
  {
   "cell_type": "markdown",
   "metadata": {},
   "source": [
    "With that, we've clarified the code of the function. Another way we can make the code invocation clearer, we can use the name of the parameters in the call to the function, like this."
   ]
  },
  {
   "cell_type": "code",
   "execution_count": 2,
   "metadata": {},
   "outputs": [],
   "source": [
    "def main():\n",
    "    if check_disk_full(disk='/', min_gb=2, min_percent=10):\n",
    "        print('Disk full')\n",
    "        sys.exit(1)"
   ]
  },
  {
   "cell_type": "markdown",
   "metadata": {},
   "source": [
    "By using the names of the parameters, our invocation is clear, and we can even alter the order of the values and our code would still work.\n",
    "\n",
    "All right, we've made the change. Let's stage it and commit it as usual. We'll first use git add -p to look at the changes we made and accept them. Then we'll create a commit message to show that we've renamed min absolute to min GB, and that we're using parameter names for the invocation.\n",
    "\n",
    "![img8](https://github.com/Brian-E-Nguyen/Google-IT-Automation-with-Python/blob/3-Git-and-Github/3-Git-and-Github/Week-3-Working-With-Remotes/img/img8.jpg?raw=true)\n",
    "\n",
    "We've made our change, staged it, and committed it. We should be ready to push into the remote repo,except now we have a collaborator also making changes. Let's see what happens when we try running git push.\n",
    "\n",
    "\n",
    "\n",
    "![img9](https://github.com/Brian-E-Nguyen/Google-IT-Automation-with-Python/blob/3-Git-and-Github/3-Git-and-Github/Week-3-Working-With-Remotes/img/img9.jpg?raw=true)\n",
    "\n",
    "And it failed. Can you work out what went wrong here?\n",
    "\n",
    "There are a few hints. When we tried to push, Git rejected our change, that's because the remote repository contains changes that we don't have in our local branch that Git can't fast-forward. Maybe you remember when we talked about Git's merging algorithms? As usual, Git gives us some helpful information along with the error message, especially the part about integrating remote changes with git pull.\n",
    "\n",
    "\n",
    "This means we need to sync our local remote branch with the remote repository before we can push. We learned earlier that we can do this with git pull. Let's do this now.\n",
    "\n",
    "![img10](https://github.com/Brian-E-Nguyen/Google-IT-Automation-with-Python/blob/3-Git-and-Github/3-Git-and-Github/Week-3-Working-With-Remotes/img/img10.jpg?raw=true)\n",
    "\n",
    "Git tried to automatically merge the local and remote changes to all_checks.py, but found a conflict. Let's first look at the tree of commits on all branches as represented by git log --graph --oneline --all. \n",
    "\n",
    "![img11](https://github.com/Brian-E-Nguyen/Google-IT-Automation-with-Python/blob/3-Git-and-Github/3-Git-and-Github/Week-3-Working-With-Remotes/img/img11.jpg?raw=true)\n",
    "\n",
    "This graph shows us the different commits and positions in the tree. We can see the master branch, the origin/master branch, and the experimental branch. The graph indicates that our current commit and the commit in the origin/master branch share a common ancestor, but they don't follow one another.\n",
    "\n",
    "This means that we'll need to do a three-way merge. To do this, let's look at the actual changes in that commit by running `git log -p origin/master`.\n",
    "\n",
    "![img12](https://github.com/Brian-E-Nguyen/Google-IT-Automation-with-Python/blob/3-Git-and-Github/3-Git-and-Github/Week-3-Working-With-Remotes/img/img12.jpg?raw=true)\n",
    "\n",
    "So our colleague decide to reorder the conditional clauses in the function to match the order that the parameters are passed to the function. They happen to change in the same line that we changed when we renamed the min_gb variable, which caused the conflict that Git couldn't resolve. Let's fix it by editing the file to remove the conflict. So first, let me exit with Q.\n",
    "\n",
    "![img13](https://github.com/Brian-E-Nguyen/Google-IT-Automation-with-Python/blob/3-Git-and-Github/3-Git-and-Github/Week-3-Working-With-Remotes/img/img13.jpg?raw=true)\n",
    "\n",
    "We see that the problem occurred in the conditional. On the first line, we see our change, where min_absolute was renamed to min_gb. In the second line, we see the old variable names, with the checks done in a different order.\n",
    "\n",
    "We need to decide what to do to this. For example, we can keep the new order, but use min_gb.\n",
    "\n",
    "![img14](https://github.com/Brian-E-Nguyen/Google-IT-Automation-with-Python/blob/3-Git-and-Github/3-Git-and-Github/Week-3-Working-With-Remotes/img/img14.jpg?raw=true)\n",
    "\n",
    "One thing to notice is that Git will try to do all possible automatic merges and only leave manual conflicts for us to resolve when the automatic merge fails. In this case, we can see that the other changes we made were merged successfully without intervention. Only the change that happened in the same line of the file needed our input. \n",
    "\n",
    "We fixed the conflict here, and the file is short enough that we can very quickly check that there are no other conflicts. For larger files, it might make sense to search for the conflict markers, greater than, greater, greater than, `>>>` in the whole file. This lets us check that there are no unresolved conflicts left. Nice, now that we fixed the conflict, you can finish the merge.\n",
    "\n",
    "![img15](https://github.com/Brian-E-Nguyen/Google-IT-Automation-with-Python/blob/3-Git-and-Github/3-Git-and-Github/Week-3-Working-With-Remotes/img/img15.jpg?raw=true)\n",
    "\n",
    "We need to add the all_checks.py file, and then call git commit to finish the merge. But first, we're going to save and close. The editor message shows that it's performing a merge of the remote branch with the local branch. We can add extra information to this message. For example, we can say that we fixed the conditional in the check disk usage function to use the new variable name and the new order.\n",
    "\n",
    "![img16](https://github.com/Brian-E-Nguyen/Google-IT-Automation-with-Python/blob/3-Git-and-Github/3-Git-and-Github/Week-3-Working-With-Remotes/img/img16.jpg?raw=true)\n",
    "\n",
    "We see that the latest commit is the merge, followed by the two commits that caused the merge conflict, which are on split paths in our graph. As we called out before, when Git needs to do a three-way merge, we end up with a separate commit for merging the branches back into the main tree. Now we know how to successfully complete a pull, merge, and push cycle, even when it means doing some manual merges. This was a complex exercise, and it's okay if some things still seem a bit scary. We all felt panic the first time we encountered a merge conflict. But don't worry, it gets easier with practice. To practice dealing with merge conflicts, you want to have two copies of your repository in separate directories, then try editing the same lines of the same files. You can follow along with the examples shown here, or come up with your own."
   ]
  },
  {
   "cell_type": "markdown",
   "metadata": {},
   "source": [
    "## 2. Pushing Remote Branches\n",
    "\n",
    "As we called up before, when using Git to work on a new feature or a big refactor of some kind, it's recommended best practice to create separate branches. There are many advantages to doing this. For example, it might take you a while to finish a new feature and in the meantime, there could be a critical bug that needs fixing in the main branch of the code. By having separate branches, you can fix the bug in the main branch, release a new version and then go back to working on your feature without having to integrate your code before it's ready. \n",
    "\n",
    "Another advantage of working in separate branches is that you could even release two or more versions out of the same tree. One being the stable version and the other being the beta version. That way, any disruptive changes can be tested on a few users or computers before they're fully released. So let's start a new branch to work on a small refactor of our code. Do you remember how to do that? You could create the branch first, and then check it out or we can just create it and check it out with git checkout-b and the new branch name.\n",
    "\n",
    "```\n",
    "$ git checkout -b refactor\n",
    "Switched to a new branch 'refactor'\n",
    "```"
   ]
  },
  {
   "cell_type": "code",
   "execution_count": 3,
   "metadata": {},
   "outputs": [
    {
     "name": "stdout",
     "output_type": "stream",
     "text": [
      "Everything OK\n"
     ]
    }
   ],
   "source": [
    "import shutil\n",
    "import sys\n",
    "import os\n",
    "\n",
    "def check_reboot():\n",
    "    '''Returns true if computer has pending reboot.'''\n",
    "    return os.path.exists('/run/reboot')\n",
    "\n",
    "def check_disk_full(disk, min_gb, min_percent):\n",
    "    du = shutil.disk_usage(disk)\n",
    "    percent_free = 100 * du.free / du.total\n",
    "    gigabytes_free = du.free / 2**30\n",
    "    if percent_free < min_percent or gigabytes_free < min_gb:\n",
    "        return True\n",
    "    return False\n",
    "\n",
    "def main():\n",
    "    if check_disk_full(disk='/', min_gb=2, min_percent=10):\n",
    "        print('Disk full')\n",
    "        sys.exit(1)\n",
    "    elif check_reboot():\n",
    "        print('Computer needs reboot')\n",
    "        sys.exit(1)\n",
    "    else:\n",
    "        print('Everything OK')\n",
    "main()"
   ]
  },
  {
   "cell_type": "markdown",
   "metadata": {},
   "source": [
    "We've noticed there's a pattern of repeating code in our all checks pi script. For each check that we call, we check if it returns true or false. When it returns true, we print an error and exit. If we add a new check, we'll have to repeat this pattern again. \n",
    "\n",
    "On top of the repeated pattern, if a computer has more than one problem, only the error for the first one will be printed. So let's refactor our code to avoid the duplication and print all relevant errors. We'll do it step-by-step making each commit self-contained. The first thing we'll do is create a function that checks if the disk is full without any parameters so it matches the pattern. This new wrapper function will pass the right parameters for us. Then we'll change the code to call this function instead. We'll also change the error message to something more accurate."
   ]
  },
  {
   "cell_type": "code",
   "execution_count": 4,
   "metadata": {},
   "outputs": [],
   "source": [
    "def check_root_full():\n",
    "    '''Return True if the root partition is full. False otherwise'''\n",
    "    return check_disk_full(disk='/', min_gb=2, min_percent=10)"
   ]
  },
  {
   "cell_type": "code",
   "execution_count": 5,
   "metadata": {},
   "outputs": [
    {
     "name": "stdout",
     "output_type": "stream",
     "text": [
      "Everything OK\n"
     ]
    },
    {
     "ename": "SystemExit",
     "evalue": "0",
     "output_type": "error",
     "traceback": [
      "An exception has occurred, use %tb to see the full traceback.\n",
      "\u001b[1;31mSystemExit\u001b[0m\u001b[1;31m:\u001b[0m 0\n"
     ]
    },
    {
     "name": "stderr",
     "output_type": "stream",
     "text": [
      "C:\\Users\\BRIAN\\Anaconda3\\lib\\site-packages\\IPython\\core\\interactiveshell.py:3334: UserWarning: To exit: use 'exit', 'quit', or Ctrl-D.\n",
      "  warn(\"To exit: use 'exit', 'quit', or Ctrl-D.\", stacklevel=1)\n"
     ]
    }
   ],
   "source": [
    "def check_reboot():\n",
    "    '''Returns true if computer has pending reboot.'''\n",
    "    return os.path.exists('/run/reboot')\n",
    "\n",
    "def check_disk_full(disk, min_gb, min_percent):\n",
    "    du = shutil.disk_usage(disk)\n",
    "    percent_free = 100 * du.free / du.total\n",
    "    gigabytes_free = du.free / 2**30\n",
    "    if percent_free < min_percent or gigabytes_free < min_gb:\n",
    "        return True\n",
    "    return False\n",
    "\n",
    "def check_root_full():\n",
    "    '''Return True if the root partition is full. False otherwise'''\n",
    "    return check_disk_full(disk='/', min_gb=2, min_percent=10)\n",
    "\n",
    "def main():\n",
    "    if check_root_full():\n",
    "        print('Disk full')\n",
    "        sys.exit(1)\n",
    "    if check_reboot():\n",
    "        print('Computer needs reboot')\n",
    "        sys.exit(1)\n",
    "    \n",
    "    print('Everything OK')\n",
    "    sys.exit(0)\n",
    "main()"
   ]
  },
  {
   "cell_type": "markdown",
   "metadata": {},
   "source": [
    "Awesome, it's working. Let's commit the change.\n",
    "\n",
    "```\n",
    "$ git commit -a -m'Create wrapper function for check_disk_full'\n",
    "[refactor 9b25155] Create wrapper function for check_disk_full\n",
    " 1 file changed, 10 insertions(+), 4 deletions(-)\n",
    "```\n",
    "\n",
    "We're ready for the next step in our refactor. To avoid code repetition, we'll create a list containing the names of the functions that we want to call, and then message to print if the function succeeds. After that, we'll add a for loop that iterates over the list of checks and messages. Then we'll call check, and if the return value is true, print the message and exit with an error code of one. After doing that we can delete the old code that we've already replaced.\n",
    "\n",
    "```python\n",
    "def main():\n",
    "    checks = [\n",
    "        (check_reboot, 'Pending Reboot'),\n",
    "        (check_root_full, 'Root partition full')\n",
    "    ]\n",
    "    for check, msg in checks:\n",
    "        if check():\n",
    "            print(msg)\n",
    "            sys.exit(1)\n",
    "    \n",
    "    print('Everything OK')\n",
    "    sys.exit(0)\n",
    "main()\n",
    "```"
   ]
  },
  {
   "cell_type": "code",
   "execution_count": 6,
   "metadata": {},
   "outputs": [
    {
     "name": "stdout",
     "output_type": "stream",
     "text": [
      "Everything OK\n"
     ]
    },
    {
     "ename": "SystemExit",
     "evalue": "0",
     "output_type": "error",
     "traceback": [
      "An exception has occurred, use %tb to see the full traceback.\n",
      "\u001b[1;31mSystemExit\u001b[0m\u001b[1;31m:\u001b[0m 0\n"
     ]
    }
   ],
   "source": [
    "def check_reboot():\n",
    "    '''Returns true if computer has pending reboot.'''\n",
    "    return os.path.exists('/run/reboot')\n",
    "\n",
    "def check_disk_full(disk, min_gb, min_percent):\n",
    "    du = shutil.disk_usage(disk)\n",
    "    percent_free = 100 * du.free / du.total\n",
    "    gigabytes_free = du.free / 2**30\n",
    "    if percent_free < min_percent or gigabytes_free < min_gb:\n",
    "        return True\n",
    "    return False\n",
    "\n",
    "def check_root_full():\n",
    "    '''Return True if the root partition is full. False otherwise'''\n",
    "    return check_disk_full(disk='/', min_gb=2, min_percent=10)\n",
    "\n",
    "def main():\n",
    "    checks = [\n",
    "        (check_reboot, 'Pending Reboot'),\n",
    "        (check_root_full, 'Root partition full')\n",
    "    ]\n",
    "    for check, msg in checks:\n",
    "        if check():\n",
    "            print(msg)\n",
    "            sys.exit(1)\n",
    "    \n",
    "    print('Everything OK')\n",
    "    sys.exit(0)\n",
    "main()"
   ]
  },
  {
   "cell_type": "markdown",
   "metadata": {},
   "source": [
    "Yes, it's still working. Let's commit the new change.\n",
    "\n",
    "```\n",
    "$ git commit -a -m'Iterate over a list of checks and messages to avoid duplication'\n",
    "[refactor 8025504] Iterate over a list of checks and messages to avoid duplication\n",
    " 1 file changed, 8 insertions(+), 6 deletions(-)\n",
    "```\n",
    "\n",
    "By now, we've re-factored our code to avoid code duplication. The current code does the same as the old code. Once we're ready to add new checks, we can do that by adding the function name and error message to the list of checks. The last change that we want to do is to let our script show more than one message if more than one check is failing. To do that, we add a Boolean variable called \"Everything Ok\" before the iteration. Changes variable to false if one of the checks finds a problem, and then exit with an error code only after having done all the checks.\n",
    "\n",
    "```python\n",
    "def main():\n",
    "    checks = [\n",
    "        (check_reboot, 'Pending Reboot'),\n",
    "        (check_root_full, 'Root partition full')\n",
    "    ]\n",
    "    everything_ok = True\n",
    "    for check, msg in checks:\n",
    "        if check():\n",
    "            print(msg)\n",
    "            everything_ok = False\n",
    "    if not everything_ok:\n",
    "        sys.exit(1)\n",
    "    print('Everything OK')\n",
    "    sys.exit(0)\n",
    "main()\n",
    "```\n",
    "\n",
    "```\n",
    "$ python all_checks.py\n",
    "Everything OK\n",
    "```\n",
    "\n",
    "With that, we have three commits and our refactor branch. Before we merge any of this into the master branch, we want to push this into the remote repo, so that our collaborators can view the code, test it, and let us know if it's ready for merging. The first time we push a branch to a remote repo, we need to add a few more parameters to the Git push command. We'll need to add the -u flag to create the branch upstream, which is another way of referring to remote repositories. We'll also have to say that we want to push this to the origin repo, and that we're pushing the refactor branch. \n",
    "\n",
    "```\n",
    "$ git push -u origin refactor\n",
    "Enumerating objects: 11, done.\n",
    "Counting objects: 100% (11/11), done.\n",
    "Delta compression using up to 8 threads\n",
    "Compressing objects: 100% (9/9), done.\n",
    "Writing objects: 100% (9/9), 1.39 KiB | 1.39 MiB/s, done.\n",
    "Total 9 (delta 2), reused 0 (delta 0), pack-reused 0\n",
    "remote: Resolving deltas: 100% (2/2), done.\n",
    "remote:\n",
    "remote: Create a pull request for 'refactor' on GitHub by visiting:\n",
    "remote:      https://github.com/Brian-E-Nguyen/health_checks/pull/new/refactor\n",
    "remote:\n",
    "To https://github.com/Brian-E-Nguyen/health_checks.git\n",
    " * [new branch]      refactor -> refactor\n",
    "Branch 'refactor' set up to track remote branch 'refactor' from 'origin'.\n",
    "```\n",
    "\n",
    "Whoa, that's a lot of information that Git's giving us. It's telling us if we want, we can create a pull request. We'll talk more about pull requests later on. For now, we're happy to see that new refactor branch has been created in the remote repo, which is what we wanted. This was a super complex example that incorporated a lot of concepts that we've learned about in this course, and also carried out some interesting Python concepts. If anything is still unclear, feel free to re-watch this video and follow along in your computer until you're comfortable with these steps. So now that our branch is pushed to the remote repo, it can be reviewed by our collaborators. Assuming they say it's okay, how should this branch get merged back into the master branch? We'll talk about that in our next video."
   ]
  },
  {
   "cell_type": "markdown",
   "metadata": {},
   "source": [
    "## 3. Rebasing Your Changes\n",
    "\n",
    "In our last video, we mentioned that once our branch has been properly reviewed and tested, it can get merged back into the master branch. This can be done by us or by someone else. One option is to use the git merge command that we discussed earlier. Another option is to use the `git rebase` command. \n",
    "\n",
    "**Rebasing** means changing the base commit that's used for our branch. To understand what this means, let's quickly recap what we've learned about merges up till now. As we've seen in a lot of our earlier examples, when we create a branch at a certain point in the repo's history, Git knows the latest commit that was submitted on both branches. If only one of the branches has new changes when we try to merge them, Git will be able to fast forward and apply the changes. But if both branches have new changes when we try to merge, Git will create a new merge commit for the three way merge.\n",
    "\n",
    "![img17](https://github.com/Brian-E-Nguyen/Google-IT-Automation-with-Python/blob/3-Git-and-Github/3-Git-and-Github/Week-3-Working-With-Remotes/img/img17.jpg?raw=true)\n",
    "\n",
    "The problem with three way merges is that because of the split history, it's hard for us to debug when an issue is found in our code, and we need to understand where the problem was introduced. By changing the base where our commits split from the branch history, we can replay the new commits on top of the new base. This allows Git to do a fast forward merge and keep history linear.\n",
    "\n",
    "![img18](https://github.com/Brian-E-Nguyen/Google-IT-Automation-with-Python/blob/3-Git-and-Github/3-Git-and-Github/Week-3-Working-With-Remotes/img/img18.jpg?raw=true)\n",
    "\n",
    "So how do we do it? We run the command `git rebase`, followed by the branch that we want to set as the new base. When we do this, Git will try to replay our commits after the latest commit in that branch. This will work automatically if the changes are made in different parts of the files, but will require manual intervention if the changes were made in other files. Let's check out this process by rebasing our refactor branch onto the master branch. First, we'll check out the master branch and pull the latest changes in the remote repo.\n",
    "\n",
    "![img19](https://github.com/Brian-E-Nguyen/Google-IT-Automation-with-Python/blob/3-Git-and-Github/3-Git-and-Github/Week-3-Working-With-Remotes/img/img19.jpg?raw=true)\n",
    "\n",
    "Git tells us that it's updated the master branch with some changes that our colleague had made. At this point, the changes that we have in the refactor branch can no longer be merged through fast forwarding into the master branch. That's because there's now an extra commit in the master that's not present in the refactor.\n",
    "\n",
    "![img20](https://github.com/Brian-E-Nguyen/Google-IT-Automation-with-Python/blob/3-Git-and-Github/3-Git-and-Github/Week-3-Working-With-Remotes/img/img20.jpg?raw=true)\n",
    "\n",
    "It might take a bit to follow everything that's going on with this graph. But it can be really useful to understand complex history trees. As you can see, the refactor branch has three commits before the common ancestor, with the current commit that's at the head of the master branch. If we merged our branch now, it would cause a three way merge. But we want to keep our history linear. We'll do this with a rebase of the refactor against master.\n",
    "\n",
    "![img21](https://github.com/Brian-E-Nguyen/Google-IT-Automation-with-Python/blob/3-Git-and-Github/3-Git-and-Github/Week-3-Working-With-Remotes/img/img21.jpg?raw=true)\n",
    "\n",
    "As usual, Git gives us a bunch of helpful information. It says that it rewound head and replayed our work on top of it. And luckily, everything succeeded. Let's look at the output of git log --graph --oneline for our branch right now.\n",
    "\n",
    "\n",
    "![img22](https://github.com/Brian-E-Nguyen/Google-IT-Automation-with-Python/blob/3-Git-and-Github/3-Git-and-Github/Week-3-Working-With-Remotes/img/img22.jpg?raw=true)\n",
    "\n",
    "Awesome, we were able to merge our branch through a fast forward merge and keep our history linear. We're now done with our refactor and can get rid of that branch, both remotely and locally. To remove the remote branch, we'll call git push --delete origin refactor. To remove the local branch, we'll call git branch -d refactor."
   ]
  },
  {
   "cell_type": "markdown",
   "metadata": {},
   "source": [
    "## 4. Another Rebasing Example\n",
    "\n",
    "In our last video, we looked at an example use case for `git rebase`. Where we used it to rebase a feature branch so that it could be cleanly integrated. There are many other possible uses of rebase. One common example is to rebase the changes in the master branch when someone else also made changes and we want to keep history linear. This is a pretty common occurrence when you're working on a change that's small enough not to need a separate branch and your collaborators just happened to commit something at the same time. Let's check out how this would work in practice. First, we'll make a change to our script.\n",
    "\n",
    "Now that we've made it easy to add new checks, will add a check to warn when there's no working network. There's a ton of things to check for this but for now we'll keep it simple and just check whether we can resolve the google.com URL. To do this, we'll use the socket module. We'll add a new function called check no network that will return true if it fails to resolve the URL and false if it succeeds. This socket.gethostbyname function raises an exception on failure. So we'll use it try except block to wrap the call to the function and return false when the call succeeds or true when it fails."
   ]
  },
  {
   "cell_type": "code",
   "execution_count": 1,
   "metadata": {},
   "outputs": [],
   "source": [
    "import socket\n",
    "\n",
    "def check_no_network():\n",
    "    '''Returns true if it fails to receive Google URL'''\n",
    "    try:\n",
    "        socket.gethostbyname('www.google.com')\n",
    "        return False\n",
    "    except:\n",
    "        return True"
   ]
  },
  {
   "cell_type": "code",
   "execution_count": 2,
   "metadata": {},
   "outputs": [
    {
     "name": "stdout",
     "output_type": "stream",
     "text": [
      "Everything OK\n"
     ]
    },
    {
     "ename": "SystemExit",
     "evalue": "0",
     "output_type": "error",
     "traceback": [
      "An exception has occurred, use %tb to see the full traceback.\n",
      "\u001b[1;31mSystemExit\u001b[0m\u001b[1;31m:\u001b[0m 0\n"
     ]
    },
    {
     "name": "stderr",
     "output_type": "stream",
     "text": [
      "C:\\Users\\BRIAN\\Anaconda3\\lib\\site-packages\\IPython\\core\\interactiveshell.py:3334: UserWarning: To exit: use 'exit', 'quit', or Ctrl-D.\n",
      "  warn(\"To exit: use 'exit', 'quit', or Ctrl-D.\", stacklevel=1)\n"
     ]
    }
   ],
   "source": [
    "import shutil\n",
    "import sys\n",
    "import os\n",
    "import socket\n",
    "\n",
    "def check_reboot():\n",
    "    '''Returns true if computer has pending reboot.'''\n",
    "    return os.path.exists('/run/reboot')\n",
    "\n",
    "def check_disk_full(disk, min_gb, min_percent):\n",
    "    du = shutil.disk_usage(disk)\n",
    "    percent_free = 100 * du.free / du.total\n",
    "    gigabytes_free = du.free / 2**30\n",
    "    if percent_free < min_percent or gigabytes_free < min_gb:\n",
    "        return True\n",
    "    return False\n",
    "\n",
    "def check_root_full():\n",
    "    '''Return True if the root partition is full. False otherwise'''\n",
    "    return check_disk_full(disk='/', min_gb=2, min_percent=10)\n",
    "\n",
    "def check_no_network():\n",
    "    '''Returns true if it fails to receive Google URL'''\n",
    "    try:\n",
    "        socket.gethostbyname('www.google.com')\n",
    "        return False\n",
    "    except:\n",
    "        return True\n",
    "\n",
    "def main():\n",
    "    checks = [\n",
    "        (check_reboot, 'Pending Reboot'),\n",
    "        (check_root_full, 'Root partition full'),\n",
    "        (check_no_network, 'No working network'),\n",
    "    ]\n",
    "    everything_ok = True\n",
    "    for check, msg in checks:\n",
    "        if check():\n",
    "            print(msg)\n",
    "            everything_ok = False\n",
    "    if not everything_ok:\n",
    "        sys.exit(1)\n",
    "    print('Everything OK')\n",
    "    sys.exit(0)\n",
    "main()"
   ]
  },
  {
   "cell_type": "markdown",
   "metadata": {},
   "source": [
    "We want to check if one of our teammates also made a change in the master branch while we were working on our change. In an earlier video, we showed how to do that by running git pull which will automatically create a three-way merge if necessary. In this example, we want to look at a different approach to keep our project history linear. So we'll start by calling `git fetch` which you might remember we'll put the latest changes into the origin slash master branch but we won't apply them to our local master branch.\n",
    "\n",
    "![img23](https://github.com/Brian-E-Nguyen/Google-IT-Automation-with-Python/blob/3-Git-and-Github/3-Git-and-Github/Week-3-Working-With-Remotes/img/img23.jpg?raw=true)\n",
    "\n",
    "We see that we fetched some new changes. This means that if we tried to merge our changes, we end up with a three-way merge. Instead, we'll now run git rebase against our origin/master to rebase our changes against those made by our colleague and keep history linear.\n",
    "\n",
    "![img24](https://github.com/Brian-E-Nguyen/Google-IT-Automation-with-Python/blob/3-Git-and-Github/3-Git-and-Github/Week-3-Working-With-Remotes/img/img24.jpg?raw=true)\n",
    "\n",
    "We've got a conflict and we'll need to fix it. Git is giving us a lot of info on what it tried to do including what worked, what didn't work and what we can do about it. Since we asked it to rebase, it tried to rewind our changes and apply them on top of what was in the origin/master branch. The first commit made by our colleague, renamed all_checks.py to health_checks.py. Git detected this and automatically merged our changes into the new file name. But when trying to merge our changes with the changes made by our colleague in the file, there was a merge conflict. The output gives us a bunch of instructions on how to solve this. We could fix the conflict, skip the conflicting commit or even abort the rebased completely. \n",
    "\n",
    "In this example, we want to fix the conflict. So let's do that. We'll start by looking at the current state of the health_checks.py file.\n",
    "\n",
    "![img25](https://github.com/Brian-E-Nguyen/Google-IT-Automation-with-Python/blob/3-Git-and-Github/3-Git-and-Github/Week-3-Working-With-Remotes/img/img25.jpg?raw=true)\n",
    "\n",
    "We see that while we were adding the connectivity check, our colleague was adding a check for the CPU being constrained. We want both functions and the end result. So let's remove the conflict markers, cleaning up our file.\n",
    "\n",
    "![img26](https://github.com/Brian-E-Nguyen/Google-IT-Automation-with-Python/blob/3-Git-and-Github/3-Git-and-Github/Week-3-Working-With-Remotes/img/img26.jpg?raw=true)\n",
    "\n",
    "So close it looks like our colleague forgot to import the psutil module. Let's do that now.\n",
    "\n",
    "![img27](https://github.com/Brian-E-Nguyen/Google-IT-Automation-with-Python/blob/3-Git-and-Github/3-Git-and-Github/Week-3-Working-With-Remotes/img/img27.jpg?raw=true)\n",
    "\n",
    "We fix the conflict and our script is working again. We now need to add the changes made to the health_checks.py file and continue with the rebase.\n",
    "\n",
    "![img28](https://github.com/Brian-E-Nguyen/Google-IT-Automation-with-Python/blob/3-Git-and-Github/3-Git-and-Github/Week-3-Working-With-Remotes/img/img28.jpg?raw=true)\n",
    "\n",
    "Now, the rebase has finished successfully let's check out the output of git log --graph --oneline to see what the history looks like at this point. \n",
    "\n",
    "![img29](https://github.com/Brian-E-Nguyen/Google-IT-Automation-with-Python/blob/3-Git-and-Github/3-Git-and-Github/Week-3-Working-With-Remotes/img/img29.jpg?raw=true)\n",
    "\n",
    "We see that we've applied our change on top of the other changes without needing a three-way merge. What we did just now to resolve the conflict is very similar to what we did earlier to merge our changes. The difference is, that the commit history ended up being linear instead of branching out. We're now ready to push our new check to the remote repo.\n",
    "\n",
    "In this example, we've seen how we can use the fetch rebase push workflow to merge our changes with our collaborators changes while keeping the history of our changes linear. As we called out, keeping history linear helps with debugging especially when we're trying to identify which commit first introduced a problem in our project. We've now seen two examples of how to use the git rebase command. One for merging feature branches back into the main trunk of our code and one for making sure that our commits made in the master branch apply cleanly on top of the current state of the master branch and it doesn't stop there. We can also use git rebase to change the order of the commits or even squash two commits into one. This is a very powerful tool but don't worry you don't need to memorize all of its possible uses you'll learn them as you need them. Up next, we'll do a round up of some of the best practices for operating with git when collaborating with others."
   ]
  },
  {
   "cell_type": "markdown",
   "metadata": {},
   "source": [
    "## 5. Best Practices for Collaboration\n",
    "\n",
    "Over the past few videos, we've looked at a lot of things we can do with Git and remote repositories. It's worth spending some time talking about best practices for collaborating with others. **It's a good idea to always synchronize your branches before starting any work on your own.**\n",
    "\n",
    "That way, whenever you start changing code, you know that you're starting from the most recent version and you minimize the chances of conflicts or the need for rebasing. **Another common practice is to try and avoid having very large changes that modify a lot of different things.** Instead, try to make changes as small as possible as long as they're self-contained. For example, if you are renaming a variable for clarity reasons, you don't want to have code that adds new functionality in the same commit. It's better if you split it into different commit. This makes it easier to understand what's going on with each commit.\n",
    "\n",
    "On top of that, if you remember to push your changes often and pull before doing any work, you reduce the chances of getting conflict. **We called out already that when working on a big change, it makes sense to have a separate feature branch.** This lets you work on new changes while still enabling you to fix bugs in the other branch. To make the final merge of the feature branch easier, **it makes sense to regularly merge changes made on the master branch back onto the feature branch.** This way, we won't end up with a huge number of merge conflicts when the final merge time comes around.\n",
    "\n",
    "If you need to maintain more than one version of a project at the same time, **it's common practice to have the latest version of the project in the master branch and a stable version of the project on a separate branch.** You'll merge your changes into the separate branch whenever you declare a stable release.\n",
    "\n",
    "When using these two branches, some bug fixes for the stable version may be done directly on the stable branch if they aren't relevant to the latest version anymore. \n",
    "\n",
    "In the last couple of videos, we looked at how we can use rebase to make sure our history is linear. Rebasing can help a lot with identifying bugs, but use it with caution. Whenever we do a rebase, we're rewriting the history of our branch. The old commits get replaced with new commits, so they'll be based on different snapshots than the ones we had before and they'll have completely different hash sums. This works fine for local changes, but can cause a lot of trouble for changes that have been published and downloaded by other collaborators. So as a general rule, **you shouldn't rebase changes that have been pushed to remote repos.** \n",
    "\n",
    "The Git server will automatically reject pushes that attempt to rewrite the history of the branch. It's possible to force Git to accept the change, but it's not a great idea unless you really know what the implications will be. In our feature branch example, we rebased the branch. Merged it to the master and then deleted the old one. That way, we didn't push the rebase changes to the refactor branch, only to the master branch that hadn't seen those changes before.\n",
    "\n",
    "Early in our Git journey, **we mentioned that having good commit messages is important.** It's already important when you're working alone since good commit messages help the future you understand what's going on, but it's even more important when you're collaborating with others since it gives your collaborators more context on why you made the change and can help them understand how to solve conflicts when necessary. So commit to being a good collaborator and remember to add those commit messages.\n",
    "\n",
    "Whenever we collaborate with others, there's bound to be some merge conflicts and they can sure be a pain.\n",
    "\n",
    "I've definitely been frustrated when encountering complex merge conflicts and trying to debug the results. If I'm dealing with this type of merge conflict, my first step is to work backward and disable everything I've done and then see if the source still works, then I slowly add pieces of code until I hit the problem. That usually gets me through the tough times and has definitely highlighted some weird occurrences. Up next, we have a reading that puts together all the commands related to solving conflicts and then a quick practice quiz."
   ]
  },
  {
   "cell_type": "markdown",
   "metadata": {},
   "source": [
    "## 6. Conflict Resolution Cheat Sheet\n",
    "\n",
    "Merge conflicts are not uncommon when working in a team of developers, or on Open Source Software. Fortunately, GitHub has some good documentation on how to handle them when they happen:\n",
    "\n",
    "- https://help.github.com/en/github/collaborating-with-issues-and-pull-requests/about-merge-conflicts\n",
    "- https://help.github.com/en/github/collaborating-with-issues-and-pull-requests/resolving-a-merge-conflict-using-the-command-line\n",
    "\n",
    "You can also use [git rebase branchname](https://git-scm.com/book/en/v2/Git-Branching-Rebasing) to change the base of the current branch to be branchname\n",
    "\n",
    "The git rebase command is a lot more powerful.  Check out [this link](https://git-scm.com/book/en/v2/Git-Tools-Rewriting-History) for more information."
   ]
  },
  {
   "cell_type": "code",
   "execution_count": null,
   "metadata": {},
   "outputs": [],
   "source": []
  }
 ],
 "metadata": {
  "kernelspec": {
   "display_name": "Python 3",
   "language": "python",
   "name": "python3"
  },
  "language_info": {
   "codemirror_mode": {
    "name": "ipython",
    "version": 3
   },
   "file_extension": ".py",
   "mimetype": "text/x-python",
   "name": "python",
   "nbconvert_exporter": "python",
   "pygments_lexer": "ipython3",
   "version": "3.7.4"
  }
 },
 "nbformat": 4,
 "nbformat_minor": 2
}
