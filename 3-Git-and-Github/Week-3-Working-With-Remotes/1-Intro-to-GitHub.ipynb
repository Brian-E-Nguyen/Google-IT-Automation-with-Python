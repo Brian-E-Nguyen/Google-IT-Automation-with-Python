{
 "cells": [
  {
   "cell_type": "markdown",
   "metadata": {},
   "source": [
    "# Intro to GitHub\n",
    "\n",
    "Welcome back. Up until now we've learned a lot of interesting and complex techniques on how to use Git locally. We started with the very basic Git workflow for modifying files staging the changes and then committing them. We then looked at other things we can do with Git, like deleting or renaming files, getting more information about commits or skipping the staging area altogether. \n",
    "\n",
    "Next, we saw how to undo staged, unstaged or committed changes in our Git repositories. \n",
    "\n",
    "Finally, we learned a bit about how to work with different branches, how to merge changes from separate branches. That's a lot of complex stuff and it's natural that it might seem scary. But it can also be very satisfying once you start to understand what's going on and just think of how valuable these new skills will be as you advance your IT career. So remember that you can review the material as many times as needed and that the best way to master it is to keep practicing on your own, and if something is still unclear after that, don't forget you can use the discussion forums to ask for help. \n",
    "\n",
    "In this module, we'll learn a load of new things related to GitHub and remote repositories. We'll first talk about what GitHub is and why it matters, and then we'll dive into how to work with GitHub and other remote repositories. Being able to use remote repositories allows us to effectively collaborate with others. Our collaborators can be sitting in the same office as we are or they can be thousands of miles away on a different continent working at a different time of day. Using a version control system like Git lets us incorporate the work of different people no matter where they are or when they're working. I've personally had a bunch of interesting experiences collaborating through a version control system. One that stands out was a debugging session a friend and I had while at work. I was working on some tricky code and I couldn't figure out the best way to implement a function. I was stuck and ready to give up completely. My colleague suggested that I work on another piece of the file further down while he figured out the optimal solution for the code that I was having trouble with. This was a super seamless experience and was only possible because of a VCS, and the superpower of teamwork of course. \n",
    "\n",
    "By the end of the module you'll be able to collaborate with friends and colleagues just like I did. Let's get to it."
   ]
  },
  {
   "cell_type": "markdown",
   "metadata": {},
   "source": [
    "## 1. What is GitHub?\n",
    "\n",
    "In earlier videos, we called out that Git is a distributed version control system. **Distributed** means that each developer has a copy of the whole repository on their local machine.\n",
    "\n",
    "Each copy is a peer of the others. But we can host one of these copies on a server and then use it as a remote repository for the other copies. This lets us synchronize work between copies through this server. Any of us can create a Git server like this one, and many companies have similar internal services. But if you don't want to set up a Git server yourself and host your repositories, you can use an online service like GitHub.\n",
    "\n",
    "GitHub is a web-based Git repository hosting service. On top of the version control functionality of Git, GitHub includes extra features like bug tracking, wikis, and task management. GitHub lets us share and access repositories on the web and copy or clone them to our local computer, so we can work on them. GitHub is a popular choice with a robust feature set, but it's not the only one. Other services that provide similar functionality are BitBucket, and GitLab.\n",
    "\n",
    "For the rest of this course, we'll be using GitHub for our examples. But feel free to use the tool that best fits your needs. GitHub provides free access to a Git server for public and private repositories. It limits the number of contributors for the free private repositories, and offers an unlimited private repository service for a monthly fee. We'll be using a free repository for our examples, which is fine for educational use, small personal projects, or open source development.\n",
    "\n",
    "A word of caution on how you can manage these repos though. If hackers get hold of information about your organization's IT infrastructure, they can use it to try and break into your network. So make sure you treat this information as confidential. For real configuration and development work, you should use a secure and private Git server, and limit the people authorized to work on it.\n",
    "\n",
    "To use GitHub, the first thing you need to do is create an account if you don't have one already. Signing up online is free and relatively simple. Once you've done that, you can either create your own repos or contribute to repos from other projects. If you don't have a GitHub account yet, now is a good time to create one. Visit github.com to sign up for their service. Once you've done that, meet me over in the next video, where we'll go over some basic interactions with GitHub."
   ]
  }
 ],
 "metadata": {
  "kernelspec": {
   "display_name": "Python 3",
   "language": "python",
   "name": "python3"
  },
  "language_info": {
   "codemirror_mode": {
    "name": "ipython",
    "version": 3
   },
   "file_extension": ".py",
   "mimetype": "text/x-python",
   "name": "python",
   "nbconvert_exporter": "python",
   "pygments_lexer": "ipython3",
   "version": "3.7.4"
  }
 },
 "nbformat": 4,
 "nbformat_minor": 2
}
