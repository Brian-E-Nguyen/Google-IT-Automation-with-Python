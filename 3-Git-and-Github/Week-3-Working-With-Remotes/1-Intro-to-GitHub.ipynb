{
 "cells": [
  {
   "cell_type": "markdown",
   "metadata": {},
   "source": [
    "# Intro to GitHub\n",
    "\n",
    "Welcome back. Up until now we've learned a lot of interesting and complex techniques on how to use Git locally. We started with the very basic Git workflow for modifying files staging the changes and then committing them. We then looked at other things we can do with Git, like deleting or renaming files, getting more information about commits or skipping the staging area altogether. \n",
    "\n",
    "Next, we saw how to undo staged, unstaged or committed changes in our Git repositories. \n",
    "\n",
    "Finally, we learned a bit about how to work with different branches, how to merge changes from separate branches. That's a lot of complex stuff and it's natural that it might seem scary. But it can also be very satisfying once you start to understand what's going on and just think of how valuable these new skills will be as you advance your IT career. So remember that you can review the material as many times as needed and that the best way to master it is to keep practicing on your own, and if something is still unclear after that, don't forget you can use the discussion forums to ask for help. \n",
    "\n",
    "In this module, we'll learn a load of new things related to GitHub and remote repositories. We'll first talk about what GitHub is and why it matters, and then we'll dive into how to work with GitHub and other remote repositories. Being able to use remote repositories allows us to effectively collaborate with others. Our collaborators can be sitting in the same office as we are or they can be thousands of miles away on a different continent working at a different time of day. Using a version control system like Git lets us incorporate the work of different people no matter where they are or when they're working. I've personally had a bunch of interesting experiences collaborating through a version control system. One that stands out was a debugging session a friend and I had while at work. I was working on some tricky code and I couldn't figure out the best way to implement a function. I was stuck and ready to give up completely. My colleague suggested that I work on another piece of the file further down while he figured out the optimal solution for the code that I was having trouble with. This was a super seamless experience and was only possible because of a VCS, and the superpower of teamwork of course. \n",
    "\n",
    "By the end of the module you'll be able to collaborate with friends and colleagues just like I did. Let's get to it."
   ]
  },
  {
   "cell_type": "code",
   "execution_count": null,
   "metadata": {},
   "outputs": [],
   "source": []
  }
 ],
 "metadata": {
  "kernelspec": {
   "display_name": "Python 3",
   "language": "python",
   "name": "python3"
  },
  "language_info": {
   "codemirror_mode": {
    "name": "ipython",
    "version": 3
   },
   "file_extension": ".py",
   "mimetype": "text/x-python",
   "name": "python",
   "nbconvert_exporter": "python",
   "pygments_lexer": "ipython3",
   "version": "3.7.4"
  }
 },
 "nbformat": 4,
 "nbformat_minor": 2
}
