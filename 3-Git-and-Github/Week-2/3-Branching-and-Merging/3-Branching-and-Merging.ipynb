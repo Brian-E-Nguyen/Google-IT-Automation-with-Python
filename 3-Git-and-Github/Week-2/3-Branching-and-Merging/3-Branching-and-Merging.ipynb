{
 "cells": [
  {
   "cell_type": "markdown",
   "metadata": {},
   "source": [
    "# Branching and Merging\n",
    "\n",
    "\n",
    "## 1. What is a Branch?\n",
    "\n",
    "Up until now, we've only briefly mentioned branches. You might have seen the text on branch master and commit messages, or you might remember that we talked about branches in the context of the head pointer. Branches are an important part of the Git work flow. So we'll branch out and explore them more thoroughly in the coming videos. \n",
    "\n",
    "So what is a branch? What is it used for? In Git, a branch at the most basic level is just a pointer to a particular commit. But more importantly, it represents an independent line of development in a project. Of which the commit it points to is the latest link in a chain of developing history. The default branch that Git creates for you when a new repository initialized is called **master**. All of our examples and development have taken place on this branch so far. \n",
    "\n",
    "The master branch is commonly used to represent the known good state of a project. When you want to develop a feature or try something new in your project, you can create a separate branch to do your work without worrying about messing up this current working state. If this seems confusing, maybe an analogy will help. \n",
    "\n",
    "You can think of a Git project as an assignment your teacher gives you in a class. You do all your work on the assignment in a set of notebooks, each notebook representing a different branch. You use some notebooks to jot down rough drafts in experiments, but you keep one notebook the master branch, in a tidy state and you copy the polish versions of these drafts into it. No doodling in the master note book, please. Branches make it really easy to experiment with new ideas or strategies and projects. When you want to add a feature or fix something, you can create a new branch and do your development there. You can merge back into the master branch, when you've got something you like, or discard your changes without negative impact if they don't work out. \n",
    "\n",
    "In Git, branches are used all the time, as a part of the normal development workflow. As an example, think back to the problematic commit we fixed in an earlier video. We added a call to the disk full function, but forgot to actually define the function. So we had to roll it back because our users we're seeing errors. Knowing what we know now, we could have done that work on a separate branch, maybe called something like add disk full. In that case, we could have iterated on our code there until it was working correctly, without it effecting the master branch. Only after the code is ready to be deployed, we would merge those changes back into the master branch. \n",
    "\n",
    "In the next few videos, we'll look into how to create new branches and merge their content into the master branch. We'll also go over what to do if you run into any scary merge conflicts. Heads up, this is about to get pretty complicated. So make sure that you follow all of our exercises along in your computer and keep practicing coming up with new ways of using branches and merging, until you're comfortable with each of the steps we show.\n",
    "\n",
    "## 2. Creating New Branches\n",
    "\n",
    "As branches are essential to how work is done in git, there's tons of different ways to work with them. We can use the git branch command to list, create, delete, and manipulate branches. Running git branch by itself will show you a list of all the branches in your repository. Let's try it out in our checks repo.\n",
    "\n",
    "Our list is looking pretty empty right now, but don't worry. Creating a branch is a snap. We do it by calling git branch with the name of the new branch Let's create a new feature branch and then list the branches again with git branch.\n",
    "\n",
    "**NOTE:** I'm using git for Windows so some things do not apply\n",
    "\n",
    "```\n",
    "$ git checkout -b 'new-feature'\n",
    "Switched to a new branch 'new-feature'\n",
    "```\n",
    "\n",
    "Our new branch was created based on the value of head. Remember that this might not necessarily be the master branch. The list we get shows that we're still on the master branch. We can tell because the current branch is indicated in the command's output with an asterisk in a different color. We'll look into other things that git branch lets us do with branches later on, but right now we want to switch to a new branch. To do that, we'll need to use the git checkout command. We saw earlier how we can use git checkout to restore a modified file back to the latest commit. \n",
    "\n",
    "Checking out branches is similar in that, the working tree is updated to match the selected branch including both the files and the git history. If this seems a bit confusing at first, you're not alone. I also found it hard to wrap my head around it first. But rest assured that it will become clear after we use these commands for awhile. It might help to remember that we use git checkout to check out the latest snapshot for both files and for branches. All right. Let's switch to our new feature branch by calling git checkout new feature, and then listing our branches once again.\n",
    "\n",
    "Before we were working on the master branch but now that we've changed to our new branch, the star has moved to new feature. Creating a branch and switching to it immediately is a pretty common task. So common that git gives us a useful shortcut to create a new branch and to switch to it in a single command. We can use the git checkout -b new branch to do this. Take a look.\n",
    "\n",
    "See how the message says that we've switched to a new branch? Git created the new branch and switched to it in just one command. Super efficient. Now that we have our shiny new branch, let's create a new file in. We'll create a new Python3 file, that will include the usual shebang line and empty main function and a call to that function."
   ]
  },
  {
   "cell_type": "code",
   "execution_count": 1,
   "metadata": {},
   "outputs": [],
   "source": [
    "# free_memory.py\n",
    "def main():\n",
    "    pass\n",
    "\n",
    "main()"
   ]
  },
  {
   "cell_type": "markdown",
   "metadata": {},
   "source": [
    "This file is empty because it's only the beginning of our work. As it's in a separate branch, it's okay for it to not be finished yet. Let's save our file and commit it to the current branch now.\n",
    "\n",
    "```\n",
    "$ git add free_memory.py\n",
    "\n",
    "$ git commit -m'Add an empty free_memory.py'\n",
    "[new-feature (root-commit) 9a351fa] Add an empty free_memory.py\n",
    " 1 file changed, 4 insertions(+)\n",
    " create mode 100644 free_memory.py\n",
    "```\n",
    "\n",
    "```\n",
    "$ git log\n",
    "commit 9a351facde003158e60d44521ba841ee90b8d75d (HEAD -> new-feature)\n",
    "Author: Brian Nguyen <brian.edison.nguyen@gmail.com>\n",
    "Date:   Sun Aug 16 11:27:46 2020 -0700\n",
    "\n",
    "    Add an empty free_memory.py\n",
    "\n",
    "```\n",
    "\n",
    "We see the last two commits in this branch. Notice how next to the latest commit ID, git shows that this is where head is pointing to and that the branch is called even better feature. Next to the previous commit, git shows that both the master and the new feature branches are pointing to that snapshot of the project. In this way, we can see that the even better feature branch is ahead of the master branch. With that, we've seen how we can create new branches and commit changes to them. You might say your knowledge of branches has grown. Up next, we'll learn even more things we can do to operate with branches. So stick around."
   ]
  },
  {
   "cell_type": "code",
   "execution_count": null,
   "metadata": {},
   "outputs": [],
   "source": []
  }
 ],
 "metadata": {
  "kernelspec": {
   "display_name": "Python 3",
   "language": "python",
   "name": "python3"
  },
  "language_info": {
   "codemirror_mode": {
    "name": "ipython",
    "version": 3
   },
   "file_extension": ".py",
   "mimetype": "text/x-python",
   "name": "python",
   "nbconvert_exporter": "python",
   "pygments_lexer": "ipython3",
   "version": "3.7.4"
  }
 },
 "nbformat": 4,
 "nbformat_minor": 2
}
