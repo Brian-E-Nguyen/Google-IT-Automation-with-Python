{
 "cells": [
  {
   "cell_type": "markdown",
   "metadata": {},
   "source": [
    "# Branching and Merging\n",
    "\n",
    "\n",
    "## 1. What is a Branch?\n",
    "\n",
    "Up until now, we've only briefly mentioned branches. You might have seen the text on branch master and commit messages, or you might remember that we talked about branches in the context of the head pointer. Branches are an important part of the Git work flow. So we'll branch out and explore them more thoroughly in the coming videos. \n",
    "\n",
    "So what is a branch? What is it used for? In Git, a branch at the most basic level is just a pointer to a particular commit. But more importantly, it represents an independent line of development in a project. Of which the commit it points to is the latest link in a chain of developing history. The default branch that Git creates for you when a new repository initialized is called **master**. All of our examples and development have taken place on this branch so far. \n",
    "\n",
    "The master branch is commonly used to represent the known good state of a project. When you want to develop a feature or try something new in your project, you can create a separate branch to do your work without worrying about messing up this current working state. If this seems confusing, maybe an analogy will help. \n",
    "\n",
    "You can think of a Git project as an assignment your teacher gives you in a class. You do all your work on the assignment in a set of notebooks, each notebook representing a different branch. You use some notebooks to jot down rough drafts in experiments, but you keep one notebook the master branch, in a tidy state and you copy the polish versions of these drafts into it. No doodling in the master note book, please. Branches make it really easy to experiment with new ideas or strategies and projects. When you want to add a feature or fix something, you can create a new branch and do your development there. You can merge back into the master branch, when you've got something you like, or discard your changes without negative impact if they don't work out. \n",
    "\n",
    "In Git, branches are used all the time, as a part of the normal development workflow. As an example, think back to the problematic commit we fixed in an earlier video. We added a call to the disk full function, but forgot to actually define the function. So we had to roll it back because our users we're seeing errors. Knowing what we know now, we could have done that work on a separate branch, maybe called something like add disk full. In that case, we could have iterated on our code there until it was working correctly, without it effecting the master branch. Only after the code is ready to be deployed, we would merge those changes back into the master branch. \n",
    "\n",
    "In the next few videos, we'll look into how to create new branches and merge their content into the master branch. We'll also go over what to do if you run into any scary merge conflicts. Heads up, this is about to get pretty complicated. So make sure that you follow all of our exercises along in your computer and keep practicing coming up with new ways of using branches and merging, until you're comfortable with each of the steps we show.\n",
    "\n",
    "## 2. Creating New Branches\n",
    "\n",
    "As branches are essential to how work is done in git, there's tons of different ways to work with them. We can use the git branch command to list, create, delete, and manipulate branches. Running git branch by itself will show you a list of all the branches in your repository. Let's try it out in our checks repo.\n",
    "\n",
    "Our list is looking pretty empty right now, but don't worry. Creating a branch is a snap. We do it by calling git branch with the name of the new branch Let's create a new feature branch and then list the branches again with git branch.\n",
    "\n",
    "**NOTE:** I'm using git for Windows so some things do not apply\n",
    "\n",
    "```\n",
    "$ git checkout -b 'new-feature'\n",
    "Switched to a new branch 'new-feature'\n",
    "```\n",
    "\n",
    "Our new branch was created based on the value of head. Remember that this might not necessarily be the master branch. The list we get shows that we're still on the master branch. We can tell because the current branch is indicated in the command's output with an asterisk in a different color. We'll look into other things that git branch lets us do with branches later on, but right now we want to switch to a new branch. To do that, we'll need to use the git checkout command. We saw earlier how we can use git checkout to restore a modified file back to the latest commit. \n",
    "\n",
    "Checking out branches is similar in that, the working tree is updated to match the selected branch including both the files and the git history. If this seems a bit confusing at first, you're not alone. I also found it hard to wrap my head around it first. But rest assured that it will become clear after we use these commands for awhile. It might help to remember that we use git checkout to check out the latest snapshot for both files and for branches. All right. Let's switch to our new feature branch by calling git checkout new feature, and then listing our branches once again.\n",
    "\n",
    "Before we were working on the master branch but now that we've changed to our new branch, the star has moved to new feature. Creating a branch and switching to it immediately is a pretty common task. So common that git gives us a useful shortcut to create a new branch and to switch to it in a single command. We can use the git checkout -b new branch to do this. Take a look.\n",
    "\n",
    "See how the message says that we've switched to a new branch? Git created the new branch and switched to it in just one command. Super efficient. Now that we have our shiny new branch, let's create a new file in. We'll create a new Python3 file, that will include the usual shebang line and empty main function and a call to that function."
   ]
  },
  {
   "cell_type": "code",
   "execution_count": 1,
   "metadata": {},
   "outputs": [],
   "source": [
    "# free_memory.py\n",
    "def main():\n",
    "    pass\n",
    "\n",
    "main()"
   ]
  },
  {
   "cell_type": "markdown",
   "metadata": {},
   "source": [
    "This file is empty because it's only the beginning of our work. As it's in a separate branch, it's okay for it to not be finished yet. Let's save our file and commit it to the current branch now.\n",
    "\n",
    "```\n",
    "$ git add free_memory.py\n",
    "\n",
    "$ git commit -m'Add an empty free_memory.py'\n",
    "[new-feature (root-commit) 9a351fa] Add an empty free_memory.py\n",
    " 1 file changed, 4 insertions(+)\n",
    " create mode 100644 free_memory.py\n",
    "\n",
    "\n",
    "$ git log\n",
    "commit b310bd6073620c30b28eff0681023e11e8ab5b46 (HEAD -> new-feature)\n",
    "Author: Brian Nguyen <brian.edison.nguyen@gmail.com>\n",
    "Date:   Sun Aug 16 11:41:22 2020 -0700\n",
    "\n",
    "    Add an empty free_memory.py\n",
    "\n",
    "commit 818bd1f98476c14712094751084aff1e01cc9138 (3-Git-and-Github)\n",
    "Author: Brian Nguyen <brian.edison.nguyen@gmail.com>\n",
    "Date:   Sun Aug 16 11:30:14 2020 -0700\n",
    "\n",
    "    G&G week 2: \"creating branches\"\n",
    "    \n",
    "```\n",
    "\n",
    "We see the last two commits in this branch. Notice how next to the latest commit ID, git shows that this is where head is pointing to and that the branch is called even better feature. Next to the previous commit, git shows that both the master and the new feature branches are pointing to that snapshot of the project. In this way, we can see that the even better feature branch is ahead of the master branch. With that, we've seen how we can create new branches and commit changes to them. You might say your knowledge of branches has grown. Up next, we'll learn even more things we can do to operate with branches. So stick around."
   ]
  },
  {
   "cell_type": "markdown",
   "metadata": {},
   "source": [
    "## 3. Working with Branches\n",
    "\n",
    "**NOTE:** some things I didn't do because I dont want to mess up my repo\n",
    "\n",
    "In our last video, we created a new branch different than the master branch and added a commit to it. Let's check out the current status of our repo by calling git status and ls dash l.\n",
    "\n",
    "### 3.1 Changing Branches\n",
    "\n",
    "```\n",
    "$ git status\n",
    "On branch new-feature\n",
    "Changes not staged for commit:\n",
    "  (use \"git add <file>...\" to update what will be committed)\n",
    "  (use \"git restore <file>...\" to discard changes in working directory)\n",
    "        modified:   ../3-Branching-and-Merging.ipynb\n",
    "```\n",
    "\n",
    "So we see that we're on a clean working tree in the even better feature branch, and that a new free memory py file is in our working tree. Let's now change back to the master branch using git checkout master and then lists the latest two commits there. When we switch to a different branch using git checkout, under the hood, git changes where head is pointing. \n",
    "\n",
    "```\n",
    "$ ls -l\n",
    "total 1\n",
    "-rw-r--r-- 1 BRIAN 197121  0 Aug 14 11:46 check_free_space.py\n",
    "-rw-r--r-- 1 BRIAN 197121 31 Aug 16 11:40 free_memory.py\n",
    "```\n",
    "\n",
    "Thanks to this checkout, head went from pointing to the latest commit in the even better feature branch to the most recent commit of the master branch. The commit from even better feature doesn't show up at all, and the latest snapshot is the second entry we've seen before. Remember that when we switch branches, git will also change files in our working directory or working tree to whatever snapshot head is currently pointing at. Let's look at the current contents of our directory.\n",
    "\n",
    "Free memory py isn't there. This demonstrates that when we switch branches in git, the working directory and commit history will be changed to reflect the snapshot of our project in that branch. When we check out a new branch and commit on it, those changes will be added to the history of that branch. Since free memory py was committed on another branch, it doesn't show up in the history or working directory of the master branch. One thing to note after all this back and forth, is that each branch is just a pointer to a specific commit in a series of snapshots. It's very easy to create new branches because there isn't any data that needs to be copied around. When we switch to another branch, we check out a different commit and git updates both head and the contents of our working directory. Head floats around with us. It's like a free spirit. What a head trip. \n",
    "\n",
    "### 3.2 Deleting Branches\n",
    "\n",
    "Okay. We've now seen how to create and switch between branches. So what if we want to delete a branch that we don't need anymore? We can do that by using git branch dash d. Let's first list the current branches in our repo and then get rid of the new feature branch by calling git branch dash d new-feature. Just like that, our branch was trimmed. We can check with another call to git branch that is not there anymore."
   ]
  },
  {
   "cell_type": "markdown",
   "metadata": {},
   "source": [
    "## 4. Merging\n",
    "\n",
    "A typical workflow for managing branches in Git, is to create a separate branch for developing any new features or changes. Once the new feature's in good shape, we merge the separate branch back into the main trunk of code. **Merging** is the term that Git uses for combining branch data and history together. We'll use the `git merge` command, which lets us take the independent snapshots and history of one Git branch, and tangle them into another.\n",
    "\n",
    "Let's try this out with our example branch from the last video. First, will check that we're in master branch, and then we'll call git merge even-better-feature to merge the even-better-feature branch into the master branch. \n",
    "\n",
    "```\n",
    "$ git merge \n",
    "Updating 2315fwe...452121\n",
    "Fast-forward\n",
    "    free_memory.py | 6 +++++\n",
    "    1 file changed, 6 insertions(+)\n",
    "    create mode 10064 free_memory\n",
    "```\n",
    "\n",
    "Now we've brought the master branch up to speed, which we can see by looking at the git log.\n",
    "\n",
    "As we're on the master branch, HEAD points at master. We can see the even-better-feature and master branches are now both pointing at the same commit.\n",
    "\n",
    "Git uses two different algorithms to perform a merge, **fast-forward** and **three-way merge**. The merge we just performed is an example of a fast-forward merge. This kind of merge occurs when all the commits in the checked out branch are also in the branch that's being merged. If this is the case, we can say that the commit history of both branches doesn't diverge. In these cases, all Git has to do is update the pointers of the branches to the same commit, and no actual merging needs to take place. On the other hand, a three-way merge is performed when the history of the merging branches has diverged in some way, and there isn't a nice linear path to combine them via fast-forwarding. This happens when a commit is made on one branch after the point when both branches split.\n",
    "\n",
    "In our case, this could have happened if we made a commit on the master branch after creating the other branches.\n",
    "\n",
    "When this occurs, Git will tie the branch histories together with a new commit. And merge the snapshots at the two branch tips with the most recent common ancestor, the commit before the divergence. To do this successfully, Git tries to figure out how to combine both snapshots. If the changes were made in different files, or in different parts of the same file, Git will take both changes and put them together in the result. If instead the changes are made on the same part of the same file, Git won't know how to merge those changes, and the attempt will result in a merge conflict. This sounds scary, but don't panic. Git doesn't quit, we'll solve those conflicts in our next video."
   ]
  },
  {
   "cell_type": "markdown",
   "metadata": {},
   "source": [
    "## 5. Merge Conflicts\n",
    "\n",
    "From time to time, we might find that both the branches we're trying to merge have edits to the same part of the same file. This will result in something called a merge conflict. Normally, Git can automatically merge files for us. But when we have a merge conflict, it will need a little help to figure out what to do. To see how this would look, let's edit the free_memory.py file in the master branch and replace the pass statement with a comment about what the main function should do."
   ]
  },
  {
   "cell_type": "code",
   "execution_count": 2,
   "metadata": {},
   "outputs": [],
   "source": [
    "def main():\n",
    "  '''Checks if there's enough free memory in the computer'''\n",
    "\n",
    "main()"
   ]
  },
  {
   "cell_type": "markdown",
   "metadata": {},
   "source": [
    "Cool, we made the change so let's save it and commit it back to our master branch.\n",
    "\n",
    "Git tells us it tried to automatically merge the two versions of the free memory file, but it didn't know how to do it. We can use Git's status to get more information about what's going on.\n",
    "\n",
    "![img](https://github.com/Brian-E-Nguyen/Google-IT-Automation-with-Python/blob/3-Git-and-Github/3-Git-and-Github/Week-2/3-Branching-and-Merging/img/img1.jpg?raw=true)\n",
    "\n",
    "As usual, git status gives us a lot of additional information. It tells us that we have files that are currently unmerged, and that we need to fix the conflicts or abort the merge if we decide it was a mistake. It also tells us that we need to run Git add on each unmerged file to mark that the conflicts have been resolved. Let's get to work. To fix the conflict, let's open up free_memory.py in our text editor.\n",
    "\n",
    "![img](https://github.com/Brian-E-Nguyen/Google-IT-Automation-with-Python/blob/3-Git-and-Github/3-Git-and-Github/Week-2/3-Branching-and-Merging/img/img2.jpg?raw=true)\n",
    "\n",
    "Thankfully, Git has added some information to our files to tell us which parts of the code are conflicting. The unmerged content of the file at head, remember, in this case, head points to master, is the docstring stating what the main function should do. The unmerged content of the file in the even-better-feature branch is the call to the print function. It's up to us to decide which one to keep or if we should change the contents of the file altogether. In this case, we'll keep both statements and delete the merger markers."
   ]
  },
  {
   "cell_type": "code",
   "execution_count": 4,
   "metadata": {},
   "outputs": [
    {
     "name": "stdout",
     "output_type": "stream",
     "text": [
      "Everything is ok\n"
     ]
    }
   ],
   "source": [
    "def main():\n",
    "    '''Checks if there's enough free memory in the computer'''\n",
    "    print('Everything is ok')\n",
    "main()"
   ]
  },
  {
   "cell_type": "markdown",
   "metadata": {},
   "source": [
    "Now that we've fixed the conflict, we'll mark it as resolved by running git add on the file, and then call the git status to see how our merge is doing. See how Git now tells us that all conflicts have been resolved. Woo-hoo, we just need to call git commit to wrap up the merge.\n",
    "\n",
    "![img](https://github.com/Brian-E-Nguyen/Google-IT-Automation-with-Python/blob/3-Git-and-Github/3-Git-and-Github/Week-2/3-Branching-and-Merging/img/img3.jpg?raw=true)\n",
    "\n",
    "The comments that git commit shows us look different than other commits. \n",
    "\n",
    "```\n",
    "Merge branch 'even-better-feature'\n",
    "\n",
    "Kept lines from both branches\n",
    "\n",
    "# Conflicts:\n",
    "#   free_memory.py\n",
    "# ...\n",
    "```\n",
    "\n",
    "\n",
    "That's because this is a merge and Git tells us so. It also tells us which file had conflicts which have now been resolved. The commit already has a description saying that it's merging the other branch. This description was automatically created when we called the git merge command. But we can add onto this description if we want. For example, we can say that we're keeping the lines from both branches, and then just save and exit as usual.\n",
    "\n",
    "The merge conflict is resolved. To see what the commit history looks like now, we'll use a couple of handy options to the git log command; --graph for seeing the commits as a graph, and --oneline to only see one line per commit. \n",
    "\n",
    "```\n",
    "$ git log --graph --oneline\n",
    "* f3b9df9 (HEAD -> 3-Git-and-Github, origin/3-Git-and-Github) img3\n",
    "* 4e3dc83 img2\n",
    "* 7872501 added images\n",
    "* 3cbc665 G&G week 2: \"merging\"\n",
    "* 0581428 G&G week 2: \"working w/ branches\"\n",
    "* 818bd1f G&G week 2: \"creating branches\"\n",
    "* 349abe2 G&G week 2: git revert cheat sheet\n",
    "* b5d8bc0 G&G week 2: \"identifying commits\"\n",
    "* 45a09fc G&G week 2: \"rollbacks\"\n",
    "* 2228a24 Revert \"Add call to disk_full function\"\n",
    "* 504737b Add call to disk_full function\n",
    "```\n",
    "\n",
    "This format helps us better understand the history of our commits and how merges have occurred. We can see the new commit that was added and also the two separate commits that we merged. One coming from the master branch and the other coming from the even-better-feature branch. We can also see that master is pointing to the merge commit but even-better-feature is still pointing to the previous one. In our example, resolving the conflict was straightforward and easy. But in the real world, this won't always be the case. Merge conflicts can sometimes be tricky, complicated, and spread across multiple files. If you want to throw the merge away and start over, you can use the git merge --abort command as an escape hatch. This will stop the merge and reset the files in your working tree back to the previous commit before the merge ever happened. So by now you know how to create, delete, and switch between branches in Git. You've also seen that each branch represents a pointer to a commit in a sequence of independent snapshots. You know how to merge these commits back into the main trunk by using the git merge command. Amazing work. Seriously, this isn't easy stuff. Up next, you'll find a cheat sheet summarizing all of these branching techniques followed by a quiz to consolidate these concepts."
   ]
  },
  {
   "cell_type": "code",
   "execution_count": null,
   "metadata": {},
   "outputs": [],
   "source": []
  }
 ],
 "metadata": {
  "kernelspec": {
   "display_name": "Python 3",
   "language": "python",
   "name": "python3"
  },
  "language_info": {
   "codemirror_mode": {
    "name": "ipython",
    "version": 3
   },
   "file_extension": ".py",
   "mimetype": "text/x-python",
   "name": "python",
   "nbconvert_exporter": "python",
   "pygments_lexer": "ipython3",
   "version": "3.7.4"
  }
 },
 "nbformat": 4,
 "nbformat_minor": 2
}
