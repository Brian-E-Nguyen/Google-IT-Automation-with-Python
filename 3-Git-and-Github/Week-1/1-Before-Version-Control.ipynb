{
 "cells": [
  {
   "cell_type": "markdown",
   "metadata": {},
   "source": [
    "# Before Version Control\n",
    "\n",
    "## 1. Intro to Module 1: Version Control\n",
    "\n",
    "When you work in IT, you manage information across a lot of different files. You write automation scripts that might evolve over time. \n",
    "\n",
    "For example, you might add new features to your script or take into account additional conditions or modify the scope of systems where the script will be executed. You also manage configuration related to your infrastructure like the default settings on an application or the IP addresses assigned to the computers in your fleet. This information changes over time as the security requirements increase. The fleet grows or new versions of software gets deployed. \n",
    "\n",
    "When trying to manage change in IT, it's super important to have detailed historical information for your organization's configuration files and automation code. This let's the administrators see what was modified and when, which can be critical to troubleshooting. \n",
    "\n",
    "It also provides a documentation trail that will let future IT specialists know why the infrastructure is the way it is, and it provides a mechanism for undoing a change completely. This way, we don't have to undo changes from memory and there's less chance of human error. We'll see this in action when we talk about rollbacks. \n",
    "\n",
    "Imagine this, your team has added a new feature to a script that checks the health of all the computers that you're responsible for. The new check verifies that the firmware of the computer, also known as the UEFI, is updated to the latest version. When you roll this out, you suddenly realize that half the computers now say they're broken. After some investigation, you discover that the check needs to take into account different computer models. You might be tempted to do a quick code fix, push it to the affected machines right away especially if it seems like an easy fix. But more often than not, quick fixes include their own bugs because we don't take the time to test a new code properly. So after the first fix, you might end up doing a second or even third emergency push until things are really working correctly. To avoid these headaches, you can use a version control system to easily roll back your code to the previous version. Since you know that this version was working correctly before the change was made, it would be safe to go back to that one until you had time to fix the code, run some tests, and make sure everything works correctly for all machine models. \n",
    "\n",
    "By releasing code only after properly testing, you avoid having to push quick-fix after quick-fix. Version control systems let us do this and much more. They are crucial to maintaining a healthy codebase for all kinds of IT resources, and for letting multiple people collaborate on the same coding projects together. \n",
    "\n",
    "We're now going to take our first steps to learning this new tool, which will let us keep track of the changes that we make to our scripts, our configuration files, and any other kind of documents that need to be tracked. We'll start by looking at what people tend to do when they don't know about version control and then check out some related tools, like `diff` and `patch`. Once we have a clear idea of why we need proper version control, we'll jump into our first Git experience. We'll talk about what Git is and how it does what it does. \n",
    "\n",
    "To follow along, you'll need to install Git locally on your machine and learn how to use it from the command line. If this sounds a bit scary, don't panic. We'll guide you along the way and you'll be using it in no time. Once you have Git installed in your computer, we'll do an overview of the basic Git workflow which will let you start keeping track of your scripts. So are you ready to start taking control of your code? Here we go.\n",
    "\n",
    "## 2. Keeping Historical Copies\n",
    "\n",
    "Have you ever worked on a project that was developing over time? So you occasionally created copies of the work in case you wanted to go back to an earlier version.\n",
    "\n",
    "Maybe you were working in a team and every day you'd email a part of the work to the rest of the team. And then the other members on your team would add their own work, and send it out to the whole team too.\n",
    "\n",
    "Or maybe you've worked on a very complex project, that kept changing directions. And you felt that some of the things that got removed one day, might have to be added later on. So anytime you're about to delete a significant part, you made a copy of the whole thing, just in case.\n",
    "\n",
    "If any of this sounds familiar, you've already worked on the most primitive form of version control, keeping historical copies. These copies let you see what the project was like before, and go back to that version if you end up deciding that the latest changes were wrong. They also let you see the progress of the changes over time, and maybe even help you understand why a change was made. We say that this is primitive because it's very manual and not very detailed. First, you need to remember to make the copy. Second, you usually make a copy of the whole thing, even if you're only changing one small part.\n",
    "\n",
    "And third, even if you're emailing your changes to your colleagues, it might be hard to figure out at the end who did what, and more importantly, why they did it. But that said, the principle behind version control is the same. It lets us keep track of the changes in our files. These files can be code, images, configuration, or even a video editing project, whatever it is you're working with. Throughout this course, we'll see the many ways that Git helps us keep track of our changes, and also how we can use it to collaborate with others or avert changes. We'll use a bunch of terms that have special meanings in the world of version control, but don't let those intimidate you. In the end, all we're doing is having better control over our historical copies. So, say you have two copies of the same code made at different points in time. How can you compare them?\n",
    "\n",
    "## 3. Diffing Files\n",
    "\n",
    "Imagine you had two copies of some code, and you wanted to see what the difference was between them. How would you do it? You could open both files in the editor side by side, look at one then look at the other to spot the differences, but that's super error-prone. We're human and by comparing with our eyes we are bound to miss some differences. Fortunately, there's a better way. You can use some nifty tools that will do this automatically. We can use the `diff` command line tool to take two files or even to directories, and show the differences between them in a few formats. Let's check it out with an example. \n",
    "\n",
    "We have two files rearrange 1.py and rearrange 2.py which contain two different versions of the same function. Let's take a look at them using CAT.\n",
    "\n",
    "```python\n",
    "# rearrange1.py\n",
    "import re\n",
    "\n",
    "def rearrange_name(name):\n",
    "    result = re.search(r\"([\\w .]*), ([\\w .]*)$\", name)\n",
    "    if result == None:\n",
    "        return result\n",
    "    return '{} {}'.format(result[2], result[1])\n",
    "```\n",
    "---\n",
    "```python\n",
    "# rearrange2.py\n",
    "import re\n",
    "\n",
    "def rearrange_name(name):\n",
    "    result = re.search(r\"([\\w .-]*), ([\\w .-]*)$\", name)\n",
    "    if result == None:\n",
    "        return result\n",
    "    return '{} {}'.format(result[2], result[1])\n",
    "```"
   ]
  },
  {
   "cell_type": "markdown",
   "metadata": {},
   "source": [
    "Can you spot the difference? Maybe you can but it's not super obvious. Let's use the diff command so that we don't have to strain our eyes trying to spot it.\n",
    "\n",
    "```\n",
    "$ diff rearrange1.py  rearrange2.py\n",
    "4c4\n",
    "<     result = re.search(r\"([\\w .]*), ([\\w .]*)$\", name)\n",
    "---\n",
    ">     result = re.search(r\"([\\w .-]*), ([\\w .-]*)$\", name)\n",
    "```\n",
    "\n",
    "When we call the diff command, we get only the lines that are different between two files. It's much easier to find the difference when we just have two lines. See the symbols at the beginning of each of those lines? The less than symbol tells us that the first line was removed from the first file, and the greater than symbol tells us that the second line was added to the second file. In other words, the old line got replaced by the new one. In this example, we had one line that was replaced with a new one. This is a common change when modifying code, but not the only possibility.\n",
    "\n",
    "To understand this better we can use the dash u flag to tell diff to show the differences in another format. Let's check that out.\n",
    "\n",
    "```\n",
    "$ diff -u rearrange1.py  rearrange2.py\n",
    "--- rearrange1.py       2020-08-13 15:21:03.502152400 -0700\n",
    "+++ rearrange2.py       2020-08-13 15:21:01.798773300 -0700\n",
    "@@ -1,7 +1,7 @@\n",
    " import re\n",
    "\n",
    " def rearrange_name(name):\n",
    "-    result = re.search(r\"([\\w .]*), ([\\w .]*)$\", name)\n",
    "+    result = re.search(r\"([\\w .-]*), ([\\w .-]*)$\", name)\n",
    "     if result == None:\n",
    "         return result\n",
    "     return '{} {}'.format(result[2], result[1])\n",
    "\\ No newline at end of file\n",
    "\n",
    "```\n",
    "\n",
    "This unified format is pretty different from the one that we saw before. It shows the change lines together with some context, using the minus sign to mark lines that were removed, and the plus sign to mark lines that were added. The extra context let's us better know what's going on with the change that we're diffing. We can see that the new file actually has a completely new if block that's part of a chain of conditionals that looks very similar, and that's why with the diff output that we saw before, it was a little confusing which lines had been added. \n",
    "\n",
    "There are a lot of tools out there to compare files. Diff is the most popular one, but not the only one available. For example, wdiff highlights the words that have changed in a file instead of working line by line like diff does. To help us even more, there are bunch of graphical tools that display files side by side and highlight the differences by using color. Some examples of this include: meld, KDiff3, or vimdiff. We can use these tools to give better contexts to the changes that we see. We've talked about how we can see differences between two files, now how can we use those differences to apply changes? That's coming up in the next video."
   ]
  },
  {
   "cell_type": "markdown",
   "metadata": {},
   "source": [
    "## 4. Applying Changes\n",
    "\n",
    "Imagine a colleague sends you a script with a bug and asked you to help fix the issue. Once you understood what was wrong with the script, you could describe to them what they need to change. Something like, \"Well, you can only return values inside functions. I think you meant to use sys.exit instead. Also, you're converting to gigabytes twice, so your script will always fail.\" \n",
    "\n",
    "But this could still be hard for them to understand if the code is complex. To make the change clear, you could send them a diff with the change so that they can see what the modified code looks like. To do this, we typically use a command line like `diff-u old_file new_ file > change.diff`. As a reminder, the greater than sign redirects the output of the diff command to a file. So with this command, we're generating a file called change.diff with the contents of `diff-u command`. By using the -u flag, we include more context which helps the person reading the file understand what's going on with the change. \n",
    "\n",
    "The generated file is usually referred to as a **diff file** or sometimes a **patch file**. It includes all the changes between the old file and the new one, plus the additional context needed to understand the changes and to apply those changes back to the original file. \n",
    "\n",
    "Now, say you're the one receiving a diff file with a change and you want to apply it to a script you wrote. You could read the diff file you receive carefully and then manually go through the file that needs to be changed, and apply the modifications. But it sounds like a lot of manual work that could be automated, don't you think? Well, it sure is. There's a command called `patch` to do exactly this. Patch takes a file generated by diff and applies the changes to the original file. \n",
    "\n",
    "Let's check this out in an example. Say we have a small script that checks whether the computer is under too much load, like this one."
   ]
  },
  {
   "cell_type": "code",
   "execution_count": 1,
   "metadata": {},
   "outputs": [
    {
     "name": "stdout",
     "output_type": "stream",
     "text": [
      "CPU is overloaded\n"
     ]
    }
   ],
   "source": [
    "import psutil\n",
    "\n",
    "def check_cpu_usage(percent):\n",
    "    usage = psutil.cpu_percent()\n",
    "    return usage < percent\n",
    "\n",
    "if not check_cpu_usage(75):\n",
    "    print('CPU is overloaded')\n",
    "else:\n",
    "    print('Everything ok')"
   ]
  },
  {
   "cell_type": "markdown",
   "metadata": {},
   "source": [
    "This script uses the psutil module to check the percentage of the CPU that's currently in use. When the load is above a threshold, in this case 75 percent, it prints a message with an error. When it's under the threshold, it says that everything's okay. Now, we've shared this script with a few colleagues and one of them tells us that the script doesn't work correctly. Even if a computer is completely overloaded, the script will say that everything's okay. Our colleague is so helpful that they sent us a diff with the fix for our problem. Let's check that one out. \n",
    "\n",
    "```\n",
    "def check_cpu_usage(percent):\n",
    "-    usage = psutil.cpu_percent()\n",
    "+    usage = psutil.cpu_percent(1)\n",
    "+    print('DEBUG: usage: {}'.format(usage))\n",
    "     return usage < percent\n",
    "```\n",
    "\n",
    "We can see that our colleague made two changes. They added a one as a parameter to the CPU percent function and they added a debugging line, that prints the value returned by the function. Our colleague explains that by calling the CPU percent function without a parameter, we were not averaging over a period of time, and so the call always returns zero. \n",
    "\n",
    "So we have the diff file and we want to apply it to our script. How do we do that? We'll use the patch command. We'll pass the name of the file that we want to patch in this case, cpu_usage.py, as the first parameter to the command and then we'll provide the diff file through standard input. Do you remember how to do that? We will use the less than symbol to redirect the contents of the file to standard input. Let's check this out.\n",
    "\n",
    "```\n",
    "$ patch cpu_usage.py < cpu_usage.diff\n",
    "```\n",
    "\n",
    "You might be wondering, why go through all this trouble diffing, and patching, and not just send the whole file instead? There are a few reasons for this. The main reason is that the original code could have changed. In our example, it's possible that the code our colleague was using to prepare the fix wasn't the latest version. By using a diff instead of the whole file, we can clearly see what they changed, no matter which version they were using. The patch command can detect that there were changes made to the file and will do its best to apply the diff anyways. It won't always succeed but in many cases it will. Another reason is structure. In this case we're patching a single small file. But sometimes, you might be modifying a bunch of large files inside of a huge project. Say you are changing four files in a project tree that contain 100 different files, arranged in different directories according to what they do. If you were to send the whole files, you'd need to specify where those files were supposed to be placed. As we called out, we can diff whole directory structures and in that case the diff file can specify where each change file should be without us having to do any manual juggling. Cool right? Okay, great work. We've now seen how to generate diff files and how to apply their contents with the patch command. In the next video, we'll put all this together to look at a real-world example of how to use diff and patch."
   ]
  }
 ],
 "metadata": {
  "kernelspec": {
   "display_name": "Python 3",
   "language": "python",
   "name": "python3"
  },
  "language_info": {
   "codemirror_mode": {
    "name": "ipython",
    "version": 3
   },
   "file_extension": ".py",
   "mimetype": "text/x-python",
   "name": "python",
   "nbconvert_exporter": "python",
   "pygments_lexer": "ipython3",
   "version": "3.7.4"
  }
 },
 "nbformat": 4,
 "nbformat_minor": 2
}
