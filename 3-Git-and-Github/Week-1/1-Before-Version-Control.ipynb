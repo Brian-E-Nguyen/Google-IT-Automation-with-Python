{
 "cells": [
  {
   "cell_type": "markdown",
   "metadata": {},
   "source": [
    "# Before Version Control\n",
    "\n",
    "## 1. Intro to Module 1: Version Control\n",
    "\n",
    "When you work in IT, you manage information across a lot of different files. You write automation scripts that might evolve over time. \n",
    "\n",
    "For example, you might add new features to your script or take into account additional conditions or modify the scope of systems where the script will be executed. You also manage configuration related to your infrastructure like the default settings on an application or the IP addresses assigned to the computers in your fleet. This information changes over time as the security requirements increase. The fleet grows or new versions of software gets deployed. \n",
    "\n",
    "When trying to manage change in IT, it's super important to have detailed historical information for your organization's configuration files and automation code. This let's the administrators see what was modified and when, which can be critical to troubleshooting. \n",
    "\n",
    "It also provides a documentation trail that will let future IT specialists know why the infrastructure is the way it is, and it provides a mechanism for undoing a change completely. This way, we don't have to undo changes from memory and there's less chance of human error. We'll see this in action when we talk about rollbacks. \n",
    "\n",
    "Imagine this, your team has added a new feature to a script that checks the health of all the computers that you're responsible for. The new check verifies that the firmware of the computer, also known as the UEFI, is updated to the latest version. When you roll this out, you suddenly realize that half the computers now say they're broken. After some investigation, you discover that the check needs to take into account different computer models. You might be tempted to do a quick code fix, push it to the affected machines right away especially if it seems like an easy fix. But more often than not, quick fixes include their own bugs because we don't take the time to test a new code properly. So after the first fix, you might end up doing a second or even third emergency push until things are really working correctly. To avoid these headaches, you can use a version control system to easily roll back your code to the previous version. Since you know that this version was working correctly before the change was made, it would be safe to go back to that one until you had time to fix the code, run some tests, and make sure everything works correctly for all machine models. \n",
    "\n",
    "By releasing code only after properly testing, you avoid having to push quick-fix after quick-fix. Version control systems let us do this and much more. They are crucial to maintaining a healthy codebase for all kinds of IT resources, and for letting multiple people collaborate on the same coding projects together. \n",
    "\n",
    "We're now going to take our first steps to learning this new tool, which will let us keep track of the changes that we make to our scripts, our configuration files, and any other kind of documents that need to be tracked. We'll start by looking at what people tend to do when they don't know about version control and then check out some related tools, like `diff` and `patch`. Once we have a clear idea of why we need proper version control, we'll jump into our first Git experience. We'll talk about what Git is and how it does what it does. \n",
    "\n",
    "To follow along, you'll need to install Git locally on your machine and learn how to use it from the command line. If this sounds a bit scary, don't panic. We'll guide you along the way and you'll be using it in no time. Once you have Git installed in your computer, we'll do an overview of the basic Git workflow which will let you start keeping track of your scripts. So are you ready to start taking control of your code? Here we go.\n",
    "\n",
    "## 2. Keeping Historical Copies\n",
    "\n",
    "Have you ever worked on a project that was developing over time? So you occasionally created copies of the work in case you wanted to go back to an earlier version.\n",
    "\n",
    "Maybe you were working in a team and every day you'd email a part of the work to the rest of the team. And then the other members on your team would add their own work, and send it out to the whole team too.\n",
    "\n",
    "Or maybe you've worked on a very complex project, that kept changing directions. And you felt that some of the things that got removed one day, might have to be added later on. So anytime you're about to delete a significant part, you made a copy of the whole thing, just in case.\n",
    "\n",
    "If any of this sounds familiar, you've already worked on the most primitive form of version control, keeping historical copies. These copies let you see what the project was like before, and go back to that version if you end up deciding that the latest changes were wrong. They also let you see the progress of the changes over time, and maybe even help you understand why a change was made. We say that this is primitive because it's very manual and not very detailed. First, you need to remember to make the copy. Second, you usually make a copy of the whole thing, even if you're only changing one small part.\n",
    "\n",
    "And third, even if you're emailing your changes to your colleagues, it might be hard to figure out at the end who did what, and more importantly, why they did it. But that said, the principle behind version control is the same. It lets us keep track of the changes in our files. These files can be code, images, configuration, or even a video editing project, whatever it is you're working with. Throughout this course, we'll see the many ways that Git helps us keep track of our changes, and also how we can use it to collaborate with others or avert changes. We'll use a bunch of terms that have special meanings in the world of version control, but don't let those intimidate you. In the end, all we're doing is having better control over our historical copies. So, say you have two copies of the same code made at different points in time. How can you compare them?"
   ]
  }
 ],
 "metadata": {
  "kernelspec": {
   "display_name": "Python 3",
   "language": "python",
   "name": "python3"
  },
  "language_info": {
   "codemirror_mode": {
    "name": "ipython",
    "version": 3
   },
   "file_extension": ".py",
   "mimetype": "text/x-python",
   "name": "python",
   "nbconvert_exporter": "python",
   "pygments_lexer": "ipython3",
   "version": "3.7.4"
  }
 },
 "nbformat": 4,
 "nbformat_minor": 2
}
