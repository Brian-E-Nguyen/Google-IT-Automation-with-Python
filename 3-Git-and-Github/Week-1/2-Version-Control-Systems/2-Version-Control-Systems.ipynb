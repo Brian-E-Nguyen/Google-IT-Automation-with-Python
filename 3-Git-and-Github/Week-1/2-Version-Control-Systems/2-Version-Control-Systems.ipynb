{
 "cells": [
  {
   "cell_type": "markdown",
   "metadata": {},
   "source": [
    "# Version Control Systems\n",
    "\n",
    "## 1. What is Version Control?\n",
    "\n",
    "We've seen up till now, how we can use existing tools to extract differences between versions of files and apply those changes back to the original files. Those tools are really useful. But most of the time, we won't be using them directly. Instead, we'll use them through a Version Control System, or VCS. A **Version Control System** keeps track of the changes that we make to our files. By using a VCS, we can know when the changes were made and who made them. It also lets us easily revert a change if it turned out not to be a good idea. It makes collaboration easier by allowing us to merge changes from lots of different sources. \n",
    "\n",
    "At first-look, a Version Control System can seem like a complicated, possibly intimidating tool. But if you look closer, you'll see that it's really just a system that stores files. \n",
    "\n",
    "However, unlike a regular file server which only saves the most recent version of a file, a VCS keeps track of all the different versions that we create as we save our changes. \n",
    "\n",
    "There are many different version control systems, each with their own implementation and with their own advantages and disadvantages. But, no matter how the VCS is implemented internally, they always access the history of our files. Let us retrieve past versions of the file or directory and see who changed which files, how each file was changed and when the file was changed. \n",
    "\n",
    "On top of this, we can make edits to multiple files and treat that collection of edits as a single change which is commonly known as a, **commit**. A VCS even provides a mechanism to allow the author of a commit to record why the change was made, including what bugs, tickets or issues were fixed by the change. This information can be a lifesaver when trying to understand a complex series of changes, or to debug some obscure issue. So, be sure to record this extra info in your commits to be truly committed to better code. \n",
    "\n",
    "In any organization that produces software, a VCS is a key part of managing the code. Files are usually organized in **repositories** which contains separate software projects or just group all related code. If there's a lot of people involved in developing software, some developers may have access to only some of the repositories. A single repository can have as little as one person using it. And it can go up to thousands of contributors. \n",
    "\n",
    "And, as we called that earlier, a Version Control System can be used to store much more than just code. We can use it to store configuration files, documentation, data files, or any other content that we may need to track. Because of the way tools like diff and patch work, a VCS is especially useful when tracking text files, which can be compared with diff and modified with patch. We can also store images, videos or any other complex file formats in a VCS, but, it won't be easy to check the differences between versions when comparing these file formats. It might not be possible to automatically merge changes made to older versions of a file. \n",
    "\n",
    "You now have a basic idea of what a Version Control System is, and how it works You might be asking yourself, do I really need this? Can't I just keep making backups of my code once in awhile? We'll answer that in our next video"
   ]
  },
  {
   "cell_type": "markdown",
   "metadata": {},
   "source": [
    "## 2. Version Control and Automation\n",
    "\n",
    "At first glance, using a VCS might seem like a lot of work for an IT specialist to set up and learn. It might especially seem like overkill, if you're the only member of your IT team that writes code or maybe even the only member period. \n",
    "\n",
    "So can a VCS help, even if you don't need to share your scripts or collaborate on them with others? The short answer is yes. A VCS can be invaluable, even in a one-person IT department. A VCS stores your code and configuration. It also stores the history of that code and configuration. A version control system can function a lot like a time machine, giving you insights into the decisions of the past. \n",
    "\n",
    "Whenever you write a commit message, after making a change, it's as if the current version of yourself is explaining your decisions to a future you or others who might work on the same scripts and configurations in the future. This can help you avoid finding yourself staring at a piece of code that you or someone else wrote three months ago and puzzling over how it works or even why it exists. With a VCS, you can view, track and select snapshots from the history of your project. So nothing you do is lost, and since we can use a VCS to store both code and configuration files, we can make the overall IT systems more scalable and reliable. \n",
    "\n",
    "For example, let's say you've stored the DNS zone file for your company in a VCS and in case you don't remember, a DNS zone file is a configuration file that specifies the mappings between IP addresses and host names in your network. When you update the zone information, always use good explanatory commit messages. That way, you'll have access to meta information about your new IP addresses and host names present in the zone file. Like when they were added and for what purpose. If anything breaks after you add a new entry, you can rely on the VCS to tell you what the file looked like before the change. You can then revert to the old version quickly, so you can fix the problem fast and figure out what went wrong later. \n",
    "\n",
    "This functionality enhances the reliability of systems you operate. Because of the audit trail provided by the VCS, you know exactly what version of the zone file to rollback to, which reduces the time it takes to fix the problem. It's generally better to quickly roll back first and stop errors before spending time figuring out what went wrong. You can curb the fix after the bleeding has stopped. Figuring out the bug might take up valuable time or worse, your first attempt at a solution can have its own bugs. Let's look at a different example. \n",
    "\n",
    "The configuration for a DHCP damon can be replicated in two or more machines, where one acts as a primary server and the other one acts as standby machine. The standby machines won't do much while the primary is up. But if the primary goes down for any reason, a standby machine can become primary and start responding to DHCP queries. For this to work, the configuration files on all machines need to be identical. This is because the DHCP protocol doesn't provide a way for standby machines to get an up-to-date version of the configuration files and the way DNS does. \n",
    "\n",
    "To deal with this, we can keep the up-to-date version of the DHCP configuration in a version control system and have the machines download the configuration from the VCS. This means all the machines will have the exact same files. That's already handy enough. But after using it for a while, you're bound to see other benefits. Say you get an urgent alert over the weekend, telling you that your DHCP server isn't responding to any queries. You look at the history of the changes and you find that one of the changes added on Friday evening, included a duplicated entry causing the server to misbehave. By using a VCS, you can easily roll back the change and have the servers back to health in no time. You might come across a second unexpected benefit, when it's time to replace the server with a new one. By having all the server configuration and a version control system, it's much easier to automate the task of deploying a new server. \n",
    "\n",
    "Are you starting to see how useful version control systems can be? You might even be thinking of some situations when having your files in VCS, would have saved you a few headaches. As we said in the beginning, in this course, we'll use Git, which is one of the most popular version control systems in use today. Up next, we'll learn a bit about the history of Git and what makes it so special."
   ]
  },
  {
   "cell_type": "markdown",
   "metadata": {},
   "source": [
    "## 3. What is Git?\n",
    "\n",
    "Git is a VCS created in 2005 by Linus Torvalds. The developer who started the Linux kernel.\n",
    "\n",
    "Git is a free open source system available for installation on Unix based platforms, Windows and macOS. Linus originally created get to help manage the task of developing the Linux kernel. This was difficult because a lot of geographically distributed programmers were collaborating to write a whole bunch of code. Linus had some requirements for the way that the system worked, and its performance that weren't being met by the VCS tools at a time. So he decided to write his own. Git is now one of the most popular version control systems out there and is used in millions of projects. Unlike some version control systems that are centralized around a single server, Git has a distributed architecture. This means that every person contributing to a repository has full copy of the repository on their own development machines.\n",
    "\n",
    "Collaborators can share and pull in changes that others have made as they need. And because the repositories are all local to the computer being used to create the files, most operations can be done really fast. If you want to collaborate with others, it usually makes sense to set up a repository on a server to act as a kind of hub for everyone to interact with. But Git doesn't rely on any kind of centralized server to provide control organizations to its workflow. Git can work as a standalone program as a server and as a client. This means that you can use Git on a single machine without even having a network connection. Or you can use it as a server on a machine where you want to host your repository. And then you can use Git as a client to access the repository from another machine or even the same one.\n",
    "\n",
    "Git clients can communicate with Git servers over the network using HTTP, SSH or Git's own special protocol. If you're curious about diving deeper into Git architecture or communication protocols, we put a link for more information in the next reading. So you can use Git with or without a network connection. You can use it for small projects with like one developer or huge projects with thousands of contributors. You can use it to track private work that you can keep to yourself or you can share your work with others by hosting a code on public servers like Github, Gitlab or others. Are you starting to see how powerful Git can be?\n",
    "\n",
    "When looking for information online you might notice that the official Git website is called git-scm.com. And wonder what's the SCM at the end for? It's actually another acronym similar to VCS. It stands for Source Control Management. While both terms mean the same, we generally prefer VCS, because as we call that already, these systems can actually be used to store much more than just source code. In this course we chose Git for its popularity, multi platform support and robust set of features. As with most things in the IT world, though, there are plenty of other tools that can be used to accomplish the same task. There are other VCS programs like Subversion or Mercurial. Feel free to experiment with alternatives if you think another VCS might better serve your needs. But before we jump into how to use Git, let's go through another quick quiz, to check that everything up until now is making sense."
   ]
  }
 ],
 "metadata": {
  "kernelspec": {
   "display_name": "Python 3",
   "language": "python",
   "name": "python3"
  },
  "language_info": {
   "codemirror_mode": {
    "name": "ipython",
    "version": 3
   },
   "file_extension": ".py",
   "mimetype": "text/x-python",
   "name": "python",
   "nbconvert_exporter": "python",
   "pygments_lexer": "ipython3",
   "version": "3.7.4"
  }
 },
 "nbformat": 4,
 "nbformat_minor": 2
}
