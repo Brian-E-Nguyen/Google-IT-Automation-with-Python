{
 "cells": [
  {
   "cell_type": "markdown",
   "metadata": {},
   "source": [
    "# Managing Projects\n",
    "\n",
    "## 1. Managing Collaboration\n",
    "\n",
    "Over the past few videos, we've looked at how we can collaborate with others using tools provided by platforms like GitHub. These tools can be very helpful but some coordination outside of the platform is always going to be needed. For example, the project you're working on might need up medium or large refactor that will affect multiple lines of code across several files. It's important to give your colleagues the heads up that this refactor is coming. \n",
    "\n",
    "If possible, try to do the refactor while the other developers are working on a different part of the project because this helps avoid large and complicated conflicts. \n",
    "\n",
    "We've called on a bunch of times that documenting your work is super important. When working together with a large group of people, documenting what you do and why you do it becomes even more important otherwise you'll spend most of your time answering everybody else questions. \n",
    "\n",
    "Also, say there's a problem with your service while you're on vacation or the person who developed the code is on the other side of the world and currently sleeping. In these situations, the documentation needs to be good enough to help someone else fix the problem. The most basic form of this is writing clear code with good comments and documentation for those functions in the code. On top of that, you'll want to create documentation files to let others know how they can interact with your project like the readme.md file that we created an earlier video. \n",
    "\n",
    "**If you're a project maintainer, it's important that you are reply promptly to pull requests and don't let them stagnate.** The more time that passes until a pull request gets reviewed, the more likely it is that there's a new commit that causes a conflict when you try to merge in the change. \n",
    "\n",
    "On top of this, if the person contributing the changes of volunteer that's just trying to help, they may lose their motivation to work on the project if you make them wait too long for feedback.\n",
    "\n",
    "Another thing to remember when you maintain a project especially if it's an open source project that volunteers are contributing to is that **it's important that you understand any changes you accept.** You never know if the other person is going to stick around to maintain the code after you merge it in so you better make sure you can do that. You should also be careful with which patches you accept or reject. Accepting everything that gets sent your way might make your project grow too much and become unmanageable or it might take into account too many corner cases and cause complicated code that's hard to maintain. On the flip side, if you don't accept any pull requests you'll discourage contributors and miss out on keeping your project active and relevant. \n",
    "\n",
    "We've talked about style guides a few times already. If you're contributing to a project, you want to check out the style guide and make sure you follow it. If you own a project, it makes sense to create a style guide so that others know what you're expecting from them. In our next reading, we'll include links to some of the most common style guides and pointers and how to include a style guide in your own project. \n",
    "\n",
    "When it comes to coordinating who does what and when, a common strategy for active software projects is to use an **issue tracker.** This is a super useful tool and we'll find out more about it in the next video. On top of that, when the project is large enough, it's important to have another way of communicating and coordinating between contributors. \n",
    "\n",
    "For many years, most projects used mailing list and IRC channels for communication. Recently, new forms of communicating have gained popularity like Slack channels or Telegram groups. \n",
    "\n",
    "If you're managing your own project, choose whatever communication medium best fits your needs and those of your contributors. If you're collaborating with a project you don't own, you'll want to find out what channels are being used for collaboration and with that you now have a rough idea of how to collaborate with others across the internet. Up next, we'll talk about two important tools that can help us collaborate better, tracking issues and continuous integration."
   ]
  },
  {
   "cell_type": "code",
   "execution_count": null,
   "metadata": {},
   "outputs": [],
   "source": []
  }
 ],
 "metadata": {
  "kernelspec": {
   "display_name": "Python 3",
   "language": "python",
   "name": "python3"
  },
  "language_info": {
   "codemirror_mode": {
    "name": "ipython",
    "version": 3
   },
   "file_extension": ".py",
   "mimetype": "text/x-python",
   "name": "python",
   "nbconvert_exporter": "python",
   "pygments_lexer": "ipython3",
   "version": "3.7.4"
  }
 },
 "nbformat": 4,
 "nbformat_minor": 2
}
