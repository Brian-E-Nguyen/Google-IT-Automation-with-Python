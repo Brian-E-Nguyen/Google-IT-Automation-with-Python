{
 "cells": [
  {
   "cell_type": "markdown",
   "metadata": {},
   "source": [
    "# Pull Requests\n",
    "\n",
    "## 1. Intro to Module 4: Collaboration\n",
    "\n",
    "Over the past modules, we've learned a whole about how to interact with Git.\n",
    "\n",
    "We've covered how to use it both locally and remotely. We've seen how to rollback bad changes, solve conflicts when collaborating with others, and a bunch of other little nifty things. In this module, we'll keep exploring the collaboration tools available in Git. We'll learn about tools that allow us to send changes to projects that we aren't a member of, help us improve the quality of our code, and let us track our work better. Some of these tools will be specific to GitHub, but most of the Git repository hosting services have similar tools. So the concepts will still apply if you decide to use a different platform. In recent years, GitHub has become a super popular platform for collaboration across many projects. It's used heavily for open-source projects.\n",
    "\n",
    "These are projects that allow anyone to use, copy, and modify their code. Having the code published online means that anybody in the world can learn from what the project is doing, and even collaborate on fixes and extra features. It also helps us learn from each other, because we can look at how others have solved the problem that we're tackling. I regularly use GitHub to look up code snippets for things that I'm interested in. Most recently, I looked up examples for a movie theater seat finder because I was working on a similar feature for a personal project of mine.\n",
    "\n",
    "If you're trying to learn a new technology, it's a great idea to practice your skills by contributing to a project that uses that technology. To do that, you'll need to know how to interact with the project. This includes how to send bug fixes, how to make sure that your fixes are applied, and even how to figure out which fixes are needed. In this module, we'll cover that and a lot more. So are you excited? I mean, I'm excited. Let's get started."
   ]
  }
 ],
 "metadata": {
  "kernelspec": {
   "display_name": "Python 3",
   "language": "python",
   "name": "python3"
  },
  "language_info": {
   "codemirror_mode": {
    "name": "ipython",
    "version": 3
   },
   "file_extension": ".py",
   "mimetype": "text/x-python",
   "name": "python",
   "nbconvert_exporter": "python",
   "pygments_lexer": "ipython3",
   "version": "3.7.4"
  }
 },
 "nbformat": 4,
 "nbformat_minor": 2
}
