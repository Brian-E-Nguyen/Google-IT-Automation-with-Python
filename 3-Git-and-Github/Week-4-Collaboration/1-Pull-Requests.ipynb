{
 "cells": [
  {
   "cell_type": "markdown",
   "metadata": {},
   "source": [
    "# Pull Requests\n",
    "\n",
    "## 1. Intro to Module 4: Collaboration\n",
    "\n",
    "Over the past modules, we've learned a whole about how to interact with Git.\n",
    "\n",
    "We've covered how to use it both locally and remotely. We've seen how to rollback bad changes, solve conflicts when collaborating with others, and a bunch of other little nifty things. In this module, we'll keep exploring the collaboration tools available in Git. We'll learn about tools that allow us to send changes to projects that we aren't a member of, help us improve the quality of our code, and let us track our work better. Some of these tools will be specific to GitHub, but most of the Git repository hosting services have similar tools. So the concepts will still apply if you decide to use a different platform. In recent years, GitHub has become a super popular platform for collaboration across many projects. It's used heavily for open-source projects.\n",
    "\n",
    "These are projects that allow anyone to use, copy, and modify their code. Having the code published online means that anybody in the world can learn from what the project is doing, and even collaborate on fixes and extra features. It also helps us learn from each other, because we can look at how others have solved the problem that we're tackling. I regularly use GitHub to look up code snippets for things that I'm interested in. Most recently, I looked up examples for a movie theater seat finder because I was working on a similar feature for a personal project of mine.\n",
    "\n",
    "If you're trying to learn a new technology, it's a great idea to practice your skills by contributing to a project that uses that technology. To do that, you'll need to know how to interact with the project. This includes how to send bug fixes, how to make sure that your fixes are applied, and even how to figure out which fixes are needed. In this module, we'll cover that and a lot more. So are you excited? I mean, I'm excited. Let's get started.\n",
    "\n",
    "## 2. A Simple Pull Request on GitHub\n",
    "\n",
    " As we called out, we can use GitHub to look at other people's code and collaborate with them. Let's see this in action by having to look at one of the projects from our colleague, blue-kale.\n",
    " \n",
    " ![img1](https://github.com/Brian-E-Nguyen/Google-IT-Automation-with-Python/blob/3-Git-and-Github/3-Git-and-Github/Week-4-Collaboration/img/img1.jpg?raw=true)\n",
    " \n",
    " Okay, so our colleague has created the project to include all validation functions. Let's have a look at the validations.py file."
   ]
  },
  {
   "cell_type": "code",
   "execution_count": 2,
   "metadata": {},
   "outputs": [],
   "source": [
    "#!/usr/bin/env python3\n",
    "\n",
    "\n",
    "def vailidate_user(username, minlen):\n",
    "    \"\"\"Checks if the recieved username matches the required conditions.\"\"\"\n",
    "    if type(username) != str:\n",
    "        raise TypeError(\"username must be a string\")\n",
    "    if minlen < 1:\n",
    "        raise ValueError(\"minlen must be at least 1\")\n",
    "        \n",
    "        if len(username) < minlen:\n",
    "            return False\n",
    "        if not username.isalnum():\n",
    "            return False\n",
    "        # Usernames can't begin with a number\n",
    "        if username [0].isnumeric():\n",
    "            return False\n",
    "        return True"
   ]
  },
  {
   "cell_type": "markdown",
   "metadata": {},
   "source": [
    "We can see the code of a function that validates username. But, if you look closely at the functions documentation, you might notice that there's a typo. We can improve our colleague's code by fixing that typo, Let's do that. We'll click on the little pencil icon which let's us edit the file directly from the web interface. \n",
    "\n",
    "![img2](https://github.com/Brian-E-Nguyen/Google-IT-Automation-with-Python/blob/3-Git-and-Github/3-Git-and-Github/Week-4-Collaboration/img/img2.jpg?raw=true)\n",
    "\n",
    "We're trying to edit a file in a project that we don't have a right access to. GitHub tells us it created a fork of this project for us, which we can commit our changes to. And if we submit changes to this file, it will create a new branch so that we can send a pull request. \n",
    "\n",
    "### 2.1 Forking\n",
    "\n",
    "But what exactly is a fork? **Forking** is a way of creating a copy of the given repository so that it belongs to our user. In other words, our user will be able to push changes to the forked copy, even when we can't push changes to the other repo. When collaborating on projects hosted on GitHub, the typical workflows, first, create a fork of the repo, and then work on that local fork. A forked repo is just like a normal repo, except Github knows which repo it forked from. So we can eventually merge our changes back into the main repo by creating a pull request.\n",
    "\n",
    "### 2.2 Pull Requests\n",
    "\n",
    "A **pull request** is a commit or series of commits that you send to the owner of the repository so that they incorporate it into their tree. This is a typical way of working on GitHub, because in most projects, only a few people have commit rights to the repo. But anybody can suggest patches, bug fixes or even new features by sending pull requests that people with commit access can then apply. Typically, the owners of the repo will review the changes before merging them. Checking that they match the development guidelines for the project and that the license is valid and so on. Let's fix the typo in the file to see what the pull request looks like.\n",
    "\n",
    "Once we're done making changes to the file, we can make a change proposal, by scrolling down and filling in the description of the change. In this case, we fix the typo in the function documentation.\n",
    "\n",
    "![img3](https://github.com/Brian-E-Nguyen/Google-IT-Automation-with-Python/blob/3-Git-and-Github/3-Git-and-Github/Week-4-Collaboration/img/img3.jpg?raw=true)\n",
    "\n",
    "Clicking on the Proposed file change button, we'll create a commit in our forked repo, so that we can send the change to our colleague. Let's do that now.\n",
    "\n",
    "![img4](https://github.com/Brian-E-Nguyen/Google-IT-Automation-with-Python/blob/3-Git-and-Github/3-Git-and-Github/Week-4-Collaboration/img/img4.jpg?raw=true)\n",
    "\n",
    "We've created a commit on our forked repo. But we haven't yet created the pull request that will send the changes to the owner of the original repo. On this screen, we can see a lot of information about our change. We can see what repositories and branches are involved in the creation of the pull request. We can also see that GitHub automatically created a branch called patch-1 for us. And that our change can automatically be merged, yay, no conflicts. This window also lets us review the change before we create an actual pull request. Once we're ready, we just click the Create pull request button.\n",
    "\n",
    "![img5](https://github.com/Brian-E-Nguyen/Google-IT-Automation-with-Python/blob/3-Git-and-Github/3-Git-and-Github/Week-4-Collaboration/img/img5.jpg?raw=true)\n",
    "\n",
    "This opens a text box where we can enter comments about our change. In this case, a change is really simple, we just fixed the typo so there's nothing extra to add. If we were suggesting a more complex change, we could use this text box to provide more context. The checkbox at the bottom lets us allow edits from maintainers. \n",
    "\n",
    "![img6](https://github.com/Brian-E-Nguyen/Google-IT-Automation-with-Python/blob/3-Git-and-Github/3-Git-and-Github/Week-4-Collaboration/img/img6.jpg?raw=true)\n",
    "\n",
    "This can be useful for example, if by the time a project maintainer gets around the merging or change, there's been more commits and our change needs rebasing. By allowing edits, the maintainer can do it themselves instead of asking us to do it, less work, yes please. Okay, we're ready, let's click Create pull request.\n",
    "\n",
    "![img7](https://github.com/Brian-E-Nguyen/Google-IT-Automation-with-Python/blob/3-Git-and-Github/3-Git-and-Github/Week-4-Collaboration/img/img7.jpg?raw=true)\n",
    "\n",
    "Cool, we've created a pull request with our change. Our colleague can now look at it and decide whether they want to merge it to the project or not. In this video, we checked out the simplest way of making pull requests, which is doing them directly through the GitHub interface. By using this workflow, you can already start contributing to projects on GitHub. Up next, we'll see how to do more complex pull requests."
   ]
  },
  {
   "cell_type": "code",
   "execution_count": null,
   "metadata": {},
   "outputs": [],
   "source": []
  }
 ],
 "metadata": {
  "kernelspec": {
   "display_name": "Python 3",
   "language": "python",
   "name": "python3"
  },
  "language_info": {
   "codemirror_mode": {
    "name": "ipython",
    "version": 3
   },
   "file_extension": ".py",
   "mimetype": "text/x-python",
   "name": "python",
   "nbconvert_exporter": "python",
   "pygments_lexer": "ipython3",
   "version": "3.7.4"
  }
 },
 "nbformat": 4,
 "nbformat_minor": 2
}
