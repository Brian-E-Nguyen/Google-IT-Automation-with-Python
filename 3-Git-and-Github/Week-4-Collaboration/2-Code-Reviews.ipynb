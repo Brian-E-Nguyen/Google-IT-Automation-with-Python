{
 "cells": [
  {
   "cell_type": "markdown",
   "metadata": {},
   "source": [
    "# Code Reviews\n",
    "\n",
    "## 1. What are code reviews?\n",
    "\n",
    "\n",
    "GitHub and other repository hosting services offer tools for doing code reviews on their platform. And while this is called code reviews, we can actually use the same tool and process to do reviews of any text file including configuration and documentation. \n",
    "\n",
    "Doing a **code review** means *going through someone else's code, documentation or configuration and checking that it all makes sense and follows the expected patterns*. The goal of a code review is to improve the project by making sure that changes are high quality. It also helps us make sure that the contents are easy to understand. That the style is consistent with the overall project. And that we don't forget any important cases. \n",
    "\n",
    "Reviews increased the number of eyes that have checked the code. This increases the code quality and reduces the amount of bugs. It doesn't mean that there'll be no bugs, but at least the most obvious bugs will be caught. Also, this helps spread knowledge since both the code writers and the code reviewers now know what the code is doing. \n",
    "\n",
    "When we work in the same office as our teammates, we can do reviews in person by looking together at the changes and discussing how the contents fit together. But when the person that we're working with is in a different office or time zone We're better off using a code review tool. Code review tools let us comment on someone else's code. These let us leave feedback on how they could make their code better. Common code issues are unclear names that makes the code hard to understand. Forgetting to add a test, or forgetting to handle a specific condition. \n",
    "\n",
    "If we're writing documentation, our reviewer can help us catch typos and things that aren't totally clear. On platforms like Github, it's common for projects to only requires reviews for people that don't have commit access while the project maintainers can commit directly. \n",
    "\n",
    "But doing code reviews improves the code's overall quality. Today, some open source projects and lots of companies require code reviews for everybody. This isn't because they don't trust them, but because they want the highest quality code. And code reviews are how they get there. \n",
    "\n",
    "One thing to always remember, code reviews are not about us being good or bad coders, they're about making our code better. And not only that specific review, but in general. By getting feedback, we can keep improving our code techniques. And by reviewing other people's code, we can also learn new and different ways of achieving results. Like everybody else after toiling for hours on a problem and finally solving it, all I want to do is submit my code and be done with it. But this rarely happens. Code reviews usually send me back to the drawing board with small errors and nitpicks\n",
    "\n",
    "But that's a good thing. These code reviews point out things that we might have missed along the way and ensure that our code makes sense to others. One example that springs to mind is back when I was writing a script for an Android bug report parser. After hours of fiddling with the code and writing tests to back up what I did, I finally sent it to her code review and thought I was done. It turns out had a bunch of little style guilders that my reviewer wouldn't let me get away with. More importantly, while fixing this style errors, I noticed I forgotten a major use case in my script that would have stopped my code from working. So I fixed both the style errors and the missing use case and could submit my change with a smile. \n",
    "\n",
    "At Google, we believe deeply in the value of reviewing everything we do. Even the content of these courses have been reviewed by lots of people. These reviews and make sure that the contents makes sense are technically correct with no significant gaps and follow the established guidelines. Shout out to my colleagues for keeping us on our toes and making sure that these videos are top rate. Up next we'll talk about the typical reviewing workflow and how to get the most from the review process."
   ]
  }
 ],
 "metadata": {
  "kernelspec": {
   "display_name": "Python 3",
   "language": "python",
   "name": "python3"
  },
  "language_info": {
   "codemirror_mode": {
    "name": "ipython",
    "version": 3
   },
   "file_extension": ".py",
   "mimetype": "text/x-python",
   "name": "python",
   "nbconvert_exporter": "python",
   "pygments_lexer": "ipython3",
   "version": "3.7.4"
  }
 },
 "nbformat": 4,
 "nbformat_minor": 2
}
